{
 "cells": [
  {
   "cell_type": "markdown",
   "metadata": {},
   "source": [
    "# Inference and Reasoning with Bayesian Networks"
   ]
  },
  {
   "cell_type": "markdown",
   "metadata": {},
   "source": [
    "###### COMP4670/8600 - Introduction to Statistical Machine Learning - Assignment 2"
   ]
  },
  {
   "cell_type": "markdown",
   "metadata": {},
   "source": [
    "Name: Longfei Zhao\n",
    "\n",
    "Student ID: u5976992"
   ]
  },
  {
   "cell_type": "markdown",
   "metadata": {},
   "source": [
    "## Instructions\n",
    "\n",
    "|             |Notes|\n",
    "|:------------|:--|\n",
    "|Maximum marks| 19|\n",
    "|Weight|19% of final grade|\n",
    "|Format| Complete this ipython notebook. Do not forget to fill in your name and student ID above|\n",
    "|Submission mode| Use [wattle](https://wattle.anu.edu.au/)|\n",
    "|Formulas| All formulas which you derive need to be explained unless you use very common mathematical facts. Picture yourself as explaining your arguments to somebody who is just learning about your assignment. With other words, do not assume that the person marking your assignment knows all the background and therefore you can just write down the formulas without any explanation. It is your task to convince the reader that you know what you are doing when you derive an argument. Typeset all formulas in $\\LaTeX$.|\n",
    "| Code quality | Python code should be well structured, use meaningful identifiers for variables and subroutines, and provide sufficient comments. Please refer to the examples given in the tutorials. |\n",
    "| Code efficiency | An efficient implementation of an algorithm uses fast subroutines provided by the language or additional libraries. For the purpose of implementing Machine Learning algorithms in this course, that means using the appropriate data structures provided by Python and in numpy/scipy (e.g. Linear Algebra and random generators). |\n",
    "| Late penalty | We will not accept late assignments. You will get zero marks if you miss the deadline. Submit early, submit often. | \n",
    "| Cooperation | All assignments must be done individually. Cheating and plagiarism will be dealt with in accordance with University procedures (please see the ANU policies on [Academic Honesty and Plagiarism](http://academichonesty.anu.edu.au)). Hence, for example, code for programming assignments must not be developed in groups, nor should code be shared. You are encouraged to broadly discuss ideas, approaches and techniques with a few other students, but not at a level of detail where specific solutions or implementation issues are described by anyone. If you choose to consult with other students, you will include the names of your discussion partners for each solution. If you have any questions on this, please ask the lecturer before you act. |\n",
    "| Solution | To be presented in the tutorials. |"
   ]
  },
  {
   "cell_type": "markdown",
   "metadata": {},
   "source": [
    "$\\newcommand{\\dotprod}[2]{\\left\\langle #1, #2 \\right\\rangle}$\n",
    "$\\newcommand{\\onevec}{\\mathbb{1}}$\n",
    "$\\newcommand{\\B}[1]{\\mathbf{#1}}$\n",
    "$\\newcommand{\\Bphi}{\\boldsymbol{\\mathsf{\\phi}}}$\n",
    "$\\newcommand{\\BPhi}{\\boldsymbol{\\Phi}}$\n",
    "$\\newcommand{\\Cond}{\\,|\\,}$\n",
    "$\\newcommand{\\DNorm}[3]{\\mathcal{N}(#1\\Cond#2, #3)}$\n",
    "$\\newcommand{\\DUniform}[3]{\\mathcal{U}(#1 \\Cond #2, #3)}$\n",
    "$\\newcommand{\\Ex}[2][]{\\mathbb{E}_{#1} \\left[ #2 \\right]}$\n",
    "$\\newcommand{\\var}[1]{\\operatorname{var}[#1]}$\n",
    "$\\newcommand{\\cov}[1]{\\operatorname{cov}[#1]}$\n",
    "$\\newcommand{\\Norm}[1]{\\lVert#1\\rVert}$\n",
    "$\\DeclareMathOperator*{\\argmax}{arg\\,max}$\n",
    "\n",
    "Setting up the environment (Please evaluate this cell to activate the $\\LaTeX$ macros.)"
   ]
  },
  {
   "cell_type": "code",
   "execution_count": 1,
   "metadata": {
    "collapsed": true
   },
   "outputs": [],
   "source": [
    "# provided code, do not edit\n",
    "\n",
    "import itertools, copy\n",
    "import matplotlib.pyplot as plt\n",
    "import numpy as np\n",
    "from IPython.display import display, Image\n",
    "from mpl_toolkits.axes_grid1 import make_axes_locatable\n",
    "\n",
    "%matplotlib inline"
   ]
  },
  {
   "cell_type": "markdown",
   "metadata": {},
   "source": [
    "# 1A (1 marks) Matrix-vector identity proof\n",
    "Given a nonsingular matrix $ \\B{A} $ and a vector $ \\B{v} $ of comparable\n",
    "dimension, prove the following identity:\n",
    "$$\n",
    " (\\B{A} + \\B{v} \\B{v}^T)^{-1} \n",
    "   = \\B{A}^{-1} - \\frac{(\\B{A}^{-1} \\B{v}) (\\B{v}^T \\B{A}^{-1})}\n",
    "                       {1 + \\B{v}^T \\B{A}^{-1} \\B{v}}.\n",
    "$$"
   ]
  },
  {
   "cell_type": "markdown",
   "metadata": {},
   "source": [
    "### <span style=\"color:blue\">Answer</span>\n",
    "$ \\begin{eqnarray}(\\B{A} + \\B{v} \\B{v}^T)( \\B{A}^{-1} - \\frac{(\\B{A}^{-1} \\B{v}) (\\B{v}^T \\B{A}^{-1})}{1 + \\B{v}^T \\B{A}^{-1} \\B{v}})\n",
    "  &=& \\B{I} + \\B{v}\\B{v}^T\\B{A}^{-1} \n",
    "      - \\B{A} \\frac{(\\B{A}^{-1} \\B{v}) (\\B{v}^T \\B{A}^{-1})}\n",
    "                   {1 + \\B{v}^T \\B{A}^{-1} \\B{v}} \n",
    "      - \\B{v}\\B{v}^T \\frac{(\\B{A}^{-1} \\B{v}) (\\B{v}^T \\B{A}^{-1})}\n",
    "                          {1 + \\B{v}^T \\B{A}^{-1} \\B{v}} \\\\\n",
    "  &=& \\B{I} + \\B{v}\\B{v}^T\\B{A}^{-1} \n",
    "      - \\frac{\\B{v}\\B{v}^T\\B{A}^{-1} + \\B{v}\\B{v}^T\\B{A}^{-1} \\B{v}\\B{v}^T \\B{A}^{-1}}\n",
    "             {1 + \\B{v}^T \\B{A}^{-1} \\B{v}}  \\\\\n",
    "  &=& \\B{I} + \\B{v}\\B{v}^T\\B{A}^{-1} \n",
    "      - \\frac{\\B{v} (1 + \\B{v}^T\\B{A}^{-1} \\B{v}) \\B{v}^T \\B{A}^{-1}}\n",
    "             {1 + \\B{v}^T \\B{A}^{-1} \\B{v}}  \\\\  \n",
    "  &=& \\B{I}\n",
    "  \\end{eqnarray}\n",
    "$\n",
    "\n",
    "$ \\therefore\n",
    " \\begin{eqnarray}(\\B{A} + \\B{v} \\B{v}^T)^{-1} \n",
    "   &=& \\B{A}^{-1} - \\frac{(\\B{A}^{-1} \\B{v}) (\\B{v}^T \\B{A}^{-1})}\n",
    "                         {1 + \\B{v}^T \\B{A}^{-1} \\B{v}}\n",
    " \\end{eqnarray}\n",
    "$"
   ]
  },
  {
   "cell_type": "markdown",
   "metadata": {},
   "source": [
    "# 1B (3 marks) Change of variance\n",
    "In Bayesian Linear Regression, the predictive distribution \n",
    "with a simplified prior \n",
    "  $ p(\\B{w} \\Cond \\alpha) = \\DNorm{w}{\\B{0}}{\\alpha^{-1}\\B{I}}$\n",
    "is a Gaussian distribution,\n",
    "$$ \n",
    "p(t \\Cond \\B{x}, \\B{t}, \\alpha, \\beta) \n",
    "= \\mathcal{N} (t \\Cond \\B{m}_N^T \\Bphi(\\B{x}), \\sigma_N^2(\\B{x})) \n",
    "$$\n",
    "with variance\n",
    "$$\n",
    "  \\sigma_N^2(\\B{x}) = \\frac{1}{\\beta} + \\Bphi(\\B{x})^T \\B{S}_N \\Bphi(\\B{x}).\n",
    "$$\n",
    "\n",
    "After using another training pair $ \\left( \\B{x}_{N+1}, t_{N+1} \\right) $ to adapt ($=$learn) the model,\n",
    "the variance of the predictive distribution becomes\n",
    "\n",
    "$$\n",
    "  \\sigma_{N+1}^2(\\B{x}) = \\frac{1}{\\beta} + \\Bphi(\\B{x})^T \\B{S}_{N+1} \\Bphi(\\B{x}).\n",
    "$$\n",
    "\n",
    "1. Define the dimensions of the variables.\n",
    "- Prove that the uncertainties $ \\sigma_N^2(\\B{x}) $ and\n",
    "$ \\sigma_{N+1}^2(\\B{x}) $ associated with the\n",
    "predictive distributions satisfy\n",
    "$$\n",
    "  \\sigma_{N+1}^2(\\B{x}) \\le \\sigma_N^2(\\B{x}).\n",
    "$$\n",
    "*Hint: Use the Matrix-vector identity proved in the previous question.*\n",
    "- Explain the meaning of this inequality."
   ]
  },
  {
   "cell_type": "markdown",
   "metadata": {},
   "source": [
    "### <span style=\"color:blue\">Answer</span>\n",
    "1. $\\B{t}$, $\\B{m}_N$, $\\Bphi(\\B{x})$ and $\\B{w}$ are $D$ column vectors, $\\B{S}_N$ is a $D*D$ matrix.\n",
    "\n",
    "2. \n",
    "\n",
    "$\\begin{eqnarray}\n",
    "p(\\B{w} \\Cond X_{N+1}, t_{N+1}, \\B{m_N}, \\B{S_N}) \n",
    "&\\propto& P(t_{N+1} \\Cond X_{N+1}, \\B{w})\\; p(w) \\\\\n",
    "&=& exp{\\{-\\frac{1}{2}(\\B{w}^T(\\B{S_N}^{-1}+\\beta\\Bphi_{N+1}\\Bphi_{N+1}^T)\\B{w} -2\\B{w}^T(\\B{S_N}^{-1}\\B{m_N}+\\beta t_{N+1}\\Bphi_{N+1})+ \\B{m_N}^T{S_N}^{-1}\\B{m_N} + \\beta t_{N+1}^2)\\}}\n",
    "\\end{eqnarray}$\n",
    "\n",
    "$\\begin{eqnarray} \n",
    "\\B{S_{N+1}} \n",
    "&=& (\\B{S_N}^{-1}+\\beta\\Bphi_{N+1}\\Bphi_{N+1}^T)^{-1} \\\\\n",
    "&=& \\B{S_N} - \\frac{\\beta\\B{S_N\\Bphi_{N+1}\\Bphi_{N+1}^T}S_N}{1+\\beta\\Bphi_{N+1}^T S_N\\Bphi_{N+1}}\n",
    "\\end{eqnarray}$\n",
    "\n",
    "$\\begin{eqnarray}\n",
    "  \\sigma_{N+1}^2(\\B{x}) \n",
    "  &=& \\frac{1}{\\beta} + \\Bphi(\\B{x})^T \\B{S}_{N+1} \\Bphi(\\B{x}) \\\\\n",
    "  &=& \\frac{1}{\\beta} + \\Bphi(\\B{x})^T \\B{S_N}\\Bphi(\\B{x}) - \\Bphi(\\B{x})^T \\frac{\\beta\\B{S_N\\Bphi_{N+1}\\Bphi_{N+1}^T}S_N}{1+\\beta\\Bphi_{N+1}^T S_N\\Bphi_{N+1}} \\Bphi(\\B{x}) \\\\\n",
    "  &=& \\sigma_{N}^2(\\B{x}) - \\Bphi(\\B{x})^T \\frac{\\beta\\B{S_N\\Bphi_{N+1}\\Bphi_{N+1}^T}S_N}{1+\\beta\\Bphi_{N+1}^T S_N\\Bphi_{N+1}} \\Bphi(\\B{x})\n",
    "\\end{eqnarray}$\n",
    "\n",
    "$\\because S_N $ is positive, $\\Bphi(\\B{x})^T S_N \\Bphi(\\B{x}) \\geq 0$\n",
    "\n",
    "$\\therefore \\Bphi(\\B{x})^T \\frac{\\beta\\B{S_N\\Bphi_{N+1}\\Bphi_{N+1}^T}S_N}{1+\\beta\\Bphi_{N+1}^T S_N\\Bphi_{N+1}} \\Bphi(\\B{x}) \\geq 0 $\n",
    "\n",
    "$\\therefore \\sigma_{N+1}^2(\\B{x}) \\le \\sigma_N^2(\\B{x}) $\n",
    "\n",
    "3.Giving more data will better the model."
   ]
  },
  {
   "cell_type": "markdown",
   "metadata": {},
   "source": [
    "# Graphical Models\n",
    "\n",
    "The remainder of the assignment is pertains to the graphical model introduced in the following sub-section. **In many of the coding questions that follow, as noted in the questions you will lose marks for insufficiently general code.**\n",
    "\n",
    "### Problem setting\n",
    "\n",
    "We are interested to predict the outcome of the election in an imaginary country, called Under Some Assumptions (USA). There are four candidates for whom the citizens can **Vote** for: Bernie, Donald, Hillary, and Ted. The citizens live in four **Region**s: north, south, east and west. We have general demographic information about the people, namely: **Gender** (male, female) and **Hand**edness (right, left). Based on surveys done by an external company, we believe that the **Region** and **Gender** affects whether the people use their **Jacket**s full time, part time or never. Surprisingly, the company told us that the **Age** of their shoes (new, worn, old) depends on how often they wear their **Jacket**s. Furthermore, the **Gender** and their preferred **Hand** affects the **Colour** of their hat (white, black). Finally, surveys say that the citizens will **Vote** based on their **Region**, **Age** of their shoes and **Colour** of their hats.\n",
    "\n",
    "The directed graphical model is depicted below:"
   ]
  },
  {
   "cell_type": "code",
   "execution_count": 2,
   "metadata": {},
   "outputs": [
    {
     "data": {
      "text/html": [
       "<img src=\"https://machlearn.gitlab.io/isml2018/assignments/election_model.png\"/>"
      ],
      "text/plain": [
       "<IPython.core.display.Image object>"
      ]
     },
     "execution_count": 2,
     "metadata": {},
     "output_type": "execute_result"
    }
   ],
   "source": [
    "# provided code, do not edit\n",
    "\n",
    "Image(url=\"https://machlearn.gitlab.io/isml2018/assignments/election_model.png\")"
   ]
  },
  {
   "cell_type": "markdown",
   "metadata": {},
   "source": [
    "### Conditional probability tables\n",
    "\n",
    "After paying the survey firm some more money, they provided the following conditional probability tables.\n",
    "\n",
    "|$p(R)$ | R=n | R=s | R=e | R=w |\n",
    "|:-----:|:--:|:--:|:--:|:--:|\n",
    "|marginal| 0.2 | 0.1 | 0.5 | 0.2 |\n",
    "\n",
    "|$p(G)$ | G=m | G=f |\n",
    "|:-----:|:--:|:--:|\n",
    "|marginal| 0.3 | 0.7 |\n",
    "\n",
    "|$p(H)$ | H=l | H=r |\n",
    "|:-----:|:--:|:--:|\n",
    "|marginal| 0.9 | 0.1 |\n",
    "\n",
    "| $p(J|R,G)$ | R=n,G=m | R=n,G=f | R=s,G=m | R=s,G=f | R=e,G=m | R=e,G=f | R=w,G=m | R=w,G=f |\n",
    "|:-----:|:--:|:--:|:--:|:--:|:--:|:--:|:--:|:--:|\n",
    "|**J**=full $\\quad$  |0.9 |0.8 |0.1 | 0.3 |0.4 |0.01| 0.02 | 0.2  |\n",
    "|**J**=part $\\quad$  |0.08|0.17|0.03| 0.35|0.05|0.01| 0.2  | 0.08 |\n",
    "|**J**=never $\\quad$ |0.02|0.03|0.87| 0.35|0.55|0.98| 0.78 | 0.72 |\n",
    "\n",
    "| $p(A|J)$ | J=full | J=part | J=never |\n",
    "|:-----:|:--:|:--:|:--:|\n",
    "|**A**=new  |0.01|0.96|0.3|\n",
    "|**A**=worn |0.98|0.03|0.5|\n",
    "|**A**=old  |0.01|0.01|0.2|\n",
    "\n",
    "| $p(C|G,H)$ | G=m,H=r | G=m,H=l | G=f,H=r | G=f,H=l |\n",
    "|:-----:|:--:|:--:|:--:|:--:|\n",
    "|**C**=black $\\quad$ |0.9 |0.83 |0.17 | 0.3 |\n",
    "|**C**=white $\\quad$ |0.1 |0.17|0.83 | 0.7 |\n",
    "\n",
    "The final conditional probability table (for the ``vote`` $V$) is given by the matrix below. The order of the rows and columns are also given below."
   ]
  },
  {
   "cell_type": "code",
   "execution_count": 3,
   "metadata": {
    "collapsed": true
   },
   "outputs": [],
   "source": [
    "# provided code, do not edit\n",
    "\n",
    "vote_column_names = ['north,new,black', 'north,new,white', 'north,worn,black', 'north,worn,white', \n",
    "                'north,old,black', 'north,old,white', 'south,new,black', 'south,new,white', \n",
    "                'south,worn,black', 'south,worn,white', 'south,old,black', 'south,old,white', \n",
    "                'east,new,black', 'east,new,white', 'east,worn,black', 'east,worn,white', \n",
    "                'east,old,black', 'east,old,white', 'west,new,black', 'west,new,white', \n",
    "                'west,worn,black', 'west,worn,white', 'west,old,black', 'west,old,white']\n",
    "\n",
    "vote_outcomes = ('bernie','donald','hillary','ted')\n",
    "\n",
    "vote_pmf_array = np.array(\n",
    "        [\n",
    "            [0.1,0.1,0.4,0.02,0.2,0.1,0.1,0.04,0.2,0.1,0.1 ,0.1,0.4 ,0.1 ,0.1,0.1 ,0.1,0.04,0.3,0.2,0.1,0.3,0.34,0.35],\n",
    "            [0.3,0.4,0.2,0.5 ,0.1,0.2,0.1,0.5 ,0.1,0.2,0.5 ,0.3,0.2 ,0.42,0.2,0.67,0.4,0.4 ,0.1,0.1,0.5,0.1,0.1 ,0.1],\n",
    "            [0.5,0.4,0.3,0.3 ,0.5,0.6,0.6,0.3 ,0.5,0.4,0.36,0.3,0.28,0.3 ,0.4,0.1 ,0.4,0.16,0.4,0.2,0.3,0.3,0.4 ,0.5],\n",
    "            [0.1,0.1,0.1,0.18,0.2,0.1,0.2,0.16,0.2,0.3,0.04,0.3,0.12,0.18,0.3,0.13,0.1,0.4 ,0.2,0.5,0.1,0.3,0.16,0.05],\n",
    "        ]\n",
    ")"
   ]
  },
  {
   "cell_type": "markdown",
   "metadata": {},
   "source": [
    "The 7 conditional probability tables in are encoded in python below. \n",
    "\n",
    "**Base your subsequent computations on these objects**."
   ]
  },
  {
   "cell_type": "code",
   "execution_count": 4,
   "metadata": {
    "collapsed": true
   },
   "outputs": [],
   "source": [
    "# provided code, do not edit\n",
    "\n",
    "class RandomVariable(object):\n",
    "    def __init__(self, name, parents, outcomes, pmf_array):\n",
    "        assert isinstance(name, str)\n",
    "        assert all(isinstance(_, RandomVariable) for _ in parents)\n",
    "        assert isinstance(outcomes, tuple)\n",
    "        assert all(isinstance(_, str) for _ in outcomes)\n",
    "        assert isinstance(parents, tuple)\n",
    "        assert isinstance(pmf_array, np.ndarray)\n",
    "        keys = tuple(map(tuple, itertools.product(*[_.outcomes for _ in parents])))\n",
    "        assert np.allclose(np.sum(pmf_array, 0), 1)\n",
    "        expected_shape = (len(outcomes), len(keys))\n",
    "        assert pmf_array.shape == expected_shape, (pmf_array.shape, expected_shape)\n",
    "        pmfs = {k: {outcome: probability for outcome, probability in zip(outcomes, probabilities)} \n",
    "                for k, probabilities in zip(keys, pmf_array.T)}\n",
    "        self.name, self.parents, self.outcomes, self.pmfs = name, parents, outcomes, pmfs\n",
    "    def __str__(self):\n",
    "        s = super(RandomVariable, self).__str__()\n",
    "        tmp = zip(['name', 'parents'], [self.name, tuple(_.name for _ in self.parents)])\n",
    "        s += '\\n\\t' + '\\n\\t'.join(['%s: %s' % (name, value) for name, value in tmp])\n",
    "        return s\n",
    "\n",
    "class BayesianNetwork(object):\n",
    "    def __init__(self, *random_variables):\n",
    "        assert all(isinstance(_, RandomVariable) for _ in random_variables)\n",
    "        self.random_variables = random_variables\n",
    "        \n",
    "\n",
    "region_pmf_array = np.array([[0.2, 0.1, 0.5, 0.2]]).T\n",
    "region = RandomVariable(\n",
    "    name='region',\n",
    "    parents=tuple(),\n",
    "    outcomes=('north', 'south', 'east', 'west'), \n",
    "    pmf_array = region_pmf_array,\n",
    ")\n",
    "\n",
    "gender_pmf_array = np.array([[0.3, 0.7]]).T\n",
    "gender = RandomVariable(\n",
    "    name='gender',\n",
    "    parents=tuple(),\n",
    "    outcomes=('male', 'female'), \n",
    "    pmf_array = gender_pmf_array\n",
    ")\n",
    "\n",
    "hand_pmf_array = np.array([[0.9, 0.1]]).T\n",
    "hand = RandomVariable(\n",
    "    name='hand',\n",
    "    parents=tuple(),\n",
    "    outcomes=('left', 'right'), \n",
    "    pmf_array = hand_pmf_array\n",
    ")\n",
    "\n",
    "jacket_pmf_array = np.array(\n",
    "        [\n",
    "            [0.9,0.8,0.1,0.3,0.4,0.01,0.02,0.2],\n",
    "            [0.08,0.17,0.03,0.35,0.05,0.01,0.2,0.08],\n",
    "            [0.02,0.03,0.87,0.35,0.55,0.98,0.78,0.72],\n",
    "        ]\n",
    "    )\n",
    "jacket = RandomVariable(\n",
    "    name='jacket',\n",
    "    parents=(region, gender),\n",
    "    outcomes=('full', 'part', 'never'), \n",
    "    pmf_array = jacket_pmf_array\n",
    ")\n",
    "\n",
    "age_pmf_array = np.array(\n",
    "        [\n",
    "            [0.01,0.96,0.3],\n",
    "            [0.98,0.03,0.5],\n",
    "            [0.01,0.01,0.2],\n",
    "        ]\n",
    "    )\n",
    "age = RandomVariable(\n",
    "    name='age',\n",
    "    parents=(jacket, ),\n",
    "    outcomes=('new', 'worn', 'old'), \n",
    "    pmf_array = age_pmf_array\n",
    ")\n",
    "\n",
    "colour_pmf_array = np.array(\n",
    "        [\n",
    "            [0.9,0.83,0.17,0.3],\n",
    "            [0.1,0.17,0.83,0.7],\n",
    "        ]\n",
    "    )\n",
    "colour = RandomVariable(\n",
    "    name='colour',\n",
    "    parents=(gender, hand),\n",
    "    outcomes=('black', 'white'),\n",
    "    pmf_array = colour_pmf_array\n",
    ")\n",
    "\n",
    "vote = RandomVariable(\n",
    "    name='vote',\n",
    "    parents=(region, age, colour),\n",
    "    outcomes=vote_outcomes,\n",
    "    pmf_array = vote_pmf_array\n",
    ")\n",
    "\n",
    "election_model = BayesianNetwork(region, gender, hand, jacket, age, colour, vote)"
   ]
  },
  {
   "cell_type": "markdown",
   "metadata": {},
   "source": [
    "# 2A (1 marks) Basics\n",
    "\n",
    "1. Compute in python the joint distribution of **Jacket**, **Region** and **Gender**. Print in the resulting distribution in a human friendly format.\n",
    "- For each random variable in ``election_model``, print the name of the random variable, the names of the children of the random variable and names of the parents of the random variable. The printout should be human friendly format. You should write your code in a modular fashion, applicable to an arbitrary ``BayesianNetwork``."
   ]
  },
  {
   "cell_type": "code",
   "execution_count": 5,
   "metadata": {},
   "outputs": [
    {
     "name": "stdout",
     "output_type": "stream",
     "text": [
      "Jacket  Region  Gender  p(Jacket, Region, Gender)\n",
      "-------------------------------------------------\n",
      "full    north   male    0.054\n",
      "full    north   female  0.112\n",
      "full    south   male    0.003\n",
      "full    south   female  0.021\n",
      "full    east    male    0.06\n",
      "full    east    female  0.0035\n",
      "full    west    male    0.0012\n",
      "full    west    female  0.028\n",
      "part    north   male    0.0048\n",
      "part    north   female  0.0238\n",
      "part    south   male    0.0009\n",
      "part    south   female  0.0245\n",
      "part    east    male    0.0075\n",
      "part    east    female  0.0035\n",
      "part    west    male    0.012\n",
      "part    west    female  0.0112\n",
      "never   north   male    0.0012\n",
      "never   north   female  0.0042\n",
      "never   south   male    0.0261\n",
      "never   south   female  0.0245\n",
      "never   east    male    0.0825\n",
      "never   east    female  0.343\n",
      "never   west    male    0.0468\n",
      "never   west    female  0.1008\n"
     ]
    }
   ],
   "source": [
    "print('{:8}{:8}{:8}{}'.format('Jacket', 'Region', 'Gender', 'p(Jacket, Region, Gender)'))\n",
    "print('-------------------------------------------------')\n",
    "for jacket_outcome in jacket.outcomes:\n",
    "    for region_outcome in region.outcomes:\n",
    "        for gender_outcome in gender.outcomes:\n",
    "            p = jacket.pmfs[region_outcome, gender_outcome][jacket_outcome] * region.pmfs[()][region_outcome] * gender.pmfs[()][gender_outcome]\n",
    "            print('{:8}{:8}{:8}{:.4}'.format(jacket_outcome, region_outcome, gender_outcome, p))"
   ]
  },
  {
   "cell_type": "code",
   "execution_count": 6,
   "metadata": {},
   "outputs": [
    {
     "name": "stdout",
     "output_type": "stream",
     "text": [
      "Variable Name: region\n",
      "Parents: \n",
      "Children: vote, jacket\n",
      "-------------------\n",
      "Variable Name: gender\n",
      "Parents: \n",
      "Children: jacket, colour\n",
      "-------------------\n",
      "Variable Name: hand\n",
      "Parents: \n",
      "Children: colour\n",
      "-------------------\n",
      "Variable Name: jacket\n",
      "Parents: region, gender\n",
      "Children: age\n",
      "-------------------\n",
      "Variable Name: age\n",
      "Parents: jacket\n",
      "Children: vote\n",
      "-------------------\n",
      "Variable Name: colour\n",
      "Parents: gender, hand\n",
      "Children: vote\n",
      "-------------------\n",
      "Variable Name: vote\n",
      "Parents: region, age, colour\n",
      "Children: \n",
      "-------------------\n"
     ]
    }
   ],
   "source": [
    "def print_variable(model):\n",
    "    children = {}\n",
    "    for random_variable in model.random_variables:\n",
    "        children[random_variable] = set()\n",
    "        for parent in random_variable.parents:\n",
    "            children[parent].add(random_variable)\n",
    "    for random_variable in model.random_variables:\n",
    "        print('Variable Name:', random_variable.name)\n",
    "        print('Parents:', ', '.join(parent.name for parent in random_variable.parents))\n",
    "        print('Children:', ', '.join(temp.name for temp in children[random_variable]))\n",
    "        print('-------------------')\n",
    "\n",
    "print_variable(election_model)"
   ]
  },
  {
   "cell_type": "code",
   "execution_count": null,
   "metadata": {},
   "outputs": [],
   "source": []
  },
  {
   "cell_type": "markdown",
   "metadata": {},
   "source": [
    "# 2B (2 marks) Variable Ordering\n",
    "\n",
    "1. Describe and explain the ancestral sampling algorithm for directed graphical models.\n",
    "- Implement a general function which determines an appropriate ordering of the variables for use in ancestral sampling for an arbitrary ``BayesianNetwork``.\n",
    "- Use your function to compute such an ordering for our ``election_model``, and print the result in a human friendly format."
   ]
  },
  {
   "cell_type": "markdown",
   "metadata": {},
   "source": [
    "### <span style=\"color:blue\">Answer</span>\n",
    "1. Initiate a empty list. Loop all nodes. For each node, if this node is not in the list and all of the node's parents is in the list so we put this node to list. If all nodes is in the list, return the list. Notice: if the node has no parent, just put it to list."
   ]
  },
  {
   "cell_type": "code",
   "execution_count": 7,
   "metadata": {},
   "outputs": [
    {
     "name": "stdout",
     "output_type": "stream",
     "text": [
      "ordering: region, gender, hand, jacket, age, colour, vote\n"
     ]
    }
   ],
   "source": [
    "def get_ordering(model):\n",
    "    order = []\n",
    "    while(True):\n",
    "        for random_variable in model.random_variables:\n",
    "            if random_variable not in order and all(parent in order for parent in random_variable.parents):\n",
    "                order.append(random_variable)\n",
    "                if len(order) == len(model.random_variables):\n",
    "                    return order\n",
    "\n",
    "ordering = get_ordering(election_model)\n",
    "print('ordering:', ', '.join([variable.name for variable in ordering]))"
   ]
  },
  {
   "cell_type": "markdown",
   "metadata": {},
   "source": [
    "# 3A (1 marks) Sampling\n",
    "\n",
    "1. Given the ordering you have determined above, implement the sampler described in the previous question. If you were unable to compute the ordering in the previous question, use ``ordering = (hand, region, gender, colour, jacket, age, vote)``. Your sampler should work for a general ``BayesianNetwork`` for which the requisite ordering is known. Use an ``AncestralSampler`` object with the outline below.\n",
    "2. Draw a single sample for the ``election_model`` and print the result in a human friendly format."
   ]
  },
  {
   "cell_type": "code",
   "execution_count": 8,
   "metadata": {
    "collapsed": true
   },
   "outputs": [],
   "source": [
    "# provided code, do not edit, copy and paste and fill in\n",
    "\n",
    "class AncestralSampler(object):\n",
    "    \n",
    "    def __init__(self, model, ordering):\n",
    "        % todo\n",
    "        pass\n",
    "\n",
    "    def sample(self):\n",
    "        % todo\n",
    "        return result"
   ]
  },
  {
   "cell_type": "code",
   "execution_count": 9,
   "metadata": {},
   "outputs": [
    {
     "name": "stdout",
     "output_type": "stream",
     "text": [
      "Name    Outcome\n",
      "---------------\n",
      "region  east\n",
      "gender  male\n",
      "hand    left\n",
      "jacket  never\n",
      "age     worn\n",
      "colour  black\n",
      "vote    ted\n"
     ]
    }
   ],
   "source": [
    "class AncestralSampler(object):\n",
    "    \n",
    "    def __init__(self, ordering):\n",
    "        self.ordering = ordering\n",
    "\n",
    "    def sample(self):\n",
    "        result = dict.fromkeys(self.ordering)\n",
    "        for variable in self.ordering:\n",
    "            p = variable.pmfs[tuple(result[parent] for parent in variable.parents)]\n",
    "            result[variable] = np.random.choice(variable.outcomes, 1,\n",
    "                                                p=[p[outcome] for outcome in variable.outcomes])[0]\n",
    "        return result\n",
    "\n",
    "ancestral_sampler = AncestralSampler(ordering)\n",
    "sample = ancestral_sampler.sample()\n",
    "print('{:8}{}'.format('Name', 'Outcome'))\n",
    "print('---------------')\n",
    "for variable in ordering:\n",
    "    print('{:8}{}'.format(variable.name, sample[variable]))"
   ]
  },
  {
   "cell_type": "markdown",
   "metadata": {},
   "source": [
    "# 3B (2 marks) Marginals\n",
    "\n",
    "1. Calculate by hand (and show in LaTeX) the marginal distribution for **Colour**.\n",
    "- Implement a function which computes the marginal distribution of each variable. It should make use of the ordering used by your sampler. It should be applicable to an arbitrary ``BayesianNetwork``.\n",
    "- Implement a function which takes a list of samples from your sampler and computes the empirical marginal distribution of each variable.\n",
    "- For the ``election_model``, plot the theoretical and approximate marginals which you obtain using your functions along with the absolute percent error of the approximate (vs the theoretical), in the format below:"
   ]
  },
  {
   "cell_type": "raw",
   "metadata": {},
   "source": [
    "# provided, do not edit\n",
    "\n",
    "region\n",
    "outcome\texact\tapprox\terror (%)\n",
    "north\t0.20\t0.20\t0.4\n",
    "south\t0.10\t0.10\t0.1\n",
    "east\t0.50\t0.50\t0.4\n",
    "west\t0.20\t0.20\t0.6\n",
    "\n",
    "gender\n",
    "outcome\texact\tapprox\terror (%)\n",
    "male\t0.30\t0.30\t0.1\n",
    "female\t0.70\t0.70\t0.0\n",
    "\n",
    "etc."
   ]
  },
  {
   "cell_type": "markdown",
   "metadata": {},
   "source": [
    "### <span style=\"color:blue\">Answer</span>\n",
    "$ p(C=c) \\\\\n",
    "= \\sum_\\limits{G}\\sum_\\limits{H} p(C=c, H=h, G=g) \\\\\n",
    "= \\sum_\\limits{G}\\sum_\\limits{H} p(C=c \\Cond H=h, G=g) * p(H=h) * p(G=g) \\\\\n",
    "$\n",
    "\n",
    "Therefore,\n",
    "\n",
    "$ p(Colour=black)\n",
    "= 0.9 * 0.3 *0.1 + 0.83 * 0.3 *0.9 + 0.17 * 0.7 * 0.1 + 0.3 * 0.7 * 0.9\n",
    "= 0.396 $\n",
    "\n",
    "$ p(Colour=white)\n",
    "= 0.1 * 0.3 *0.1 + 0.17 * 0.3 *0.9 + 0.83 * 0.7 * 0.1 + 0.7 * 0.7 * 0.9\n",
    "= 0.604 $"
   ]
  },
  {
   "cell_type": "code",
   "execution_count": 10,
   "metadata": {},
   "outputs": [
    {
     "name": "stdout",
     "output_type": "stream",
     "text": [
      "region\n",
      "outcome exact   approx  error(%)\n",
      "north   0.2000  0.2019  0.9400  \n",
      "south   0.1000  0.0998  0.2400  \n",
      "east    0.5000  0.5001  0.0240  \n",
      "west    0.2000  0.1982  0.8800  \n",
      "\n",
      "gender\n",
      "outcome exact   approx  error(%)\n",
      "male    0.3000  0.3026  0.8667  \n",
      "female  0.7000  0.6974  0.3714  \n",
      "\n",
      "hand\n",
      "outcome exact   approx  error(%)\n",
      "left    0.9000  0.9006  0.0667  \n",
      "right   0.1000  0.0994  0.6000  \n",
      "\n",
      "jacket\n",
      "outcome exact   approx  error(%)\n",
      "full    0.2827  0.2838  0.3891  \n",
      "part    0.0882  0.0874  0.9070  \n",
      "never   0.6291  0.6288  0.0477  \n",
      "\n",
      "age\n",
      "outcome exact   approx  error(%)\n",
      "new     0.2762  0.2762  0.0250  \n",
      "worn    0.5942  0.5949  0.1074  \n",
      "old     0.1295  0.1290  0.4393  \n",
      "\n",
      "colour\n",
      "outcome exact   approx  error(%)\n",
      "black   0.3960  0.3988  0.7020  \n",
      "white   0.6040  0.6012  0.4603  \n",
      "\n",
      "vote\n",
      "outcome exact   approx  error(%)\n",
      "bernie  0.1533  0.1549  1.0711  \n",
      "donald  0.3477  0.3441  1.0491  \n",
      "hillary 0.3012  0.2937  2.5023  \n",
      "ted     0.1978  0.2073  4.8252  \n",
      "\n"
     ]
    }
   ],
   "source": [
    "def get_theoretical_marginal_distribution(ordering):\n",
    "    res = {}\n",
    "    for variable in ordering:\n",
    "        if len(variable.parents) == 0:\n",
    "            res[variable] = variable.pmfs[()].copy()\n",
    "        else:\n",
    "            res[variable] = {}\n",
    "            for variable_outcome in variable.outcomes:\n",
    "                res[variable][variable_outcome] = 0\n",
    "            parents = variable.parents\n",
    "            parents_outcomes = [parent.outcomes for parent in variable.parents]\n",
    "            for parents_outcome in itertools.product(*parents_outcomes):\n",
    "                for variable_outcome in variable.outcomes:\n",
    "                    temp = variable.pmfs[parents_outcome][variable_outcome]\n",
    "                    for i in range(len(parents)):\n",
    "                        temp *= res[parents[i]][parents_outcome[i]]\n",
    "                    res[variable][variable_outcome] += temp\n",
    "    return res\n",
    "\n",
    "def get_approximate_marginal_distribution(ordering, samples):\n",
    "    res = {}\n",
    "    for variable in ordering:\n",
    "        res[variable] = {}\n",
    "        for outcome in variable.outcomes:\n",
    "            res[variable][outcome] = 0\n",
    "        for sample in samples:\n",
    "            outcome = sample[variable]\n",
    "            res[variable][outcome] += 1\n",
    "        for outcome in variable.outcomes:\n",
    "            res[variable][outcome] /= n\n",
    "    return res\n",
    "\n",
    "\n",
    "def print_exact_approx_error(ordering, samples, exclude=[]):\n",
    "    exact = get_theoretical_marginal_distribution(ordering)\n",
    "    approx = get_approximate_marginal_distribution(ordering, samples)\n",
    "    for variable in ordering:\n",
    "        if variable in exclude:\n",
    "            continue\n",
    "        print(variable.name)\n",
    "        print('{:8}{:8}{:8}{:8}'.format('outcome','exact','approx', 'error(%)'))\n",
    "        for outcome in variable.outcomes:\n",
    "            print('{:8}{:<8.4f}{:<8.4f}{:<8.4f}'.format(outcome, \n",
    "                                                exact[variable][outcome],\n",
    "                                                approx[variable][outcome],\n",
    "                                                abs(exact[variable][outcome]-approx[variable][outcome])*100/exact[variable][outcome]))\n",
    "        print()\n",
    "\n",
    "sampler = AncestralSampler(ordering)\n",
    "n = 50000\n",
    "samples = [sampler.sample() for _ in range(n)]\n",
    "print_exact_approx_error(ordering, samples)"
   ]
  },
  {
   "cell_type": "markdown",
   "metadata": {},
   "source": [
    "# 3C (1 marks) Easy conditional probabilities\n",
    "\n",
    "Compute $p(X \\,|\\, G=\\text{female})$ for all variables $X$ other than $G$,\n",
    "1. Approximately, using your sampler\n",
    "- Exactly, using your marginal calculating function from the previous question. Hint: what happens if you set  $p(G=\\text{female})=1$ in your model?\n",
    "- Print the results side by side in the same format as the previous question.\n",
    "- State for which variables other than $G$ the theoretical scheme above can be used to compute such conditionals, and why. For each such variable (call it $G'$), print $p(\\text{vote} \\,|\\, G'=g')$ where $g'$ is the lexicographically first outcome value for $G'$.\n",
    "\n",
    "Your code should apply to as wide a range of ``BayesianNetwork`` objects and conditions (in this case the condition is $G=\\text{female}$) as possible. Use your judgement to determine a suitable level of generality. State and justify your assumptions."
   ]
  },
  {
   "cell_type": "code",
   "execution_count": 11,
   "metadata": {
    "scrolled": false
   },
   "outputs": [
    {
     "name": "stdout",
     "output_type": "stream",
     "text": [
      "X       x       P(X=x | G=female)\n",
      "---------------------------------\n",
      "region  north   0.2007\n",
      "region  south   0.09928\n",
      "region  east    0.5036\n",
      "region  west    0.1964\n",
      "hand    left    0.9002\n",
      "hand    right   0.0998\n",
      "jacket  full    0.2346\n",
      "jacket  part    0.09048\n",
      "jacket  never   0.675\n",
      "age     new     0.2936\n",
      "age     worn    0.5702\n",
      "age     old     0.1362\n",
      "colour  black   0.1837\n",
      "colour  white   0.8163\n",
      "vote    bernie  0.1319\n",
      "vote    donald  0.3875\n",
      "vote    hillary 0.2669\n",
      "vote    ted     0.2136\n"
     ]
    }
   ],
   "source": [
    "def easy_conditional_probability_with_samples(ordering, samples, expected_variable, expected_outcome):\n",
    "    res = {}\n",
    "    n = 0\n",
    "    variables = ordering.copy()\n",
    "    variables.remove(expected_variable)\n",
    "    for variable in variables:\n",
    "        res[variable] = {}\n",
    "        for outcome in variable.outcomes:\n",
    "            res[variable][outcome] = 0\n",
    "    for sample in samples:\n",
    "        if sample[expected_variable] == expected_outcome:\n",
    "            n += 1\n",
    "            for varialbe in variables:\n",
    "                res[varialbe][sample[varialbe]] += 1\n",
    "    for variable in variables:\n",
    "        for outcome in variable.outcomes:\n",
    "            res[variable][outcome] /= n\n",
    "    return res\n",
    "\n",
    "res = easy_conditional_probability_with_samples(ordering, samples, gender, 'female')\n",
    "print('{:8}{:8}{}'.format('X', 'x', 'P(X=x | G=female)'))\n",
    "print('---------------------------------')\n",
    "for variable in ordering:\n",
    "    if variable == gender:\n",
    "        continue\n",
    "    for outcome in variable.outcomes:\n",
    "        print('{:8}{:8}{:.4}'.format(variable.name, outcome, res[variable][outcome]))"
   ]
  },
  {
   "cell_type": "code",
   "execution_count": 12,
   "metadata": {
    "scrolled": false
   },
   "outputs": [
    {
     "name": "stdout",
     "output_type": "stream",
     "text": [
      "region\n",
      "outcome exact   approx  error(%)\n",
      "north   0.2000  0.2011  0.5300  \n",
      "south   0.1000  0.0994  0.6200  \n",
      "east    0.5000  0.5021  0.4120  \n",
      "west    0.2000  0.1975  1.2500  \n",
      "\n",
      "hand\n",
      "outcome exact   approx  error(%)\n",
      "left    0.9000  0.8982  0.2000  \n",
      "right   0.1000  0.1018  1.8000  \n",
      "\n",
      "jacket\n",
      "outcome exact   approx  error(%)\n",
      "full    0.2350  0.2352  0.0936  \n",
      "part    0.0900  0.0897  0.3333  \n",
      "never   0.6750  0.6751  0.0119  \n",
      "\n",
      "age\n",
      "outcome exact   approx  error(%)\n",
      "new     0.2913  0.2932  0.6833  \n",
      "worn    0.5705  0.5692  0.2209  \n",
      "old     0.1383  0.1375  0.5280  \n",
      "\n",
      "colour\n",
      "outcome exact   approx  error(%)\n",
      "black   0.1830  0.1809  1.1257  \n",
      "white   0.8170  0.8191  0.2521  \n",
      "\n",
      "vote\n",
      "outcome exact   approx  error(%)\n",
      "bernie  0.1359  0.1326  2.4218  \n",
      "donald  0.3834  0.3916  2.1340  \n",
      "hillary 0.2759  0.2676  3.0391  \n",
      "ted     0.2047  0.2082  1.7081  \n",
      "\n"
     ]
    }
   ],
   "source": [
    "def easy_conditional_probability(ordering, expected_variable, expected_outcome):\n",
    "    new_ordering = copy.deepcopy(ordering)\n",
    "    exclude = []\n",
    "    for variable in new_ordering:\n",
    "        if variable.name == expected_variable.name:\n",
    "            new_expected_variable = variable\n",
    "            exclude.append(variable)\n",
    "            new_dict = {}\n",
    "            for outcome in variable.outcomes:\n",
    "                if outcome == expected_outcome:\n",
    "                    new_dict[outcome] = 1\n",
    "                else:\n",
    "                    new_dict[outcome] = 0\n",
    "            for key, value in variable.pmfs.items():\n",
    "                variable.pmfs[key] = new_dict\n",
    "    exact = get_theoretical_marginal_distribution(new_ordering)\n",
    "    sampler = AncestralSampler(new_ordering)\n",
    "    n = 50000\n",
    "    samples = [sampler.sample() for _ in range(n)]\n",
    "    approx = easy_conditional_probability_with_samples(new_ordering, samples, new_expected_variable, expected_outcome)\n",
    "    return new_ordering, new_expected_variable, exact, approx\n",
    "    \n",
    "        \n",
    "new_ordering, new_expected_variable, exact, approx = easy_conditional_probability(ordering, gender, 'female')\n",
    "exclude = [new_expected_variable]\n",
    "for variable in new_ordering:\n",
    "    if variable in exclude:\n",
    "        continue\n",
    "    print(variable.name)\n",
    "    print('{:8}{:8}{:8}{:8}'.format('outcome','exact','approx', 'error(%)'))\n",
    "    for outcome in variable.outcomes:\n",
    "        print('{:8}{:<8.4f}{:<8.4f}{:<8.4f}'.format(outcome, \n",
    "                                            exact[variable][outcome],\n",
    "                                            approx[variable][outcome],\n",
    "                                            abs(exact[variable][outcome]-approx[variable][outcome])*100/exact[variable][outcome]))\n",
    "    print()"
   ]
  },
  {
   "cell_type": "markdown",
   "metadata": {},
   "source": [
    "### <span style=\"color:blue\">Answer</span>\n",
    "All nodes that have no parent can use this method since changing their `pmfs` won't influence the others nodes. For those nodes that have parents, changing their `pmfs` may influence their parents. Using their parents' outdated `pmfs` is not proper. Therefore, H and R can do that."
   ]
  },
  {
   "cell_type": "code",
   "execution_count": 13,
   "metadata": {
    "collapsed": true
   },
   "outputs": [
    {
     "name": "stdout",
     "output_type": "stream",
     "text": [
      "p(vote|region=east)\n",
      "--------------------------------\n",
      "outcome exact   approx  error(%)\n",
      "bernie  0.1268  0.1221  3.6662  \n",
      "donald  0.4275  0.4194  1.9009  \n",
      "hillary 0.2454  0.2507  2.1554  \n",
      "ted     0.2003  0.2078  3.7372  \n",
      "\n",
      "p(vote|hand=east)\n",
      "--------------------------------\n",
      "outcome exact   approx  error(%)\n",
      "bernie  0.1527  0.1533  0.4301  \n",
      "donald  0.3490  0.3510  0.5637  \n",
      "hillary 0.3003  0.2938  2.1841  \n",
      "ted     0.1980  0.2019  1.9874  \n",
      "\n"
     ]
    }
   ],
   "source": [
    "new_ordering, new_expected_variable, exact, approx = easy_conditional_probability(ordering, region, 'east')\n",
    "for variable in new_ordering:\n",
    "    if variable.name == vote.name:\n",
    "        print('p(vote|{}={})'.format(new_expected_variable.name, 'east'))\n",
    "        print('--------------------------------')\n",
    "        print('{:8}{:8}{:8}{:8}'.format('outcome','exact','approx', 'error(%)'))\n",
    "        for outcome in variable.outcomes:\n",
    "            print('{:8}{:<8.4f}{:<8.4f}{:<8.4f}'.format(outcome, \n",
    "                                                exact[variable][outcome],\n",
    "                                                approx[variable][outcome],\n",
    "                                                abs(exact[variable][outcome]-approx[variable][outcome])*100/exact[variable][outcome]))\n",
    "        print()\n",
    "\n",
    "new_ordering, new_expected_variable, exact, approx = easy_conditional_probability(ordering, hand, 'left')\n",
    "for variable in new_ordering:\n",
    "    if variable.name == vote.name:\n",
    "        print('p(vote|{}={})'.format(new_expected_variable.name, 'east'))\n",
    "        print('--------------------------------')\n",
    "        print('{:8}{:8}{:8}{:8}'.format('outcome','exact','approx', 'error(%)'))\n",
    "        for outcome in variable.outcomes:\n",
    "            print('{:8}{:<8.4f}{:<8.4f}{:<8.4f}'.format(outcome, \n",
    "                                                exact[variable][outcome],\n",
    "                                                approx[variable][outcome],\n",
    "                                                abs(exact[variable][outcome]-approx[variable][outcome])*100/exact[variable][outcome]))\n",
    "        print()"
   ]
  },
  {
   "cell_type": "markdown",
   "metadata": {},
   "source": [
    "# 3D (2 marks) General conditional probabilities\n",
    "\n",
    "1. Write down the expression of the joint probability $p(R,G,H,J,A,C,V)$ in terms of the conditional probabilities in the graphical model.\n",
    "- Derive $p(G = male \\,|\\, V = Donald)$ in terms of the conditional probabilities of the graphical model.\n",
    "- Compute and display in a human friendly format the conditional distributions $p(G=g \\,|\\, V=v)$ for all genders $g$ and votes $v$, by naively marginalising the other variables (other than $G$ and $V$, that is).\n",
    "- Compute and display in a human friendly format the conditional distributions $p(R=r \\,|\\, V=v)$ for all regions $r$ and votes $v$, by naively marginalising the other variables (other than $R$ and $V$, that is).\n",
    "\n",
    "Your code be applicable to arbitrary ``BayesianNetwork`` instances (in this case the instance is ``election_model``), conditioning variables (in this case the conditioning variable is $V$), and variables of interest (in this case the variables of interest are $G$ and $R$)."
   ]
  },
  {
   "cell_type": "markdown",
   "metadata": {},
   "source": [
    "### <span style=\"color:blue\">Answer</span>\n",
    "1. $p(R,G,H,J,A,C,V) = p(R)p(G)p(H)p(J\\Cond R,G)p(A\\Cond J)p(C\\Cond G,H)p(V\\Cond R,A,C)$\n",
    "2. \n",
    "$p(G=male \\Cond V = Donald)\\\\\n",
    "= \\dfrac{p(G = male, V = Donald)}{p(V = Donald)}\\\\\n",
    "= \\dfrac{\\sum_{R,H,J,A,C}p(R, G=male, H, J, A, C, V=Donald)}\n",
    "{\\sum_{R,G,H,J,A,C}p(R, G, H, J, A, C,V=Donald)}\\\\\n",
    "= \\dfrac{p(G=male)\\sum_{R,H,J,A,C}p(R)p(H)p(J\\Cond R,G=male)p(A\\Cond J)p(C\\Cond G=male,H)p(V=Donald\\Cond R,A,C)}{\\sum_{R,G,H,J,A,C}p(R)p(G)p(H)p(J\\Cond R,G)p(A\\Cond J)p(C\\Cond G,H)p(V=Donald\\Cond R,A,C)}\n",
    "$\n"
   ]
  },
  {
   "cell_type": "code",
   "execution_count": 14,
   "metadata": {
    "collapsed": true
   },
   "outputs": [
    {
     "name": "stdout",
     "output_type": "stream",
     "text": [
      "vote    gender  P(gender|vote)\n",
      "------------------------------\n",
      "bernie  male    0.3981\n",
      "donald  male    0.2143\n",
      "hillary male    0.3636\n",
      "ted     male    0.2784\n",
      "bernie  female  0.6019\n",
      "donald  female  0.7857\n",
      "hillary female  0.6364\n",
      "ted     female  0.7216\n",
      "\n",
      "vote    region  P(region|vote)\n",
      "------------------------------\n",
      "bernie  north   0.2122\n",
      "donald  north   0.2156\n",
      "hillary north   0.2194\n",
      "ted     north   0.1365\n",
      "bernie  south   0.0676\n",
      "donald  south   0.07739\n",
      "hillary south   0.1401\n",
      "ted     south   0.1048\n",
      "bernie  east    0.3945\n",
      "donald  east    0.6066\n",
      "hillary east    0.4234\n",
      "ted     east    0.5106\n",
      "bernie  west    0.3257\n",
      "donald  west    0.1004\n",
      "hillary west    0.2172\n",
      "ted     west    0.2481\n",
      "\n"
     ]
    }
   ],
   "source": [
    "def joint_distribution(ordering, interests=[]):\n",
    "    res = {}\n",
    "    for outcomes in itertools.product(*[variable.outcomes for variable in ordering]):\n",
    "        outcomes_dict = dict(zip(ordering, outcomes))\n",
    "        interests_outcomes = tuple([outcomes_dict[interest] for interest in interests])\n",
    "        if interests_outcomes not in res.keys():\n",
    "            res[interests_outcomes] = 0\n",
    "        p = 1\n",
    "        for variable in ordering:\n",
    "            parent_outcomes = list()\n",
    "            for parent in variable.parents:\n",
    "                parent_outcomes.append(outcomes_dict[parent])\n",
    "            outcome = outcomes_dict[variable]\n",
    "            p *= variable.pmfs[tuple(parent_outcomes)][outcome]\n",
    "        res[interests_outcomes] += p\n",
    "    return res\n",
    "\n",
    "def conditional_distribution(model, conditions=[], interests=[]):\n",
    "    ordering = get_ordering(model)\n",
    "    conditions_name = [condition.name for condition in conditions]\n",
    "    interests_name = [interest.name for interest in interests]\n",
    "    for condition_name in conditions_name:\n",
    "        print('{:8}'.format(condition_name), end='')\n",
    "    for interest_name in interests_name:\n",
    "        print('{:8}'.format(interest_name), end='')\n",
    "    print('P({}|{})'.format(', '.join(interests_name), ', '.join(conditions_name)))\n",
    "    print('------------------------------')\n",
    "    numerator_distribution = joint_distribution(ordering, conditions + interests)\n",
    "    denominator_distribution = joint_distribution(ordering, conditions)\n",
    "    for numerator_outcomes, numerator in numerator_distribution.items():\n",
    "        denominator_outcomes = numerator_outcomes[:len(conditions)]\n",
    "        denominator = denominator_distribution[denominator_outcomes]\n",
    "        for outcome in numerator_outcomes:\n",
    "            print('{:8}'.format(outcome), end='')\n",
    "        print('{:.4}'.format(numerator / denominator))\n",
    "    print()\n",
    "    return\n",
    "\n",
    "conditional_distribution(election_model, conditions=[vote], interests=[gender])\n",
    "conditional_distribution(election_model, conditions=[vote], interests=[region])"
   ]
  },
  {
   "cell_type": "markdown",
   "metadata": {},
   "source": [
    "# 4A (1 marks) Variable elimination\n",
    "\n",
    "Denote the graphical model consider thus far $\\mathcal{M}$.\n",
    "\n",
    "1. Derive $p(R,G,J,A,C,V)$ by marginalising by hand over $H$ in $\\mathcal{M}$. \n",
    "- Describe how the structure (connectivity) of the new graphical model (call it $\\mathcal{M}_H$) over all variables other than $H$ changes after eliminating $H$ in this way.\n",
    "- Describe which conditional(s) in the new graphical model differ from the original model.\n",
    "- Encode the $\\mathcal{M}_H$ in python similarly to $\\mathcal{M}$. The code need not be general and may be in large part copy-pasted from the original ``election_model`` definition above."
   ]
  },
  {
   "cell_type": "markdown",
   "metadata": {},
   "source": [
    "### <span style=\"color:blue\">Answer</span>\n",
    "1. \n",
    "$ p(R,G,J,A,C,V)\\\\\n",
    "= \\sum_{H} p(R,G,H,J,A,C,V)\\\\\n",
    "= p(R)p(G)p(J\\Cond R,G)P(A\\Cond J)p(V\\Cond R,A,C)\\sum_{H}p(H=h)P(C\\Cond G,H=h)\\\\\n",
    "= p(R) p(G) p(J\\Cond R,G) P(A\\Cond J)p(V\\Cond R,A,C)p(C\\Cond G) $\n",
    "2. Remove the H node and the edge from H to C.\n",
    "3. $p(C\\Cond G,H)$ in the original model is changed to $p(C\\Cond G)$ in the new model."
   ]
  },
  {
   "cell_type": "code",
   "execution_count": 15,
   "metadata": {
    "collapsed": true
   },
   "outputs": [],
   "source": [
    "new_colour_pmf_array = np.array(\n",
    "        [\n",
    "            [0.837, 0.287],\n",
    "            [0.163, 0.713],\n",
    "        ]\n",
    "    )\n",
    "\n",
    "new_colour = RandomVariable(\n",
    "    name='colour',\n",
    "    parents=(gender,),\n",
    "    outcomes=('black', 'white'),\n",
    "    pmf_array = new_colour_pmf_array\n",
    ")\n",
    "\n",
    "new_vote = RandomVariable(\n",
    "    name='vote',\n",
    "    parents=(region, age, new_colour),\n",
    "    outcomes=vote_outcomes,\n",
    "    pmf_array = vote_pmf_array\n",
    ")\n",
    "\n",
    "new_election_model = BayesianNetwork(region, gender, jacket, age, new_colour, new_vote)"
   ]
  },
  {
   "cell_type": "markdown",
   "metadata": {},
   "source": [
    "# 4B (1 marks) General estimation of conditional probabilities (revisited)\n",
    "\n",
    "1. As you did earlier, compute and display in a human friendly format the conditional distributions $p(G=g \\,|\\, V=v)$ for all genders $g$ and votes $v$, by naively marginalising the other variables (other than $G$ and $V$, that is). This time however, do so using $\\mathcal{M}_H$ rather than $\\mathcal{M}$. You should re-use as much code as possible from your previous solution for the $\\mathcal{M}$ case.\n",
    "- Describe the computational advantages of using $\\mathcal{M}_H$ in this way rather than $\\mathcal{M}$."
   ]
  },
  {
   "cell_type": "code",
   "execution_count": 16,
   "metadata": {
    "collapsed": true
   },
   "outputs": [
    {
     "name": "stdout",
     "output_type": "stream",
     "text": [
      "vote    gender  P(gender|vote)\n",
      "------------------------------\n",
      "bernie  male    0.373\n",
      "donald  male    0.2312\n",
      "hillary male    0.3475\n",
      "ted     male    0.2852\n",
      "bernie  female  0.627\n",
      "donald  female  0.7688\n",
      "hillary female  0.6525\n",
      "ted     female  0.7148\n",
      "\n"
     ]
    }
   ],
   "source": [
    "conditional_distribution(new_election_model, conditions=[new_vote], interests=[gender])"
   ]
  },
  {
   "cell_type": "markdown",
   "metadata": {},
   "source": [
    "### <span style=\"color:blue\">Answer</span>\n",
    "When we use $\\mathcal{M}_H$ to calculate something like p(R=r,G=g,J=j,A=a,C=c,V=v), since we remove $H$, we will decrease one layer of circulation."
   ]
  },
  {
   "cell_type": "markdown",
   "metadata": {},
   "source": [
    "# 5A (2 marks) Theoretical Conditional Independence\n",
    "\n",
    "1. Write a function ``conditionally_independent(model, X, Y, Z)`` which returns the value of $X\\perp Y \\,\\,|\\,\\,Z$ for the ``BayesianNetwork`` passed as ``model``. The function should be defined as below; $X$ and $Y$ should be random variables, and $Z$ a set of random variables. The code should be generally applicable to an arbitrary ``BayesianNetwork``.\n",
    "- Explain how your ``conditionally_independent`` function works.\n",
    "- Run ``conditionally_independent(election_model, X, Y, Z)`` for $Z$ being each possible single element set containing a random variable from ``election_model`` as well as the empty set (i.e. {``age``}, {``colour``}, ..., {``vote``}, $\\varnothing$) . For each such $Z$, make an image (2D numpy array) where $X$ is the row (and ranges over all random variables in ``election_model``) and $Y$ the column (similarly ranging over all random variables). Visualise the results using the ``plot_image`` function below, setting ``the_title`` to the name of the random variable in $Z$, or ``'empty'`` for the case where $Z$ is the empty set.\n",
    "- Provide a concise discussion of some interesting features of your plots.\n",
    "\n",
    "Order all plots (rows, columns, figures) alphabetically by the name of the random variable, where possible."
   ]
  },
  {
   "cell_type": "code",
   "execution_count": 17,
   "metadata": {
    "collapsed": true
   },
   "outputs": [],
   "source": [
    "# provided code, do not edit, appropriately copy and complete in another cell\n",
    "\n",
    "if False:\n",
    "    def conditionally_independent(model, X, Y, Z):\n",
    "        assert isinstance(model, BayesianNetwork)\n",
    "        assert isinstance(X, RandomVariable)\n",
    "        assert isinstance(Z, set)\n",
    "        % to do"
   ]
  },
  {
   "cell_type": "code",
   "execution_count": 18,
   "metadata": {
    "collapsed": true
   },
   "outputs": [],
   "source": [
    "# provided code, do not edit\n",
    "\n",
    "def plot_image(image, labels, the_title):\n",
    "    from mpl_toolkits.axes_grid1 import make_axes_locatable\n",
    "    assert isinstance(image, np.ndarray)\n",
    "    assert isinstance(labels, list)\n",
    "    assert all(isinstance(_, str) for _ in labels)\n",
    "    assert image.shape == (len(labels), len(labels))\n",
    "    assert labels == sorted(labels)\n",
    "    assert isinstance(the_title, str)\n",
    "    im = plt.imshow(image)\n",
    "    plt.gca().set_xticklabels(['']+labels, rotation=90)    \n",
    "    plt.gca().set_yticklabels(['']+labels)\n",
    "    plt.title(the_title)\n",
    "    divider = make_axes_locatable(plt.gca())\n",
    "    cax = divider.append_axes(\"right\", size=\"5%\", pad=0.05)\n",
    "    plt.colorbar(im, cax=cax)"
   ]
  },
  {
   "cell_type": "markdown",
   "metadata": {},
   "source": [
    "### <span style=\"color:blue\">Answer</span>\n",
    "1. I build some tool functions\n",
    "    - `get_neighbor`: for each node, get its neighbors\n",
    "    - `get_paths`: for given two node, find all paths\n",
    "    - `get_predecessor`: for given nodes, get their predecessor and theirself\n",
    "    - `get_relation`: for given node and it' prior and next is the path, find out it's HH or HT or TT\n",
    "2. For given X, Y, I get all paths from X to Y\n",
    "3. For any path, I will ckeck if it's blocked\n",
    "4. For any node in this path, if it's HT/TT and this node in Z or it's HH and this node not in predecessor. This node blocks this path.\n",
    "5. If all path are blocked, X and Y are independent given Z. Otherwise, they are dependent."
   ]
  },
  {
   "cell_type": "code",
   "execution_count": 19,
   "metadata": {
    "collapsed": true
   },
   "outputs": [],
   "source": [
    "def get_neighbor(ordering):\n",
    "    res = {}\n",
    "    for variable in ordering:\n",
    "        res[variable] = set()\n",
    "    for variable in ordering:\n",
    "        for parent in variable.parents:\n",
    "            res[variable].add(parent)\n",
    "            res[parent].add(variable)\n",
    "    return res\n",
    "\n",
    "def get_paths(ordering, start_variable, end_variable):\n",
    "    res = []\n",
    "    neighbors = get_neighbor(ordering)\n",
    "    start_path = [start_variable]\n",
    "    queue = [start_path]\n",
    "    \n",
    "    while(queue):\n",
    "        temp_path = queue.pop(0)\n",
    "        cur_node = temp_path[-1]\n",
    "        if cur_node == end_variable:\n",
    "            res.append(temp_path)\n",
    "            continue\n",
    "        for neighor in neighbors[cur_node]:\n",
    "            if neighor not in temp_path:\n",
    "                new_path = temp_path.copy()\n",
    "                new_path.append(neighor)\n",
    "                queue.append(new_path)\n",
    "    return res\n",
    "\n",
    "def get_predecessor(Z):\n",
    "    res = set(Z)\n",
    "    queue = set(Z)\n",
    "    while(queue):\n",
    "        cur_node = queue.pop()\n",
    "        for parent in cur_node.parents:\n",
    "            res.add(parent)\n",
    "            queue.add(parent)\n",
    "    return res\n",
    "\n",
    "def get_relation(a, node, b):\n",
    "    if node in a.parents and node in b.parents:\n",
    "        return 'TT'\n",
    "    if a in node.parents and b in node.parents:\n",
    "        return 'HH'\n",
    "    return 'HT'\n",
    "\n",
    "def conditionally_independent(model, X, Y, Z):\n",
    "    assert isinstance(model, BayesianNetwork)\n",
    "    assert isinstance(X, RandomVariable)\n",
    "    assert isinstance(Z, set)\n",
    "    if X == Y:\n",
    "        return False\n",
    "    \n",
    "    ordering = get_ordering(model)\n",
    "    paths = get_paths(ordering, X, Y)\n",
    "    predecessor = get_predecessor(Z)\n",
    "    for path in paths:\n",
    "        for i in range(1, len(path)-1):\n",
    "            node = path[i]\n",
    "            relation = get_relation(path[i-1], node, path[i+1])\n",
    "            if (relation == 'HT' or relation == 'TT') and node in Z:\n",
    "                break\n",
    "            if relation == 'HH' and node not in predecessor:\n",
    "                break\n",
    "        else:\n",
    "            return False\n",
    "    return True"
   ]
  },
  {
   "cell_type": "code",
   "execution_count": 20,
   "metadata": {
    "collapsed": true
   },
   "outputs": [
    {
     "data": {
      "image/png": "[encoded data removed]",
      "text/plain": [
       "<matplotlib.figure.Figure at 0x114562e10>"
      ]
     },
     "metadata": {},
     "output_type": "display_data"
    },
    {
     "data": {
      "image/png": "[encoded data removed]",
      "text/plain": [
       "<matplotlib.figure.Figure at 0x1104facc0>"
      ]
     },
     "metadata": {},
     "output_type": "display_data"
    },
    {
     "data": {
      "image/png": "[encoded data removed]",
      "text/plain": [
       "<matplotlib.figure.Figure at 0x1144b0080>"
      ]
     },
     "metadata": {},
     "output_type": "display_data"
    },
    {
     "data": {
      "image/png": "[encoded data removed]",
      "text/plain": [
       "<matplotlib.figure.Figure at 0x1158a8080>"
      ]
     },
     "metadata": {},
     "output_type": "display_data"
    },
    {
     "data": {
      "image/png": "[encoded data removed]",
      "text/plain": [
       "<matplotlib.figure.Figure at 0x1144a2160>"
      ]
     },
     "metadata": {},
     "output_type": "display_data"
    },
    {
     "data": {
      "image/png": "[encoded data removed]",
      "text/plain": [
       "<matplotlib.figure.Figure at 0x1158d0e80>"
      ]
     },
     "metadata": {},
     "output_type": "display_data"
    },
    {
     "data": {
      "image/png": "[encoded data removed]",
      "text/plain": [
       "<matplotlib.figure.Figure at 0x11588a978>"
      ]
     },
     "metadata": {},
     "output_type": "display_data"
    },
    {
     "data": {
      "image/png": "[encoded data removed]",
      "text/plain": [
       "<matplotlib.figure.Figure at 0x11453f400>"
      ]
     },
     "metadata": {},
     "output_type": "display_data"
    }
   ],
   "source": [
    "def plot(model):\n",
    "    ordering = get_ordering(model)\n",
    "    ordering = sorted(ordering, key=lambda x : x.name)\n",
    "    num_variable = len(ordering)\n",
    "    Z_list = [set()]\n",
    "    labels = [variable.name for variable in ordering]\n",
    "    \n",
    "    for variable in ordering:\n",
    "        Z = {variable}\n",
    "        Z_list.append(Z)\n",
    "    \n",
    "    for Z in Z_list:\n",
    "        image = np.ndarray(shape=(num_variable, num_variable), dtype=bool)\n",
    "        for i in range(num_variable):\n",
    "            for j in range(num_variable):\n",
    "                image[i, j] = conditionally_independent(model, ordering[i], ordering[j], Z)\n",
    "        if Z == set():\n",
    "            plot_image(image, labels, 'empty')\n",
    "        else:\n",
    "            plot_image(image, labels, Z.pop().name)\n",
    "        plt.show()\n",
    "plot(election_model)"
   ]
  },
  {
   "cell_type": "markdown",
   "metadata": {},
   "source": [
    "### <span style=\"color:blue\">Answer</span>\n",
    "1. the `empty` plot and `region` plot are same. So observing region don't change any dependence of thie graph.\n",
    "2. For some nodes, observing them will decrease the number of dependence but for some other nodes observing them will increase the number of dependence\n",
    "3. Observing vote will cause all nodes are dependent. Since vote is leaf and has three parents. It's always HH and observing it will connect all its' parents."
   ]
  },
  {
   "cell_type": "markdown",
   "metadata": {},
   "source": [
    "# 5B (2 marks) Estimated Conditional Independence from Samples\n",
    "\n",
    "1. Suggest and justify a heuristic \"conditional independence score\"; include any relevant background in your discussion. This score should be a function of a set of samples from a directed graphical model (with categorical variables), and should not make use of knowledge of the directed graphical model structure or parameters. The score provide indicate somehow whether $X\\perp Y \\,\\, | \\,\\,Z$.\n",
    "- Implement your score in an efficient and suitably general manner. For simplicity, your score should be ``np.nan`` if any of $X,Y$ or an element of $Z$ are the same (nans will appear white in your plotted image). Run the code on samples from the ``election_model``. **Your code should run in less than about three minutes; if necessary speed it up by making the implementation more efficient and/or reducing the number of samples used.**\n",
    "- Visualise your score alongside the (binary valued) conditional independences that you computed and plotted in the previous question (for the same range of values of $Z$, $X$ and $Y$). Use ``plot_two_images`` in the code fragment below. Order all plots (rows, columns, figures) alphabetically by the name of the random variable, where possible.\n",
    "- Identify the highest and lowest heuristic scoring cases (a case being an $X,Y,Z$ triple) for both the theoretically conditionally independent and the **not** theoretically conditionally independent cases. That is four examples in total. Print the cases along with their heurstic scores, and explain your intuition for what you see.\n",
    "\n"
   ]
  },
  {
   "cell_type": "code",
   "execution_count": 21,
   "metadata": {
    "collapsed": true
   },
   "outputs": [],
   "source": [
    "# provided code, do not edit\n",
    "\n",
    "def plot_two_images(image1, image2, labels, the_title):\n",
    "    plt.figure(figsize=(12, 5))\n",
    "    plt.subplot(1,2,1)\n",
    "    plot_image(image1, labels, '')\n",
    "    plt.subplot(1,2,2)\n",
    "    plot_image(image2, labels, '')\n",
    "    plt.suptitle(the_title)"
   ]
  },
  {
   "cell_type": "markdown",
   "metadata": {},
   "source": [
    "### <span style=\"color:blue\">Answer</span>\n",
    "$X\\perp Y \\,\\, | \\,\\,Z$ means $p(X\\Cond Z, Y) = p(X\\Cond Z)$\n",
    "\n",
    "So I want to use the difference of $p(X\\Cond Z, Y)$ and $p(X\\Cond Z)$ to compute the score(X, Y, Z).\n",
    "Intuition in here is that more the $p(X\\Cond Z, Y)$ close to $p(X\\Cond Z)$, more it's like they are independent. Also shoulde notice that the score should be in range from 0 to 1.\n",
    "\n",
    "Process as follow:\n",
    "1. preprocessing: use samples to get p(X), p(Y), p(Y), $p(X\\Cond Z, Y)$ and $p(X\\Cond Z)$\n",
    "2. Inital the score to 1\n",
    "3. Loop X,Y,Z and for any X=x, Y=y, Z=z, I calulate the abs of $p(X\\Cond Z, Y)$ and $p(X\\Cond Z)$ and then reduce score by $p(x)p(y)p(z)$ times this abs. It's easy to see that all scores will be in range from 0 to 1.\n",
    "4. After loop, return the score"
   ]
  },
  {
   "cell_type": "code",
   "execution_count": 22,
   "metadata": {
    "collapsed": true
   },
   "outputs": [
    {
     "data": {
      "image/png": "[encoded data removed]",
      "text/plain": [
       "<matplotlib.figure.Figure at 0x1104db358>"
      ]
     },
     "metadata": {},
     "output_type": "display_data"
    },
    {
     "data": {
      "image/png": "[encoded data removed]",
      "text/plain": [
       "<matplotlib.figure.Figure at 0x11585dc88>"
      ]
     },
     "metadata": {},
     "output_type": "display_data"
    },
    {
     "data": {
      "image/png": "[encoded data removed]",
      "text/plain": [
       "<matplotlib.figure.Figure at 0x1137a0cc0>"
      ]
     },
     "metadata": {},
     "output_type": "display_data"
    },
    {
     "data": {
      "image/png": "[encoded data removed]",
      "text/plain": [
       "<matplotlib.figure.Figure at 0x11451e860>"
      ]
     },
     "metadata": {},
     "output_type": "display_data"
    },
    {
     "data": {
      "image/png": "[encoded data removed]",
      "text/plain": [
       "<matplotlib.figure.Figure at 0x113e19320>"
      ]
     },
     "metadata": {},
     "output_type": "display_data"
    },
    {
     "data": {
      "image/png": "[encoded data removed]",
      "text/plain": [
       "<matplotlib.figure.Figure at 0x1158979e8>"
      ]
     },
     "metadata": {},
     "output_type": "display_data"
    },
    {
     "data": {
      "image/png": "[encoded data removed]",
      "text/plain": [
       "<matplotlib.figure.Figure at 0x1167fe358>"
      ]
     },
     "metadata": {},
     "output_type": "display_data"
    },
    {
     "data": {
      "image/png": "[encoded data removed]",
      "text/plain": [
       "<matplotlib.figure.Figure at 0x114512d68>"
      ]
     },
     "metadata": {},
     "output_type": "display_data"
    }
   ],
   "source": [
    "def get_conditional_independence_score(X, Y, Z, samples):\n",
    "    if X == Y or X in Z or Y in Z:\n",
    "        return np.nan\n",
    "    res = 1\n",
    "    n = len(samples)\n",
    "    px = {}\n",
    "    py = {} \n",
    "    for outcome in X.outcomes:\n",
    "        px[outcome] = 0\n",
    "    for outcome in Y.outcomes:\n",
    "        py[outcome] = 0\n",
    "    if Z:\n",
    "        pz = {}\n",
    "        Z = next(iter(Z))\n",
    "        for outcome in Z.outcomes:\n",
    "            pz[outcome] = 0\n",
    "        p_givenz = {}\n",
    "        p_givenxz = {}\n",
    "        for z_outcome in Z.outcomes:\n",
    "            p_givenz[z_outcome] = {}\n",
    "            for y_outcome in Y.outcomes:\n",
    "                p_givenz[z_outcome][y_outcome] = 0\n",
    "            for x_outcome in X.outcomes:\n",
    "                p_givenxz[z_outcome, x_outcome] = {}\n",
    "                for y_outcome in Y.outcomes:\n",
    "                    p_givenxz[z_outcome, x_outcome][y_outcome] = 0\n",
    "        for sample in samples:\n",
    "            x_outcome = sample[X]\n",
    "            y_outcome = sample[Y]\n",
    "            z_outcome = sample[Z]\n",
    "            px[x_outcome] += 1 / n\n",
    "            py[y_outcome] += 1 / n\n",
    "            pz[z_outcome] += 1 / n\n",
    "            p_givenz[z_outcome][y_outcome] += 1 / n\n",
    "            p_givenxz[z_outcome, x_outcome][y_outcome] += 1 / n\n",
    "        for y_outcome in Y.outcomes:\n",
    "            for z_outcome in Z.outcomes:\n",
    "                for x_outcome in X.outcomes:\n",
    "                    res -= abs(p_givenz[z_outcome][y_outcome] - p_givenxz[z_outcome, x_outcome][y_outcome]) \\\n",
    "                    * px[x_outcome] * py[y_outcome] * pz[z_outcome]\n",
    "        return res\n",
    "    else:\n",
    "        p = {}\n",
    "        p_givenx = {}\n",
    "        for y_outcome in Y.outcomes:\n",
    "            p[y_outcome] = 0\n",
    "        for x_outcome in X.outcomes:\n",
    "            p_givenx[x_outcome] = {}\n",
    "            for y_outcome in Y.outcomes:\n",
    "                p_givenx[x_outcome][y_outcome] = 0\n",
    "        for sample in samples:\n",
    "            x_outcome = sample[X]\n",
    "            y_outcome = sample[Y]\n",
    "            px[x_outcome] += 1 / n\n",
    "            py[y_outcome] += 1 / n\n",
    "            p[y_outcome] += 1 / n\n",
    "            p_givenx[x_outcome][y_outcome] += 1 / n\n",
    "            \n",
    "        for y_outcome in Y.outcomes:\n",
    "            for x_outcome in X.outcomes:\n",
    "                res -=  abs(p[y_outcome] - p_givenx[x_outcome][y_outcome]) * px[x_outcome] * py[y_outcome]\n",
    "        return res\n",
    "\n",
    "def plot_diff(model):\n",
    "    max_true = (0, None)\n",
    "    min_true = (1, None)\n",
    "    max_false = (0, None)\n",
    "    min_false = (1, None)\n",
    "    ordering = get_ordering(model)\n",
    "    ordering = sorted(ordering, key=lambda x : x.name)\n",
    "    num_variable = len(ordering)\n",
    "    Z_list = [set()]\n",
    "    labels = [variable.name for variable in ordering]\n",
    "    \n",
    "    for variable in ordering:\n",
    "        Z = {variable}\n",
    "        Z_list.append(Z)\n",
    "    for Z in Z_list:\n",
    "        image1 = np.ndarray(shape=(num_variable, num_variable), dtype=bool)\n",
    "        image2 = np.ndarray(shape=(num_variable, num_variable), dtype=float)\n",
    "        for i in range(num_variable):\n",
    "            for j in range(num_variable):\n",
    "                image1[i, j] = conditionally_independent(model, ordering[i], ordering[j], Z)\n",
    "                image2[i, j] = get_conditional_independence_score(ordering[i], ordering[j], Z, samples)\n",
    "                if image1[i, j] == True:\n",
    "                    if image2[i, j] > max_true[0]:\n",
    "                        max_true = image2[i, j], [ordering[i], ordering[j], Z]\n",
    "                    if image2[i, j] < min_true[0]:\n",
    "                        min_true = image2[i, j], [ordering[i], ordering[j], Z]\n",
    "                else:\n",
    "                    if image2[i, j] > max_false[0]:\n",
    "                        max_false = image2[i, j], [ordering[i], ordering[j], Z]\n",
    "                    if image2[i, j] < min_false[0]:\n",
    "                        min_false = image2[i, j], [ordering[i], ordering[j], Z]\n",
    "        if Z == set():\n",
    "            plot_two_images(image1, image2, labels, 'empty')\n",
    "        else:\n",
    "            plot_two_images(image1, image2, labels, next(iter(Z)).name)\n",
    "        plt.show()\n",
    "    return max_true, min_true, max_false, min_false\n",
    "max_true, min_true, max_false, min_false = plot_diff(election_model)"
   ]
  },
  {
   "cell_type": "code",
   "execution_count": 23,
   "metadata": {
    "collapsed": true,
    "scrolled": false
   },
   "outputs": [
    {
     "name": "stdout",
     "output_type": "stream",
     "text": [
      "X       Y       Z       scor\n",
      "------------------------------\n",
      "Highest score for true independent\n",
      "hand    region  age     0.9732\n",
      "Lowest score for true independent\n",
      "region  hand    empty   0.4583\n",
      "Highest score for false independent\n",
      "hand    vote    region  0.9832\n",
      "Lowest score for false independent\n",
      "vote    hand    empty   0.402\n"
     ]
    }
   ],
   "source": [
    "def print_score(max_true):\n",
    "    score, xyz = max_true\n",
    "    x, y, z = xyz\n",
    "    if z:\n",
    "        z = next(iter(z))\n",
    "        print('{:8}{:8}{:8}{:.4}'.format(x.name, y.name, z.name, score))\n",
    "    else:\n",
    "        print('{:8}{:8}{:8}{:.4}'.format(x.name, y.name, 'empty', score))\n",
    "\n",
    "print('{:8}{:8}{:8}{:.4}'.format('X', 'Y', 'Z', 'score'))\n",
    "print('------------------------------')\n",
    "print('Highest score for true independent')\n",
    "print_score(max_true)\n",
    "print('Lowest score for true independent')\n",
    "print_score(min_true)\n",
    "print('Highest score for false independent')\n",
    "print_score(max_false)\n",
    "print('Lowest score for false independent')\n",
    "print_score(min_false)"
   ]
  },
  {
   "cell_type": "markdown",
   "metadata": {},
   "source": [
    "### <span style=\"color:blue\">Answer</span>\n",
    "when Z = empty, score will be relatively lower. This method doesn't work well."
   ]
  },
  {
   "cell_type": "code",
   "execution_count": null,
   "metadata": {},
   "outputs": [],
   "source": []
  }
 ],
 "metadata": {
  "kernelspec": {
   "display_name": "Python 3",
   "language": "python",
   "name": "python3"
  },
  "language_info": {
   "codemirror_mode": {
    "name": "ipython",
    "version": 3
   },
   "file_extension": ".py",
   "mimetype": "text/x-python",
   "name": "python",
   "nbconvert_exporter": "python",
   "pygments_lexer": "ipython3",
   "version": "3.6.2"
  }
 },
 "nbformat": 4,
 "nbformat_minor": 2
}
