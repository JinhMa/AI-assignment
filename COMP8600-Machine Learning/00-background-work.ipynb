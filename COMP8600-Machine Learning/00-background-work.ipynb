{
 "cells": [
  {
   "cell_type": "markdown",
   "metadata": {},
   "source": [
    "# Preliminary / Background Material"
   ]
  },
  {
   "cell_type": "markdown",
   "metadata": {},
   "source": [
    "###### COMP4670/8600 - Introduction to Statistical Machine Learning - Assignment 0 (due date: see the course [webpage](http://machlearn.gitlab.io/isml2018/) )"
   ]
  },
  {
   "cell_type": "markdown",
   "metadata": {},
   "source": [
    "Name: Longfei Zhao\n",
    "\n",
    "Student ID: u5976992"
   ]
  },
  {
   "cell_type": "markdown",
   "metadata": {},
   "source": [
    "## Instructions\n",
    "\n",
    "|             |Notes|\n",
    "|:------------|:--|\n",
    "|Maximum marks| 20|\n",
    "|Weight|2% of final grade|\n",
    "|Format| Complete this ipython notebook. Do not forget to fill in your name and student ID above|\n",
    "|Submission mode| Use [wattle](https://wattle.anu.edu.au/)|\n",
    "|Formulas| All formulas which you derive need to be explained unless you use very common mathematical facts. Picture yourself as explaining your arguments to somebody who is just learning about your assignment. With other words, do not assume that the person marking your assignment knows all the background and therefore you can just write down the formulas without any explanation. It is your task to convince the reader that you know what you are doing when you derive an argument. Typeset all formulas in $\\LaTeX$.|\n",
    "| Code quality | Python code should be well structured, use meaningful identifiers for variables and subroutines, and provide sufficient comments. Please refer to the examples given in the tutorials. |\n",
    "| Code efficiency | An efficient implementation of an algorithm uses fast subroutines provided by the language or additional libraries. For the purpose of implementing Machine Learning algorithms in this course, that means using the appropriate data structures provided by Python and in numpy/scipy (e.g. Linear Algebra and random generators). |\n",
    "| Late penalty | We will not accept late assignments. You will get zero marks if you miss the deadline. Submit early, submit often. | \n",
    "| Coorperation | All assignments must be done individually. Cheating and plagiarism will be dealt with in accordance with University procedures (please see the ANU policies on [Academic Honesty and Plagiarism](http://academichonesty.anu.edu.au)). Hence, for example, code for programming assignments must not be developed in groups, nor should code be shared. You are encouraged to broadly discuss ideas, approaches and techniques with a few other students, but not at a level of detail where specific solutions or implementation issues are described by anyone. If you choose to consult with other students, you will include the names of your discussion partners for each solution. If you have any questions on this, please ask the lecturer before you act. |\n"
   ]
  },
  {
   "cell_type": "markdown",
   "metadata": {},
   "source": [
    "$\\newcommand{\\dotprod}[2]{\\left\\langle #1, #2 \\right\\rangle}$\n",
    "$\\newcommand{\\onevec}{\\mathbb{1}}$\n",
    "\n",
    "Setting up the environment"
   ]
  },
  {
   "cell_type": "code",
   "execution_count": 1,
   "metadata": {},
   "outputs": [],
   "source": [
    "import matplotlib.pyplot as plt\n",
    "from scipy.stats import norm\n",
    "import numpy as np\n",
    "\n",
    "%matplotlib inline"
   ]
  },
  {
   "cell_type": "markdown",
   "metadata": {},
   "source": [
    "# Part 1: Probability\n",
    "## (5 points) 1A: Basic Rules\n",
    "1. State the sum rule of probability.\n",
    "- State the product rule of probability.\n",
    "- State Bayes' rule.\n",
    "- Prove Bayes' rule, justifying each step."
   ]
  },
  {
   "cell_type": "markdown",
   "metadata": {},
   "source": [
    "1. $P(X=x_{i}) = \\sum \\limits_{j}{}P(X=x_{i}, Y=y_{j})$\n",
    "2. $P(X, Y) = P(X)P(Y \\mid X)$\n",
    "3. $P(H \\mid D) = \\frac{P(H)P(D \\mid H)}{P(D)}$\n",
    "4. $P(H, D) = P(H)P(D \\mid H) = P(D)P(H \\mid D)\\\\ \\Rightarrow P(H \\mid D) = \\frac{P(H)P(D \\mid H)}{P(D)}$\n"
   ]
  },
  {
   "cell_type": "markdown",
   "metadata": {},
   "source": [
    "## (2 points) 1B: Bayes' Rule (continuous random variables)\n",
    "A croupier samples a standard normal $X\\sim \\mathcal{N}(\\mu=0,\\sigma^2=1)$, and tosses a fair coin. If the coin lands on heads, she reveals to you the number $Z=X+1$. If it comes up tails she reveals $Z=X-1$. \n",
    "\n",
    "1. What is the probability that the number she reveals, $Z$, is greater than $a$, given that she tossed heads? \n",
    "- What is the probability she tossed heads, if the number she reveals to you is greater than $a$? \n",
    "\n",
    "Express the results in terms of the cumulative distribution function of the standard normal, that is $\\Phi(a):=P(X<a)$."
   ]
  },
  {
   "cell_type": "markdown",
   "metadata": {},
   "source": [
    "1. $P(Z>a \\mid head) = P(Z>a-1) = 1 - \\Phi(a-1)$\n",
    "2. $P(head \\mid Z>a) = \\frac{P(Z>a \\mid head)P(head)}{P(Z>a)}\n",
    "=\\frac{P(Z>a \\mid head)P(head)}{P(head)P(Z>a-1)+P(tail)P(z>a+1)} =\\frac{1-\\Phi(a-1)}{2-(\\Phi(a-1)+\\Phi(a+1))}$"
   ]
  },
  {
   "cell_type": "markdown",
   "metadata": {},
   "source": [
    "## (5 points) 1D: Bayes Rule Simulation and Plot\n",
    "1. Write a function ```theoretical_p``` which takes argument $a$ and returns the theoretical conditional probability derived in quesiton 1.B.2, using ```scipy.stats.norm.cdf``` to compute $\\Phi$\n",
    "- Write a function ```monte_carlo_p``` which takes arguments $a$ and $n$, and which performs the croupier's sampling procedure $n$ times and returns an empirical estimate of the probability we computed above using our theoretical result of 1.B.2. Use the functions ```np.random.randn```, ```np.random.binomial``` and ```np.mean```. Avoid explicit loops, instead rely on the boolean index array feature of numpy.\n",
    "- Plot the theoretical solution as a function of $a\\in [-5,5]$ using the functions ```np.linspace``` to make a grid of $1024$ values for $a$.\n",
    "- Overlay a plot of the empirical estimate with $n=500$. Label the two plots using the ```label``` argument to ```plt.plot``` along with ```plt.legend(loc='best')``` after plotting. Always label the axes in your plots. Add grid lines with ```plt.grid()```. Matplotlib accepts latex strings such as ```xlabel=r'$a$'```.\n",
    "- Provide an intuitive explanation for the limiting values of the plot as $a\\rightarrow-\\infty$ and $a\\rightarrow+\\infty$."
   ]
  },
  {
   "cell_type": "code",
   "execution_count": 2,
   "metadata": {},
   "outputs": [],
   "source": [
    "def theoretical_p(a):\n",
    "    return (1 - norm.cdf(a-1)) / (2 - norm.cdf(a-1)- norm.cdf(a+1))"
   ]
  },
  {
   "cell_type": "code",
   "execution_count": 3,
   "metadata": {},
   "outputs": [],
   "source": [
    "def monte_carlo_p(a, n):\n",
    "    X = np.random.randn(n)\n",
    "    coinResult = np.random.binomial(1, .5, n)\n",
    "    X += 2 * coinResult - 1\n",
    "    return [np.mean(coinResult[X > i]) for i in a]"
   ]
  },
  {
   "cell_type": "code",
   "execution_count": 4,
   "metadata": {},
   "outputs": [
    {
     "data": {
      "text/plain": [
       "[<matplotlib.lines.Line2D at 0x1159beb70>]"
      ]
     },
     "execution_count": 4,
     "metadata": {},
     "output_type": "execute_result"
    },
    {
     "data": {
      "image/png": "[encoded data removed]",
      "text/plain": [
       "<matplotlib.figure.Figure at 0x112636860>"
      ]
     },
     "metadata": {},
     "output_type": "display_data"
    }
   ],
   "source": [
    "a = np.linspace(-5, 5, 1024)\n",
    "plt.plot(a, theoretical_p(a))"
   ]
  },
  {
   "cell_type": "code",
   "execution_count": 10,
   "metadata": {},
   "outputs": [
    {
     "data": {
      "image/png": "[encoded data removed]",
      "text/plain": [
       "<matplotlib.figure.Figure at 0x1173d9a90>"
      ]
     },
     "metadata": {},
     "output_type": "display_data"
    }
   ],
   "source": [
    "plt.plot(a, theoretical_p(a), color='red', label='theoretical_p')\n",
    "plt.plot(a, monte_carlo_p(a, 500), color='green', label='monte_carlo_p')\n",
    "plt.xlabel('$a$')\n",
    "plt.ylabel('P(Head | Z > $a$)')\n",
    "plt.legend(loc='best')\n",
    "plt.grid()\n",
    "plt.show()"
   ]
  },
  {
   "cell_type": "markdown",
   "metadata": {},
   "source": [
    "5.\n",
    "\n",
    "when $a\\rightarrow-\\infty$, most of data will be much larger than $a$, so the coin result has a very small impact, $p \\rightarrow \\frac{1}{2}$. Also, $\\Phi (a-1) \\rightarrow 0, \\Phi (a+1) \\rightarrow 0$, according to 1B2, $p \\rightarrow \\frac{1}{2}$.\n",
    "\n",
    "when $a\\rightarrow+\\infty$, there is very few data that could be larger than $a$. For those data, the coin result has a very huge impact. Got a head will help they a lot. So the probability of head will be much large than tail."
   ]
  },
  {
   "cell_type": "markdown",
   "metadata": {},
   "source": [
    "# Part 2: Linear Algebra and Calculus"
   ]
  },
  {
   "cell_type": "markdown",
   "metadata": {},
   "source": [
    "## (2 Points) 2A: Linear Regression (theory)\n",
    "Assume the deterministic model $y_i=\\sum_{j=1}^d w_j x_{i,j}, i=1, 2, \\ldots n$.\n",
    "1. Write the model in matrix form using capital letters for matrices and bold lowercase for vectors, stating the dimensionality of the variables.\n",
    "- Assume we observe corrupted targets $\\hat{y}_i=y_i+\\epsilon_i$, where $\\epsilon_i$ represents unpredictable noise. Write the sum of squared errors $\\sum_{i=1}^n (\\sum_{j=1}^d w_j x_{i,j}-\\hat{y}_i)^2$ in matrix form, and derive the vector $\\mathbf{w}^\\star$ which minimises it. You may wish to google <i>e.g.</i> \"Sam Roweis matrix identities\" and look at the section on \"derivatives of scalar forms\"."
   ]
  },
  {
   "cell_type": "markdown",
   "metadata": {},
   "source": [
    "1. $X = \\begin{bmatrix}\n",
    "    x_{11} & x_{12} & x_{13} & \\dots  & x_{1d} \\\\\n",
    "    x_{21} & x_{22} & x_{23} & \\dots  & x_{2d} \\\\\n",
    "    \\vdots & \\vdots & \\vdots & \\ddots & \\vdots \\\\\n",
    "    x_{n1} & x_{n2} & x_{n3} & \\dots  & x_{nd}\n",
    "    \\end{bmatrix}$\n",
    "    \n",
    "    $\\boldsymbol{w} = \\begin{bmatrix}\n",
    "    w_{1} \\\\\n",
    "    w_{2} \\\\\n",
    "    \\vdots \\\\\n",
    "    w_{d}\n",
    "    \\end{bmatrix}$\n",
    "    \n",
    "    $\\boldsymbol{y} = X\\boldsymbol{w} = \n",
    "    \\begin{bmatrix}\n",
    "    y_{1} \\\\\n",
    "    y_{2} \\\\\n",
    "    \\vdots \\\\\n",
    "    y_{n}\n",
    "    \\end{bmatrix}$\n",
    "\n",
    "2. $\\sum_{i=1}^n (\\sum_{j=1}^d w_j x_{i,j}-\\hat{y}_i)^2 = (X\\boldsymbol{w} - \\boldsymbol{\\hat{y}})^T(X\\boldsymbol{w} - \\boldsymbol{\\hat{y}})$\n",
    "\n",
    "$\\frac{\\partial (X\\boldsymbol{w^*} - \\boldsymbol{\\hat{y}})^T(X\\boldsymbol{w^*} - \\boldsymbol{\\hat{y}})}{\\partial \\boldsymbol{w^*}} = 0\\\\\n",
    "\\Rightarrow \\frac{\\partial (w^*)^TX^TX\\boldsymbol{w}^*}{\\partial \\boldsymbol{w^*}} - \n",
    "\\frac{\\partial \\boldsymbol{\\hat{y}}^TX\\boldsymbol{w}^*}{\\partial \\boldsymbol{w}^*} -\n",
    "\\frac{\\partial (\\boldsymbol{w}^*)^TX^T\\boldsymbol{\\hat{y}}}{\\partial \\boldsymbol{w}^*} = 0\\\\\n",
    "\\Rightarrow 2X^TX\\boldsymbol{w}^* - X^T\\boldsymbol{\\hat{y}} - X^T\\boldsymbol{\\hat{y}} = 0\\\\\n",
    "\\Rightarrow 2X^TX\\boldsymbol{w}^* = 2X^T\\boldsymbol{\\hat{y}}\\\\\n",
    "\\Rightarrow \\boldsymbol{w}^* = (X^TX)^{-1}X^T\\boldsymbol{\\hat{y}}$"
   ]
  },
  {
   "cell_type": "markdown",
   "metadata": {},
   "source": [
    "## (3 Points) 2B: Univariate Regression (theory)\n",
    "\n",
    "$\\newcommand{\\RR}{\\mathbb{R}}$\n",
    "\n",
    "The inner product between two functions $u:\\RR\\to\\RR$ and\n",
    "$v:\\RR\\to\\RR$ is defined as the definite integral\n",
    "$$\n",
    "u^\\top v = \\langle u,v \\rangle := \\int_a^b u(x) v(x) dx.\n",
    "$$\n",
    "\n",
    "Given a function\n",
    "$$f(x) = \\sqrt{x}$$\n",
    "for $x\\in[0,1],$\n",
    "and we want to fit it by a straight line\n",
    "$$y = mx + c.$$\n",
    "\n",
    "Find the best line, that is find the parameters $m$ and $c$, \n",
    "using each of the following three methods:\n",
    "1. Minimize the squared error $E^2 = \\int_0^1 \\left(\\sqrt{x} - c - mx\\right)^2dx$\n",
    "2. Solve using the matrix least squares formula you derived in the previous section\n",
    "    $$\n",
    "    \\begin{bmatrix}\n",
    "      1&x\n",
    "    \\end{bmatrix}\n",
    "    \\begin{bmatrix}\n",
    "      c\\\\m\n",
    "    \\end{bmatrix}\n",
    "    =\n",
    "    \\begin{bmatrix}\n",
    "      \\sqrt{x}\n",
    "    \\end{bmatrix}\n",
    "    $$\n",
    "3. Note that $x$ is not orthogonal to $1$, but show that\n",
    "    $x-\\frac{1}{2}$ is orthogonal to $1$. Find the projection of\n",
    "    $\\sqrt{x}$ onto this orthogonal basis.\n",
    " \n",
    "\n",
    "*For this course, we will rarely use inner products between functions. This question is about testing your understanding of linear algebra and calculus.*"
   ]
  },
  {
   "cell_type": "markdown",
   "metadata": {},
   "source": [
    "1. $E^2 = \\int_0^1(x^{\\frac{1}{2}}-c-mx)(x^{\\frac{1}{2}}-c-mx)dx\\\\\n",
    "= \\int_0^1 (x - 2cx^{\\frac{1}{2}} - 2mx^{\\frac{3}{2}} + 2cmx + m^2x^2 + c^2)dx\\\\\n",
    "= (\\frac{1}{2}x^2 - \\frac{4}{3}x^\\frac{3}{2} - \\frac{4}{5}mx\\frac{5}{2} + cmx^2 + \\frac{1}{3}m^2x^3 + c^2x) \\mid^{1}_{0}\\\\\n",
    "= \\frac{1}{2} - \\frac{4}{3} - \\frac{4}{5}m + cm + \\frac{1}{3}m^2 + c^2\\\\\n",
    "\\frac{dE^2}{dc} = - \\frac{4}{3} + m + 2c = 0 \\\\\n",
    "\\frac{dE^2}{dc} = - \\frac{4}{5} + c + \\frac{2}{3}m = 0\\\\\n",
    "\\Rightarrow m = \\frac{4}{5}, c = \\frac{4}{15}$\n",
    "\n",
    "2. $\n",
    "\\begin{bmatrix} c\\\\m \\end{bmatrix} = \n",
    "(\\begin{bmatrix} 1 & x \\end{bmatrix}^T \\begin{bmatrix} 1 & x \\end{bmatrix})^{-1}\\begin{bmatrix} 1 & x \\end{bmatrix}^T\\begin{bmatrix} \\sqrt{x} \\end{bmatrix}\\\\\n",
    "= \\begin{bmatrix} x & x^2 \\\\ 1 & x \\end{bmatrix}^{-1}\\begin{bmatrix} x^{\\frac{3}{2}} \\\\ x^{\\frac{1}{2}}\\end{bmatrix}\\\\\n",
    "\\Rightarrow \n",
    "\\begin{bmatrix} c^*\\\\m^* \\end{bmatrix} = \n",
    "\\begin{bmatrix} \\int_0^1xdx & \\int_0^1x^2dx \\\\ \\int_0^11dx & \\int_0^1xdx \\end{bmatrix}^{-1}\\begin{bmatrix} \\int_0^1x^{\\frac{3}{2}}dx \\\\ \\int_0^1x^{\\frac{1}{2}}dx\\end{bmatrix}\\\\\n",
    "= \\begin{bmatrix} \\frac{1}{2} & \\frac{1}{3} \\\\ 1 & \\frac{1}{2} \\end{bmatrix}^{-1}\n",
    "\\begin{bmatrix} \\frac{2}{5} \\\\ \\frac{2}{3}\\end{bmatrix}\\\\\n",
    "= \\begin{bmatrix} -6 & 4 \\\\ 12 & -6\\end{bmatrix}\\begin{bmatrix} \\frac{2}{5} \\\\ \\frac{2}{3}\\end{bmatrix}\\\\\n",
    "= \\begin{bmatrix} \\frac{4}{15} \\\\ \\frac{4}{5}\\end{bmatrix}\n",
    "$"
   ]
  },
  {
   "cell_type": "markdown",
   "metadata": {},
   "source": [
    "## (3 Points) 2C: Linear Regression (python)\n",
    "1. Let $d=3, n=100$ and generate $x_{i,j}, w_j$ and $\\epsilon_i$ i.i.d. from $\\mathcal{N}(0,1)$ using ```np.random.randn```.\n",
    "- Imagine that the $w_j$ are unknown parameters, and compute them as a function of the $x_{i,j}$ and $\\hat{y}_i$ using your least squares formula from the previous question. Hint: use the at symbol @ for matrix multiplication and ```np.linalg.solve``` for solving linear systems. In general explicit matrix inverse computations are to be avoided for reasons of numerical stability.\n",
    "- Compare your estimated $\\mathbf{w}^\\star$ with the ground truth by printing them side by side."
   ]
  },
  {
   "cell_type": "code",
   "execution_count": 11,
   "metadata": {},
   "outputs": [
    {
     "name": "stdout",
     "output_type": "stream",
     "text": [
      "w:\n",
      " [[-0.44461234]\n",
      " [ 0.93223102]\n",
      " [ 0.37187866]]\n",
      "w*:\n",
      " [[-0.51535668]\n",
      " [ 0.93058847]\n",
      " [ 0.31402142]]\n"
     ]
    }
   ],
   "source": [
    "#1.\n",
    "d = 3\n",
    "n = 100\n",
    "x = np.random.randn(n, d)\n",
    "w = np.random.randn(d, 1)\n",
    "e = np.random.randn(n, 1)\n",
    "\n",
    "#2.\n",
    "y_hat = x@w + e\n",
    "w_star = np.linalg.solve(x.T@x,x.T@y_hat)\n",
    "\n",
    "#3.\n",
    "print('w:\\n',w)\n",
    "print('w*:\\n', w_star)\n"
   ]
  }
 ],
 "metadata": {
  "kernelspec": {
   "display_name": "Python 3",
   "language": "python",
   "name": "python3"
  },
  "language_info": {
   "codemirror_mode": {
    "name": "ipython",
    "version": 3
   },
   "file_extension": ".py",
   "mimetype": "text/x-python",
   "name": "python",
   "nbconvert_exporter": "python",
   "pygments_lexer": "ipython3",
   "version": "3.6.2"
  }
 },
 "nbformat": 4,
 "nbformat_minor": 2
}
