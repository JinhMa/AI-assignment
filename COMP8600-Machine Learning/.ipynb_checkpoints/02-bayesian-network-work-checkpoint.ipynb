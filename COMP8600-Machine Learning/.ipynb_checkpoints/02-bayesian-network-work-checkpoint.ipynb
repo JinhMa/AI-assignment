{
 "cells": [
  {
   "cell_type": "markdown",
   "metadata": {},
   "source": [
    "# Inference and Reasoning with Bayesian Networks"
   ]
  },
  {
   "cell_type": "markdown",
   "metadata": {},
   "source": [
    "###### COMP4670/8600 - Introduction to Statistical Machine Learning - Assignment 2"
   ]
  },
  {
   "cell_type": "markdown",
   "metadata": {},
   "source": [
    "Name:\n",
    "\n",
    "Student ID:"
   ]
  },
  {
   "cell_type": "markdown",
   "metadata": {},
   "source": [
    "## Instructions\n",
    "\n",
    "|             |Notes|\n",
    "|:------------|:--|\n",
    "|Maximum marks| 19|\n",
    "|Weight|19% of final grade|\n",
    "|Format| Complete this ipython notebook. Do not forget to fill in your name and student ID above|\n",
    "|Submission mode| Use [wattle](https://wattle.anu.edu.au/)|\n",
    "|Formulas| All formulas which you derive need to be explained unless you use very common mathematical facts. Picture yourself as explaining your arguments to somebody who is just learning about your assignment. With other words, do not assume that the person marking your assignment knows all the background and therefore you can just write down the formulas without any explanation. It is your task to convince the reader that you know what you are doing when you derive an argument. Typeset all formulas in $\\LaTeX$.|\n",
    "| Code quality | Python code should be well structured, use meaningful identifiers for variables and subroutines, and provide sufficient comments. Please refer to the examples given in the tutorials. |\n",
    "| Code efficiency | An efficient implementation of an algorithm uses fast subroutines provided by the language or additional libraries. For the purpose of implementing Machine Learning algorithms in this course, that means using the appropriate data structures provided by Python and in numpy/scipy (e.g. Linear Algebra and random generators). |\n",
    "| Late penalty | We will not accept late assignments. You will get zero marks if you miss the deadline. Submit early, submit often. | \n",
    "| Cooperation | All assignments must be done individually. Cheating and plagiarism will be dealt with in accordance with University procedures (please see the ANU policies on [Academic Honesty and Plagiarism](http://academichonesty.anu.edu.au)). Hence, for example, code for programming assignments must not be developed in groups, nor should code be shared. You are encouraged to broadly discuss ideas, approaches and techniques with a few other students, but not at a level of detail where specific solutions or implementation issues are described by anyone. If you choose to consult with other students, you will include the names of your discussion partners for each solution. If you have any questions on this, please ask the lecturer before you act. |\n",
    "| Solution | To be presented in the tutorials. |"
   ]
  },
  {
   "cell_type": "markdown",
   "metadata": {},
   "source": [
    "$\\newcommand{\\dotprod}[2]{\\left\\langle #1, #2 \\right\\rangle}$\n",
    "$\\newcommand{\\onevec}{\\mathbb{1}}$\n",
    "$\\newcommand{\\B}[1]{\\mathbf{#1}}$\n",
    "$\\newcommand{\\Bphi}{\\boldsymbol{\\mathsf{\\phi}}}$\n",
    "$\\newcommand{\\BPhi}{\\boldsymbol{\\Phi}}$\n",
    "$\\newcommand{\\Cond}{\\,|\\,}$\n",
    "$\\newcommand{\\DNorm}[3]{\\mathcal{N}(#1\\Cond#2, #3)}$\n",
    "$\\newcommand{\\DUniform}[3]{\\mathcal{U}(#1 \\Cond #2, #3)}$\n",
    "$\\newcommand{\\Ex}[2][]{\\mathbb{E}_{#1} \\left[ #2 \\right]}$\n",
    "$\\newcommand{\\var}[1]{\\operatorname{var}[#1]}$\n",
    "$\\newcommand{\\cov}[1]{\\operatorname{cov}[#1]}$\n",
    "$\\newcommand{\\Norm}[1]{\\lVert#1\\rVert}$\n",
    "$\\DeclareMathOperator*{\\argmax}{arg\\,max}$\n",
    "\n",
    "Setting up the environment (Please evaluate this cell to activate the $\\LaTeX$ macros.)"
   ]
  },
  {
   "cell_type": "code",
   "execution_count": null,
   "metadata": {},
   "outputs": [],
   "source": [
    "# provided code, do not edit\n",
    "\n",
    "import itertools, copy\n",
    "import matplotlib.pyplot as plt\n",
    "import numpy as np\n",
    "from IPython.display import display, Image\n",
    "\n",
    "%matplotlib inline"
   ]
  },
  {
   "cell_type": "markdown",
   "metadata": {},
   "source": [
    "# 1A (1 marks) Matrix-vector identity proof\n",
    "Given a nonsingular matrix $ \\B{A} $ and a vector $ \\B{v} $ of comparable\n",
    "dimension, prove the following identity:\n",
    "$$\n",
    " (\\B{A} + \\B{v} \\B{v}^T)^{-1} \n",
    "   = \\B{A}^{-1} - \\frac{(\\B{A}^{-1} \\B{v}) (\\B{v}^T \\B{A}^{-1})}\n",
    "                       {1 + \\B{v}^T \\B{A}^{-1} \\B{v}}.\n",
    "$$"
   ]
  },
  {
   "cell_type": "markdown",
   "metadata": {},
   "source": [
    "### <span style=\"color:blue\">Answer</span>\n",
    "<i>--- replace this with your solution, add and remove code and markdown cells as appropriate ---</i>"
   ]
  },
  {
   "cell_type": "markdown",
   "metadata": {},
   "source": [
    "# 1B (3 marks) Change of variance\n",
    "In Bayesian Linear Regression, the predictive distribution \n",
    "with a simplified prior \n",
    "  $ p(\\B{w} \\Cond \\alpha) = \\DNorm{w}{\\B{0}}{\\alpha^{-1}\\B{I}}$\n",
    "is a Gaussian distribution,\n",
    "$$ \n",
    "p(t \\Cond \\B{x}, \\B{t}, \\alpha, \\beta) \n",
    "= \\mathcal{N} (t \\Cond \\B{m}_N^T \\Bphi(\\B{x}), \\sigma_N^2(\\B{x})) \n",
    "$$\n",
    "with variance\n",
    "$$\n",
    "  \\sigma_N^2(\\B{x}) = \\frac{1}{\\beta} + \\Bphi(\\B{x})^T \\B{S}_N \\Bphi(\\B{x}).\n",
    "$$\n",
    "\n",
    "After using another training pair $ \\left( \\B{x}_{N+1}, t_{N+1} \\right) $ to adapt ($=$learn) the model,\n",
    "the variance of the predictive distribution becomes\n",
    "\n",
    "$$\n",
    "  \\sigma_{N+1}^2(\\B{x}) = \\frac{1}{\\beta} + \\Bphi(\\B{x})^T \\B{S}_{N+1} \\Bphi(\\B{x}).\n",
    "$$\n",
    "\n",
    "1. Define the dimensions of the variables.\n",
    "- Prove that the uncertainties $ \\sigma_N^2(\\B{x}) $ and\n",
    "$ \\sigma_{N+1}^2(\\B{x}) $ associated with the\n",
    "predictive distributions satisfy\n",
    "$$\n",
    "  \\sigma_{N+1}^2(\\B{x}) \\le \\sigma_N^2(\\B{x}).\n",
    "$$\n",
    "*Hint: Use the Matrix-vector identity proved in the previous question.*\n",
    "- Explain the meaning of this inequality."
   ]
  },
  {
   "cell_type": "markdown",
   "metadata": {},
   "source": [
    "### <span style=\"color:blue\">Answer</span>\n",
    "<i>--- replace this with your solution, add and remove code and markdown cells as appropriate ---</i>"
   ]
  },
  {
   "cell_type": "markdown",
   "metadata": {},
   "source": [
    "# Graphical Models\n",
    "\n",
    "The remainder of the assignment is pertains to the graphical model introduced in the following sub-section. **In many of the coding questions that follow, as noted in the questions you will lose marks for insufficiently general code.**\n",
    "\n",
    "### Problem setting\n",
    "\n",
    "We are interested to predict the outcome of the election in an imaginary country, called Under Some Assumptions (USA). There are four candidates for whom the citizens can **Vote** for: Bernie, Donald, Hillary, and Ted. The citizens live in four **Region**s: north, south, east and west. We have general demographic information about the people, namely: **Gender** (male, female) and **Hand**edness (right, left). Based on surveys done by an external company, we believe that the **Region** and **Gender** affects whether the people use their **Jacket**s full time, part time or never. Surprisingly, the company told us that the **Age** of their shoes (new, worn, old) depends on how often they wear their **Jacket**s. Furthermore, the **Gender** and their preferred **Hand** affects the **Colour** of their hat (white, black). Finally, surveys say that the citizens will **Vote** based on their **Region**, **Age** of their shoes and **Colour** of their hats.\n",
    "\n",
    "The directed graphical model is depicted below:"
   ]
  },
  {
   "cell_type": "code",
   "execution_count": null,
   "metadata": {},
   "outputs": [],
   "source": [
    "# provided code, do not edit\n",
    "\n",
    "Image(url=\"https://machlearn.gitlab.io/isml2018/assignments/election_model.png\")"
   ]
  },
  {
   "cell_type": "markdown",
   "metadata": {},
   "source": [
    "### Conditional probability tables\n",
    "\n",
    "After paying the survey firm some more money, they provided the following conditional probability tables.\n",
    "\n",
    "|$p(R)$ | R=n | R=s | R=e | R=w |\n",
    "|:-----:|:--:|:--:|:--:|:--:|\n",
    "|marginal| 0.2 | 0.1 | 0.5 | 0.2 |\n",
    "\n",
    "|$p(G)$ | G=m | G=f |\n",
    "|:-----:|:--:|:--:|\n",
    "|marginal| 0.3 | 0.7 |\n",
    "\n",
    "|$p(H)$ | H=l | H=r |\n",
    "|:-----:|:--:|:--:|\n",
    "|marginal| 0.9 | 0.1 |\n",
    "\n",
    "| $p(J|R,G)$ | R=n,G=m | R=n,G=f | R=s,G=m | R=s,G=f | R=e,G=m | R=e,G=f | R=w,G=m | R=w,G=f |\n",
    "|:-----:|:--:|:--:|:--:|:--:|:--:|:--:|:--:|:--:|\n",
    "|**J**=full $\\quad$  |0.9 |0.8 |0.1 | 0.3 |0.4 |0.01| 0.02 | 0.2  |\n",
    "|**J**=part $\\quad$  |0.08|0.17|0.03| 0.35|0.05|0.01| 0.2  | 0.08 |\n",
    "|**J**=never $\\quad$ |0.02|0.03|0.87| 0.35|0.55|0.98| 0.78 | 0.72 |\n",
    "\n",
    "| $p(A|J)$ | J=full | J=part | J=never |\n",
    "|:-----:|:--:|:--:|:--:|\n",
    "|**A**=new  |0.01|0.96|0.3|\n",
    "|**A**=worn |0.98|0.03|0.5|\n",
    "|**A**=old  |0.01|0.01|0.2|\n",
    "\n",
    "| $p(C|G,H)$ | G=m,H=r | G=m,H=l | G=f,H=r | G=f,H=l |\n",
    "|:-----:|:--:|:--:|:--:|:--:|\n",
    "|**C**=black $\\quad$ |0.9 |0.83 |0.17 | 0.3 |\n",
    "|**C**=white $\\quad$ |0.1 |0.17|0.83 | 0.7 |\n",
    "\n",
    "The final conditional probability table (for the ``vote`` $V$) is given by the matrix below. The order of the rows and columns are also given below."
   ]
  },
  {
   "cell_type": "code",
   "execution_count": null,
   "metadata": {},
   "outputs": [],
   "source": [
    "# provided code, do not edit\n",
    "\n",
    "vote_column_names = ['north,new,black', 'north,new,white', 'north,worn,black', 'north,worn,white', \n",
    "                'north,old,black', 'north,old,white', 'south,new,black', 'south,new,white', \n",
    "                'south,worn,black', 'south,worn,white', 'south,old,black', 'south,old,white', \n",
    "                'east,new,black', 'east,new,white', 'east,worn,black', 'east,worn,white', \n",
    "                'east,old,black', 'east,old,white', 'west,new,black', 'west,new,white', \n",
    "                'west,worn,black', 'west,worn,white', 'west,old,black', 'west,old,white']\n",
    "\n",
    "vote_outcomes = ('bernie','donald','hillary','ted')\n",
    "\n",
    "vote_pmf_array = np.array(\n",
    "        [\n",
    "            [0.1,0.1,0.4,0.02,0.2,0.1,0.1,0.04,0.2,0.1,0.1 ,0.1,0.4 ,0.1 ,0.1,0.1 ,0.1,0.04,0.3,0.2,0.1,0.3,0.34,0.35],\n",
    "            [0.3,0.4,0.2,0.5 ,0.1,0.2,0.1,0.5 ,0.1,0.2,0.5 ,0.3,0.2 ,0.42,0.2,0.67,0.4,0.4 ,0.1,0.1,0.5,0.1,0.1 ,0.1],\n",
    "            [0.5,0.4,0.3,0.3 ,0.5,0.6,0.6,0.3 ,0.5,0.4,0.36,0.3,0.28,0.3 ,0.4,0.1 ,0.4,0.16,0.4,0.2,0.3,0.3,0.4 ,0.5],\n",
    "            [0.1,0.1,0.1,0.18,0.2,0.1,0.2,0.16,0.2,0.3,0.04,0.3,0.12,0.18,0.3,0.13,0.1,0.4 ,0.2,0.5,0.1,0.3,0.16,0.05],\n",
    "        ]\n",
    ")"
   ]
  },
  {
   "cell_type": "markdown",
   "metadata": {},
   "source": [
    "The 7 conditional probability tables in are encoded in python below. \n",
    "\n",
    "**Base your subsequent computations on these objects**."
   ]
  },
  {
   "cell_type": "code",
   "execution_count": null,
   "metadata": {},
   "outputs": [],
   "source": [
    "# provided code, do not edit\n",
    "\n",
    "class RandomVariable(object):\n",
    "    def __init__(self, name, parents, outcomes, pmf_array):\n",
    "        assert isinstance(name, str)\n",
    "        assert all(isinstance(_, RandomVariable) for _ in parents)\n",
    "        assert isinstance(outcomes, tuple)\n",
    "        assert all(isinstance(_, str) for _ in outcomes)\n",
    "        assert isinstance(parents, tuple)\n",
    "        assert isinstance(pmf_array, np.ndarray)\n",
    "        keys = tuple(map(tuple, itertools.product(*[_.outcomes for _ in parents])))\n",
    "        assert np.allclose(np.sum(pmf_array, 0), 1)\n",
    "        expected_shape = (len(outcomes), len(keys))\n",
    "        assert pmf_array.shape == expected_shape, (pmf_array.shape, expected_shape)\n",
    "        pmfs = {k: {outcome: probability for outcome, probability in zip(outcomes, probabilities)} \n",
    "                for k, probabilities in zip(keys, pmf_array.T)}\n",
    "        self.name, self.parents, self.outcomes, self.pmfs = name, parents, outcomes, pmfs\n",
    "    def __str__(self):\n",
    "        s = super(RandomVariable, self).__str__()\n",
    "        tmp = zip(['name', 'parents'], [self.name, tuple(_.name for _ in self.parents)])\n",
    "        s += '\\n\\t' + '\\n\\t'.join(['%s: %s' % (name, value) for name, value in tmp])\n",
    "        return s\n",
    "\n",
    "class BayesianNetwork(object):\n",
    "    def __init__(self, *random_variables):\n",
    "        assert all(isinstance(_, RandomVariable) for _ in random_variables)\n",
    "        self.random_variables = random_variables\n",
    "        \n",
    "\n",
    "region_pmf_array = np.array([[0.2, 0.1, 0.5, 0.2]]).T\n",
    "region = RandomVariable(\n",
    "    name='region',\n",
    "    parents=tuple(),\n",
    "    outcomes=('north', 'south', 'east', 'west'), \n",
    "    pmf_array = region_pmf_array,\n",
    ")\n",
    "\n",
    "gender_pmf_array = np.array([[0.3, 0.7]]).T\n",
    "gender = RandomVariable(\n",
    "    name='gender',\n",
    "    parents=tuple(),\n",
    "    outcomes=('male', 'female'), \n",
    "    pmf_array = gender_pmf_array\n",
    ")\n",
    "\n",
    "hand_pmf_array = np.array([[0.9, 0.1]]).T\n",
    "hand = RandomVariable(\n",
    "    name='hand',\n",
    "    parents=tuple(),\n",
    "    outcomes=('left', 'right'), \n",
    "    pmf_array = hand_pmf_array\n",
    ")\n",
    "\n",
    "jacket_pmf_array = np.array(\n",
    "        [\n",
    "            [0.9,0.8,0.1,0.3,0.4,0.01,0.02,0.2],\n",
    "            [0.08,0.17,0.03,0.35,0.05,0.01,0.2,0.08],\n",
    "            [0.02,0.03,0.87,0.35,0.55,0.98,0.78,0.72],\n",
    "        ]\n",
    "    )\n",
    "jacket = RandomVariable(\n",
    "    name='jacket',\n",
    "    parents=(region, gender),\n",
    "    outcomes=('full', 'part', 'never'), \n",
    "    pmf_array = jacket_pmf_array\n",
    ")\n",
    "\n",
    "age_pmf_array = np.array(\n",
    "        [\n",
    "            [0.01,0.96,0.3],\n",
    "            [0.98,0.03,0.5],\n",
    "            [0.01,0.01,0.2],\n",
    "        ]\n",
    "    )\n",
    "age = RandomVariable(\n",
    "    name='age',\n",
    "    parents=(jacket, ),\n",
    "    outcomes=('new', 'worn', 'old'), \n",
    "    pmf_array = age_pmf_array\n",
    ")\n",
    "\n",
    "colour_pmf_array = np.array(\n",
    "        [\n",
    "            [0.9,0.83,0.17,0.3],\n",
    "            [0.1,0.17,0.83,0.7],\n",
    "        ]\n",
    "    )\n",
    "colour = RandomVariable(\n",
    "    name='colour',\n",
    "    parents=(gender, hand),\n",
    "    outcomes=('black', 'white'),\n",
    "    pmf_array = colour_pmf_array\n",
    ")\n",
    "\n",
    "vote = RandomVariable(\n",
    "    name='vote',\n",
    "    parents=(region, age, colour),\n",
    "    outcomes=vote_outcomes,\n",
    "    pmf_array = vote_pmf_array\n",
    ")\n",
    "\n",
    "election_model = BayesianNetwork(region, gender, hand, jacket, age, colour, vote)"
   ]
  },
  {
   "cell_type": "markdown",
   "metadata": {},
   "source": [
    "# 2A (1 marks) Basics\n",
    "\n",
    "1. Compute in python the joint distribution of **Jacket**, **Region** and **Gender**. Print in the resulting distribution in a human friendly format.\n",
    "- For each random variable in ``election_model``, print the name of the random variable, the names of the children of the random variable and names of the parents of the random variable. The printout should be human friendly format. You should write your code in a modular fashion, applicable to an arbitrary ``BayesianNetwork``."
   ]
  },
  {
   "cell_type": "code",
   "execution_count": null,
   "metadata": {},
   "outputs": [],
   "source": [
    "# replace this with your solution, add and remove code and markdown cells as appropriate"
   ]
  },
  {
   "cell_type": "markdown",
   "metadata": {},
   "source": [
    "# 2B (2 marks) Variable Ordering\n",
    "\n",
    "1. Describe and explain the ancestral sampling algorithm for directed graphical models.\n",
    "- Implement a general function which determines an appropriate ordering of the variables for use in ancestral sampling for an arbitrary ``BayesianNetwork``.\n",
    "- Use your function to compute such an ordering for our ``election_model``, and print the result in a human friendly format."
   ]
  },
  {
   "cell_type": "markdown",
   "metadata": {},
   "source": [
    "### <span style=\"color:blue\">Answer</span>\n",
    "<i>--- replace this with your solution, add and remove code and markdown cells as appropriate ---</i>"
   ]
  },
  {
   "cell_type": "code",
   "execution_count": null,
   "metadata": {},
   "outputs": [],
   "source": [
    "# replace this with your solution, add and remove code and markdown cells as appropriate"
   ]
  },
  {
   "cell_type": "markdown",
   "metadata": {},
   "source": [
    "# 3A (1 marks) Sampling\n",
    "\n",
    "1. Given the ordering you have determined above, implement the sampler described in the previous question. If you were unable to compute the ordering in the previous question, use ``ordering = (hand, region, gender, colour, jacket, age, vote)``. Your sampler should work for a general ``BayesianNetwork`` for which the requisite ordering is known. Use an ``AncestralSampler`` object with the outline below.\n",
    "2. Draw a single sample for the ``election_model`` and print the result in a human friendly format."
   ]
  },
  {
   "cell_type": "code",
   "execution_count": null,
   "metadata": {},
   "outputs": [],
   "source": [
    "# provided code, do not edit, copy and paste and fill in\n",
    "\n",
    "class AncestralSampler(object):\n",
    "    \n",
    "    def __init__(self, model, ordering):\n",
    "        % todo\n",
    "        pass\n",
    "\n",
    "    def sample(self):\n",
    "        % todo\n",
    "        return result"
   ]
  },
  {
   "cell_type": "code",
   "execution_count": null,
   "metadata": {},
   "outputs": [],
   "source": [
    "# replace this with your solution, add and remove code and markdown cells as appropriate"
   ]
  },
  {
   "cell_type": "markdown",
   "metadata": {},
   "source": [
    "# 3B (2 marks) Marginals\n",
    "\n",
    "1. Calculate by hand (and show in LaTeX) the marginal distribution for **Colour**.\n",
    "- Implement a function which computes the marginal distribution of each variable. It should make use of the ordering used by your sampler. It should be applicable to an arbitrary ``BayesianNetwork``.\n",
    "- Implement a function which takes a list of samples from your sampler and computes the empirical marginal distribution of each variable.\n",
    "- For the ``election_model``, plot the theoretical and approximate marginals which you obtain using your functions along with the absolute percent error of the approximate (vs the theoretical), in the format below:"
   ]
  },
  {
   "cell_type": "raw",
   "metadata": {},
   "source": [
    "# provided, do not edit\n",
    "\n",
    "region\n",
    "outcome\texact\tapprox\terror (%)\n",
    "north\t0.20\t0.20\t0.4\n",
    "south\t0.10\t0.10\t0.1\n",
    "east\t0.50\t0.50\t0.4\n",
    "west\t0.20\t0.20\t0.6\n",
    "\n",
    "gender\n",
    "outcome\texact\tapprox\terror (%)\n",
    "male\t0.30\t0.30\t0.1\n",
    "female\t0.70\t0.70\t0.0\n",
    "\n",
    "etc."
   ]
  },
  {
   "cell_type": "code",
   "execution_count": null,
   "metadata": {},
   "outputs": [],
   "source": [
    "# replace this with your solution, add and remove code and markdown cells as appropriate"
   ]
  },
  {
   "cell_type": "markdown",
   "metadata": {},
   "source": [
    "# 3C (1 marks) Easy conditional probabilities\n",
    "\n",
    "Compute $p(X \\,|\\, G=\\text{female})$ for all variables $X$ other than $G$,\n",
    "1. Approximately, using your sampler\n",
    "- Exactly, using your marginal calculating function from the previous question. Hint: what happens if you set  $p(G=\\text{female})=1$ in your model?\n",
    "- Print the results side by side in the same format as the previous question.\n",
    "- State for which variables other than $G$ the theoretical scheme above can be used to compute such conditionals, and why. For each such variable (call it $G'$), print $p(\\text{vote} \\,|\\, G'=g')$ where $g'$ is the lexicographically first outcome value for $G'$.\n",
    "\n",
    "Your code should apply to as wide a range of ``BayesianNetwork`` objects and conditions (in this case the condition is $G=\\text{female}$) as possible. Use your judgement to determine a suitable level of generality. State and justify your assumptions."
   ]
  },
  {
   "cell_type": "code",
   "execution_count": null,
   "metadata": {
    "scrolled": false
   },
   "outputs": [],
   "source": [
    "# replace this with your solution, add and remove code and markdown cells as appropriate"
   ]
  },
  {
   "cell_type": "markdown",
   "metadata": {},
   "source": [
    "### <span style=\"color:blue\">Answer</span>\n",
    "<i>--- replace this with your solution, add and remove code and markdown cells as appropriate ---</i>"
   ]
  },
  {
   "cell_type": "code",
   "execution_count": null,
   "metadata": {},
   "outputs": [],
   "source": [
    "# replace this with your solution, add and remove code and markdown cells as appropriate"
   ]
  },
  {
   "cell_type": "markdown",
   "metadata": {},
   "source": [
    "# 3D (2 marks) General conditional probabilities\n",
    "\n",
    "1. Write down the expression of the joint probability $p(R,G,H,J,A,C,V)$ in terms of the conditional probabilities in the graphical model.\n",
    "- Derive $p(G = male \\,|\\, V = Donald)$ in terms of the conditional probabilities of the graphical model.\n",
    "- Compute and display in a human friendly format the conditional distributions $p(G=g \\,|\\, V=v)$ for all genders $g$ and votes $v$, by naively marginalising the other variables (other than $G$ and $V$, that is).\n",
    "- Compute and display in a human friendly format the conditional distributions $p(R=r \\,|\\, V=v)$ for all regions $r$ and votes $v$, by naively marginalising the other variables (other than $R$ and $V$, that is).\n",
    "\n",
    "Your code be applicable to arbitrary ``BayesianNetwork`` instances (in this case the instance is ``election_model``), conditioning variables (in this case the conditioning variable is $V$), and variables of interest (in this case the variables of interest are $G$ and $R$)."
   ]
  },
  {
   "cell_type": "markdown",
   "metadata": {
    "collapsed": true
   },
   "source": [
    "### <span style=\"color:blue\">Answer</span>\n",
    "<i>--- replace this with your solution, add and remove code and markdown cells as appropriate ---</i>"
   ]
  },
  {
   "cell_type": "code",
   "execution_count": null,
   "metadata": {},
   "outputs": [],
   "source": [
    "# replace this with your solution, add and remove code and markdown cells as appropriate"
   ]
  },
  {
   "cell_type": "markdown",
   "metadata": {},
   "source": [
    "# 4A (1 marks) Variable elimination\n",
    "\n",
    "Denote the graphical model consider thus far $\\mathcal{M}$.\n",
    "\n",
    "1. Derive $p(R,G,J,A,C,V)$ by marginalising by hand over $H$ in $\\mathcal{M}$. \n",
    "- Describe how the structure (connectivity) of the new graphical model (call it $\\mathcal{M}_H$) over all variables other than $H$ changes after eliminating $H$ in this way.\n",
    "- Describe which conditional(s) in the new graphical model differ from the original model.\n",
    "- Encode the $\\mathcal{M}_H$ in python similarly to $\\mathcal{M}$. The code need not be general and may be in large part copy-pasted from the original ``election_model`` definition above."
   ]
  },
  {
   "cell_type": "markdown",
   "metadata": {},
   "source": [
    "### <span style=\"color:blue\">Answer</span>\n",
    "<i>--- replace this with your solution, add and remove code and markdown cells as appropriate ---</i>"
   ]
  },
  {
   "cell_type": "code",
   "execution_count": null,
   "metadata": {},
   "outputs": [],
   "source": [
    "# replace this with your solution, add and remove code and markdown cells as appropriate"
   ]
  },
  {
   "cell_type": "markdown",
   "metadata": {},
   "source": [
    "# 4B (1 marks) General estimation of conditional probabilities (revisited)\n",
    "\n",
    "1. As you did earlier, compute and display in a human friendly format the conditional distributions $p(G=g \\,|\\, V=v)$ for all genders $g$ and votes $v$, by naively marginalising the other variables (other than $G$ and $V$, that is). This time however, do so using $\\mathcal{M}_H$ rather than $\\mathcal{M}$. You should re-use as much code as possible from your previous solution for the $\\mathcal{M}$ case.\n",
    "- Describe the computational advantages of using $\\mathcal{M}_H$ in this way rather than $\\mathcal{M}$."
   ]
  },
  {
   "cell_type": "code",
   "execution_count": null,
   "metadata": {},
   "outputs": [],
   "source": [
    "# replace this with your solution, add and remove code and markdown cells as appropriate"
   ]
  },
  {
   "cell_type": "markdown",
   "metadata": {},
   "source": [
    "### <span style=\"color:blue\">Answer</span>\n",
    "<i>--- replace this with your solution, add and remove code and markdown cells as appropriate ---</i>"
   ]
  },
  {
   "cell_type": "markdown",
   "metadata": {},
   "source": [
    "# 5A (2 marks) Theoretical Conditional Independence\n",
    "\n",
    "1. Write a function ``conditionally_independent(model, X, Y, Z)`` which returns the value of $X\\perp Y \\,\\,|\\,\\,Z$ for the ``BayesianNetwork`` passed as ``model``. The function should be defined as below; $X$ and $Y$ should be random variables, and $Z$ a set of random variables. The code should be generally applicable to an arbitrary ``BayesianNetwork``.\n",
    "- Explain how your ``conditionally_independent`` function works.\n",
    "- Run ``conditionally_independent(election_model, X, Y, Z)`` for $Z$ being each possible single element set containing a random variable from ``election_model`` as well as the empty set (i.e. {``age``}, {``colour``}, ..., {``vote``}, $\\varnothing$) . For each such $Z$, make an image (2D numpy array) where $X$ is the row (and ranges over all random variables in ``election_model``) and $Y$ the column (similarly ranging over all random variables). Visualise the results using the ``plot_image`` function below, setting ``the_title`` to the name of the random variable in $Z$, or ``'empty'`` for the case where $Z$ is the empty set.\n",
    "- Provide a concise discussion of some interesting features of your plots.\n",
    "\n",
    "Order all plots (rows, columns, figures) alphabetically by the name of the random variable, where possible."
   ]
  },
  {
   "cell_type": "code",
   "execution_count": null,
   "metadata": {},
   "outputs": [],
   "source": [
    "# provided code, do not edit, appropriately copy and complete in another cell\n",
    "\n",
    "if False:\n",
    "    def conditionally_independent(model, X, Y, Z):\n",
    "        assert isinstance(model, BayesianNetwork)\n",
    "        assert isinstance(X, RandomVariable)\n",
    "        assert isinstance(Z, set)\n",
    "        % to do"
   ]
  },
  {
   "cell_type": "code",
   "execution_count": null,
   "metadata": {},
   "outputs": [],
   "source": [
    "# provided code, do not edit\n",
    "\n",
    "def plot_image(image, labels, the_title):\n",
    "    assert isinstance(image, np.ndarray)\n",
    "    assert isinstance(labels, list)\n",
    "    assert all(isinstance(_, str) for _ in labels)\n",
    "    assert image.shape == (len(labels), len(labels))\n",
    "    assert labels == sorted(labels)\n",
    "    assert isinstance(the_title, str)\n",
    "    im = plt.imshow(image)\n",
    "    plt.gca().set_xticklabels(['']+labels, rotation=90)    \n",
    "    plt.gca().set_yticklabels(['']+labels)\n",
    "    plt.title(the_title)\n",
    "    divider = make_axes_locatable(plt.gca())\n",
    "    cax = divider.append_axes(\"right\", size=\"5%\", pad=0.05)\n",
    "    plt.colorbar(im, cax=cax)"
   ]
  },
  {
   "cell_type": "markdown",
   "metadata": {},
   "source": [
    "### <span style=\"color:blue\">Answer</span>\n",
    "<i>--- replace this with your solution, add and remove code and markdown cells as appropriate ---</i>"
   ]
  },
  {
   "cell_type": "code",
   "execution_count": null,
   "metadata": {},
   "outputs": [],
   "source": [
    "# replace this with your solution, add and remove code and markdown cells as appropriate"
   ]
  },
  {
   "cell_type": "code",
   "execution_count": null,
   "metadata": {
    "scrolled": false
   },
   "outputs": [],
   "source": [
    "# replace this with your solution, add and remove code and markdown cells as appropriate"
   ]
  },
  {
   "cell_type": "markdown",
   "metadata": {},
   "source": [
    "### <span style=\"color:blue\">Answer</span>\n",
    "<i>--- replace this with your solution, add and remove code and markdown cells as appropriate ---</i>"
   ]
  },
  {
   "cell_type": "markdown",
   "metadata": {},
   "source": [
    "# 5B (2 marks) Estimated Conditional Independence from Samples\n",
    "\n",
    "1. Suggest and justify a heuristic \"conditional independence score\"; include any relevant background in your discussion. This score should be a function of a set of samples from a directed graphical model (with categorical variables), and should not make use of knowledge of the directed graphical model structure or parameters. The score provide indicate somehow whether $X\\perp Y \\,\\, | \\,\\,Z$.\n",
    "- Implement your score in an efficient and suitably general manner. For simplicity, your score should be ``np.nan`` if any of $X,Y$ or an element of $Z$ are the same (nans will appear white in your plotted image). Run the code on samples from the ``election_model``. **Your code should run in less than about three minutes; if necessary speed it up by making the implementation more efficient and/or reducing the number of samples used.**\n",
    "- Visualise your score alongside the (binary valued) conditional independences that you computed and plotted in the previous question (for the same range of values of $Z$, $X$ and $Y$). Use ``plot_two_images`` in the code fragment below. Order all plots (rows, columns, figures) alphabetically by the name of the random variable, where possible.\n",
    "- Identify the highest and lowest heuristic scoring cases (a case being an $X,Y,Z$ triple) for both the theoretically conditionally independent and the **not** theoretically conditionally independent cases. That is four examples in total. Print the cases along with their heurstic scores, and explain your intuition for what you see.\n",
    "\n"
   ]
  },
  {
   "cell_type": "code",
   "execution_count": null,
   "metadata": {},
   "outputs": [],
   "source": [
    "# provided code, do not edit\n",
    "\n",
    "def plot_two_images(image1, image2, labels, the_title):\n",
    "    plt.figure(figsize=(12, 5))\n",
    "    plt.subplot(1,2,1)\n",
    "    plot_image(image1, labels, '')\n",
    "    plt.subplot(1,2,2)\n",
    "    plot_image(image2, labels, '')\n",
    "    plt.suptitle(the_title)"
   ]
  },
  {
   "cell_type": "markdown",
   "metadata": {},
   "source": [
    "### <span style=\"color:blue\">Answer</span>\n",
    "<i>--- replace this with your solution, add and remove code and markdown cells as appropriate ---</i>"
   ]
  },
  {
   "cell_type": "code",
   "execution_count": null,
   "metadata": {},
   "outputs": [],
   "source": [
    "# replace this with your solution, add and remove code and markdown cells as appropriate"
   ]
  },
  {
   "cell_type": "code",
   "execution_count": null,
   "metadata": {
    "scrolled": false
   },
   "outputs": [],
   "source": [
    "# replace this with your solution, add and remove code and markdown cells as appropriate"
   ]
  },
  {
   "cell_type": "code",
   "execution_count": null,
   "metadata": {
    "scrolled": false
   },
   "outputs": [],
   "source": [
    "# replace this with your solution, add and remove code and markdown cells as appropriate"
   ]
  },
  {
   "cell_type": "code",
   "execution_count": null,
   "metadata": {},
   "outputs": [],
   "source": []
  }
 ],
 "metadata": {
  "kernelspec": {
   "display_name": "Python 3",
   "language": "python",
   "name": "python3"
  },
  "language_info": {
   "codemirror_mode": {
    "name": "ipython",
    "version": 3
   },
   "file_extension": ".py",
   "mimetype": "text/x-python",
   "name": "python",
   "nbconvert_exporter": "python",
   "pygments_lexer": "ipython3",
   "version": "3.5.2"
  }
 },
 "nbformat": 4,
 "nbformat_minor": 1
}
