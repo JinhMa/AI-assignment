{
 "cells": [
  {
   "cell_type": "markdown",
   "metadata": {},
   "source": [
    "# Learning by updating parameters"
   ]
  },
  {
   "cell_type": "markdown",
   "metadata": {},
   "source": [
    "###### COMP4670/8600 - Introduction to Statistical Machine Learning - Assignment 1"
   ]
  },
  {
   "cell_type": "markdown",
   "metadata": {},
   "source": [
    "Name:\n",
    "\n",
    "Student ID:"
   ]
  },
  {
   "cell_type": "markdown",
   "metadata": {},
   "source": [
    "## Instructions\n",
    "\n",
    "|             |Notes|\n",
    "|:------------|:--|\n",
    "|Maximum marks| 19|\n",
    "|Weight|19% of final grade|\n",
    "|Format| Complete this ipython notebook. Do not forget to fill in your name and student ID above|\n",
    "|Submission mode| Use [wattle](https://wattle.anu.edu.au/)|\n",
    "|Formulas| All formulas which you derive need to be explained unless you use very common mathematical facts. Picture yourself as explaining your arguments to somebody who is just learning about your assignment. With other words, do not assume that the person marking your assignment knows all the background and therefore you can just write down the formulas without any explanation. It is your task to convince the reader that you know what you are doing when you derive an argument. Typeset all formulas in $\\LaTeX$.|\n",
    "| Code quality | Python code should be well structured, use meaningful identifiers for variables and subroutines, and provide sufficient comments. Please refer to the examples given in the tutorials. |\n",
    "| Code efficiency | An efficient implementation of an algorithm uses fast subroutines provided by the language or additional libraries. For the purpose of implementing Machine Learning algorithms in this course, that means using the appropriate data structures provided by Python and in numpy/scipy (e.g. Linear Algebra and random generators). |\n",
    "| Late penalty | We will not accept late assignments. You will get zero marks if you miss the deadline. Submit early, submit often. | \n",
    "| Cooperation | All assignments must be done individually. Cheating and plagiarism will be dealt with in accordance with University procedures (please see the ANU policies on [Academic Honesty and Plagiarism](http://academichonesty.anu.edu.au)). Hence, for example, code for programming assignments must not be developed in groups, nor should code be shared. You are encouraged to broadly discuss ideas, approaches and techniques with a few other students, but not at a level of detail where specific solutions or implementation issues are described by anyone. If you choose to consult with other students, you will include the names of your discussion partners for each solution. If you have any questions on this, please ask the lecturer before you act. |\n",
    "| Solution | To be presented in the tutorials. |"
   ]
  },
  {
   "cell_type": "markdown",
   "metadata": {},
   "source": [
    "$\\newcommand{\\RR}{\\mathbb{R}}$\n",
    "\n",
    "$\\newcommand{\\dotprod}[2]{\\left\\langle #1, #2 \\right\\rangle}$\n",
    "$\\newcommand{\\onevec}{\\mathbb{1}}$\n",
    "$\\newcommand{\\B}[1]{\\mathbf{#1}}$\n",
    "$\\newcommand{\\Bphi}{\\boldsymbol{\\mathsf{\\phi}}}$\n",
    "$\\newcommand{\\BPhi}{\\boldsymbol{\\Phi}}$\n",
    "$\\newcommand{\\Cond}{\\,|\\,}$\n",
    "$\\newcommand{\\DNorm}[3]{\\mathcal{N}(#1\\Cond#2, #3)}$\n",
    "$\\newcommand{\\DUniform}[3]{\\mathcal{U}(#1 \\Cond #2, #3)}$\n",
    "$\\newcommand{\\Ex}[2][]{\\mathbb{E}_{#1} \\left[ #2 \\right]}$\n",
    "$\\newcommand{\\var}[1]{\\operatorname{var}[#1]}$\n",
    "$\\newcommand{\\cov}[1]{\\operatorname{cov}[#1]}$\n",
    "$\\newcommand{\\Norm}[1]{\\lVert#1\\rVert}$\n",
    "$\\DeclareMathOperator*{\\argmax}{arg\\,max}$\n",
    "\n",
    "Setting up the environment (Please evaluate this cell to activate the $\\LaTeX$ macros.)"
   ]
  },
  {
   "cell_type": "code",
   "execution_count": null,
   "metadata": {},
   "outputs": [],
   "source": [
    "import matplotlib.pyplot as plt\n",
    "import numpy as np\n",
    "\n",
    "%matplotlib inline"
   ]
  },
  {
   "cell_type": "markdown",
   "metadata": {},
   "source": [
    "## Part 1 - (2 points) - Maximum likelihood (ML) and Maximum A Posteriori (MAP)\n",
    "We assume data samples $X_n = \\{ x_1,\\dots,x_n \\}$ are generated i.i.d. from a uniform distribution\n",
    "$ \\DUniform{x}{0}{\\theta} $ between $ 0 $ and an unknown positive parameter $\\theta$:\n",
    "$$\n",
    "   p(x \\Cond \\theta) = \\DUniform{x}{0}{\\theta} = \n",
    "\\begin{cases}\n",
    " 1/\\theta & 0 \\leq x \\leq \\theta \\\\\n",
    " 0        & \\textrm{otherwise} \\\\\n",
    "\\end{cases}\n",
    "$$\n",
    "\n",
    "Assume the data samples $ X_4 = \\{ 5, 7, 3, 9 \\}$ have been observed.\n",
    "\n",
    "1. Calculate $\\theta_{ML} = \\argmax_{\\theta} p(X_4 \\Cond \\theta)$, \n",
    "the maximum likelihood estimate of $\\theta$ for the observed data.\n",
    "\n",
    "- Calculate $p(\\theta \\Cond X_4)$, the posterior distribution of $\\theta$ given that the \n",
    "data $ X_4 $ have been observed and \n",
    "the initial distribution for $\\theta$ is given as $p(\\theta) = p(\\theta \\Cond X_0) = \\DUniform{x}{0}{10}$.\n",
    "\n",
    "- Calculate $\\theta_{MAP} = \\argmax_{\\theta} p(\\theta \\Cond X_4)$, the maximum a posteriori\n",
    "estimate of $\\theta$ given the data $ X_4 $ and the initial distribution $p(\\theta)$ as in the previous question.\n",
    "\n",
    "- Calculate $\\theta_{ML}$, $p(\\theta \\Cond X_4)$, and $\\theta_{MAP}$ for the case that the observed data are $ X_4 = \\{ 9, 5, 7, 3 \\}$ instead of the $ X_4 = \\{ 5, 7, 3, 9 \\}$ given above."
   ]
  },
  {
   "cell_type": "markdown",
   "metadata": {},
   "source": [
    "### <span style=\"color:blue\">Answer</span>\n",
    "<i>--- replace this with your solution ---</i>"
   ]
  },
  {
   "cell_type": "markdown",
   "metadata": {},
   "source": [
    "## Part 2 - Bayesian Sequential Update of the Posterior\n",
    "\n",
    "Consider the following data simulator, which returns one single $(x_n, t_n)$ pair, where $x_n\\in\\RR$ and $t_n\\in\\RR$."
   ]
  },
  {
   "cell_type": "code",
   "execution_count": null,
   "metadata": {},
   "outputs": [],
   "source": [
    "def sim_one_example(a0=-0.2, a1=0.8, sigma2=0.04):\n",
    "    \"\"\"Generate one single (x,t) pair,\n",
    "    where x is drawn uniformly in [-1, 1]\n",
    "    and y(x,a) = a0 + a1 * x, and Gaussian noise with variance 0.04 is added.\n",
    "    t = N(x | y(x,a), 0.04)\n",
    "    \"\"\"\n",
    "    x = np.random.uniform(-1, 1)\n",
    "    y = a0 + a1 * x\n",
    "    t = np.random.normal(y, sigma2)\n",
    "    return x, t"
   ]
  },
  {
   "cell_type": "markdown",
   "metadata": {},
   "source": [
    "Using the simulator as above, we will implement the Bayesian Sequential Update algorithm of **Section 3.3.1** of the course textbook, to generate **Figure 3.7** in the textbook."
   ]
  },
  {
   "cell_type": "markdown",
   "metadata": {},
   "source": [
    "### 2A - (3 points) - Define, Plot and Explain\n",
    "\n",
    "Suppose that we estimate a weight vector $\\mathbf{w}$ from data using a Gaussian prior and Gaussian likelihood. Write down (with appropriate definitions) the equations of the prior and posterior distributions estimating $\\mathbf{w}$ from $N$ data points. Assume that the prior is zero-mean and has a diagonal covariance matrix with precision $\\alpha$.\n"
   ]
  },
  {
   "cell_type": "markdown",
   "metadata": {},
   "source": [
    "### <span style=\"color:blue\">Answer</span>\n",
    "<i>--- replace this with your solution ---</i>"
   ]
  },
  {
   "cell_type": "markdown",
   "metadata": {},
   "source": [
    "Plot the following 9 figures in 3 rows by 3 columns. The columns are the likelihood, the prior/posterior, and 5 samples from the prior/posterior distribution. Also plot on the rightmost plot the data. The first row should depict the situation before observing any data, and the following two rows depict the situation after observing the first and second (example, label) pair respectively. Refer to **Figure 3.7** in the textbook.\n",
    "\n",
    "Initialise the prior precision to $\\alpha = 2.0$ and the likelihood precision to $\\beta = 25.0$.\n",
    "\n",
    "Set the random seed for reproducibility, by passing your student ID to the function ```np.random.seed```."
   ]
  },
  {
   "cell_type": "code",
   "execution_count": null,
   "metadata": {},
   "outputs": [],
   "source": [
    "# replace this with your solution"
   ]
  },
  {
   "cell_type": "markdown",
   "metadata": {},
   "source": [
    "Describe what is happening in the above plots. At a minimum, explain why the likelihood function makes sense in light of the sampled data point, and why the posterior makes sense."
   ]
  },
  {
   "cell_type": "markdown",
   "metadata": {},
   "source": [
    "### <span style=\"color:blue\">Answer</span>\n",
    "<i>--- replace this with your solution ---</i>"
   ]
  },
  {
   "cell_type": "markdown",
   "metadata": {},
   "source": [
    "### 2B - (2 points) - Interpret the Result\n",
    "\n",
    "After presenting your algorithm with 13 samples, plot the likelihood, posterior and 5 samples from the prior/posterior distribution. Also plot all your samples on the rightmost plot. This is similar to the bottom row of **Figure 3.7** in the textbook. Set the random seed to your student number once again."
   ]
  },
  {
   "cell_type": "code",
   "execution_count": null,
   "metadata": {},
   "outputs": [],
   "source": [
    "# replace this with your solution"
   ]
  },
  {
   "cell_type": "markdown",
   "metadata": {},
   "source": [
    "By referring to the figures above, explain why your algorithm has reached a sensible solution."
   ]
  },
  {
   "cell_type": "markdown",
   "metadata": {},
   "source": [
    "### <span style=\"color:blue\">Answer</span>\n",
    "<i>--- replace this with your solution ---</i>"
   ]
  },
  {
   "cell_type": "markdown",
   "metadata": {},
   "source": [
    "In the question above, we suggested setting $\\alpha = 2.0$. Discuss what would happen for:\n",
    "\n",
    "1. $\\alpha = 200$ \n",
    "2. $\\alpha = 0.02$\n",
    "\n",
    "You should use some plots as evidence for your discussion.\n"
   ]
  },
  {
   "cell_type": "code",
   "execution_count": null,
   "metadata": {},
   "outputs": [],
   "source": [
    "# replace this with your solution"
   ]
  },
  {
   "cell_type": "markdown",
   "metadata": {},
   "source": [
    "### <span style=\"color:blue\">Answer</span>\n",
    "<i>--- replace this with your solution ---</i>"
   ]
  },
  {
   "cell_type": "markdown",
   "metadata": {},
   "source": [
    "## Part 3: Stochastic Gradient Descent\n",
    "\n",
    "In this question, we derive solutions for regularized least squares linear regression and regularized logistic regression using stochastic gradient descent. We will consider what is known as the streaming setting; we will only make a single pass through a dataset."
   ]
  },
  {
   "cell_type": "markdown",
   "metadata": {},
   "source": [
    "### 3A - (1 point) - Describe Stochastic Gradient Descent\n",
    "\n",
    "Describe in a few sentences what is stochastic gradient descent. Make sure you include the equation of the update rule."
   ]
  },
  {
   "cell_type": "markdown",
   "metadata": {},
   "source": [
    "### <span style=\"color:blue\">Answer</span>\n",
    "<i>--- replace this with your solution ---</i>"
   ]
  },
  {
   "cell_type": "markdown",
   "metadata": {},
   "source": [
    "### 3B - (1 point) - Least Squares Linear Regression\n",
    "\n",
    "Consider the problem of batch gradient descent, where we use the whole dataset. Write down the equation of the cost function of sum of squared error linear regression using $\\frac{\\lambda}{2} \\B{w}^\\top \\B{w}$ as a regularizer. \n",
    "\n",
    "Derive the contribution of a single training example to the gradient of the cost function. Include the gradient of the regularisation term in this gradient contribution.\n",
    "\n",
    "Implement the cost function and gradient contribution you just derived. Also implement the predictor corresponding to a given parameter vector."
   ]
  },
  {
   "cell_type": "markdown",
   "metadata": {
    "collapsed": true
   },
   "source": [
    "### <span style=\"color:blue\">Answer</span>\n",
    "<i>--- replace this with your solution ---</i>"
   ]
  },
  {
   "cell_type": "code",
   "execution_count": null,
   "metadata": {},
   "outputs": [],
   "source": [
    "# replace this with your solution"
   ]
  },
  {
   "cell_type": "markdown",
   "metadata": {},
   "source": [
    "### 3C - (1 point) - Logistic Regression\n",
    "\n",
    "Write down the cost function of logistic regression using sum of cross-entropy and $\\frac{\\lambda}{2} \\B{w}^\\top \\B{w}$ as a regulariser. \n",
    "\n",
    "Derive the contribution of a single training example to the gradient of the cost function. Include the gradient of the regularisation term in this gradient contribution.\n",
    "\n",
    "Implement the cost function and gradient contribution you just derived. Also implement the predictor corresponding to a given parameter vector. Also implement the predictor corresponding to a given parameter vector, which predicts 1 or 0 by thresholding the outputs of the sigmoid function."
   ]
  },
  {
   "cell_type": "markdown",
   "metadata": {
    "collapsed": true
   },
   "source": [
    "### <span style=\"color:blue\">Answer</span>\n",
    "<i>--- replace this with your solution ---</i>"
   ]
  },
  {
   "cell_type": "code",
   "execution_count": null,
   "metadata": {},
   "outputs": [],
   "source": [
    "# replace this with your solution"
   ]
  },
  {
   "cell_type": "markdown",
   "metadata": {},
   "source": [
    "### 3D - (1 point) - Implement Stochastic Gradient Descent\n",
    "\n",
    "Implement stochastic gradient descent for a general gradient contribution function.\n",
    "\n",
    "The function should store the values of:\n",
    "\n",
    "1. The norm of the gradient\n",
    "2. The value of the parameters\n",
    "\n",
    "at each iteration. *Note that this is a memory inefficient requirement.*\n",
    "\n",
    "At the end of the iterations, return the values."
   ]
  },
  {
   "cell_type": "code",
   "execution_count": null,
   "metadata": {},
   "outputs": [],
   "source": [
    "# replace this with your solution"
   ]
  },
  {
   "cell_type": "markdown",
   "metadata": {},
   "source": [
    "### 3E - (3 points) - Solve Least Squares Regression and Logistic Regression\n",
    "\n",
    "In this section, you have to make some design choices. Please specify these choices clearly and justify why you made these choices. Sample 100 (example, label) pairs from the simulator above and set aside as a test set. Sequentially sample 100 additional (example, label) pairs from the simulator above as a training set. \n",
    "\n",
    "#### Least Squares Regression\n",
    "\n",
    "Use the gradient you implemented in **3B** above as arguments to your stochastic gradient descent algorithm. Plot the following two plots:\n",
    "\n",
    "1. The value of the sum of squared error cost function on the test set after each sample\n",
    "2. The value of the test root mean squared error after each sample\n",
    "\n",
    "#### Logistic Regression\n",
    "\n",
    "Use the gradient you implemented in **3C** above as arguments to your stochastic gradient descent algorithm.\n",
    "If the target is positive, then use it as a binary label that is positive. Otherwise treat it as a negative label. Plot the following two plots:\n",
    "\n",
    "1. The value of the sum of cross-entropy cost function on the test set after each sample\n",
    "2. The value of the accuracy on the test set after each sample.\n",
    "\n",
    "### Test for Correctness\n",
    "\n",
    "Write two tests to check that your solutions above makes sense. Do not use the fact that you know the true value of the parameters (as this is never available to you in practice)."
   ]
  },
  {
   "cell_type": "code",
   "execution_count": null,
   "metadata": {},
   "outputs": [],
   "source": [
    "# replace this with your solution"
   ]
  },
  {
   "cell_type": "code",
   "execution_count": null,
   "metadata": {},
   "outputs": [],
   "source": [
    "# replace this with your solution"
   ]
  },
  {
   "cell_type": "markdown",
   "metadata": {},
   "source": [
    "### <span style=\"color:blue\">Answer</span>\n",
    "<i>--- replace this with your solution ---</i>"
   ]
  },
  {
   "cell_type": "markdown",
   "metadata": {},
   "source": [
    "## Part 2: Analysis of algorithms\n",
    "\n",
    "### (5 points) Incremental EM\n",
    "$\\newcommand{\\B}[1]{\\mathbf{#1}}$\n",
    "$\\newcommand{\\Btheta}{\\boldsymbol{\\mathsf{\\theta}}}$\n",
    "$\\newcommand{\\Cond}{\\,|\\,}$\n",
    "$\\newcommand{\\DNorm}[3]{\\mathcal{N}(#1\\Cond#2,#3)}$\n",
    "$\\newcommand{\\DUniform}[3]{\\mathcal{U}(#1\\Cond#2,#3)}$\n",
    "$\\newcommand{\\dd}{\\;\\mathrm{d}}$\n",
    "Given are $N$ independent data points $\\B{x}_1,\\dots,\\B{x}_N$ and a Gaussian mixture model with corresponding latent variables $\\B{z}_1,\\dots,\\B{z}_N$. As the joint distribution $p(\\B{X}, \\B{Z} \\Cond \\Btheta)$ factorises over the data points, one can develop an incremental form of EM in which only one data point is processed in each E- and M-step if the mixture component is a member of the exponential family. \n",
    "\n",
    "Consider a mixture of Gaussians. The update for the effective number of data points $N_k$ after having seen data point $\\B{x}_m$ can be derived as\n",
    "$$\n",
    "  N_k^\\text{new} = N_k^\\text{old} + \\gamma^\\text{new}(z_{mk}) - \\gamma^\\text{old}(z_{mk})\n",
    "$$\n",
    "\n",
    "1. Define $\\gamma^\\text{new}(z_{mk})$.\n",
    "- Prove the above given result for the update of $N_k$.\n",
    "- Develop the update formulas for the other parameters of the Gaussian mixture model: \n",
    "  - mixture coefficients $\\mathsf{\\pi}_k$, \n",
    "  - means $\\mathsf{\\mu}_k$, and \n",
    "  - covariances $\\mathsf{\\Sigma}_k$.\n",
    "- Define and explain two properties of this incremental EM algorithm which make it preferable method over batch EM."
   ]
  },
  {
   "cell_type": "markdown",
   "metadata": {},
   "source": [
    "### <span style=\"color:blue\">Answer</span>\n",
    "<i>--- replace this with your solution ---</i>"
   ]
  },
  {
   "cell_type": "code",
   "execution_count": null,
   "metadata": {},
   "outputs": [],
   "source": []
  }
 ],
 "metadata": {
  "kernelspec": {
   "display_name": "Python 3",
   "language": "python",
   "name": "python3"
  },
  "language_info": {
   "codemirror_mode": {
    "name": "ipython",
    "version": 3
   },
   "file_extension": ".py",
   "mimetype": "text/x-python",
   "name": "python",
   "nbconvert_exporter": "python",
   "pygments_lexer": "ipython3",
   "version": "3.5.2"
  }
 },
 "nbformat": 4,
 "nbformat_minor": 1
}
