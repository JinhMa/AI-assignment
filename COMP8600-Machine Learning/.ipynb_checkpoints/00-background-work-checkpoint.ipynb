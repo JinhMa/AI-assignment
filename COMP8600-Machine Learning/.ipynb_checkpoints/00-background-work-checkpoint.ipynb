{
 "cells": [
  {
   "cell_type": "markdown",
   "metadata": {},
   "source": [
    "# Preliminary / Background Material"
   ]
  },
  {
   "cell_type": "markdown",
   "metadata": {},
   "source": [
    "###### COMP4670/8600 - Introduction to Statistical Machine Learning - Assignment 0 (due date: see the course [webpage](http://machlearn.gitlab.io/isml2018/) )"
   ]
  },
  {
   "cell_type": "markdown",
   "metadata": {},
   "source": [
    "Name:\n",
    "\n",
    "Student ID:"
   ]
  },
  {
   "cell_type": "markdown",
   "metadata": {},
   "source": [
    "## Instructions\n",
    "\n",
    "|             |Notes|\n",
    "|:------------|:--|\n",
    "|Maximum marks| 20|\n",
    "|Weight|2% of final grade|\n",
    "|Format| Complete this ipython notebook. Do not forget to fill in your name and student ID above|\n",
    "|Submission mode| Use [wattle](https://wattle.anu.edu.au/)|\n",
    "|Formulas| All formulas which you derive need to be explained unless you use very common mathematical facts. Picture yourself as explaining your arguments to somebody who is just learning about your assignment. With other words, do not assume that the person marking your assignment knows all the background and therefore you can just write down the formulas without any explanation. It is your task to convince the reader that you know what you are doing when you derive an argument. Typeset all formulas in $\\LaTeX$.|\n",
    "| Code quality | Python code should be well structured, use meaningful identifiers for variables and subroutines, and provide sufficient comments. Please refer to the examples given in the tutorials. |\n",
    "| Code efficiency | An efficient implementation of an algorithm uses fast subroutines provided by the language or additional libraries. For the purpose of implementing Machine Learning algorithms in this course, that means using the appropriate data structures provided by Python and in numpy/scipy (e.g. Linear Algebra and random generators). |\n",
    "| Late penalty | We will not accept late assignments. You will get zero marks if you miss the deadline. Submit early, submit often. | \n",
    "| Coorperation | All assignments must be done individually. Cheating and plagiarism will be dealt with in accordance with University procedures (please see the ANU policies on [Academic Honesty and Plagiarism](http://academichonesty.anu.edu.au)). Hence, for example, code for programming assignments must not be developed in groups, nor should code be shared. You are encouraged to broadly discuss ideas, approaches and techniques with a few other students, but not at a level of detail where specific solutions or implementation issues are described by anyone. If you choose to consult with other students, you will include the names of your discussion partners for each solution. If you have any questions on this, please ask the lecturer before you act. |\n"
   ]
  },
  {
   "cell_type": "markdown",
   "metadata": {},
   "source": [
    "$\\newcommand{\\dotprod}[2]{\\left\\langle #1, #2 \\right\\rangle}$\n",
    "$\\newcommand{\\onevec}{\\mathbb{1}}$\n",
    "\n",
    "Setting up the environment"
   ]
  },
  {
   "cell_type": "code",
   "execution_count": null,
   "metadata": {},
   "outputs": [],
   "source": [
    "import matplotlib.pyplot as plt\n",
    "from scipy.stats import norm\n",
    "import numpy as np\n",
    "\n",
    "%matplotlib inline"
   ]
  },
  {
   "cell_type": "markdown",
   "metadata": {},
   "source": [
    "# Part 1: Probability\n",
    "## (5 points) 1A: Basic Rules\n",
    "1. State the sum rule of probability.\n",
    "- State the product rule of probability.\n",
    "- State Bayes' rule.\n",
    "- Prove Bayes' rule, justifying each step."
   ]
  },
  {
   "cell_type": "markdown",
   "metadata": {},
   "source": [
    "1. \n",
    "2. \n",
    "3. $P(H|D)$\n",
    "4. \n"
   ]
  },
  {
   "cell_type": "markdown",
   "metadata": {},
   "source": [
    "## (2 points) 1B: Bayes' Rule (continuous random variables)\n",
    "A croupier samples a standard normal $X\\sim \\mathcal{N}(\\mu=0,\\sigma^2=1)$, and tosses a fair coin. If the coin lands on heads, she reveals to you the number $Z=X+1$. If it comes up tails she reveals $Z=X-1$. \n",
    "\n",
    "1. What is the probability that the number she reveals, $Z$, is greater than $a$, given that she tossed heads? \n",
    "- What is the probability she tossed heads, if the number she reveals to you is greater than $a$? \n",
    "\n",
    "Express the results in terms of the cumulative distribution function of the standard normal, that is $\\Phi(a):=P(X<a)$."
   ]
  },
  {
   "cell_type": "markdown",
   "metadata": {},
   "source": [
    "1. $P(Z>a|head) = P(Z>a-1) = 1 - \\Phi(a-1)$\n",
    "2. $P(head|Z>a) = $"
   ]
  },
  {
   "cell_type": "markdown",
   "metadata": {},
   "source": [
    "## (5 points) 1D: Bayes Rule Simulation and Plot\n",
    "1. Write a function ```theoretical_p``` which takes argument $a$ and returns the theoretical conditional probability derived in quesiton 1.B.2, using ```scipy.stats.norm.cdf``` to compute $\\Phi$\n",
    "- Write a function ```monte_carlo_p``` which takes arguments $a$ and $n$, and which performs the croupier's sampling procedure $n$ times and returns an empirical estimate of the probability we computed above using our theoretical result of 1.B.2. Use the functions ```np.random.randn```, ```np.random.binomial``` and ```np.mean```. Avoid explicit loops, instead rely on the boolean index array feature of numpy.\n",
    "- Plot the theoretical solution as a function of $a\\in [-5,5]$ using the functions ```np.linspace``` to make a grid of $1024$ values for $a$.\n",
    "- Overlay a plot of the empirical estimate with $n=500$. Label the two plots using the ```label``` argument to ```plt.plot``` along with ```plt.legend(loc='best')``` after plotting. Always label the axes in your plots. Add grid lines with ```plt.grid()```. Matplotlib accepts latex strings such as ```xlabel=r'$a$'```.\n",
    "- Provide an intuitive explanation for the limiting values of the plot as $a\\rightarrow-\\infty$ and $a\\rightarrow+\\infty$."
   ]
  },
  {
   "cell_type": "code",
   "execution_count": 3,
   "metadata": {},
   "outputs": [
    {
     "ename": "SyntaxError",
     "evalue": "invalid syntax (<ipython-input-3-6d0937925ce6>, line 1)",
     "output_type": "error",
     "traceback": [
      "\u001b[0;36m  File \u001b[0;32m\"<ipython-input-3-6d0937925ce6>\"\u001b[0;36m, line \u001b[0;32m1\u001b[0m\n\u001b[0;31m    def theoretical_p($a$):\u001b[0m\n\u001b[0m                      ^\u001b[0m\n\u001b[0;31mSyntaxError\u001b[0m\u001b[0;31m:\u001b[0m invalid syntax\n"
     ]
    }
   ],
   "source": [
    "def theoretical_p(a):\n",
    "    "
   ]
  },
  {
   "cell_type": "markdown",
   "metadata": {},
   "source": [
    "# Part 2: Linear Algebra and Calculus"
   ]
  },
  {
   "cell_type": "markdown",
   "metadata": {},
   "source": [
    "## (2 Points) 2A: Linear Regression (theory)\n",
    "Assume the deterministic model $y_i=\\sum_{j=1}^d w_j x_{i,j}, i=1, 2, \\ldots n$.\n",
    "1. Write the model in matrix form using capital letters for matrices and bold lowercase for vectors, stating the dimensionality of the variables.\n",
    "- Assume we observe corrupted targets $\\hat{y}_i=y_i+\\epsilon_i$, where $\\epsilon_i$ represents unpredictable noise. Write the sum of squared errors $\\sum_{i=1}^n (\\sum_{j=1}^d w_j x_{i,j}-\\hat{y}_i)^2$ in matrix form, and derive the vector $\\mathbf{w}^\\star$ which minimises it. You may wish to google <i>e.g.</i> \"Sam Roweis matrix identities\" and look at the section on \"derivatives of scalar forms\"."
   ]
  },
  {
   "cell_type": "markdown",
   "metadata": {},
   "source": [
    "### <span style=\"color:blue\">Answer</span>\n",
    "<i>--- replace this with your solution ---</i>"
   ]
  },
  {
   "cell_type": "markdown",
   "metadata": {},
   "source": [
    "## (3 Points) 2B: Univariate Regression (theory)\n",
    "\n",
    "$\\newcommand{\\RR}{\\mathbb{R}}$\n",
    "\n",
    "The inner product between two functions $u:\\RR\\to\\RR$ and\n",
    "$v:\\RR\\to\\RR$ is defined as the definite integral\n",
    "$$\n",
    "u^\\top v = \\langle u,v \\rangle := \\int_a^b u(x) v(x) dx.\n",
    "$$\n",
    "\n",
    "Given a function\n",
    "$$f(x) = \\sqrt{x}$$\n",
    "for $x\\in[0,1],$\n",
    "and we want to fit it by a straight line\n",
    "$$y = mx + c.$$\n",
    "\n",
    "Find the best line, that is find the parameters $m$ and $c$, \n",
    "using each of the following three methods:\n",
    "1. Minimize the squared error $E^2 = \\int_0^1 \\left(\\sqrt{x} - c - mx\\right)^2dx$\n",
    "2. Solve using the matrix least squares formula you derived in the previous section\n",
    "    $$\n",
    "    \\begin{bmatrix}\n",
    "      1&x\n",
    "    \\end{bmatrix}\n",
    "    \\begin{bmatrix}\n",
    "      c\\\\m\n",
    "    \\end{bmatrix}\n",
    "    =\n",
    "    \\begin{bmatrix}\n",
    "      \\sqrt{x}\n",
    "    \\end{bmatrix}\n",
    "    $$\n",
    "3. Note that $x$ is not orthogonal to $1$, but show that\n",
    "    $x-\\frac{1}{2}$ is orthogonal to $1$. Find the projection of\n",
    "    $\\sqrt{x}$ onto this orthogonal basis.\n",
    " \n",
    "\n",
    "*For this course, we will rarely use inner products between functions. This question is about testing your understanding of linear algebra and calculus.*"
   ]
  },
  {
   "cell_type": "markdown",
   "metadata": {},
   "source": [
    "### <span style=\"color:blue\">Answer</span>\n",
    "<i>--- replace this with your solution ---</i>"
   ]
  },
  {
   "cell_type": "markdown",
   "metadata": {},
   "source": [
    "## (3 Points) 2C: Linear Regression (python)\n",
    "1. Let $d=3, n=100$ and generate $x_{i,j}, w_j$ and $\\epsilon_i$ i.i.d. from $\\mathcal{N}(0,1)$ using ```np.random.randn```.\n",
    "- Imagine that the $w_j$ are unknown parameters, and compute them as a function of the $x_{i,j}$ and $\\hat{y}_i$ using your least squares formula from the previous question. Hint: use the at symbol @ for matrix multiplication and ```np.linalg.solve``` for solving linear systems. In general explicit matrix inverse computations are to be avoided for reasons of numerical stability.\n",
    "- Compare your estimated $\\mathbf{w}^\\star$ with the ground truth by printing them side by side."
   ]
  },
  {
   "cell_type": "markdown",
   "metadata": {},
   "source": [
    "### <span style=\"color:blue\">Answer</span>\n",
    "<i>--- replace this with your solution ---</i>"
   ]
  }
 ],
 "metadata": {
  "kernelspec": {
   "display_name": "Python 3",
   "language": "python",
   "name": "python3"
  },
  "language_info": {
   "codemirror_mode": {
    "name": "ipython",
    "version": 3
   },
   "file_extension": ".py",
   "mimetype": "text/x-python",
   "name": "python",
   "nbconvert_exporter": "python",
   "pygments_lexer": "ipython3",
   "version": "3.6.2"
  }
 },
 "nbformat": 4,
 "nbformat_minor": 2
}
