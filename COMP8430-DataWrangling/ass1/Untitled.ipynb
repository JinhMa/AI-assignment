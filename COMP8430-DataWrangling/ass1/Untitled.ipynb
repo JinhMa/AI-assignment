{
 "cells": [
  {
   "cell_type": "code",
   "execution_count": 1,
   "metadata": {},
   "outputs": [],
   "source": [
    "import pandas as pd"
   ]
  },
  {
   "cell_type": "code",
   "execution_count": 2,
   "metadata": {},
   "outputs": [],
   "source": [
    "df = pd.read_csv('emp-edu.csv')"
   ]
  },
  {
   "cell_type": "code",
   "execution_count": 9,
   "metadata": {},
   "outputs": [
    {
     "name": "stdout",
     "output_type": "stream",
     "text": [
      "216\n"
     ]
    }
   ],
   "source": [
    "count = 0\n",
    "for nums in df.postcode:\n",
    "    if (nums >= 200 and nums <= 299) or (nums >= 800 and nums <= 7999):\n",
    "        continue\n",
    "    else:\n",
    "        count += 1\n",
    "print(count)"
   ]
  },
  {
   "cell_type": "code",
   "execution_count": 11,
   "metadata": {},
   "outputs": [],
   "source": [
    "person = set()\n",
    "for ssn in df.ssn:\n",
    "    if ssn not in person:\n",
    "        person.add(ssn)\n",
    "    else:\n",
    "        print(ssn)"
   ]
  },
  {
   "cell_type": "code",
   "execution_count": 28,
   "metadata": {},
   "outputs": [
    {
     "name": "stdout",
     "output_type": "stream",
     "text": [
      "440\n"
     ]
    }
   ],
   "source": [
    "import numpy\n",
    "count = 0\n",
    "marriage = set()\n",
    "for marital_status in df.marital_status:\n",
    "    if marital_status is numpy.nan or marital_status == 'n/a':\n",
    "        count+=1\n",
    "print(count)"
   ]
  },
  {
   "cell_type": "code",
   "execution_count": 21,
   "metadata": {},
   "outputs": [
    {
     "data": {
      "text/html": [
       "<div>\n",
       "<style>\n",
       "    .dataframe thead tr:only-child th {\n",
       "        text-align: right;\n",
       "    }\n",
       "\n",
       "    .dataframe thead th {\n",
       "        text-align: left;\n",
       "    }\n",
       "\n",
       "    .dataframe tbody tr th {\n",
       "        vertical-align: top;\n",
       "    }\n",
       "</style>\n",
       "<table border=\"1\" class=\"dataframe\">\n",
       "  <thead>\n",
       "    <tr style=\"text-align: right;\">\n",
       "      <th></th>\n",
       "      <th>ssn</th>\n",
       "      <th>first_name</th>\n",
       "      <th>middle_name</th>\n",
       "      <th>last_name</th>\n",
       "      <th>gender</th>\n",
       "      <th>current_age</th>\n",
       "      <th>birth_date</th>\n",
       "      <th>street_address</th>\n",
       "      <th>suburb</th>\n",
       "      <th>postcode</th>\n",
       "      <th>state</th>\n",
       "      <th>phone</th>\n",
       "      <th>email</th>\n",
       "      <th>marital_status</th>\n",
       "      <th>current_timestamp</th>\n",
       "      <th>occupation</th>\n",
       "      <th>salary</th>\n",
       "      <th>credit_card_number</th>\n",
       "      <th>years_of_experience</th>\n",
       "      <th>employment_timestamp</th>\n",
       "    </tr>\n",
       "  </thead>\n",
       "  <tbody>\n",
       "    <tr>\n",
       "      <th>5147</th>\n",
       "      <td>e180574648</td>\n",
       "      <td>david</td>\n",
       "      <td>oscar</td>\n",
       "      <td>wilson</td>\n",
       "      <td>m</td>\n",
       "      <td>45</td>\n",
       "      <td>23/1/1973</td>\n",
       "      <td>28  hotham  avenue</td>\n",
       "      <td>boddington</td>\n",
       "      <td>6390.0</td>\n",
       "      <td>wa</td>\n",
       "      <td>08  1290  5337</td>\n",
       "      <td>jijkbiogeb@mail.com.au</td>\n",
       "      <td>married-de-facto</td>\n",
       "      <td>2018-7-31t11:05+00:00</td>\n",
       "      <td>education-professional</td>\n",
       "      <td>111800.0</td>\n",
       "      <td>8794c1a21b4db20b4a2e98bc08cd5434</td>\n",
       "      <td>NaN</td>\n",
       "      <td>2018-04-01t16:13+00:00</td>\n",
       "    </tr>\n",
       "    <tr>\n",
       "      <th>9883</th>\n",
       "      <td>e180574648</td>\n",
       "      <td>david</td>\n",
       "      <td>oscar</td>\n",
       "      <td>wilson</td>\n",
       "      <td>m</td>\n",
       "      <td>45</td>\n",
       "      <td>23/1/1973</td>\n",
       "      <td>28  hotham  avenue</td>\n",
       "      <td>boddington</td>\n",
       "      <td>6390.0</td>\n",
       "      <td>wa</td>\n",
       "      <td>08  1290  5337</td>\n",
       "      <td>jijkbiogeb@mail.com.au</td>\n",
       "      <td>married-de-facto</td>\n",
       "      <td>2018-7-31t11:05+00:00</td>\n",
       "      <td>education-professional</td>\n",
       "      <td>111800.0</td>\n",
       "      <td>8794c1a21b4db20b4a2e98bc08cd5434</td>\n",
       "      <td>26.0</td>\n",
       "      <td>2018-04-01t16:13+00:00</td>\n",
       "    </tr>\n",
       "  </tbody>\n",
       "</table>\n",
       "</div>"
      ],
      "text/plain": [
       "             ssn first_name middle_name last_name gender  current_age  \\\n",
       "5147  e180574648      david       oscar    wilson      m           45   \n",
       "9883  e180574648      david       oscar    wilson      m           45   \n",
       "\n",
       "     birth_date        street_address      suburb  postcode state  \\\n",
       "5147  23/1/1973   28  hotham  avenue   boddington    6390.0    wa   \n",
       "9883  23/1/1973   28  hotham  avenue   boddington    6390.0    wa   \n",
       "\n",
       "                 phone                   email    marital_status  \\\n",
       "5147   08  1290  5337   jijkbiogeb@mail.com.au  married-de-facto   \n",
       "9883   08  1290  5337   jijkbiogeb@mail.com.au  married-de-facto   \n",
       "\n",
       "          current_timestamp              occupation    salary  \\\n",
       "5147  2018-7-31t11:05+00:00  education-professional  111800.0   \n",
       "9883  2018-7-31t11:05+00:00  education-professional  111800.0   \n",
       "\n",
       "                    credit_card_number  years_of_experience  \\\n",
       "5147  8794c1a21b4db20b4a2e98bc08cd5434                  NaN   \n",
       "9883  8794c1a21b4db20b4a2e98bc08cd5434                 26.0   \n",
       "\n",
       "        employment_timestamp  \n",
       "5147  2018-04-01t16:13+00:00  \n",
       "9883  2018-04-01t16:13+00:00  "
      ]
     },
     "execution_count": 21,
     "metadata": {},
     "output_type": "execute_result"
    }
   ],
   "source": [
    "df.loc[df['ssn'] == 'e180574648']"
   ]
  },
  {
   "cell_type": "code",
   "execution_count": 23,
   "metadata": {},
   "outputs": [
    {
     "data": {
      "text/html": [
       "<div>\n",
       "<style>\n",
       "    .dataframe thead tr:only-child th {\n",
       "        text-align: right;\n",
       "    }\n",
       "\n",
       "    .dataframe thead th {\n",
       "        text-align: left;\n",
       "    }\n",
       "\n",
       "    .dataframe tbody tr th {\n",
       "        vertical-align: top;\n",
       "    }\n",
       "</style>\n",
       "<table border=\"1\" class=\"dataframe\">\n",
       "  <thead>\n",
       "    <tr style=\"text-align: right;\">\n",
       "      <th></th>\n",
       "      <th>ssn</th>\n",
       "      <th>first_name</th>\n",
       "      <th>middle_name</th>\n",
       "      <th>last_name</th>\n",
       "      <th>gender</th>\n",
       "      <th>current_age</th>\n",
       "      <th>street_address</th>\n",
       "      <th>email</th>\n",
       "      <th>marital_status</th>\n",
       "      <th>current_timestamp</th>\n",
       "      <th>street_address_med</th>\n",
       "      <th>state_med</th>\n",
       "      <th>weight</th>\n",
       "      <th>bmi</th>\n",
       "      <th>blood_pressure</th>\n",
       "      <th>cholesterol_level</th>\n",
       "      <th>smoking_status</th>\n",
       "      <th>clinical_notes</th>\n",
       "      <th>deceased_status</th>\n",
       "    </tr>\n",
       "  </thead>\n",
       "  <tbody>\n",
       "    <tr>\n",
       "      <th>9434</th>\n",
       "      <td>e158170946</td>\n",
       "      <td>james</td>\n",
       "      <td>anthony</td>\n",
       "      <td>bolin</td>\n",
       "      <td>m</td>\n",
       "      <td>46</td>\n",
       "      <td>285  ferndale  road</td>\n",
       "      <td>iclchhjgmg@aol.com</td>\n",
       "      <td>not-married</td>\n",
       "      <td>2018-7-31t09:05+00:00</td>\n",
       "      <td>285    ferndale    road</td>\n",
       "      <td>vic</td>\n",
       "      <td>132</td>\n",
       "      <td>40.0</td>\n",
       "      <td>66</td>\n",
       "      <td>156</td>\n",
       "      <td>0.0</td>\n",
       "      <td>stomach-flu</td>\n",
       "      <td>0</td>\n",
       "    </tr>\n",
       "    <tr>\n",
       "      <th>9989</th>\n",
       "      <td>e158170946</td>\n",
       "      <td>james</td>\n",
       "      <td>anthony</td>\n",
       "      <td>bolin</td>\n",
       "      <td>m</td>\n",
       "      <td>46</td>\n",
       "      <td>285  ferndale  road</td>\n",
       "      <td>iclchhjgmg@aol.com</td>\n",
       "      <td>not-married</td>\n",
       "      <td>2018-7-31t09:05+00:00</td>\n",
       "      <td>285    ferndale    road</td>\n",
       "      <td>vic</td>\n",
       "      <td>132</td>\n",
       "      <td>NaN</td>\n",
       "      <td>66</td>\n",
       "      <td>156</td>\n",
       "      <td>NaN</td>\n",
       "      <td>stomach-flu</td>\n",
       "      <td>0</td>\n",
       "    </tr>\n",
       "  </tbody>\n",
       "</table>\n",
       "</div>"
      ],
      "text/plain": [
       "             ssn first_name middle_name last_name gender  current_age  \\\n",
       "9434  e158170946      james     anthony     bolin      m           46   \n",
       "9989  e158170946      james     anthony     bolin      m           46   \n",
       "\n",
       "             street_address               email marital_status  \\\n",
       "9434   285  ferndale  road   iclchhjgmg@aol.com    not-married   \n",
       "9989   285  ferndale  road   iclchhjgmg@aol.com    not-married   \n",
       "\n",
       "          current_timestamp         street_address_med state_med  weight  \\\n",
       "9434  2018-7-31t09:05+00:00   285    ferndale    road        vic     132   \n",
       "9989  2018-7-31t09:05+00:00   285    ferndale    road        vic     132   \n",
       "\n",
       "       bmi  blood_pressure  cholesterol_level  smoking_status clinical_notes  \\\n",
       "9434  40.0              66                156             0.0    stomach-flu   \n",
       "9989   NaN              66                156             NaN    stomach-flu   \n",
       "\n",
       "      deceased_status  \n",
       "9434                0  \n",
       "9989                0  "
      ]
     },
     "execution_count": 23,
     "metadata": {},
     "output_type": "execute_result"
    }
   ],
   "source": [
    "df.loc[df['ssn'] == 'e158170946']"
   ]
  },
  {
   "cell_type": "code",
   "execution_count": null,
   "metadata": {},
   "outputs": [],
   "source": []
  }
 ],
 "metadata": {
  "kernelspec": {
   "display_name": "Python 3",
   "language": "python",
   "name": "python3"
  },
  "language_info": {
   "codemirror_mode": {
    "name": "ipython",
    "version": 3
   },
   "file_extension": ".py",
   "mimetype": "text/x-python",
   "name": "python",
   "nbconvert_exporter": "python",
   "pygments_lexer": "ipython3",
   "version": "3.6.2"
  }
 },
 "nbformat": 4,
 "nbformat_minor": 2
}
