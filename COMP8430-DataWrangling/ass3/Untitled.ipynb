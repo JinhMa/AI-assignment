{
 "cells": [
  {
   "cell_type": "code",
   "execution_count": 1,
   "metadata": {},
   "outputs": [
    {
     "name": "stdout",
     "output_type": "stream",
     "text": [
      "the number of original Apple store dataset: 7197\n",
      "the number of original google play store dataset: 10841\n"
     ]
    }
   ],
   "source": [
    "import pandas as pd\n",
    "import matplotlib.pyplot as plt\n",
    "\n",
    "original_apple_data = pd.read_csv('AppleStore.csv')\n",
    "original_google_data = pd.read_csv('googleplaystore.csv')\n",
    "print('the number of original Apple store dataset:', len(original_apple_data))\n",
    "print('the number of original google play store dataset:', len(original_google_data))"
   ]
  },
  {
   "cell_type": "code",
   "execution_count": null,
   "metadata": {},
   "outputs": [],
   "source": [
    "# print(original_apple_data.dtypes)\n",
    "# print(original_google_data.dtypes)\n",
    "print('Missing values in Google play store\\n{}'.format(original_google_data.isnull().sum()))\n",
    "print('Missing values in Apple app store\\n{}'.format(original_apple_data.isnull().sum()))"
   ]
  },
  {
   "cell_type": "code",
   "execution_count": null,
   "metadata": {},
   "outputs": [],
   "source": [
    "original_apple_data.price.value_counts()\n",
    "original_google_data.Rating.value_counts()"
   ]
  },
  {
   "cell_type": "code",
   "execution_count": null,
   "metadata": {},
   "outputs": [],
   "source": [
    "google_data = google_data[google_data.Rating < 5]\n",
    "google_data.Rating.value_counts()\n",
    "apple_data[apple_data.user_rating == 0]"
   ]
  },
  {
   "cell_type": "code",
   "execution_count": null,
   "metadata": {},
   "outputs": [],
   "source": [
    "plt.figure();\n",
    "google_data.Rating.plot.density()\n",
    "plt.show()"
   ]
  },
  {
   "cell_type": "code",
   "execution_count": null,
   "metadata": {},
   "outputs": [],
   "source": [
    "plt.figure();\n",
    "original_apple_data.user_rating.plot.hist()\n",
    "plt.show()"
   ]
  },
  {
   "cell_type": "code",
   "execution_count": 2,
   "metadata": {},
   "outputs": [
    {
     "name": "stdout",
     "output_type": "stream",
     "text": [
      "Preprocessing google play store dataset...\n",
      "select column: App, Rating, Reviews \n",
      "\n",
      "After drop duplicates: 9660\n",
      "select review > 1000: 4802\n"
     ]
    }
   ],
   "source": [
    "google_useful_attr = ['App', 'Rating', 'Reviews']\n",
    "# , 'Size', 'Price', 'Genres', 'Current Ver']\n",
    "print('Preprocessing google play store dataset...')\n",
    "print('select column:', ', '.join(google_useful_attr), '\\n')\n",
    "google_data = original_google_data[google_useful_attr]\n",
    "google_data = google_data.drop_duplicates(subset=['App'], keep='last')\n",
    "print('After drop duplicates:', len(google_data))\n",
    "google_data = google_data[google_data.Rating <= 5]\n",
    "google_data = google_data[google_data.Rating >= 0]\n",
    "google_data = google_data.replace({'Reviews': '3.0M'}, {'Reviews': '3000000'})\n",
    "google_data.Reviews = google_data.Reviews.astype(int)\n",
    "google_data = google_data[google_data.Reviews > 1000]\n",
    "print('select review > 1000:', len(google_data))"
   ]
  },
  {
   "cell_type": "code",
   "execution_count": 3,
   "metadata": {},
   "outputs": [
    {
     "name": "stdout",
     "output_type": "stream",
     "text": [
      "Preprocessing apple store dataset...\n",
      "select column: track_name, rating_count_tot, user_rating \n",
      "\n",
      "select review > 1000: 4489\n"
     ]
    }
   ],
   "source": [
    "apple_useful_attr = ['track_name', 'rating_count_tot', 'user_rating']\n",
    "print('Preprocessing apple store dataset...')\n",
    "print('select column:', ', '.join(apple_useful_attr), '\\n')\n",
    "apple_data = original_apple_data[apple_useful_attr]\n",
    "apple_data = apple_data[apple_data.user_rating >= 0]\n",
    "apple_data = apple_data[apple_data.user_rating <= 5]\n",
    "apple_data = apple_data[apple_data.rating_count_tot > 100]\n",
    "print('select review > 1000:', len(apple_data))"
   ]
  },
  {
   "cell_type": "code",
   "execution_count": null,
   "metadata": {},
   "outputs": [],
   "source": [
    "apple_name = set(apple_data.track_name)\n",
    "google_name = set(google_data.App)\n",
    "apple_name_count = {}\n",
    "for name in apple_name:\n",
    "    cur_name = name\n",
    "    if ':' in cur_name:\n",
    "        cur_name = cur_name.split(':')[0]\n",
    "    if ' – ' in cur_name:\n",
    "        cur_name = cur_name.split(' – ')[0]\n",
    "    if ' - ' in cur_name:\n",
    "        cur_name = cur_name.split(' - ')[0]\n",
    "    if cur_name not in apple_name_count:\n",
    "        apple_name_count[cur_name] = 0\n",
    "    apple_name_count[cur_name] += 1\n",
    "\n",
    "google_name_count = {}\n",
    "for name in google_name:\n",
    "    cur_name = name\n",
    "    if ':' in cur_name:\n",
    "        cur_name = cur_name.split(':')[0]\n",
    "    if ' – ' in cur_name:\n",
    "        cur_name = cur_name.split(' – ')[0]\n",
    "    if ' - ' in cur_name:\n",
    "        cur_name = cur_name.split(' - ')[0]\n",
    "    if cur_name not in google_name_count:\n",
    "        google_name_count[cur_name] = 0\n",
    "    google_name_count[cur_name] += 1"
   ]
  },
  {
   "cell_type": "code",
   "execution_count": null,
   "metadata": {},
   "outputs": [],
   "source": [
    "same_name = set(apple_name_count.keys()).intersection(set(google_name_count.keys()))\n",
    "len(same_name)"
   ]
  },
  {
   "cell_type": "code",
   "execution_count": 4,
   "metadata": {},
   "outputs": [],
   "source": [
    "google_data = google_data.rename(index=str, columns={'App': 'google_name'})\n",
    "apple_data = apple_data.rename(index=str, columns={'track_name': 'apple_name'})\n",
    "google_data.insert(loc=0, column='name', value=google_data.google_name)\n",
    "apple_data.insert(loc=0, column='name', value=apple_data.apple_name)"
   ]
  },
  {
   "cell_type": "code",
   "execution_count": 5,
   "metadata": {},
   "outputs": [],
   "source": [
    "def x(name):\n",
    "    cur_name = name\n",
    "    if ':' in cur_name:\n",
    "        cur_name = cur_name.split(':')[0]\n",
    "    if ' – ' in cur_name:\n",
    "        cur_name = cur_name.split(' – ')[0]\n",
    "    if ' - ' in cur_name:\n",
    "        cur_name = cur_name.split(' - ')[0]\n",
    "    return cur_name\n",
    "apple_data.name = apple_data.name.apply(x)\n",
    "google_data.name = google_data.name.apply(x)"
   ]
  },
  {
   "cell_type": "code",
   "execution_count": 11,
   "metadata": {},
   "outputs": [],
   "source": [
    "google_data = google_data.rename(index=str, columns={'Rating': 'google_rating'})\n",
    "apple_data = apple_data.rename(index=str, columns={'user_rating': 'apple_rating'})\n",
    "google_data = google_data.rename(index=str, columns={'Reviews': 'google_rating_count'})\n",
    "apple_data = apple_data.rename(index=str, columns={'rating_count_tot': 'apple_rating_count'})\n",
    "\n",
    "apple_data.drop_duplicates(subset=['name'], keep='last')\n",
    "google_data.drop_duplicates(subset=['name'], keep='last')\n",
    "res = pd.merge(apple_data, google_data, on='name')\n",
    "res"
   ]
  },
  {
   "cell_type": "code",
   "execution_count": 17,
   "metadata": {},
   "outputs": [
    {
     "data": {
      "text/plain": [
       "579"
      ]
     },
     "execution_count": 17,
     "metadata": {},
     "output_type": "execute_result"
    }
   ],
   "source": [
    "len(res)"
   ]
  },
  {
   "cell_type": "code",
   "execution_count": 14,
   "metadata": {},
   "outputs": [],
   "source": [
    "res.head()\n",
    "res.apple_rating.corr(res.google_rating)\n",
    "res.to_csv('result.csv')"
   ]
  },
  {
   "cell_type": "code",
   "execution_count": null,
   "metadata": {},
   "outputs": [],
   "source": [
    "count = 0\n",
    "count2 = 0\n",
    "for name in apple_name:\n",
    "    cur_name = name\n",
    "    if ':' in cur_name:\n",
    "        cur_name = cur_name.split(':')[0]\n",
    "    if ' – ' in cur_name:\n",
    "        cur_name = cur_name.split(' – ')[0]\n",
    "    if ' - ' in cur_name:\n",
    "        cur_name = cur_name.split(' - ')[0]\n",
    "    if cur_name not in same_name:\n",
    "        print(cur_name)\n",
    "        count += 1\n",
    "        for gname in google_name:\n",
    "            if cur_name in gname:\n",
    "                print(gname, '\\n')\n",
    "                count2 += 1\n",
    "                break\n",
    "print(count, count2)"
   ]
  },
  {
   "cell_type": "code",
   "execution_count": null,
   "metadata": {},
   "outputs": [],
   "source": [
    "'–' == '-'\n",
    "'-' == '-'\n",
    "' ' == ' '\n",
    "original_google_data[original_google_data.App.str.contains('Gmail')]"
   ]
  },
  {
   "cell_type": "code",
   "execution_count": null,
   "metadata": {},
   "outputs": [],
   "source": [
    "'NBC – Watch Now and Stream Full TV Episodes'.split(' – ')[0]"
   ]
  },
  {
   "cell_type": "code",
   "execution_count": null,
   "metadata": {},
   "outputs": [],
   "source": [
    "count3 = 0\n",
    "count4 = 0\n",
    "for name in google_name:\n",
    "    cur_name = name\n",
    "    if ':' in cur_name:\n",
    "        cur_name = cur_name.split(':')[0]\n",
    "    if ' – ' in cur_name:\n",
    "        cur_name = cur_name.split(' - ')[0]\n",
    "    if cur_name not in same_name:\n",
    "#         print(cur_name)\n",
    "        count3 += 1\n",
    "        for aname in apple_name:\n",
    "            if cur_name in aname:\n",
    "#                 print(gname, '\\n')\n",
    "                count4 += 1\n",
    "                break\n",
    "print(count3, count4)"
   ]
  },
  {
   "cell_type": "code",
   "execution_count": null,
   "metadata": {},
   "outputs": [],
   "source": [
    "for k,v in apple_name_count.items():\n",
    "    if v > 1:\n",
    "        pass\n",
    "#         print(k, v)\n",
    "for name in apple_name:\n",
    "    if 'Cut the Rope' in name:\n",
    "        print(name)\n",
    "for name in google_name:\n",
    "    if 'Cut the Rope' in name:\n",
    "        print(name)"
   ]
  },
  {
   "cell_type": "code",
   "execution_count": null,
   "metadata": {},
   "outputs": [],
   "source": []
  },
  {
   "cell_type": "code",
   "execution_count": null,
   "metadata": {},
   "outputs": [],
   "source": [
    "apple_name_count = {}\n",
    "for name in apple_name:\n",
    "    cur_name = name\n",
    "    if ':' in cur_name:\n",
    "        cur_name = cur_name.split(':')[0]\n",
    "    if ' - ' in cur_name:\n",
    "        cur_name = cur_name.split(' - ')[0]\n",
    "        if cur_name not in apple_name_count:\n",
    "            apple_name_count[cur_name] = 0\n",
    "        apple_name_count[cur_name] += 1"
   ]
  },
  {
   "cell_type": "code",
   "execution_count": null,
   "metadata": {},
   "outputs": [],
   "source": [
    "for name in apple_name:\n",
    "    cur_name = name\n",
    "    if ':' in cur_name:\n",
    "        cur_name = cur_name.split(':')[0]\n",
    "    if ' - ' in cur_name:\n",
    "        cur_name = cur_name.split(' - ')[0]\n",
    "        if apple_name_count[cur_name] == 1:\n",
    "            name = cur_name"
   ]
  },
  {
   "cell_type": "code",
   "execution_count": null,
   "metadata": {},
   "outputs": [],
   "source": []
  },
  {
   "cell_type": "code",
   "execution_count": null,
   "metadata": {},
   "outputs": [],
   "source": [
    "google_name_count = {}\n",
    "for name in google_name:\n",
    "    cur_name = name\n",
    "    if ':' in cur_name:\n",
    "        cur_name = cur_name.split(':')[0]\n",
    "    if ' - ' in cur_name:\n",
    "        cur_name = cur_name.split(' - ')[0]\n",
    "        if cur_name not in google_name_count:\n",
    "            google_name_count[cur_name] = 0\n",
    "        google_name_count[cur_name] += 1\n",
    "        \n",
    "for k,v in google_name_count.items():\n",
    "    if v > 1:\n",
    "        print(k)"
   ]
  },
  {
   "cell_type": "code",
   "execution_count": null,
   "metadata": {},
   "outputs": [],
   "source": [
    "google_name_count = {}\n",
    "for i in google_name:\n",
    "    if ':' in i:\n",
    "        new_name = i.split(':')[0]\n",
    "        if new_name not in google_name_count:\n",
    "            google_name_count[new_name] = 0\n",
    "        google_name_count[new_name] += 1\n",
    "for k,v in google_name_count.items():\n",
    "    if v>1:\n",
    "        print(k)"
   ]
  },
  {
   "cell_type": "code",
   "execution_count": null,
   "metadata": {},
   "outputs": [],
   "source": [
    "apple_name_count = {}\n",
    "for i in apple_name:\n",
    "    if ' - ' in i:\n",
    "        new_name = i.split(' - ')[0]\n",
    "        if new_name not in apple_name_count:\n",
    "            apple_name_count[new_name] = 0\n",
    "        apple_name_count[new_name] += 1"
   ]
  },
  {
   "cell_type": "code",
   "execution_count": null,
   "metadata": {},
   "outputs": [],
   "source": [
    "apple_name_count = {}\n",
    "count = 0\n",
    "for i in google_name:\n",
    "    if ' - ' in i and ':' in i:\n",
    "        count+=1\n",
    "count"
   ]
  },
  {
   "cell_type": "code",
   "execution_count": null,
   "metadata": {},
   "outputs": [],
   "source": [
    "len(apple_name.intersection(google_name))"
   ]
  },
  {
   "cell_type": "code",
   "execution_count": null,
   "metadata": {},
   "outputs": [],
   "source": [
    "len(google_name)"
   ]
  },
  {
   "cell_type": "code",
   "execution_count": null,
   "metadata": {},
   "outputs": [],
   "source": [
    "len(apple_data[apple_data.rating_count_tot > 10000])"
   ]
  },
  {
   "cell_type": "code",
   "execution_count": null,
   "metadata": {},
   "outputs": [],
   "source": []
  },
  {
   "cell_type": "code",
   "execution_count": null,
   "metadata": {},
   "outputs": [],
   "source": []
  },
  {
   "cell_type": "code",
   "execution_count": null,
   "metadata": {},
   "outputs": [],
   "source": [
    "len(google_data[google_data.Reviews > 500000])"
   ]
  },
  {
   "cell_type": "code",
   "execution_count": null,
   "metadata": {},
   "outputs": [],
   "source": [
    "apple_data = apple_data[apple_data.rating_count_tot > 10000]\n",
    "google_data = google_data[google_data.Reviews > 500000]"
   ]
  },
  {
   "cell_type": "code",
   "execution_count": null,
   "metadata": {},
   "outputs": [],
   "source": [
    "apple_name = set(apple_data.track_name)\n",
    "google_name = set(google_data.App)\n",
    "apple_name.intersection(google_name)"
   ]
  },
  {
   "cell_type": "code",
   "execution_count": null,
   "metadata": {},
   "outputs": [],
   "source": [
    "apple_name"
   ]
  },
  {
   "cell_type": "code",
   "execution_count": null,
   "metadata": {},
   "outputs": [],
   "source": [
    "google_name.difference(apple_name)"
   ]
  },
  {
   "cell_type": "code",
   "execution_count": null,
   "metadata": {},
   "outputs": [],
   "source": [
    "temp = {}\n",
    "for i in apple_name:\n",
    "    if ':' in i:\n",
    "        new_name = i.split(':')[0]\n",
    "        if new_name in temp:\n",
    "            temp[new_name] += 1\n",
    "        else:\n",
    "            temp[new_name] = 1\n",
    "temp"
   ]
  },
  {
   "cell_type": "code",
   "execution_count": null,
   "metadata": {},
   "outputs": [],
   "source": []
  }
 ],
 "metadata": {
  "kernelspec": {
   "display_name": "Python 3",
   "language": "python",
   "name": "python3"
  },
  "language_info": {
   "codemirror_mode": {
    "name": "ipython",
    "version": 3
   },
   "file_extension": ".py",
   "mimetype": "text/x-python",
   "name": "python",
   "nbconvert_exporter": "python",
   "pygments_lexer": "ipython3",
   "version": "3.6.2"
  }
 },
 "nbformat": 4,
 "nbformat_minor": 2
}
