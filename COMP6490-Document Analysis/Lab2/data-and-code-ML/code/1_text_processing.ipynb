{
 "cells": [
  {
   "cell_type": "markdown",
   "metadata": {},
   "source": [
    "# Introduction to Text Preprocessing for Machine Learning\n",
    "\n",
    "This tutorial will guide you through text preprocessing using NLTK, constructing a boolean representation for text and performing a boolean search as shown in the IR part of this course.\n",
    "These instructions assume that you have Python and the corresponding necessary package installed.\n",
    "If this is not the case, go back to the [installation instructions](https://wattlecourses.anu.edu.au/pluginfile.php/1412128/mod_resource/content/8/installation-and-usage-instructions.html)."
   ]
  },
  {
   "cell_type": "markdown",
   "metadata": {},
   "source": [
    "## Setup and Compilation\n",
    "\n",
    "Download the [tutorial starting code from Wattle](https://wattlecourses.anu.edu.au/mod/resource/view.php?id=1198771) (~12MB), save it in a local folder and unzip it. \n",
    "**Warning:** This operation might take a couple of minutes, considering the number of files in the archive.\n",
    "The `source` folder contains Python code file and the tutorial notebooks.\n",
    "Navigate to this folder and start the jupyter notebook.\n",
    "\n",
    "If you have problems: use Google, ask a classmate who attended the lab for help or ask the tutor (in this order)."
   ]
  },
  {
   "cell_type": "markdown",
   "metadata": {},
   "source": [
    "## 1. Dataset loading"
   ]
  },
  {
   "cell_type": "markdown",
   "metadata": {},
   "source": [
    "Start by loading the required libraries and making `jupyter notebook` configurations."
   ]
  },
  {
   "cell_type": "code",
   "execution_count": 1,
   "metadata": {},
   "outputs": [],
   "source": [
    "## some configurations for notebook and importing modules\n",
    "%matplotlib inline\n",
    "%load_ext autoreload\n",
    "%autoreload 2\n",
    "import pandas as pd\n",
    "import numpy as np\n",
    "import matplotlib.pyplot as plt"
   ]
  },
  {
   "cell_type": "markdown",
   "metadata": {},
   "source": [
    "In this tutorial we use a subset of the [newsgroup dataset](https://kdd.ics.uci.edu/databases/20newsgroups/20newsgroups.data.html), entitled `two_newsgroup`, which has two  categories: `comp.graphics` and `sci.med`.\n",
    "\n",
    "We load the dataset into a [pandas Dataframe](https://pandas.pydata.org), which is a two-dimensional labeled data-structure (like a table).\n",
    "Columns represent attributes and rows represent data instances. \n",
    "In the `two_newsgroup` dataset, columns represent document id, category and text for each document (*i.e.* each row).\n",
    "\n",
    "The code for reading the dataset is provided in the python source file `data.py` (which the next block loads)."
   ]
  },
  {
   "cell_type": "code",
   "execution_count": 2,
   "metadata": {},
   "outputs": [
    {
     "name": "stdout",
     "output_type": "stream",
     "text": [
      "Number of rows and columns of the dataset: (1963, 3)\n",
      "The first five documents:\n"
     ]
    },
    {
     "data": {
      "text/html": [
       "<div>\n",
       "<style>\n",
       "    .dataframe thead tr:only-child th {\n",
       "        text-align: right;\n",
       "    }\n",
       "\n",
       "    .dataframe thead th {\n",
       "        text-align: left;\n",
       "    }\n",
       "\n",
       "    .dataframe tbody tr th {\n",
       "        vertical-align: top;\n",
       "    }\n",
       "</style>\n",
       "<table border=\"1\" class=\"dataframe\">\n",
       "  <thead>\n",
       "    <tr style=\"text-align: right;\">\n",
       "      <th></th>\n",
       "      <th>id</th>\n",
       "      <th>category</th>\n",
       "      <th>text</th>\n",
       "    </tr>\n",
       "  </thead>\n",
       "  <tbody>\n",
       "    <tr>\n",
       "      <th>0</th>\n",
       "      <td>59263</td>\n",
       "      <td>sci.med</td>\n",
       "      <td>From: ttrusk@its.mcw.edu (Thomas Trusk)\\nSubje...</td>\n",
       "    </tr>\n",
       "    <tr>\n",
       "      <th>1</th>\n",
       "      <td>59051</td>\n",
       "      <td>sci.med</td>\n",
       "      <td>From: nyeda@cnsvax.uwec.edu (David Nye)\\nSubje...</td>\n",
       "    </tr>\n",
       "    <tr>\n",
       "      <th>2</th>\n",
       "      <td>59435</td>\n",
       "      <td>sci.med</td>\n",
       "      <td>From: \"nigel allen\" &lt;nigel.allen@canrem.com&gt;\\n...</td>\n",
       "    </tr>\n",
       "    <tr>\n",
       "      <th>3</th>\n",
       "      <td>59297</td>\n",
       "      <td>sci.med</td>\n",
       "      <td>From: jtpoupor@undergrad.math.uwaterloo.ca (Je...</td>\n",
       "    </tr>\n",
       "    <tr>\n",
       "      <th>4</th>\n",
       "      <td>59638</td>\n",
       "      <td>sci.med</td>\n",
       "      <td>Subject: Re: cure for dry skin?\\nFrom: habersc...</td>\n",
       "    </tr>\n",
       "  </tbody>\n",
       "</table>\n",
       "</div>"
      ],
      "text/plain": [
       "      id category                                               text\n",
       "0  59263  sci.med  From: ttrusk@its.mcw.edu (Thomas Trusk)\\nSubje...\n",
       "1  59051  sci.med  From: nyeda@cnsvax.uwec.edu (David Nye)\\nSubje...\n",
       "2  59435  sci.med  From: \"nigel allen\" <nigel.allen@canrem.com>\\n...\n",
       "3  59297  sci.med  From: jtpoupor@undergrad.math.uwaterloo.ca (Je...\n",
       "4  59638  sci.med  Subject: Re: cure for dry skin?\\nFrom: habersc..."
      ]
     },
     "execution_count": 2,
     "metadata": {},
     "output_type": "execute_result"
    }
   ],
   "source": [
    "from data import read_as_df\n",
    "## TODO start\n",
    "## specify the path to the dataset two_newsgroup\n",
    "path_to_dataset = '../data/two_newsgroups/'\n",
    "## TODO stop\n",
    "dataset = read_as_df(path_to_dataset)\n",
    "print(\"Number of rows and columns of the dataset: {}\".format(dataset.shape))\n",
    "print(\"The first five documents:\")\n",
    "dataset.head()"
   ]
  },
  {
   "cell_type": "markdown",
   "metadata": {},
   "source": [
    "## 2. Textual preprocessing\n",
    "\n",
    "As shown above, we have 1963 documents in our dataset. \n",
    "We extract and print the first document, which will be used throughout this section for introducing different text preprocessing techniques."
   ]
  },
  {
   "cell_type": "code",
   "execution_count": 3,
   "metadata": {},
   "outputs": [
    {
     "name": "stdout",
     "output_type": "stream",
     "text": [
      "From: ttrusk@its.mcw.edu (Thomas Trusk)\n",
      "Subject: Re: Krillean Photography\n",
      "Organization: Medical College of Wisconsin\n",
      "Lines: 22\n",
      "Reply-To: ttrusk@its.mcw.edu\n",
      "NNTP-Posting-Host: pixel.cellbio.mcw.edu\n",
      "\n",
      "\n",
      "In article <20APR199315574161@vxcrna.cern.ch> filipe@vxcrna.cern.ch (VINCI) writes:\n",
      "\n",
      "> How about Kirlian imaging ? I believe the FAQ for sci.skeptics (sp?)\n",
      "> has a nice write-up on this. They would certainly be most supportive\n",
      "> on helping you to build such a device and connect to a 120Kvolt\n",
      "> supply so that you can take a serious look at your \"aura\"... :-)\n",
      ">\n",
      "> Filipe Santos\n",
      "> CERN - European Laboratory for Particle Physics\n",
      "> Switzerland\n",
      "\n",
      "Please sign the relevant documents and forward the remaining parts\n",
      "to our study 'Effect of 120 Kv on Human Tissue wrapped in Film'.\n",
      "Thanks for your support...\n",
      "*=*=*=*=*=*=*=*=*=*=*=*=*=*=*=*=*=*==*=*=*=*=*=*=*=*=*=*=*=*=*=*=*=*=\n",
      "*Dr. Thomas Trusk                    *                              *\n",
      "*Dept. of Cellular Biology & Anatomy * Email to ttrusk@its.mcw.edu  *\n",
      "*Medical College of Wisconsin        *                              *\n",
      "*Milwaukee, WI  53226              DISCLAIMER (ala Foghorn Leghorn):*\n",
      "*(414) 257-8504                     It's a joke, son. A joke I say! *\n",
      "*=*=*=*=*=*=*=*=*=*=*=*=*=*=*=*=*=*==*=*=*=*=*=*=*=*=*=*=*=*=*=*=*=*=\n",
      "\n"
     ]
    }
   ],
   "source": [
    "document = dataset['text'][0]\n",
    "print(document)"
   ]
  },
  {
   "cell_type": "markdown",
   "metadata": {},
   "source": [
    "Most Machine Learning algorithms require the data to be represented as vectors, *i.e.* as array of numbers.\n",
    "We need to convert our document into a numeric vector. \n",
    "Before proceeding, we perform textual preprocessing and we convert the docuemnt to list of tokens. \n",
    "Some of the common preprocessing steps are:\n",
    "1. Tokenization \n",
    "2. Stop words removal\n",
    "3. Stemming\n",
    "\n",
    "We will cover these concepts one by one.\n",
    "\n",
    "### 2.1 Tokenization\n",
    "\n",
    "Tokenization divides a document into a sequence of tokens. Tokens are the basic unit of a document, *e.g.* words. \n",
    "The [NLTK](http://www.nltk.org) library provides different functionalities for text processing and natural language processing including tokenization, stemming and stop word removal. \n",
    "\n",
    "The following block defines a NLTK tokenizer based on a regex pattern which preserves abbreviations, words with hyphens, currencies and percentages, ellipsis (such as ...), *etc* when breaking a documents into a list of tokens."
   ]
  },
  {
   "cell_type": "code",
   "execution_count": 4,
   "metadata": {
    "collapsed": true
   },
   "outputs": [],
   "source": [
    "import nltk \n",
    "__tokenization_pattern = r'''(?x)          # set flag to allow verbose regexps\n",
    "        \\$?\\d+(?:\\.\\d+)?%?  # currency and percentages, e.g. $12.40, 82%\n",
    "      | (?:[A-Z]\\.)+        # abbreviations, e.g. U.S.A.\n",
    "      | \\w+(?:-\\w+)*        # words with optional internal hyphens\n",
    "      | \\.\\.\\.              # ellipsis\n",
    "      | [][.,;\"'?():_`-]    # these are separate tokens; includes ], [\n",
    "    '''\n",
    "\n",
    "## call it using tokenizer.tokenize\n",
    "tokenizer = nltk.tokenize.regexp.RegexpTokenizer(__tokenization_pattern)"
   ]
  },
  {
   "cell_type": "markdown",
   "metadata": {},
   "source": [
    "Let us construct the corresponding list of tokens for an example phrase:"
   ]
  },
  {
   "cell_type": "code",
   "execution_count": 5,
   "metadata": {},
   "outputs": [
    {
     "name": "stdout",
     "output_type": "stream",
     "text": [
      "['The', 'economy', 'of', 'Australia', 'is', 'a', 'developed', ',', 'with', 'a', 'G.D.P.', 'of', 'AUD', '$1.67', 'trillion', 'as', 'of', '2016', 'and', 'a', 'growth', 'rate', 'of', '2.80%', '.']\n"
     ]
    }
   ],
   "source": [
    "tokens = tokenizer.tokenize(\"\"\"\n",
    "The economy of Australia is a developed, with a G.D.P. of AUD$1.67 trillion as of 2016 and a growth rate of 2.80%.\n",
    "\n",
    "\"\"\")\n",
    "print(tokens)"
   ]
  },
  {
   "cell_type": "markdown",
   "metadata": {},
   "source": [
    "Now, let's use the tokenizer we just defined to tokenize our target document and obtain the corresponding list of tokens.\n",
    "Note that we are also converting the document to lowercase."
   ]
  },
  {
   "cell_type": "code",
   "execution_count": 7,
   "metadata": {
    "scrolled": false
   },
   "outputs": [
    {
     "name": "stdout",
     "output_type": "stream",
     "text": [
      "number of tokens : 130\n",
      "tokens: ['from', ':', 'ttrusk', 'its', '.', 'mcw', '.', 'edu', '(', 'thomas', 'trusk', ')', 'subject', ':', 're', ':', 'krillean', 'photography', 'organization', ':', 'medical', 'college', 'of', 'wisconsin', 'lines', ':', '22', 'reply-to', ':', 'ttrusk', 'its', '.', 'mcw', '.', 'edu', 'nntp-posting-host', ':', 'pixel', '.', 'cellbio', '.', 'mcw', '.', 'edu', 'in', 'article', '20', 'apr199315574161', 'vxcrna', '.', 'cern', '.', 'ch', 'filipe', 'vxcrna', '.', 'cern', '.', 'ch', '(', 'vinci', ')', 'writes', ':', 'how', 'about', 'kirlian', 'imaging', '?', 'i', 'believe', 'the', 'faq', 'for', 'sci', '.', 'skeptics', '(', 'sp', '?', ')', 'has', 'a', 'nice', 'write-up', 'on', 'this', '.', 'they', 'would', 'certainly', 'be', 'most', 'supportive', 'on', 'helping', 'you', 'to', 'build', 'such', 'a', 'device', 'and', 'connect', 'to', 'a', '120', 'kvolt', 'supply', 'so', 'that', 'you', 'can', 'take', 'a', 'serious', 'look', 'at', 'your', '\"', 'aura', '\"', '...', ':', '-', ')', 'filipe', 'santos', 'cern', '-', 'european', 'laboratory', 'for', 'particle', 'physics', 'switzerland', 'please', 'sign', 'the', 'relevant', 'documents', 'and', 'forward', 'the', 'remaining', 'parts', 'to', 'our', 'study', \"'\", 'effect', 'of', '120', 'kv', 'on', 'human', 'tissue', 'wrapped', 'in', 'film', \"'\", '.', 'thanks', 'for', 'your', 'support', '...', 'dr', '.', 'thomas', 'trusk', 'dept', '.', 'of', 'cellular', 'biology', 'anatomy', 'email', 'to', 'ttrusk', 'its', '.', 'mcw', '.', 'edu', 'medical', 'college', 'of', 'wisconsin', 'milwaukee', ',', 'wi', '53226', 'disclaimer', '(', 'ala', 'foghorn', 'leghorn', ')', ':', '(', '414', ')', '257', '-', '8504', 'it', \"'\", 's', 'a', 'joke', ',', 'son', '.', 'a', 'joke', 'i', 'say']\n"
     ]
    }
   ],
   "source": [
    "tokens = tokenizer.tokenize(document.lower())\n",
    "print(\"number of tokens : {}\".format(len(set(tokens))))\n",
    "print(\"tokens: {}\".format(tokens))"
   ]
  },
  {
   "cell_type": "markdown",
   "metadata": {},
   "source": [
    "Now, we will filter out the non alphabetic tokens using the standard Python function [isalpha()](https://docs.python.org/2/library/stdtypes.html)."
   ]
  },
  {
   "cell_type": "code",
   "execution_count": 8,
   "metadata": {},
   "outputs": [
    {
     "name": "stdout",
     "output_type": "stream",
     "text": [
      "number of tokens : 109\n",
      "tokens: ['from', 'ttrusk', 'its', 'mcw', 'edu', 'thomas', 'trusk', 'subject', 're', 'krillean', 'photography', 'organization', 'medical', 'college', 'of', 'wisconsin', 'lines', 'ttrusk', 'its', 'mcw', 'edu', 'pixel', 'cellbio', 'mcw', 'edu', 'in', 'article', 'vxcrna', 'cern', 'ch', 'filipe', 'vxcrna', 'cern', 'ch', 'vinci', 'writes', 'how', 'about', 'kirlian', 'imaging', 'i', 'believe', 'the', 'faq', 'for', 'sci', 'skeptics', 'sp', 'has', 'a', 'nice', 'on', 'this', 'they', 'would', 'certainly', 'be', 'most', 'supportive', 'on', 'helping', 'you', 'to', 'build', 'such', 'a', 'device', 'and', 'connect', 'to', 'a', 'kvolt', 'supply', 'so', 'that', 'you', 'can', 'take', 'a', 'serious', 'look', 'at', 'your', 'aura', 'filipe', 'santos', 'cern', 'european', 'laboratory', 'for', 'particle', 'physics', 'switzerland', 'please', 'sign', 'the', 'relevant', 'documents', 'and', 'forward', 'the', 'remaining', 'parts', 'to', 'our', 'study', 'effect', 'of', 'kv', 'on', 'human', 'tissue', 'wrapped', 'in', 'film', 'thanks', 'for', 'your', 'support', 'dr', 'thomas', 'trusk', 'dept', 'of', 'cellular', 'biology', 'anatomy', 'email', 'to', 'ttrusk', 'its', 'mcw', 'edu', 'medical', 'college', 'of', 'wisconsin', 'milwaukee', 'wi', 'disclaimer', 'ala', 'foghorn', 'leghorn', 'it', 's', 'a', 'joke', 'son', 'a', 'joke', 'i', 'say']\n"
     ]
    }
   ],
   "source": [
    "## filter out non alphabets\n",
    "alphabet_tokens = [token for token in tokens if token.isalpha()]\n",
    "print(\"number of tokens : {}\".format(len(set(alphabet_tokens))))\n",
    "print(\"tokens: {}\".format(alphabet_tokens))"
   ]
  },
  {
   "cell_type": "markdown",
   "metadata": {},
   "source": [
    "### 2.2 Stopwords removal\n",
    "Stopwords are commonly used words that do not provide any document specific information, such as **the**, **from**, **to**, **at** *etc*.\n",
    "We use the NLTK standard stopwords list to remove stopwords from our list of tokens."
   ]
  },
  {
   "cell_type": "code",
   "execution_count": 9,
   "metadata": {},
   "outputs": [
    {
     "name": "stdout",
     "output_type": "stream",
     "text": [
      "number of tokens : 80\n",
      "tokens: ['ttrusk', 'mcw', 'edu', 'thomas', 'trusk', 'subject', 'krillean', 'photography', 'organization', 'medical', 'college', 'wisconsin', 'lines', 'ttrusk', 'mcw', 'edu', 'pixel', 'cellbio', 'mcw', 'edu', 'article', 'vxcrna', 'cern', 'ch', 'filipe', 'vxcrna', 'cern', 'ch', 'vinci', 'writes', 'kirlian', 'imaging', 'believe', 'faq', 'sci', 'skeptics', 'sp', 'nice', 'would', 'certainly', 'supportive', 'helping', 'build', 'device', 'connect', 'kvolt', 'supply', 'take', 'serious', 'look', 'aura', 'filipe', 'santos', 'cern', 'european', 'laboratory', 'particle', 'physics', 'switzerland', 'please', 'sign', 'relevant', 'documents', 'forward', 'remaining', 'parts', 'study', 'effect', 'kv', 'human', 'tissue', 'wrapped', 'film', 'thanks', 'support', 'dr', 'thomas', 'trusk', 'dept', 'cellular', 'biology', 'anatomy', 'email', 'ttrusk', 'mcw', 'edu', 'medical', 'college', 'wisconsin', 'milwaukee', 'wi', 'disclaimer', 'ala', 'foghorn', 'leghorn', 'joke', 'son', 'joke', 'say']\n"
     ]
    }
   ],
   "source": [
    "from nltk.corpus import stopwords\n",
    "en_stopwords = set(stopwords.words('english'))\n",
    "non_stopwords = [word for word in alphabet_tokens if not word in en_stopwords]\n",
    "print(\"number of tokens : {}\".format(len(set(non_stopwords))))\n",
    "print(\"tokens: {}\".format(non_stopwords))"
   ]
  },
  {
   "cell_type": "markdown",
   "metadata": {},
   "source": [
    "### 2.3 Stemming\n",
    "[Stemming](https://en.wikipedia.org/wiki/Stemming) is the process of reducing inflected words to their word stem, base or root form. \n",
    "The NLTK python library also contains an implementation of the [Snowball stemming](http://snowballstem.org) algorithm."
   ]
  },
  {
   "cell_type": "code",
   "execution_count": 10,
   "metadata": {},
   "outputs": [
    {
     "name": "stdout",
     "output_type": "stream",
     "text": [
      "number of tokens : 79\n",
      "tokens: ['ttrusk', 'mcw', 'edu', 'thoma', 'trusk', 'subject', 'krillean', 'photographi', 'organ', 'medic', 'colleg', 'wisconsin', 'line', 'ttrusk', 'mcw', 'edu', 'pixel', 'cellbio', 'mcw', 'edu', 'articl', 'vxcrna', 'cern', 'ch', 'filip', 'vxcrna', 'cern', 'ch', 'vinci', 'write', 'kirlian', 'imag', 'believ', 'faq', 'sci', 'skeptic', 'sp', 'nice', 'would', 'certain', 'support', 'help', 'build', 'devic', 'connect', 'kvolt', 'suppli', 'take', 'serious', 'look', 'aura', 'filip', 'santo', 'cern', 'european', 'laboratori', 'particl', 'physic', 'switzerland', 'pleas', 'sign', 'relev', 'document', 'forward', 'remain', 'part', 'studi', 'effect', 'kv', 'human', 'tissu', 'wrap', 'film', 'thank', 'support', 'dr', 'thoma', 'trusk', 'dept', 'cellular', 'biolog', 'anatomi', 'email', 'ttrusk', 'mcw', 'edu', 'medic', 'colleg', 'wisconsin', 'milwauke', 'wi', 'disclaim', 'ala', 'foghorn', 'leghorn', 'joke', 'son', 'joke', 'say']\n"
     ]
    }
   ],
   "source": [
    "from nltk.stem.snowball import SnowballStemmer\n",
    "stemmer = SnowballStemmer(\"english\")\n",
    "\n",
    "stems = [str(stemmer.stem(word)) for word in non_stopwords]\n",
    "print(\"number of tokens : {}\".format(len(set(stems))))\n",
    "print(\"tokens: {}\".format(stems))"
   ]
  },
  {
   "cell_type": "markdown",
   "metadata": {},
   "source": [
    "Notice that the number of unique tokens decreases with each of the preprocessing steps. Why did this happen?"
   ]
  },
  {
   "cell_type": "markdown",
   "metadata": {},
   "source": [
    "## Implementation task\n",
    "Your current task is to **build the a preprocessing function** which takes an entire document and performs all of the above preprocessing steps (*i.e.* converting to lowercase, tokenization, removing stopwords and stemming) in a single function. "
   ]
  },
  {
   "cell_type": "code",
   "execution_count": 11,
   "metadata": {
    "collapsed": true
   },
   "outputs": [],
   "source": [
    "def preprocessor(text):\n",
    "    '''\n",
    "        turns text into tokens after tokenization, stemming, stop words removal\n",
    "        imput:\n",
    "            - text: document to process\n",
    "        output: =>\n",
    "            - tokens: list of tokens after tokenization, stemming, stop words removal\n",
    "    '''\n",
    "    stems = []\n",
    "    \n",
    "    ## TODO: fill each of the steps below\n",
    "    ## Step 1: tokenization\n",
    "    ## Step 2: remove non-alphabetic characters\n",
    "    ## Step 3: remove stopwords\n",
    "    ## Step 4: stemm tokens\n",
    "\n",
    "    ## TODO end\n",
    "    \n",
    "    return stems"
   ]
  },
  {
   "cell_type": "markdown",
   "metadata": {},
   "source": [
    "We will use your newly implmented function to create a column of `tokens` in our dataframe. \n",
    "The method [`DataFrame.apply`](https://pandas.pydata.org/pandas-docs/stable/generated/pandas.DataFrame.apply.html) takes a function and applies it to each row of the dataframe. \n",
    "\n",
    "**note**: the next block might a bit to execute depending on the efficiency of your implementation and on the performances of your system."
   ]
  },
  {
   "cell_type": "code",
   "execution_count": 12,
   "metadata": {},
   "outputs": [
    {
     "data": {
      "text/html": [
       "<div>\n",
       "<style>\n",
       "    .dataframe thead tr:only-child th {\n",
       "        text-align: right;\n",
       "    }\n",
       "\n",
       "    .dataframe thead th {\n",
       "        text-align: left;\n",
       "    }\n",
       "\n",
       "    .dataframe tbody tr th {\n",
       "        vertical-align: top;\n",
       "    }\n",
       "</style>\n",
       "<table border=\"1\" class=\"dataframe\">\n",
       "  <thead>\n",
       "    <tr style=\"text-align: right;\">\n",
       "      <th></th>\n",
       "      <th>id</th>\n",
       "      <th>category</th>\n",
       "      <th>text</th>\n",
       "      <th>tokens</th>\n",
       "    </tr>\n",
       "  </thead>\n",
       "  <tbody>\n",
       "    <tr>\n",
       "      <th>0</th>\n",
       "      <td>59263</td>\n",
       "      <td>sci.med</td>\n",
       "      <td>From: ttrusk@its.mcw.edu (Thomas Trusk)\\nSubje...</td>\n",
       "      <td>[]</td>\n",
       "    </tr>\n",
       "    <tr>\n",
       "      <th>1</th>\n",
       "      <td>59051</td>\n",
       "      <td>sci.med</td>\n",
       "      <td>From: nyeda@cnsvax.uwec.edu (David Nye)\\nSubje...</td>\n",
       "      <td>[]</td>\n",
       "    </tr>\n",
       "    <tr>\n",
       "      <th>2</th>\n",
       "      <td>59435</td>\n",
       "      <td>sci.med</td>\n",
       "      <td>From: \"nigel allen\" &lt;nigel.allen@canrem.com&gt;\\n...</td>\n",
       "      <td>[]</td>\n",
       "    </tr>\n",
       "    <tr>\n",
       "      <th>3</th>\n",
       "      <td>59297</td>\n",
       "      <td>sci.med</td>\n",
       "      <td>From: jtpoupor@undergrad.math.uwaterloo.ca (Je...</td>\n",
       "      <td>[]</td>\n",
       "    </tr>\n",
       "    <tr>\n",
       "      <th>4</th>\n",
       "      <td>59638</td>\n",
       "      <td>sci.med</td>\n",
       "      <td>Subject: Re: cure for dry skin?\\nFrom: habersc...</td>\n",
       "      <td>[]</td>\n",
       "    </tr>\n",
       "  </tbody>\n",
       "</table>\n",
       "</div>"
      ],
      "text/plain": [
       "      id category                                               text tokens\n",
       "0  59263  sci.med  From: ttrusk@its.mcw.edu (Thomas Trusk)\\nSubje...     []\n",
       "1  59051  sci.med  From: nyeda@cnsvax.uwec.edu (David Nye)\\nSubje...     []\n",
       "2  59435  sci.med  From: \"nigel allen\" <nigel.allen@canrem.com>\\n...     []\n",
       "3  59297  sci.med  From: jtpoupor@undergrad.math.uwaterloo.ca (Je...     []\n",
       "4  59638  sci.med  Subject: Re: cure for dry skin?\\nFrom: habersc...     []"
      ]
     },
     "execution_count": 12,
     "metadata": {},
     "output_type": "execute_result"
    }
   ],
   "source": [
    "dataset['tokens'] = dataset['text'].apply(preprocessor)\n",
    "dataset.head()"
   ]
  },
  {
   "cell_type": "markdown",
   "metadata": {},
   "source": [
    "## 3. Statistics over textual tokens\n",
    "We compute the histogram of tokens across the entire dataset and we search for the 10 most frequent tokens with their counts.\n",
    "We also produce the plot of the frequency of the most common 50 tokens (the X axis presents tokens, ordered by their frequency).\n",
    "\n",
    "You can change 50 to a higher value to have even more tokens plotted.\n",
    "What do you observe about the obtained distribution of token frequency? Does it look like a **rich-get-richer** effect?\n",
    "What does this mean in the context of textual processing?\n",
    "What other quantities present such a distribution (think about the distribution of heights vs. the distribution of income in a population of humans)?\n",
    "\n",
    "Notice the python function [itertools.chain](https://docs.python.org/2/library/itertools.html#itertools.chain), of which you can think as a function that concatenates a list of lists into a single list."
   ]
  },
  {
   "cell_type": "code",
   "execution_count": 13,
   "metadata": {
    "scrolled": false
   },
   "outputs": [
    {
     "name": "stdout",
     "output_type": "stream",
     "text": [
      "[]\n"
     ]
    },
    {
     "data": {
      "image/png": "[encoded data removed]",
      "text/plain": [
       "<matplotlib.figure.Figure at 0x11accf160>"
      ]
     },
     "metadata": {},
     "output_type": "display_data"
    }
   ],
   "source": [
    "from itertools import chain\n",
    "fdist = nltk.FreqDist(chain(*dataset['tokens']))\n",
    "print(fdist.most_common(10))\n",
    "\n",
    "plt.figure(figsize=(15, 6))  # the size you want\n",
    "fdist.plot(50,cumulative=False)"
   ]
  },
  {
   "cell_type": "markdown",
   "metadata": {},
   "source": [
    "How many unique tokens do we have in the dataset?"
   ]
  },
  {
   "cell_type": "code",
   "execution_count": 14,
   "metadata": {},
   "outputs": [
    {
     "name": "stdout",
     "output_type": "stream",
     "text": [
      "number of tokens in the dataset: 0\n"
     ]
    }
   ],
   "source": [
    "## total number of unique tokens in the collection\n",
    "all_tokens = set(chain(*dataset['tokens']))\n",
    "print(\"number of tokens in the dataset: {}\".format(len(all_tokens)))"
   ]
  },
  {
   "cell_type": "markdown",
   "metadata": {},
   "source": [
    "## 4. Boolean representation and search\n",
    "### 4.1 Boolean representation\n",
    "The sparse boolean representation represents a document as a set of words. \n",
    "Therefore, we create a new column in our dataset to represent each document as **a set** of tokens (as opposed to **a vector** of tokens in the previous column).\n",
    "One of the advantages of the set representation is that it allows accesing efficient python methods for searching is a token exists in a set."
   ]
  },
  {
   "cell_type": "code",
   "execution_count": 15,
   "metadata": {},
   "outputs": [
    {
     "data": {
      "text/html": [
       "<div>\n",
       "<style>\n",
       "    .dataframe thead tr:only-child th {\n",
       "        text-align: right;\n",
       "    }\n",
       "\n",
       "    .dataframe thead th {\n",
       "        text-align: left;\n",
       "    }\n",
       "\n",
       "    .dataframe tbody tr th {\n",
       "        vertical-align: top;\n",
       "    }\n",
       "</style>\n",
       "<table border=\"1\" class=\"dataframe\">\n",
       "  <thead>\n",
       "    <tr style=\"text-align: right;\">\n",
       "      <th></th>\n",
       "      <th>id</th>\n",
       "      <th>category</th>\n",
       "      <th>text</th>\n",
       "      <th>tokens</th>\n",
       "      <th>features</th>\n",
       "    </tr>\n",
       "  </thead>\n",
       "  <tbody>\n",
       "    <tr>\n",
       "      <th>0</th>\n",
       "      <td>59263</td>\n",
       "      <td>sci.med</td>\n",
       "      <td>From: ttrusk@its.mcw.edu (Thomas Trusk)\\nSubje...</td>\n",
       "      <td>[]</td>\n",
       "      <td>{}</td>\n",
       "    </tr>\n",
       "    <tr>\n",
       "      <th>1</th>\n",
       "      <td>59051</td>\n",
       "      <td>sci.med</td>\n",
       "      <td>From: nyeda@cnsvax.uwec.edu (David Nye)\\nSubje...</td>\n",
       "      <td>[]</td>\n",
       "      <td>{}</td>\n",
       "    </tr>\n",
       "    <tr>\n",
       "      <th>2</th>\n",
       "      <td>59435</td>\n",
       "      <td>sci.med</td>\n",
       "      <td>From: \"nigel allen\" &lt;nigel.allen@canrem.com&gt;\\n...</td>\n",
       "      <td>[]</td>\n",
       "      <td>{}</td>\n",
       "    </tr>\n",
       "    <tr>\n",
       "      <th>3</th>\n",
       "      <td>59297</td>\n",
       "      <td>sci.med</td>\n",
       "      <td>From: jtpoupor@undergrad.math.uwaterloo.ca (Je...</td>\n",
       "      <td>[]</td>\n",
       "      <td>{}</td>\n",
       "    </tr>\n",
       "    <tr>\n",
       "      <th>4</th>\n",
       "      <td>59638</td>\n",
       "      <td>sci.med</td>\n",
       "      <td>Subject: Re: cure for dry skin?\\nFrom: habersc...</td>\n",
       "      <td>[]</td>\n",
       "      <td>{}</td>\n",
       "    </tr>\n",
       "  </tbody>\n",
       "</table>\n",
       "</div>"
      ],
      "text/plain": [
       "      id category                                               text tokens  \\\n",
       "0  59263  sci.med  From: ttrusk@its.mcw.edu (Thomas Trusk)\\nSubje...     []   \n",
       "1  59051  sci.med  From: nyeda@cnsvax.uwec.edu (David Nye)\\nSubje...     []   \n",
       "2  59435  sci.med  From: \"nigel allen\" <nigel.allen@canrem.com>\\n...     []   \n",
       "3  59297  sci.med  From: jtpoupor@undergrad.math.uwaterloo.ca (Je...     []   \n",
       "4  59638  sci.med  Subject: Re: cure for dry skin?\\nFrom: habersc...     []   \n",
       "\n",
       "  features  \n",
       "0       {}  \n",
       "1       {}  \n",
       "2       {}  \n",
       "3       {}  \n",
       "4       {}  "
      ]
     },
     "execution_count": 15,
     "metadata": {},
     "output_type": "execute_result"
    }
   ],
   "source": [
    "dataset['features'] = dataset['tokens'].apply(set)\n",
    "dataset.head()"
   ]
  },
  {
   "cell_type": "markdown",
   "metadata": {},
   "source": [
    "### 4.2 Boolean Search\n",
    "\n",
    "We implement a simple boolean search through the document collection. \n",
    "The boolean search was presented in the IR lectures (refresh your memory using the [link to the corresponding IR lecture slides](https://wattlecourses.anu.edu.au/pluginfile.php/1481743/mod_resource/content/0/lecture1_intro_to_br.pdf#page=13) )."
   ]
  },
  {
   "cell_type": "markdown",
   "metadata": {},
   "source": [
    "Let's start with searching for documents which contain the words `research` or `seminar`.\n",
    "\n",
    "To do this, we create in the following block a predicate function that returns true if the document `doc` contains `research` or `seminar` in it."
   ]
  },
  {
   "cell_type": "code",
   "execution_count": 16,
   "metadata": {},
   "outputs": [
    {
     "name": "stdout",
     "output_type": "stream",
     "text": [
      "num_matches = 0\n"
     ]
    },
    {
     "data": {
      "text/html": [
       "<div>\n",
       "<style>\n",
       "    .dataframe thead tr:only-child th {\n",
       "        text-align: right;\n",
       "    }\n",
       "\n",
       "    .dataframe thead th {\n",
       "        text-align: left;\n",
       "    }\n",
       "\n",
       "    .dataframe tbody tr th {\n",
       "        vertical-align: top;\n",
       "    }\n",
       "</style>\n",
       "<table border=\"1\" class=\"dataframe\">\n",
       "  <thead>\n",
       "    <tr style=\"text-align: right;\">\n",
       "      <th></th>\n",
       "      <th>id</th>\n",
       "      <th>category</th>\n",
       "      <th>text</th>\n",
       "      <th>tokens</th>\n",
       "      <th>features</th>\n",
       "    </tr>\n",
       "  </thead>\n",
       "  <tbody>\n",
       "  </tbody>\n",
       "</table>\n",
       "</div>"
      ],
      "text/plain": [
       "Empty DataFrame\n",
       "Columns: [id, category, text, tokens, features]\n",
       "Index: []"
      ]
     },
     "execution_count": 16,
     "metadata": {},
     "output_type": "execute_result"
    }
   ],
   "source": [
    "def predicate(doc): \n",
    "    return stemmer.stem('research') in doc or stemmer.stem('seminar') in doc\n",
    "\n",
    "## an array of true or false indicating match or ot match at corresponnding index\n",
    "matches = dataset['features'].apply(predicate)\n",
    "print('num_matches = {}'.format(dataset[matches].size))\n",
    "dataset[matches].head()"
   ]
  },
  {
   "cell_type": "markdown",
   "metadata": {},
   "source": [
    "**Note** that we stem each term in the query in the predicate. Why did we do this?\n",
    "\n",
    "## Implementation task\n",
    "Now search for documents containing `silicon` and `valley`. What should the predicate function be? "
   ]
  },
  {
   "cell_type": "code",
   "execution_count": 17,
   "metadata": {},
   "outputs": [
    {
     "ename": "IndentationError",
     "evalue": "expected an indented block (<ipython-input-17-4e6cda05ff65>, line 6)",
     "output_type": "error",
     "traceback": [
      "\u001b[0;36m  File \u001b[0;32m\"<ipython-input-17-4e6cda05ff65>\"\u001b[0;36m, line \u001b[0;32m6\u001b[0m\n\u001b[0;31m    matches = dataset['features'].apply(predicate)\u001b[0m\n\u001b[0m          ^\u001b[0m\n\u001b[0;31mIndentationError\u001b[0m\u001b[0;31m:\u001b[0m expected an indented block\n"
     ]
    }
   ],
   "source": [
    "def predicate(doc): \n",
    "    ## TODO: implement the predicate function\n",
    "    \n",
    "    ## TODO stop\n",
    "\n",
    "matches = dataset['features'].apply(predicate)\n",
    "print('num_matches = {}'.format(dataset[matches].size))\n",
    "dataset[matches].head()"
   ]
  },
  {
   "cell_type": "markdown",
   "metadata": {},
   "source": [
    "\n"
   ]
  }
 ],
 "metadata": {
  "kernelspec": {
   "display_name": "Python 3",
   "language": "python",
   "name": "python3"
  },
  "language_info": {
   "codemirror_mode": {
    "name": "ipython",
    "version": 3
   },
   "file_extension": ".py",
   "mimetype": "text/x-python",
   "name": "python",
   "nbconvert_exporter": "python",
   "pygments_lexer": "ipython3",
   "version": "3.6.2"
  }
 },
 "nbformat": 4,
 "nbformat_minor": 2
}
