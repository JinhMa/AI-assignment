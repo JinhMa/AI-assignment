{
 "cells": [
  {
   "cell_type": "markdown",
   "metadata": {},
   "source": [
    "# 1. From text to a numerical representation\n",
    "In the previous tutorial, we represented documents as sets of tokens (also known as the boolean representation).\n",
    "Typically, machine learning algorithms require a vectorial representation for their data. \n",
    "The most common vectorial representation for textual data is the Vector Space Model, in which the score on each dimension (each feature) is constructed by using:\n",
    "\n",
    " 1. Boolean Representation\n",
    " 2. Term Frequency (TF)\n",
    " 3. Term Frequency - Inverse document frequency (TF-IDF)\n",
    "\n",
    "All of these are available in `sklearn.feature_extraction.text`, a module of the `scikit-learn` library. \n",
    "This tutorial will cover the construction of these representations, as well as training and using textual classifiers."
   ]
  },
  {
   "cell_type": "code",
   "execution_count": 1,
   "metadata": {
    "collapsed": false
   },
   "outputs": [],
   "source": [
    "## some configurations for notebook and importing modules\n",
    "%matplotlib inline\n",
    "%load_ext autoreload\n",
    "%autoreload 2\n",
    "\n",
    "import pandas as pd\n",
    "import numpy as np\n",
    "import matplotlib.pyplot as plt"
   ]
  },
  {
   "cell_type": "markdown",
   "metadata": {},
   "source": [
    "In this tutorial we use the `newsgroup dataset`, in which documents belong to one of the nine categories.\n",
    "\n",
    "We load dataset into a `pandas` Dataframe, which is a two-dimensional labeled data-structure (similar to a table), in which columns represent attributes and rows represent data instances.\n",
    "The in the `dataset` Dataframe resulted after executing the next block, each row is a document, and the columns are the id, the category and the text of the given document."
   ]
  },
  {
   "cell_type": "code",
   "execution_count": 2,
   "metadata": {
    "collapsed": false
   },
   "outputs": [
    {
     "data": {
      "text/html": [
       "<div>\n",
       "<style>\n",
       "    .dataframe thead tr:only-child th {\n",
       "        text-align: right;\n",
       "    }\n",
       "\n",
       "    .dataframe thead th {\n",
       "        text-align: left;\n",
       "    }\n",
       "\n",
       "    .dataframe tbody tr th {\n",
       "        vertical-align: top;\n",
       "    }\n",
       "</style>\n",
       "<table border=\"1\" class=\"dataframe\">\n",
       "  <thead>\n",
       "    <tr style=\"text-align: right;\">\n",
       "      <th></th>\n",
       "      <th>id</th>\n",
       "      <th>category</th>\n",
       "      <th>text</th>\n",
       "    </tr>\n",
       "  </thead>\n",
       "  <tbody>\n",
       "    <tr>\n",
       "      <th>0</th>\n",
       "      <td>39496</td>\n",
       "      <td>comp.graphics</td>\n",
       "      <td>From: wnkretz@ikesg1.energietechnik.uni-stuttg...</td>\n",
       "    </tr>\n",
       "    <tr>\n",
       "      <th>1</th>\n",
       "      <td>38358</td>\n",
       "      <td>comp.graphics</td>\n",
       "      <td>From: tsa@cellar.org (The Silent Assassin)\\nSu...</td>\n",
       "    </tr>\n",
       "    <tr>\n",
       "      <th>2</th>\n",
       "      <td>38765</td>\n",
       "      <td>comp.graphics</td>\n",
       "      <td>From: n8844264@henson.cc.wwu.edu (Cummins Char...</td>\n",
       "    </tr>\n",
       "    <tr>\n",
       "      <th>3</th>\n",
       "      <td>38637</td>\n",
       "      <td>comp.graphics</td>\n",
       "      <td>From: rytg7@fel.tno.nl (Q. van Rijt)\\nSubject:...</td>\n",
       "    </tr>\n",
       "    <tr>\n",
       "      <th>4</th>\n",
       "      <td>38422</td>\n",
       "      <td>comp.graphics</td>\n",
       "      <td>From: watson@madvax.uwa.oz.au (David Watson)\\n...</td>\n",
       "    </tr>\n",
       "  </tbody>\n",
       "</table>\n",
       "</div>"
      ],
      "text/plain": [
       "      id       category                                               text\n",
       "0  39496  comp.graphics  From: wnkretz@ikesg1.energietechnik.uni-stuttg...\n",
       "1  38358  comp.graphics  From: tsa@cellar.org (The Silent Assassin)\\nSu...\n",
       "2  38765  comp.graphics  From: n8844264@henson.cc.wwu.edu (Cummins Char...\n",
       "3  38637  comp.graphics  From: rytg7@fel.tno.nl (Q. van Rijt)\\nSubject:...\n",
       "4  38422  comp.graphics  From: watson@madvax.uwa.oz.au (David Watson)\\n..."
      ]
     },
     "execution_count": 2,
     "metadata": {},
     "output_type": "execute_result"
    }
   ],
   "source": [
    "from data import read_as_df\n",
    "from prepros import preprocessor\n",
    "## TODO start\n",
    "## provide path to full newsgroup dataset\n",
    "path_to_dataset = '../data/newsgroups/'\n",
    "## TODO stop\n",
    "\n",
    "dataset = read_as_df(path_to_dataset)\n",
    "dataset.head()"
   ]
  },
  {
   "cell_type": "markdown",
   "metadata": {},
   "source": [
    "We use the preprocessing function that you wrote in the previous tutorial (now available in the file `prepros.py`) to pre-process each document in the dataset. \n",
    "This will add a new column to the previously created Dataframe.\n",
    "\n",
    "**Note** This next block might take a while to execute."
   ]
  },
  {
   "cell_type": "code",
   "execution_count": 3,
   "metadata": {
    "collapsed": false
   },
   "outputs": [
    {
     "data": {
      "text/html": [
       "<div>\n",
       "<style>\n",
       "    .dataframe thead tr:only-child th {\n",
       "        text-align: right;\n",
       "    }\n",
       "\n",
       "    .dataframe thead th {\n",
       "        text-align: left;\n",
       "    }\n",
       "\n",
       "    .dataframe tbody tr th {\n",
       "        vertical-align: top;\n",
       "    }\n",
       "</style>\n",
       "<table border=\"1\" class=\"dataframe\">\n",
       "  <thead>\n",
       "    <tr style=\"text-align: right;\">\n",
       "      <th></th>\n",
       "      <th>id</th>\n",
       "      <th>category</th>\n",
       "      <th>text</th>\n",
       "      <th>tokens</th>\n",
       "    </tr>\n",
       "  </thead>\n",
       "  <tbody>\n",
       "    <tr>\n",
       "      <th>0</th>\n",
       "      <td>39496</td>\n",
       "      <td>comp.graphics</td>\n",
       "      <td>From: wnkretz@ikesg1.energietechnik.uni-stuttg...</td>\n",
       "      <td>[wnkretz, energietechnik, de, oliv, kretzschma...</td>\n",
       "    </tr>\n",
       "    <tr>\n",
       "      <th>1</th>\n",
       "      <td>38358</td>\n",
       "      <td>comp.graphics</td>\n",
       "      <td>From: tsa@cellar.org (The Silent Assassin)\\nSu...</td>\n",
       "      <td>[tsa, cellar, org, silent, assassin, subject, ...</td>\n",
       "    </tr>\n",
       "    <tr>\n",
       "      <th>2</th>\n",
       "      <td>38765</td>\n",
       "      <td>comp.graphics</td>\n",
       "      <td>From: n8844264@henson.cc.wwu.edu (Cummins Char...</td>\n",
       "      <td>[henson, cc, wwu, edu, cummin, charl, subject,...</td>\n",
       "    </tr>\n",
       "    <tr>\n",
       "      <th>3</th>\n",
       "      <td>38637</td>\n",
       "      <td>comp.graphics</td>\n",
       "      <td>From: rytg7@fel.tno.nl (Q. van Rijt)\\nSubject:...</td>\n",
       "      <td>[fel, tno, nl, q, van, rijt, subject, sphere, ...</td>\n",
       "    </tr>\n",
       "    <tr>\n",
       "      <th>4</th>\n",
       "      <td>38422</td>\n",
       "      <td>comp.graphics</td>\n",
       "      <td>From: watson@madvax.uwa.oz.au (David Watson)\\n...</td>\n",
       "      <td>[watson, madvax, uwa, oz, au, david, watson, s...</td>\n",
       "    </tr>\n",
       "  </tbody>\n",
       "</table>\n",
       "</div>"
      ],
      "text/plain": [
       "      id       category                                               text  \\\n",
       "0  39496  comp.graphics  From: wnkretz@ikesg1.energietechnik.uni-stuttg...   \n",
       "1  38358  comp.graphics  From: tsa@cellar.org (The Silent Assassin)\\nSu...   \n",
       "2  38765  comp.graphics  From: n8844264@henson.cc.wwu.edu (Cummins Char...   \n",
       "3  38637  comp.graphics  From: rytg7@fel.tno.nl (Q. van Rijt)\\nSubject:...   \n",
       "4  38422  comp.graphics  From: watson@madvax.uwa.oz.au (David Watson)\\n...   \n",
       "\n",
       "                                              tokens  \n",
       "0  [wnkretz, energietechnik, de, oliv, kretzschma...  \n",
       "1  [tsa, cellar, org, silent, assassin, subject, ...  \n",
       "2  [henson, cc, wwu, edu, cummin, charl, subject,...  \n",
       "3  [fel, tno, nl, q, van, rijt, subject, sphere, ...  \n",
       "4  [watson, madvax, uwa, oz, au, david, watson, s...  "
      ]
     },
     "execution_count": 3,
     "metadata": {},
     "output_type": "execute_result"
    }
   ],
   "source": [
    "dataset['tokens'] = dataset['text'].apply(preprocessor)\n",
    "dataset.head()"
   ]
  },
  {
   "cell_type": "markdown",
   "metadata": {},
   "source": [
    "In the previous module, we studied the boolean representation of a document, as a set of tokens.\n",
    "Here, we build a bag-of-words representation, where each document is represented as vector of word counts rather than just as a set of words. \n",
    "\n",
    "## 1.1 CountVectorizer\n",
    "\n",
    "We use scikit-learn's [CountVectorizer](http://scikit-learn.org/stable/modules/generated/sklearn.feature_extraction.text.CountVectorizer.html) for vectorizing the tokens. \n",
    "[Scikit Learn](http://scikit-learn.org/stable/index.html) is a popular python package for machine learning.\n",
    "\n",
    "CountVectorizer itself can remove stop_words, convert text into lowercase tokens.\n",
    "However, we will not use these options since we have already built a more sophisticated tokenizer, which can stem tokens (which not readily available in scikit-learn). \n",
    "To use our tokenizer, we define CountVectorizer with options `tokenizer = lambda x: x`, which means we are asking CountVectorizer to apply identity function as we already have a list of tokens available. \n",
    "\n",
    "Note that we can set `binary=True` option to use the boolean representation.\n",
    "Setting it to False outputs a bag-of-words representation."
   ]
  },
  {
   "cell_type": "code",
   "execution_count": 4,
   "metadata": {
    "collapsed": false,
    "scrolled": true
   },
   "outputs": [
    {
     "name": "stdout",
     "output_type": "stream",
     "text": [
      "  (0, 1357)\t1\n",
      "  (0, 1541)\t1\n",
      "  (0, 3250)\t1\n",
      "  (0, 4571)\t1\n",
      "  (0, 2862)\t1\n",
      "  (0, 1328)\t1\n",
      "  (0, 1844)\t1\n",
      "  (0, 4330)\t1\n",
      "  (0, 2122)\t1\n",
      "  (0, 2579)\t1\n",
      "  (0, 3299)\t1\n",
      "  (0, 1430)\t1\n",
      "  (0, 3965)\t1\n",
      "  (0, 2846)\t1\n",
      "  (0, 3082)\t1\n",
      "  (0, 2957)\t1\n",
      "  (0, 3395)\t1\n",
      "  (0, 3163)\t2\n",
      "  (0, 3930)\t3\n",
      "  (0, 1457)\t1\n",
      "  (0, 3949)\t1\n",
      "  (0, 2477)\t1\n",
      "  (0, 3313)\t1\n",
      "  (0, 752)\t1\n",
      "  (0, 2661)\t1\n",
      "  (0, 4897)\t2\n",
      "  (0, 2521)\t1\n",
      "  (0, 1952)\t1\n",
      "  (0, 4870)\t1\n",
      "  (0, 1195)\t1\n",
      "  (0, 2482)\t1\n",
      "  (0, 3095)\t1\n",
      "  (0, 3289)\t1\n",
      "  (0, 1081)\t5\n",
      "  (0, 4041)\t4\n",
      "  (0, 2145)\t2\n",
      "  (0, 4815)\t2\n",
      "  (0, 1060)\t2\n",
      "  (0, 2894)\t1\n",
      "  (0, 4174)\t1\n",
      "  (0, 3057)\t2\n",
      "  (0, 1044)\t3\n"
     ]
    }
   ],
   "source": [
    "from sklearn.feature_extraction.text import CountVectorizer\n",
    "bow_vectorizer = CountVectorizer(lowercase = False, \n",
    "                                     tokenizer = lambda x: x, # because we already have tokens available\n",
    "                                     stop_words = None, ## stop words removal already done from NLTK\n",
    "                                     max_features = 5000, ## pick top 5K words by frequency\n",
    "                                     ngram_range = (1, 1), ## we want unigrams now\n",
    "                                     binary = False) ## we want as binary/boolean features\n",
    "text_vec = bow_vectorizer.fit_transform(dataset.tokens)\n",
    "print(text_vec[0, ]) ## see the features indices that are set to 1"
   ]
  },
  {
   "cell_type": "markdown",
   "metadata": {},
   "source": [
    "The vectorial representation represents each document as a vector, in which each dimension corresponds to a word/token in the vocabulary build from the entire dataset/corpus. \n",
    "For example, one of the line in the output states:\n",
    "\n",
    "`(0, 3211)\t6`\n",
    "\n",
    ", which means that the first document has 6 occurrences of the $3212^{th}$ feature (word).\n",
    "\n",
    "Let's see which work corresponds to that index and which are the first 100 features:"
   ]
  },
  {
   "cell_type": "code",
   "execution_count": 5,
   "metadata": {
    "collapsed": false,
    "scrolled": true
   },
   "outputs": [
    {
     "name": "stdout",
     "output_type": "stream",
     "text": [
      "penev\n",
      "['aa', 'aaron', 'ab', 'abil', 'abl', 'abort', 'absolut', 'abstract', 'absurd', 'abus', 'ac', 'academ', 'acc', 'acceler', 'accept', 'access', 'accid', 'accommod', 'accompani', 'accomplish', 'accord', 'account', 'accumul', 'accur', 'accuraci', 'achiev', 'acid', 'acknowledg', 'aclu', 'acm', 'acn', 'acquir', 'acronym', 'across', 'acsu', 'act', 'action', 'activ', 'actual', 'ad', 'adam', 'adapt', 'adaptec', 'adaptor', 'adb', 'adcom', 'add', 'addit', 'address', 'adequ', 'adhes', 'adjust', 'admin', 'administr', 'admiss', 'admit', 'adob', 'adopt', 'adress', 'adrian', 'adult', 'advanc', 'advantag', 'advertis', 'advic', 'advis', 'advisori', 'advoc', 'ae', 'aerospac', 'af', 'affect', 'afford', 'afraid', 'africa', 'ag', 'agat', 'age', 'agenc', 'agent', 'ago', 'agora', 'agre', 'agreement', 'ah', 'ahead', 'ahf', 'ai', 'aid', 'aim', 'air', 'aircraft', 'aix', 'aj', 'ajz', 'ak', 'aka', 'al', 'ala', 'alabama']\n"
     ]
    }
   ],
   "source": [
    "print(bow_vectorizer.get_feature_names()[3211])\n",
    "## list of feature names (they are just tokens here)\n",
    "print(bow_vectorizer.get_feature_names()[:100])"
   ]
  },
  {
   "cell_type": "markdown",
   "metadata": {},
   "source": [
    "## 1.2 The sparsity of the feature space\n",
    "The feature space is sparse, and as a result CountVectorizer represents documents them using a [sparse matrix](https://docs.scipy.org/doc/scipy/reference/generated/scipy.sparse.csr_matrix.html), instead of a [dense matrix](https://docs.scipy.org/doc/numpy-1.13.0/reference/arrays.html)\n",
    "(if each document is a vector, a collection of documents corresponds to a matrix).\n",
    "\n",
    "To verify this, we can check how many features are enabled in the matrix corresponding to our dataset:"
   ]
  },
  {
   "cell_type": "code",
   "execution_count": 6,
   "metadata": {
    "collapsed": false
   },
   "outputs": [
    {
     "name": "stdout",
     "output_type": "stream",
     "text": [
      "685739 values are set, out of a maximum of 88430000 = 0.78%\n"
     ]
    }
   ],
   "source": [
    "print('{} values are set, out of a maximum of {} = {:.2f}%'.format(\n",
    "    text_vec.nnz, dataset.shape[0] * 10000, 1.0 * text_vec.nnz / (dataset.shape[0] * 10000) * 100))"
   ]
  },
  {
   "cell_type": "markdown",
   "metadata": {},
   "source": [
    "As we can see, less than 1% of the matrix elements are set, so representing the data with dense matrix would be an inefficient usage of memory. \n",
    "So, `scikit-learn`'s [Count vectorizer](http://scikit-learn.org/stable/modules/generated/sklearn.feature_extraction.text.CountVectorizer.html) internally uses sparse representations."
   ]
  },
  {
   "cell_type": "markdown",
   "metadata": {},
   "source": [
    "# 2. Building a classifier\n",
    "\n",
    "## 2.1 Naive Bayes Classifier\n",
    "\n",
    "Having represented documents in the Vector Space Model, we setup to build a Naive Bayes textual classifier.\n",
    "While in the lectures, Naive Bayes was presented before introducing the Vector Space Model, you might remember that we need to counts term occurrences when computing the $ \\hat P(t | c)$ (see the [lecture slides](https://wattlecourses.anu.edu.au/pluginfile.php/1412123/mod_resource/content/7/ML1_TextClassification and Naive Bayes.pdf#page=27) ).\n",
    "This amounts to constructing a TF vectorial representation.\n",
    "Therefore, the [Naive bayes classifier](http://scikit-learn.org/stable/modules/generated/sklearn.naive_bayes.MultinomialNB.html#sklearn.naive_bayes.MultinomialNB) implementation available in `scikit-learn` requires the document collection to be in a vectorial representation prior to training Naive Bayes.\n",
    "\n",
    "Next, we split the dataset into a training set (75% of the entire dataset) and a testing set (25%). \n",
    "We train a Naive Bayes Classifier on the training set and we get the predictions on test dataset.\n",
    "\n",
    "**Note** that we are using `LabelEncoder` here to encode labels/classes of documents as numbers. \n",
    "The 9 classes will be mapped into numbers from 0 to 8 using this label encoder. \n",
    "We require this to render the dataset compatible with `scikit-learn` and the plotting libraries."
   ]
  },
  {
   "cell_type": "code",
   "execution_count": 7,
   "metadata": {
    "collapsed": true
   },
   "outputs": [],
   "source": [
    "from sklearn.naive_bayes import MultinomialNB\n",
    "msk = np.random.rand(len(dataset)) < 0.75\n",
    "from sklearn.preprocessing import LabelEncoder\n",
    "le = LabelEncoder()\n",
    "\n",
    "train_X = text_vec[msk]\n",
    "test_X = text_vec[~msk]\n",
    "\n",
    "y = le.fit_transform(dataset.category)\n",
    "train_y = y[msk]\n",
    "test_y = y[~msk]"
   ]
  },
  {
   "cell_type": "markdown",
   "metadata": {},
   "source": [
    "We train the classifier using:"
   ]
  },
  {
   "cell_type": "code",
   "execution_count": 8,
   "metadata": {
    "collapsed": false
   },
   "outputs": [
    {
     "data": {
      "text/plain": [
       "MultinomialNB(alpha=1.0, class_prior=None, fit_prior=True)"
      ]
     },
     "execution_count": 8,
     "metadata": {},
     "output_type": "execute_result"
    }
   ],
   "source": [
    "classifier =  MultinomialNB()\n",
    "classifier.fit(train_X, train_y)"
   ]
  },
  {
   "cell_type": "markdown",
   "metadata": {},
   "source": [
    "To make predictions, we use the `predict` method."
   ]
  },
  {
   "cell_type": "code",
   "execution_count": 9,
   "metadata": {
    "collapsed": false,
    "scrolled": true
   },
   "outputs": [
    {
     "name": "stdout",
     "output_type": "stream",
     "text": [
      "['comp.graphics', 'comp.windows.x', 'comp.windows.x', 'comp.graphics', 'comp.graphics', 'sci.med', 'sci.electronics', 'comp.graphics', 'comp.graphics', 'comp.graphics', 'comp.graphics', 'comp.graphics', 'comp.windows.x', 'comp.sys.mac.hardware', 'comp.graphics', 'comp.graphics', 'comp.graphics', 'comp.windows.x', 'sci.electronics', 'comp.graphics', 'comp.graphics', 'comp.graphics', 'sci.med', 'comp.graphics', 'comp.graphics', 'comp.graphics', 'comp.graphics', 'comp.graphics', 'comp.graphics', 'comp.graphics', 'comp.graphics', 'comp.graphics', 'sci.space', 'comp.graphics', 'comp.graphics', 'comp.graphics', 'comp.graphics', 'comp.sys.ibm.pc.hardware', 'comp.graphics', 'comp.graphics', 'comp.graphics', 'comp.graphics', 'comp.graphics', 'comp.graphics', 'comp.graphics', 'comp.graphics', 'comp.graphics', 'comp.graphics', 'comp.graphics', 'comp.graphics', 'comp.graphics', 'comp.graphics', 'comp.graphics', 'comp.graphics', 'comp.sys.ibm.pc.hardware', 'comp.graphics', 'comp.graphics', 'comp.graphics', 'sci.electronics', 'comp.sys.ibm.pc.hardware', 'comp.sys.mac.hardware', 'comp.graphics', 'comp.graphics', 'comp.graphics', 'comp.graphics', 'comp.graphics', 'comp.graphics', 'comp.graphics', 'comp.graphics', 'comp.graphics', 'comp.graphics', 'comp.graphics', 'comp.sys.mac.hardware', 'comp.graphics', 'comp.graphics', 'comp.graphics', 'comp.graphics', 'comp.graphics', 'comp.graphics', 'comp.graphics', 'comp.graphics', 'comp.graphics', 'comp.graphics', 'comp.graphics', 'comp.graphics', 'comp.graphics', 'comp.graphics', 'comp.sys.mac.hardware', 'comp.graphics', 'sci.med', 'comp.graphics', 'comp.graphics', 'comp.graphics', 'comp.graphics', 'comp.graphics', 'sci.crypt', 'comp.windows.x', 'comp.graphics', 'comp.graphics', 'comp.graphics']\n"
     ]
    }
   ],
   "source": [
    "preds_bow = classifier.predict(test_X)\n",
    "to_print = [le.inverse_transform(pred) for pred in preds_bow ]\n",
    "print(to_print[:100])"
   ]
  },
  {
   "cell_type": "markdown",
   "metadata": {},
   "source": [
    "## 2.2 Evaluating the prediction performance\n",
    "To evaluate how well the classifier performed, we compute the confusion matrix, as well as the overall accuracy, and the per-class precision, recall and F1 measure:"
   ]
  },
  {
   "cell_type": "code",
   "execution_count": 10,
   "metadata": {
    "collapsed": false,
    "scrolled": false
   },
   "outputs": [
    {
     "name": "stdout",
     "output_type": "stream",
     "text": [
      "accuracy = 0.775730337079\n",
      "                          prec  rec   F1\n",
      "            comp.graphics 0.63 0.77 0.70\n",
      "  comp.os.ms-windows.misc 0.85 0.05 0.09\n",
      " comp.sys.ibm.pc.hardware 0.57 0.81 0.67\n",
      "    comp.sys.mac.hardware 0.69 0.89 0.78\n",
      "           comp.windows.x 0.75 0.83 0.79\n",
      "                sci.crypt 0.96 0.94 0.95\n",
      "          sci.electronics 0.84 0.83 0.83\n",
      "                  sci.med 0.96 0.91 0.93\n",
      "                sci.space 0.96 0.93 0.95\n",
      "confusion matrix:\n",
      "[[179   0  17   9  11   1   8   3   3]\n",
      " [ 48  11 100  30  45   2   5   1   1]\n",
      " [  5   0 206  26   5   0  10   0   1]\n",
      " [  6   1  14 218   1   0   5   0   0]\n",
      " [ 23   0   7   5 208   2   2   1   2]\n",
      " [  4   0   4   4   2 240   2   0   0]\n",
      " [ 10   0  10  16   3   3 211   2   0]\n",
      " [  1   1   3   7   0   1   6 216   3]\n",
      " [  7   0   2   0   1   2   3   2 237]]\n"
     ]
    }
   ],
   "source": [
    "from sklearn.metrics import confusion_matrix, accuracy_score, precision_recall_fscore_support\n",
    "confusion = confusion_matrix(test_y, preds_bow)\n",
    "acc_bow = accuracy_score(test_y, preds_bow)\n",
    "precisions_bow, recalls_bow, f1_scores_bow, _ = precision_recall_fscore_support(test_y, preds_bow)\n",
    "\n",
    "print(\"accuracy = {}\".format(acc_bow))\n",
    "\n",
    "print(\"{:>25} {:>4} {:>4} {:>4}\".format(\"\", \"prec\", \"rec\", \"F1\"))\n",
    "for (idx, scores) in enumerate(zip(precisions_bow, recalls_bow, f1_scores_bow)):\n",
    "    print(\"{:>25} {:.2f} {:.2f} {:.2f}\".format(\n",
    "        le.inverse_transform(idx), scores[0], scores[1], scores[2]\n",
    "    ))\n",
    "\n",
    "print('confusion matrix:\\n{}'.format( confusion) )"
   ]
  },
  {
   "cell_type": "markdown",
   "metadata": {},
   "source": [
    "## 2.3 Improving the performance with different feature representations\n",
    "\n",
    "We attempt to improve the classifier's performance using other features.\n",
    "We start with the boolean features: whenever a feature (token) appears in a document we mark a value of 1 instead of number of occurrence of that token.\n",
    "\n",
    "We can pipeline vectorization, and classifier in scikit learn. Refer [this documentation](http://scikit-learn.org/stable/modules/generated/sklearn.pipeline.Pipeline.html) for more information."
   ]
  },
  {
   "cell_type": "code",
   "execution_count": 11,
   "metadata": {
    "collapsed": true
   },
   "outputs": [],
   "source": [
    "le = LabelEncoder()\n",
    "\n",
    "train_X = dataset.tokens[msk]\n",
    "test_X = dataset.tokens[~msk]\n",
    "y = le.fit_transform(dataset.category)\n",
    "train_y = y[msk]\n",
    "test_y = y[~msk]"
   ]
  },
  {
   "cell_type": "markdown",
   "metadata": {},
   "source": [
    "Again we will use CountVectorizer, but the difference here is `binary = True` argument, which tells CountVectorizer to use binary features instead of term frequencies."
   ]
  },
  {
   "cell_type": "code",
   "execution_count": 12,
   "metadata": {
    "collapsed": false
   },
   "outputs": [
    {
     "name": "stdout",
     "output_type": "stream",
     "text": [
      "accuracy = 0.848539325843\n",
      "                          prec  rec   F1\n",
      "            comp.graphics 0.74 0.77 0.75\n",
      "  comp.os.ms-windows.misc 0.75 0.80 0.78\n",
      " comp.sys.ibm.pc.hardware 0.74 0.78 0.76\n",
      "    comp.sys.mac.hardware 0.82 0.85 0.83\n",
      "           comp.windows.x 0.86 0.89 0.87\n",
      "                sci.crypt 0.98 0.91 0.95\n",
      "          sci.electronics 0.86 0.80 0.83\n",
      "                  sci.med 0.98 0.89 0.93\n",
      "                sci.space 0.94 0.93 0.93\n",
      "confusion matrix:\n",
      "[[178  13  13   3  13   1   7   1   2]\n",
      " [ 10 195  24   1  11   0   1   0   1]\n",
      " [  5  22 198  18   3   0   7   0   0]\n",
      " [  9   6  10 209   2   0   6   0   3]\n",
      " [  8   9   3   3 222   2   1   0   2]\n",
      " [  6   4   4   2   3 234   2   0   1]\n",
      " [ 10   6  11  15   3   1 204   2   3]\n",
      " [  6   3   3   5   0   0   5 213   3]\n",
      " [  9   1   1   0   2   1   3   2 235]]\n"
     ]
    }
   ],
   "source": [
    "bin_vectorizer = CountVectorizer(lowercase = False, \n",
    "                                     tokenizer = lambda x: x, # because we already have tokens available\n",
    "                                     stop_words = None, ## stop words removal already done from NLTK\n",
    "                                     max_features = 5000, ## pick top 5K words by frequency\n",
    "                                     ngram_range = (1, 1), ## we want unigrams now\n",
    "                                     binary = True) ## Now it is Binary\n",
    "\n",
    "from sklearn.pipeline import Pipeline\n",
    "\n",
    "pipeline = Pipeline([\n",
    "    ('bow',  bin_vectorizer),\n",
    "    ('naive-bayes',  MultinomialNB()) ])\n",
    "\n",
    "## Fit the data\n",
    "pipeline.fit(train_X, train_y)\n",
    "\n",
    "## see accuracy and confusion matrix\n",
    "preds_bin = pipeline.predict(test_X)\n",
    "\n",
    "confusion = confusion_matrix(test_y, preds_bin)\n",
    "acc_bool = accuracy_score(test_y, preds_bin)\n",
    "precisions_bool, recalls_bool, f1_scores_bool, _ = precision_recall_fscore_support(test_y, preds_bin)\n",
    "\n",
    "print(\"accuracy = {}\".format(acc_bool))\n",
    "\n",
    "print(\"{:>25} {:>4} {:>4} {:>4}\".format(\"\", \"prec\", \"rec\", \"F1\"))\n",
    "for (idx, scores) in enumerate(zip(precisions_bool, recalls_bool, f1_scores_bool)):\n",
    "    print(\"{:>25} {:.2f} {:.2f} {:.2f}\".format(\n",
    "        le.inverse_transform(idx), scores[0], scores[1], scores[2]\n",
    "    ))\n",
    "\n",
    "print('confusion matrix:\\n{}'.format( confusion) )"
   ]
  },
  {
   "cell_type": "markdown",
   "metadata": {},
   "source": [
    "It appears that the Boolean features improved prediction performances.\n",
    "Let's see how the TF-IDF features perform.\n",
    "\n",
    "## 2.4 Improving the performance with  TFIDF \n",
    "TF-IDF reflects how important a token/term is to a document, with respect to the entire collection of documents. \n",
    "To build a pipeline with TF-IDF representation, we add a [TfidfTransformer](http://scikit-learn.org/stable/modules/generated/sklearn.feature_extraction.text.TfidfTransformer.html) after the bag-of-words vectorizer. \n",
    "It means that we are transforming the token counts using TF-IDF."
   ]
  },
  {
   "cell_type": "code",
   "execution_count": 13,
   "metadata": {
    "collapsed": false
   },
   "outputs": [
    {
     "name": "stdout",
     "output_type": "stream",
     "text": [
      "accuracy = 0.854382022472\n",
      "                          prec  rec   F1\n",
      "            comp.graphics 0.74 0.79 0.77\n",
      "  comp.os.ms-windows.misc 0.77 0.79 0.78\n",
      " comp.sys.ibm.pc.hardware 0.77 0.78 0.77\n",
      "    comp.sys.mac.hardware 0.84 0.84 0.84\n",
      "           comp.windows.x 0.81 0.87 0.84\n",
      "                sci.crypt 0.95 0.94 0.94\n",
      "          sci.electronics 0.91 0.81 0.86\n",
      "                  sci.med 0.98 0.90 0.94\n",
      "                sci.space 0.94 0.94 0.94\n",
      "confusion matrix:\n",
      "[[183   7   7   5  17   1   6   0   5]\n",
      " [ 12 193  19   1  16   1   1   0   0]\n",
      " [  8  19 198  16   5   0   7   0   0]\n",
      " [  5   8  16 206   4   0   4   0   2]\n",
      " [ 13   9   3   1 218   3   0   1   2]\n",
      " [  5   4   1   0   4 241   0   1   0]\n",
      " [  8   8  10  11   1   6 207   2   2]\n",
      " [  5   2   2   4   2   2   2 215   4]\n",
      " [  8   0   2   0   2   1   0   1 240]]\n"
     ]
    }
   ],
   "source": [
    "from sklearn.feature_extraction.text import TfidfTransformer\n",
    "\n",
    "pipeline = Pipeline([\n",
    "    ('bow',  bow_vectorizer),\n",
    "    ('tfidf',  TfidfTransformer()),\n",
    "    ('naive-bayes',  MultinomialNB()) ])\n",
    "\n",
    "## Fit the data\n",
    "pipeline.fit(train_X, train_y)\n",
    "\n",
    "## see accuracy and confusion matrix\n",
    "preds_tfidf = pipeline.predict(test_X)\n",
    "\n",
    "confusion = confusion_matrix(test_y, preds_tfidf)\n",
    "acc_tfidf = accuracy_score(test_y, preds_tfidf)\n",
    "precisions_tfidf, recalls_tfidf, f1_scores_tfidf, _ = precision_recall_fscore_support(test_y, preds_tfidf)\n",
    "\n",
    "print(\"accuracy = {}\".format(acc_tfidf))\n",
    "\n",
    "print(\"{:>25} {:>4} {:>4} {:>4}\".format(\"\", \"prec\", \"rec\", \"F1\"))\n",
    "for (idx, scores) in enumerate(zip(precisions_tfidf, recalls_tfidf, f1_scores_tfidf)):\n",
    "    print(\"{:>25} {:.2f} {:.2f} {:.2f}\".format(\n",
    "        le.inverse_transform(idx), scores[0], scores[1], scores[2]\n",
    "    ))\n",
    "\n",
    "print('confusion matrix:\\n{}'.format( confusion) )"
   ]
  },
  {
   "cell_type": "markdown",
   "metadata": {},
   "source": [
    "TF-IDF further improves the prediction performance, compared to the binary features. \n",
    "Compared to the TF representation, the TFIDF transformer leads to a significant improvement of accuracy (more than 5%). Why did this happened?\n",
    "\n",
    "Can you identify why we were getting low accuracy in the bag of words model? And how did this change in the TF-IDF representation?\n",
    "\n",
    "Let's compare the accuracy of these three classifiers."
   ]
  },
  {
   "cell_type": "code",
   "execution_count": 14,
   "metadata": {
    "collapsed": false
   },
   "outputs": [
    {
     "data": {
      "text/plain": [
       "<matplotlib.axes._subplots.AxesSubplot at 0x7f580fa95410>"
      ]
     },
     "execution_count": 14,
     "metadata": {},
     "output_type": "execute_result"
    },
    {
     "data": {
      "image/png": "[encoded data removed]",
      "text/plain": [
       "<matplotlib.figure.Figure at 0x7f580f8d1b10>"
      ]
     },
     "metadata": {},
     "output_type": "display_data"
    }
   ],
   "source": [
    "accuracies = pd.DataFrame(\n",
    "    [('tf', acc_bow), ('binary', acc_bool), ('tfidf', acc_tfidf)], \n",
    "    columns = ['feature_rep', 'accuracy']\n",
    ").set_index('feature_rep')\n",
    "accuracies.plot.bar(ylim = (0.7, 0.9))"
   ]
  },
  {
   "cell_type": "markdown",
   "metadata": {
    "collapsed": true
   },
   "source": [
    "## 2.5 Further improving performance with Bigrams features\n",
    "Until now, we created feature representations using unigrams, i.e. taking one token as a feature. \n",
    "The main disadvantage of doing this is that we loss positional information in unigram feature representation. \n",
    "To address this, we can use n-gram as a features: we use sequences of n words to construct features.\n",
    "\n",
    "Let's train the best performing model, i.e. TFIDF-based classifier with both unigrams and bigrams features, and see how it performs."
   ]
  },
  {
   "cell_type": "code",
   "execution_count": 15,
   "metadata": {
    "collapsed": false
   },
   "outputs": [
    {
     "name": "stdout",
     "output_type": "stream",
     "text": [
      "accuracy = 0.864719101124\n",
      "                          prec  rec   F1\n",
      "            comp.graphics 0.76 0.82 0.79\n",
      "  comp.os.ms-windows.misc 0.82 0.80 0.81\n",
      " comp.sys.ibm.pc.hardware 0.75 0.81 0.78\n",
      "    comp.sys.mac.hardware 0.86 0.84 0.85\n",
      "           comp.windows.x 0.86 0.89 0.87\n",
      "                sci.crypt 0.95 0.96 0.96\n",
      "          sci.electronics 0.94 0.81 0.87\n",
      "                  sci.med 0.96 0.91 0.93\n",
      "                sci.space 0.91 0.94 0.93\n",
      "confusion matrix:\n",
      "[[189   7   8   2  15   1   3   1   5]\n",
      " [ 13 195  21   2  10   0   1   0   1]\n",
      " [  9  15 204  18   4   0   3   0   0]\n",
      " [  6   4  20 207   2   0   4   0   2]\n",
      " [ 10   5   4   0 222   5   0   1   3]\n",
      " [  4   3   0   0   1 245   2   1   0]\n",
      " [  8   6  13   9   1   2 206   4   6]\n",
      " [  4   3   1   4   1   2   1 216   6]\n",
      " [  6   0   1   0   2   2   0   3 240]]\n"
     ]
    }
   ],
   "source": [
    "from sklearn.feature_extraction.text import TfidfTransformer\n",
    "\n",
    "bigrams_bow_vectorizer = CountVectorizer(lowercase = False, \n",
    "                                     tokenizer = lambda x: x, # because we already have tokens available\n",
    "                                     stop_words = None, ## stop words removal already done from NLTK\n",
    "                                     max_features = 20000, ## pick top 20K tokens by frequency. We need more now.\n",
    "                                     ngram_range = (1, 2), ## we want unigrams bigrams now\n",
    "                                     binary = False) ## Now it's Bag of Words\n",
    "\n",
    "\n",
    "pipeline = Pipeline([\n",
    "    ('bigram_bow',  bigrams_bow_vectorizer),\n",
    "    ('tfidf',  TfidfTransformer()),\n",
    "    ('naive-bayes',  MultinomialNB()) ])\n",
    "\n",
    "## Fit the data\n",
    "pipeline.fit(train_X, train_y)\n",
    "\n",
    "## see accuracy and confusion matrix\n",
    "preds_tfidf_bigrams = pipeline.predict(test_X)\n",
    "\n",
    "confusion = confusion_matrix(test_y, preds_tfidf_bigrams)\n",
    "acc_tfidf_bigrams = accuracy_score(test_y, preds_tfidf_bigrams)\n",
    "precisions_tfidf_bigrams, recalls_tfidf_bigrams, f1_scores_tfidf_bigrams, _ = precision_recall_fscore_support(\n",
    "    test_y, preds_tfidf_bigrams\n",
    ")\n",
    "\n",
    "print(\"accuracy = {}\".format(acc_tfidf_bigrams))\n",
    "\n",
    "print(\"{:>25} {:>4} {:>4} {:>4}\".format(\"\", \"prec\", \"rec\", \"F1\"))\n",
    "for (idx, scores) in enumerate(zip(precisions_tfidf_bigrams, recalls_tfidf_bigrams, f1_scores_tfidf_bigrams)):\n",
    "    print(\"{:>25} {:.2f} {:.2f} {:.2f}\".format(\n",
    "        le.inverse_transform(idx), scores[0], scores[1], scores[2]\n",
    "    ))\n",
    "\n",
    "print('confusion matrix:\\n{}'.format( confusion) )"
   ]
  },
  {
   "cell_type": "markdown",
   "metadata": {},
   "source": [
    "We can notice a slight improvement in accuracy, of about 1%.\n",
    "\n",
    "We can notice a variation in classifier performance due to the feature representation we use. Why do you think this has happened? \n",
    "\n",
    "Now, let's create a plot to compare the accuracies as before."
   ]
  },
  {
   "cell_type": "code",
   "execution_count": 16,
   "metadata": {
    "collapsed": false
   },
   "outputs": [
    {
     "data": {
      "text/plain": [
       "<matplotlib.axes._subplots.AxesSubplot at 0x7f580f8d1490>"
      ]
     },
     "execution_count": 16,
     "metadata": {},
     "output_type": "execute_result"
    },
    {
     "data": {
      "image/png": "[encoded data removed]",
      "text/plain": [
       "<matplotlib.figure.Figure at 0x7f5813d620d0>"
      ]
     },
     "metadata": {},
     "output_type": "display_data"
    }
   ],
   "source": [
    "accuracies = pd.DataFrame(\n",
    "    [('unigrams', acc_tfidf),  ('bigrams', acc_tfidf_bigrams)], \n",
    "    columns = ['n-grams', 'accuracy']\n",
    ").set_index('n-grams')\n",
    "accuracies.plot.bar(ylim = (0.8, 0.9))"
   ]
  },
  {
   "cell_type": "markdown",
   "metadata": {},
   "source": [
    "Let's see what bigrams features look like."
   ]
  },
  {
   "cell_type": "code",
   "execution_count": 17,
   "metadata": {
    "collapsed": false,
    "scrolled": false
   },
   "outputs": [
    {
     "name": "stdout",
     "output_type": "stream",
     "text": [
      "[u'aa', u'aarhus', u'aaron', u'aaron lung', u'aau', u'aau dk', u'ab', u'ab ca', u'ab nova', u'abandon', u'abbrevi', u'abc', u'abdomin', u'abil', u'abl', u'abl find', u'abl get', u'abl help', u'abl make', u'abl read', u'abl run', u'abl see', u'abl use', u'abo', u'abo fi', u'abort', u'abpsoft', u'abpsoft mehl', u'abroad', u'absenc', u'absolut', u'absolut noth', u'absorb', u'abstract', u'absurd', u'abus', u'abyss', u'ac', u'ac brocku', u'ac bu', u'ac edu', u'ac f', u'ac il', u'ac jp', u'ac kr', u'ac mcc', u'ac nz', u'ac oakland', u'ac sg', u'ac ucalgari', u'ac uk', u'ac za', u'academ', u'academ comput', u'academ freedom', u'academ press', u'academi', u'academia', u'acc', u'acc georgetown', u'acc virginia', u'acceler', u'acceler board', u'acceler card', u'acceler laboratori', u'acceler video', u'accept', u'accept wiretap', u'access', u'access bus', u'access content', u'access control', u'access data', u'access digex', u'access drive', u'access encrypt', u'access file', u'access inform', u'access key', u'access line', u'access onlin', u'access power', u'access system', u'access time', u'access unix', u'access usenet', u'accessori', u'accid', u'accident', u'accommod', u'accomod', u'accompani', u'accomplish', u'accord', u'account', u'accumul', u'accur', u'accuraci', u'accuraci inform', u'accus']\n"
     ]
    }
   ],
   "source": [
    "print(bigrams_bow_vectorizer.get_feature_names()[:100])"
   ]
  },
  {
   "cell_type": "markdown",
   "metadata": {},
   "source": [
    "We can notice sequences of two tokens used as features."
   ]
  },
  {
   "cell_type": "markdown",
   "metadata": {},
   "source": [
    "# Distance metrics and searching in the Vector Space Model\n",
    "\n",
    "## 3.1 Distance metrics for a document\n",
    "\n",
    "In the previous tutorial, we used boolean logic on the set representation of features to perform exact document match. With vector representations introduced in this module, we can query for partial matches. \n",
    "\n",
    "The degree of matching can be quantified by similarity metrics. \n",
    "The similarity metrics can be computed from distance metrics, where the distance between documents are computed in vector spaces. There are two popular choices for distance metrics in this space:\n",
    "1. Cosine distance\n",
    "2. Euclidean distance\n",
    "\n",
    "To search for similar documents, we use the candidates that has minimum distance with the query's vector representation. We use the TFIDF vectorizer with unigrams representation for this."
   ]
  },
  {
   "cell_type": "code",
   "execution_count": 18,
   "metadata": {
    "collapsed": true
   },
   "outputs": [],
   "source": [
    "vectorizer = Pipeline([\n",
    "    ('bow',  bow_vectorizer),\n",
    "    ('tfidf',  TfidfTransformer())])\n",
    "vectorizer.fit(dataset.tokens)\n",
    "tfidf_vec = vectorizer.transform(dataset.tokens)"
   ]
  },
  {
   "cell_type": "markdown",
   "metadata": {},
   "source": [
    "Let's use this vectorizer to create a vector representation of our previous two queries: `research seminar` and `scientific visualization`"
   ]
  },
  {
   "cell_type": "code",
   "execution_count": 19,
   "metadata": {
    "collapsed": true
   },
   "outputs": [],
   "source": [
    "tokens1 = preprocessor(\"research seminar\")\n",
    "query_vec1 = vectorizer.transform([tokens1])\n",
    "\n",
    "tokens2 = preprocessor(\"scientific visualization\")\n",
    "query_vec2 = vectorizer.transform([tokens2])"
   ]
  },
  {
   "cell_type": "markdown",
   "metadata": {},
   "source": [
    "The implementation of the distance metrics are provided in the file `dist.py`. \n",
    "Have a look at the functions provided there.\n",
    "\n",
    "We can use the provided `dist` function as:"
   ]
  },
  {
   "cell_type": "code",
   "execution_count": 20,
   "metadata": {
    "collapsed": false
   },
   "outputs": [
    {
     "name": "stdout",
     "output_type": "stream",
     "text": [
      "cosine distance = 1.0, euclid distance = 1.41421356237\n"
     ]
    }
   ],
   "source": [
    "from dist import dist, search\n",
    "cosine_distance = dist(query_vec1.toarray().squeeze(), query_vec2.toarray().squeeze(), method = 'cosine')\n",
    "euclid_distance = dist(query_vec1.toarray().squeeze(), query_vec2.toarray().squeeze(), method = 'euclid')\n",
    "\n",
    "print('cosine distance = {}, euclid distance = {}'.format(cosine_distance, euclid_distance))"
   ]
  },
  {
   "cell_type": "markdown",
   "metadata": {},
   "source": [
    "## 3.2 Search and ranking\n",
    "\n",
    "We use the same distance measures to search for similar documents for a query text. \n",
    "The most similar documents in our collections are the ones that have lowest distance against the query string. \n",
    "We can also use the distance to rank the search results.\n",
    "\n",
    "Have a look at search function in `dist.py`. \n",
    "\n",
    "Top 5 matches with `research seminar`:"
   ]
  },
  {
   "cell_type": "code",
   "execution_count": 21,
   "metadata": {
    "collapsed": false
   },
   "outputs": [
    {
     "data": {
      "text/html": [
       "<div>\n",
       "<style>\n",
       "    .dataframe thead tr:only-child th {\n",
       "        text-align: right;\n",
       "    }\n",
       "\n",
       "    .dataframe thead th {\n",
       "        text-align: left;\n",
       "    }\n",
       "\n",
       "    .dataframe tbody tr th {\n",
       "        vertical-align: top;\n",
       "    }\n",
       "</style>\n",
       "<table border=\"1\" class=\"dataframe\">\n",
       "  <thead>\n",
       "    <tr style=\"text-align: right;\">\n",
       "      <th></th>\n",
       "      <th>id</th>\n",
       "      <th>category</th>\n",
       "      <th>text</th>\n",
       "      <th>tokens</th>\n",
       "    </tr>\n",
       "  </thead>\n",
       "  <tbody>\n",
       "    <tr>\n",
       "      <th>112</th>\n",
       "      <td>38609</td>\n",
       "      <td>comp.graphics</td>\n",
       "      <td>From: lipman@oasys.dt.navy.mil (Robert Lipman)...</td>\n",
       "      <td>[lipman, oasi, dt, navi, mil, robert, lipman, ...</td>\n",
       "    </tr>\n",
       "    <tr>\n",
       "      <th>5818</th>\n",
       "      <td>8514</td>\n",
       "      <td>comp.os.ms-windows.misc</td>\n",
       "      <td>From: lipman@oasys.dt.navy.mil (Robert Lipman)...</td>\n",
       "      <td>[lipman, oasi, dt, navi, mil, robert, lipman, ...</td>\n",
       "    </tr>\n",
       "    <tr>\n",
       "      <th>114</th>\n",
       "      <td>37261</td>\n",
       "      <td>comp.graphics</td>\n",
       "      <td>From: lipman@oasys.dt.navy.mil (Robert Lipman)...</td>\n",
       "      <td>[lipman, oasi, dt, navi, mil, robert, lipman, ...</td>\n",
       "    </tr>\n",
       "    <tr>\n",
       "      <th>387</th>\n",
       "      <td>38582</td>\n",
       "      <td>comp.graphics</td>\n",
       "      <td>From: chris@sarah.lerc.nasa.gov (Chris Johnsto...</td>\n",
       "      <td>[chris, sarah, lerc, nasa, gov, chris, johnsto...</td>\n",
       "    </tr>\n",
       "    <tr>\n",
       "      <th>739</th>\n",
       "      <td>38782</td>\n",
       "      <td>comp.graphics</td>\n",
       "      <td>From: dsg@ecrc.de (Douglas S. Greer)\\nSubject:...</td>\n",
       "      <td>[dsg, ecrc, de, dougla, greer, subject, resear...</td>\n",
       "    </tr>\n",
       "  </tbody>\n",
       "</table>\n",
       "</div>"
      ],
      "text/plain": [
       "         id                 category  \\\n",
       "112   38609            comp.graphics   \n",
       "5818   8514  comp.os.ms-windows.misc   \n",
       "114   37261            comp.graphics   \n",
       "387   38582            comp.graphics   \n",
       "739   38782            comp.graphics   \n",
       "\n",
       "                                                   text  \\\n",
       "112   From: lipman@oasys.dt.navy.mil (Robert Lipman)...   \n",
       "5818  From: lipman@oasys.dt.navy.mil (Robert Lipman)...   \n",
       "114   From: lipman@oasys.dt.navy.mil (Robert Lipman)...   \n",
       "387   From: chris@sarah.lerc.nasa.gov (Chris Johnsto...   \n",
       "739   From: dsg@ecrc.de (Douglas S. Greer)\\nSubject:...   \n",
       "\n",
       "                                                 tokens  \n",
       "112   [lipman, oasi, dt, navi, mil, robert, lipman, ...  \n",
       "5818  [lipman, oasi, dt, navi, mil, robert, lipman, ...  \n",
       "114   [lipman, oasi, dt, navi, mil, robert, lipman, ...  \n",
       "387   [chris, sarah, lerc, nasa, gov, chris, johnsto...  \n",
       "739   [dsg, ecrc, de, dougla, greer, subject, resear...  "
      ]
     },
     "execution_count": 21,
     "metadata": {},
     "output_type": "execute_result"
    }
   ],
   "source": [
    "## get indexes of the most similar documents \n",
    "idxs1 = search(tfidf_vec.toarray().squeeze(),\n",
    "        query_vec1.toarray().squeeze(),\n",
    "        dist_measure = 'cosine'\n",
    ")\n",
    "\n",
    "## ranked top 5 search results for query 'research seminar'\n",
    "dataset.iloc[idxs1]"
   ]
  },
  {
   "cell_type": "markdown",
   "metadata": {},
   "source": [
    "Top 5 matches with `scientific visualization` based on euclidean distance measure:"
   ]
  },
  {
   "cell_type": "code",
   "execution_count": 22,
   "metadata": {
    "collapsed": false
   },
   "outputs": [
    {
     "data": {
      "text/html": [
       "<div>\n",
       "<style>\n",
       "    .dataframe thead tr:only-child th {\n",
       "        text-align: right;\n",
       "    }\n",
       "\n",
       "    .dataframe thead th {\n",
       "        text-align: left;\n",
       "    }\n",
       "\n",
       "    .dataframe tbody tr th {\n",
       "        vertical-align: top;\n",
       "    }\n",
       "</style>\n",
       "<table border=\"1\" class=\"dataframe\">\n",
       "  <thead>\n",
       "    <tr style=\"text-align: right;\">\n",
       "      <th></th>\n",
       "      <th>id</th>\n",
       "      <th>category</th>\n",
       "      <th>text</th>\n",
       "      <th>tokens</th>\n",
       "    </tr>\n",
       "  </thead>\n",
       "  <tbody>\n",
       "    <tr>\n",
       "      <th>1956</th>\n",
       "      <td>68272</td>\n",
       "      <td>comp.windows.x</td>\n",
       "      <td>From: dbl@visual.COM\\nSubject: Re: 'makedepend...</td>\n",
       "      <td>[dbl, visual, com, subject, makedepend, proble...</td>\n",
       "    </tr>\n",
       "    <tr>\n",
       "      <th>2092</th>\n",
       "      <td>67279</td>\n",
       "      <td>comp.windows.x</td>\n",
       "      <td>Organization: Ministry of Education, Computer ...</td>\n",
       "      <td>[organ, ministri, educ, comput, center, netnew...</td>\n",
       "    </tr>\n",
       "    <tr>\n",
       "      <th>2055</th>\n",
       "      <td>67383</td>\n",
       "      <td>comp.windows.x</td>\n",
       "      <td>From: herlock@lclark.edu (Jon Herlocker)\\nSubj...</td>\n",
       "      <td>[herlock, lclark, edu, jon, herlock, subject, ...</td>\n",
       "    </tr>\n",
       "    <tr>\n",
       "      <th>2274</th>\n",
       "      <td>66893</td>\n",
       "      <td>comp.windows.x</td>\n",
       "      <td>From: stolk@fwi.uva.nl (Bram)\\nSubject: Creati...</td>\n",
       "      <td>[stolk, fwi, uva, nl, bram, subject, creat, bi...</td>\n",
       "    </tr>\n",
       "    <tr>\n",
       "      <th>2432</th>\n",
       "      <td>66996</td>\n",
       "      <td>comp.windows.x</td>\n",
       "      <td>From: gerard@dps.co.UK (Gerard O'Driscoll)\\nSu...</td>\n",
       "      <td>[gerard, dps, co, uk, gerard, driscol, subject...</td>\n",
       "    </tr>\n",
       "  </tbody>\n",
       "</table>\n",
       "</div>"
      ],
      "text/plain": [
       "         id        category  \\\n",
       "1956  68272  comp.windows.x   \n",
       "2092  67279  comp.windows.x   \n",
       "2055  67383  comp.windows.x   \n",
       "2274  66893  comp.windows.x   \n",
       "2432  66996  comp.windows.x   \n",
       "\n",
       "                                                   text  \\\n",
       "1956  From: dbl@visual.COM\\nSubject: Re: 'makedepend...   \n",
       "2092  Organization: Ministry of Education, Computer ...   \n",
       "2055  From: herlock@lclark.edu (Jon Herlocker)\\nSubj...   \n",
       "2274  From: stolk@fwi.uva.nl (Bram)\\nSubject: Creati...   \n",
       "2432  From: gerard@dps.co.UK (Gerard O'Driscoll)\\nSu...   \n",
       "\n",
       "                                                 tokens  \n",
       "1956  [dbl, visual, com, subject, makedepend, proble...  \n",
       "2092  [organ, ministri, educ, comput, center, netnew...  \n",
       "2055  [herlock, lclark, edu, jon, herlock, subject, ...  \n",
       "2274  [stolk, fwi, uva, nl, bram, subject, creat, bi...  \n",
       "2432  [gerard, dps, co, uk, gerard, driscol, subject...  "
      ]
     },
     "execution_count": 22,
     "metadata": {},
     "output_type": "execute_result"
    }
   ],
   "source": [
    "idxs2 = search(tfidf_vec.toarray().squeeze(),\n",
    "        query_vec2.toarray().squeeze(),\n",
    "        dist_measure = 'euclid'\n",
    ")\n",
    "\n",
    "## ranked top 5 search results for query 'research seminar'\n",
    "dataset.iloc[idxs2]"
   ]
  },
  {
   "cell_type": "markdown",
   "metadata": {
    "collapsed": true
   },
   "source": [
    "# 4 [Advanced] AUC and ROC \n",
    "\n",
    "Another popular evaluation metric for evaluating per class performance of a classifier is the [Area under Curve (AUC) of the Receiver Operating Characteristics (ROC)](https://en.wikipedia.org/wiki/Receiver_operating_characteristic). \n",
    "\n",
    "The ROC curve plots the true positive rate (Sensitivity) against the false positive rate (Specificity) for different cut-off points. \n",
    "Each point on the ROC curve represents a sensitivity/specificity pair corresponding to a particular decision threshold. \n",
    "\n",
    "AUC is the area under ROC curve. $ AUC \\in [0.5, 1]$ and a value of $0.5$ corresponds to a random classifiers. Higher is better.\n",
    "\n",
    "The block below demonstrates how we can use matplotlib (python plotting library) and scikit's evaluation metric functions to plot per class performance of our classifier. \n",
    "We will see the plot for our best performing classifier (i.e. TFIDF with bigrams feature representation)."
   ]
  },
  {
   "cell_type": "code",
   "execution_count": 23,
   "metadata": {
    "collapsed": false
   },
   "outputs": [
    {
     "data": {
      "image/png": "[encoded data removed]",
      "text/plain": [
       "<matplotlib.figure.Figure at 0x7f5808725bd0>"
      ]
     },
     "metadata": {},
     "output_type": "display_data"
    }
   ],
   "source": [
    "from itertools import cycle\n",
    "from sklearn.metrics import roc_curve, auc\n",
    "\n",
    "pipeline = Pipeline([\n",
    "    ('bigram_bow',  bigrams_bow_vectorizer),\n",
    "    ('tfidf',  TfidfTransformer()),\n",
    "    ('naive-bayes',  MultinomialNB()) ])\n",
    "\n",
    "## Fit the data\n",
    "pipeline.fit(train_X, train_y)\n",
    "\n",
    "## This function plots the ROC curve\n",
    "def plot_roc(labels, probs, le):\n",
    "    colors = cycle(['aqua', 'red', 'green', 'blue', 'yellow', 'cyan', 'magenta', 'violet', 'purple', 'black', 'grey'])\n",
    "    fpr, tpr = dict(), dict()\n",
    "    roc_auc = dict()\n",
    "    for label in range(len(list(le.classes_))):\n",
    "        color = next(colors)\n",
    "        fpr[label], tpr[label], _ = roc_curve(test_y == label, probs[:, label])\n",
    "        roc_auc[label] = auc(fpr[label], tpr[label])\n",
    "        plt.plot(fpr[label], tpr[label], color = color, lw=2,\n",
    "                 label ='ROC of {0} | auc = {1:0.2f}'\n",
    "                 ''.format(le.inverse_transform(label), roc_auc[label]))\n",
    "    plt.xlim([0.0, 1.1])\n",
    "    plt.ylim([0.0, 1.1])\n",
    "    plt.xlabel('False Positive Rate')\n",
    "    plt.ylabel('True Positive Rate')\n",
    "    plt.title('ROC Curve')\n",
    "    plt.legend(loc=\"lower right\")\n",
    "\n",
    "plt.figure(figsize=(9, 6))  # the plot size you want\n",
    "\n",
    "## see accuracy and confusion matrix\n",
    "preds_tfidf_bigrams = pipeline.predict_proba(test_X)\n",
    "plot_roc(test_y, preds_tfidf_bigrams, le)"
   ]
  },
  {
   "cell_type": "code",
   "execution_count": null,
   "metadata": {
    "collapsed": true
   },
   "outputs": [],
   "source": []
  }
 ],
 "metadata": {
  "kernelspec": {
   "display_name": "Python 2",
   "language": "python",
   "name": "python2"
  },
  "language_info": {
   "codemirror_mode": {
    "name": "ipython",
    "version": 2
   },
   "file_extension": ".py",
   "mimetype": "text/x-python",
   "name": "python",
   "nbconvert_exporter": "python",
   "pygments_lexer": "ipython2",
   "version": "2.7.13"
  }
 },
 "nbformat": 4,
 "nbformat_minor": 2
}
