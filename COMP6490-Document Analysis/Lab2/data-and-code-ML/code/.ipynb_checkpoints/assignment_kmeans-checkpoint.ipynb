{
 "cells": [
  {
   "cell_type": "markdown",
   "metadata": {},
   "source": [
    "# Document Clustering using KMeans"
   ]
  },
  {
   "cell_type": "markdown",
   "metadata": {},
   "source": [
    "Your task is to code up K-means clustering as discussed in lecture and apply it to the [*Assignment 2 Q1* Data posted to Wattle](https://wattlecourses.anu.edu.au/mod/resource/view.php?id=1130230).\n",
    "Parts of the code and extensive instructions are provided in the rest of this notebook.\n",
    "Read them carefully in order to receive full marks.\n",
    "Note that there are four implementation tasks: one is to implement KMeans, and the other three are at the end of the notebook.\n",
    "\n",
    "During the lab, you will be asked to run your code on a *new* data set, similar to the *Assignment 2 Q1 Data*, but containing different documents.\n",
    "Consider this as a **train/test split**: during the development of your assignment, you observe the **training set**.\n",
    "During the lab, you are evaluated on the **testing set**.\n",
    "As you will notice below, the code displays the *top 5 document filenames* for each of the K clusters found. \n",
    "The tutor will both inspect the quality (purity and the homogeneity measure) of the clustering (2.5 pts), as well as the *efficiency* of the code you write and your explanation of your design choices (2.5 pts).\n",
    "\n",
    "**Notes:**  \n",
    "\n",
    "* If your algorithm randomizes its initialization, we are allowed to run it multiple times and we will grade the best clustering found.\n",
    "* The starting code uses the preprocessing function that we have developed during the tutorials. Feel free to experiment with other techniques to improve performance (ask Google, read the lectures etc.) We will give additional marks to such experimentations."
   ]
  },
  {
   "cell_type": "code",
   "execution_count": 1,
   "metadata": {
    "collapsed": true
   },
   "outputs": [],
   "source": [
    "## some configurations for notebook and importing modules\n",
    "%matplotlib inline\n",
    "%load_ext autoreload\n",
    "%autoreload 2\n",
    "\n",
    "import pandas as pd\n",
    "import numpy as np\n",
    "import matplotlib.pyplot as plt"
   ]
  },
  {
   "cell_type": "markdown",
   "metadata": {},
   "source": [
    "## 1. Loading dataset and preprocessing"
   ]
  },
  {
   "cell_type": "markdown",
   "metadata": {},
   "source": [
    "We load the dataset and we preprocess it in a similar manner to the tutorial."
   ]
  },
  {
   "cell_type": "code",
   "execution_count": 2,
   "metadata": {},
   "outputs": [
    {
     "data": {
      "text/html": [
       "<div>\n",
       "<style>\n",
       "    .dataframe thead tr:only-child th {\n",
       "        text-align: right;\n",
       "    }\n",
       "\n",
       "    .dataframe thead th {\n",
       "        text-align: left;\n",
       "    }\n",
       "\n",
       "    .dataframe tbody tr th {\n",
       "        vertical-align: top;\n",
       "    }\n",
       "</style>\n",
       "<table border=\"1\" class=\"dataframe\">\n",
       "  <thead>\n",
       "    <tr style=\"text-align: right;\">\n",
       "      <th></th>\n",
       "      <th>id</th>\n",
       "      <th>category</th>\n",
       "      <th>text</th>\n",
       "    </tr>\n",
       "  </thead>\n",
       "  <tbody>\n",
       "    <tr>\n",
       "      <th>0</th>\n",
       "      <td>70337</td>\n",
       "      <td>misc.forsale</td>\n",
       "      <td>From: kedz@bigwpi.WPI.EDU (John Kedziora)\\nSub...</td>\n",
       "    </tr>\n",
       "    <tr>\n",
       "      <th>1</th>\n",
       "      <td>74150</td>\n",
       "      <td>misc.forsale</td>\n",
       "      <td>From: myoakam@cis.ohio-state.edu (micah r yoak...</td>\n",
       "    </tr>\n",
       "    <tr>\n",
       "      <th>2</th>\n",
       "      <td>74720</td>\n",
       "      <td>misc.forsale</td>\n",
       "      <td>From: gt1706a@prism.gatech.EDU (Maureen L. Eag...</td>\n",
       "    </tr>\n",
       "    <tr>\n",
       "      <th>3</th>\n",
       "      <td>74721</td>\n",
       "      <td>misc.forsale</td>\n",
       "      <td>From: Mike Diack &lt;mike-d@staff.tc.umn.edu&gt;\\nSu...</td>\n",
       "    </tr>\n",
       "    <tr>\n",
       "      <th>4</th>\n",
       "      <td>74722</td>\n",
       "      <td>misc.forsale</td>\n",
       "      <td>From: jvinson@xsoft.xerox.com (Jeffrey A Vinso...</td>\n",
       "    </tr>\n",
       "  </tbody>\n",
       "</table>\n",
       "</div>"
      ],
      "text/plain": [
       "      id      category                                               text\n",
       "0  70337  misc.forsale  From: kedz@bigwpi.WPI.EDU (John Kedziora)\\nSub...\n",
       "1  74150  misc.forsale  From: myoakam@cis.ohio-state.edu (micah r yoak...\n",
       "2  74720  misc.forsale  From: gt1706a@prism.gatech.EDU (Maureen L. Eag...\n",
       "3  74721  misc.forsale  From: Mike Diack <mike-d@staff.tc.umn.edu>\\nSu...\n",
       "4  74722  misc.forsale  From: jvinson@xsoft.xerox.com (Jeffrey A Vinso..."
      ]
     },
     "execution_count": 2,
     "metadata": {},
     "output_type": "execute_result"
    }
   ],
   "source": [
    "from data import read_as_df\n",
    "## TODO start\n",
    "## provide path to the dataset\n",
    "path_to_dataset = '../data/assign_data_test/'\n",
    "## TODO stop\n",
    "\n",
    "dataset = read_as_df(path_to_dataset)\n",
    "dataset.head()"
   ]
  },
  {
   "cell_type": "markdown",
   "metadata": {},
   "source": [
    "We use the preprocessing function developed in the tutorials, and present in the file `prepros.py`. \n",
    "If you decide to make any improvements to the pre-processing, make it in a block in this notebook, as the tutors don't have access to any external files."
   ]
  },
  {
   "cell_type": "code",
   "execution_count": 3,
   "metadata": {},
   "outputs": [
    {
     "data": {
      "text/plain": [
       "0    [kedz, bigwpi, wpi, edu, john, kedziora, subje...\n",
       "1    [myoakam, cis, edu, micah, r, yoakam, subject,...\n",
       "2    [prism, gatech, edu, maureen, l, eagl, subject...\n",
       "3    [mike, diack, staff, tc, umn, edu, subject, ma...\n",
       "4    [jvinson, xsoft, xerox, com, jeffrey, vinson, ...\n",
       "Name: tokens, dtype: object"
      ]
     },
     "execution_count": 3,
     "metadata": {},
     "output_type": "execute_result"
    }
   ],
   "source": [
    "import re\n",
    "from nltk.stem.snowball import SnowballStemmer\n",
    "import nltk\n",
    "from nltk.corpus import stopwords\n",
    "\n",
    "stemmer = SnowballStemmer(\"english\")\n",
    "stopwords_en = set(stopwords.words('english'))\n",
    "\n",
    "__tokenization_pattern = r'''(?x)          # set flag to allow verbose regexps\n",
    "        \\$?\\d+(?:\\.\\d+)?%?  # currency and percentages, e.g. $12.40, 82%\n",
    "      | (?:[A-Z]\\.)+        # abbreviations, e.g. U.S.A.\n",
    "      | \\w+(?:-\\w+)*        # words with optional internal hyphens\n",
    "      | \\.\\.\\.              # ellipsis\n",
    "      | [][.,;\"'?():_`-]    # these are separate tokens; includes ], [\n",
    "    '''\n",
    "tokenizer = nltk.tokenize.regexp.RegexpTokenizer(__tokenization_pattern)\n",
    "\n",
    "def preprocessor(text):\n",
    "    stems = []\n",
    "    tokens = tokenizer.tokenize(text.lower())\n",
    "\n",
    "    for token in tokens:\n",
    "        if token.isalpha() and token not in stopwords_en:\n",
    "            stems.append(str(stemmer.stem(token)))\n",
    "    return stems\n",
    "\n",
    "dataset['tokens'] = dataset['text'].apply(preprocessor)\n",
    "dataset['tokens'].head()"
   ]
  },
  {
   "cell_type": "markdown",
   "metadata": {},
   "source": [
    "## 2. Implementing K-Means"
   ]
  },
  {
   "cell_type": "markdown",
   "metadata": {},
   "source": [
    "The skeleton for kmeans algorithm is given in the next block. You have to implement/complete the following functions. The details of the functions, input, output are defined here after, or in the comments of each function.:\n",
    "\n",
    "1. **init_centroids**: Initializes the centroids (you can experiment here with random init, kmeans++ init etc).\n",
    "2. **cost**: returns the total distance between documents and the centroid for each cluster\n",
    "3. **reassign**: returns the new document labels (after the centroids have been updated)\n",
    "4. **recompute**: returns the new centroids (after the labels have been updated)\n",
    "5. **fit**: The algorithm that iteratively updates labels and centroids until convergence\n",
    "6. **get_n_documents**: return the index of top n (e.g. top 5) documents in each cluster"
   ]
  },
  {
   "cell_type": "code",
   "execution_count": 67,
   "metadata": {
    "collapsed": true
   },
   "outputs": [],
   "source": [
    "from dist import dist, search\n",
    "import numpy as np\n",
    "from sklearn.base import BaseEstimator, ClusterMixin, TransformerMixin\n",
    "import scipy\n",
    "\n",
    "class KMeans(BaseEstimator, ClusterMixin, TransformerMixin):\n",
    "    '''\n",
    "        Custom implementation of KMeans that fits to sklearn's pipeline\n",
    "    '''\n",
    "\n",
    "    ## Don't modify this constructor\n",
    "    def __init__(self, K, max_iter = 100, distance = 'cosine', tol = 1e-3):\n",
    "        '''\n",
    "            constructor for KMeans class\n",
    "\n",
    "            arguments:\n",
    "                - K: number of clusters\n",
    "                - max_iter: max number of iterations\n",
    "                - distance: distace measure to use - 'cosine' or 'euclid'\n",
    "                - tol: tolerance for convergence\n",
    "        '''\n",
    "\n",
    "        assert K >= 1, ('invalid K , must be +ve')\n",
    "        assert max_iter >= 1, ('invalid max_iter, must be +ve')\n",
    "        assert tol > 0 and tol < 1, ('tol must be in rangd (0, 1)')\n",
    "\n",
    "        self.K = K\n",
    "        self.max_iters = max_iter\n",
    "        self.dist = distance\n",
    "        self.centroids = None\n",
    "        self.labels = None\n",
    "        self.tolerance = tol\n",
    "\n",
    "    def init_centroids(self, X):\n",
    "        '''\n",
    "            this method returns the initial centroids\n",
    "            input =>\n",
    "                - X : data matrix (n * d dims)\n",
    "            output: =>\n",
    "                - centroids: centroids matrix (k * d dims)\n",
    "        '''\n",
    "\n",
    "        n, d = X.shape\n",
    "        idx = np.random.choice(n, self.K)\n",
    "\n",
    "        return X[idx, :]\n",
    "\n",
    "    def cost(self, X):\n",
    "        '''\n",
    "            this method returns the sum of distance between centroid and points for each cluster\n",
    "            input =>\n",
    "                - X : data matrix (n * d dims)\n",
    "            output: =>\n",
    "                - dists: vector of length k where dists[i] is sum of distance\n",
    "                            between centroid[i] and points that lie in cluster i\n",
    "        '''\n",
    "        costs = np.zeros(self.K)\n",
    "        for k in range(self.K):\n",
    "            costs[k] = dist(X[np.where(self.labels == k)[0], :], self.centroids[k], self.dist).sum()\n",
    "        return costs\n",
    "\n",
    "    def reassign(self, X):\n",
    "        '''\n",
    "            this method returns the new labels for each data point in X\n",
    "            input =>\n",
    "                - X : data matrix (n * d dims)\n",
    "            output: =>\n",
    "                - labels: vector of length n where labels[i] is the\n",
    "                    cluster label for ith point\n",
    "        '''\n",
    "        n, d = X.shape\n",
    "        new_assign = np.zeros(n)\n",
    "        for i in range(n):\n",
    "            new_assign[i] = np.argmin(dist(self.centroids, X[i], self.dist))\n",
    "        return new_assign\n",
    "\n",
    "    def recompute(self, X):\n",
    "        '''\n",
    "            this method returns new centroids\n",
    "            input =>\n",
    "                - X : data matrix (n * d dims)\n",
    "            output: =>\n",
    "                - centroids: new centroids computed from labels\n",
    "        '''\n",
    "        n, d = X.shape\n",
    "        centroids = np.zeros((self.K, d))\n",
    "        for k in range(self.K):\n",
    "            centroids[k] = np.average(X[np.where(self.labels == k)[0], :], 0)\n",
    "        return centroids\n",
    "\n",
    "    def fit(self, X, y = None):\n",
    "        '''\n",
    "            this method is the body of the KMeans algorithm. It regroups the data X into k clusters\n",
    "            input =>\n",
    "                - X : data matrix (n * d dims)\n",
    "            output: =>\n",
    "                - self\n",
    "        '''\n",
    "        if type(X) == scipy.sparse.csr.csr_matrix:\n",
    "            X = X.toarray()\n",
    "\n",
    "        n_iter = 0\n",
    "        converged = False\n",
    "        self.centroids = self.init_centroids(X)\n",
    "        self.labels = self.reassign(X)\n",
    "        oldObj = self.cost(X).sum()\n",
    "\n",
    "        ## iterate\n",
    "        while n_iter < self.max_iters and not converged:\n",
    "            self.centroids = self.recompute(X)\n",
    "            self.labels = self.reassign(X)\n",
    "            obj = self.cost(X).sum()\n",
    "            if oldObj - obj < self.tolerance:\n",
    "                converged = True\n",
    "            oldObj = obj\n",
    "            print('iter = {}, objective = {}'.format(n_iter, obj))\n",
    "            n_iter += 1\n",
    "\n",
    "        return self\n",
    "\n",
    "    def get_n_documents(self, X, n = 5):\n",
    "        '''\n",
    "            this method returns the index of top n documents from each cluster\n",
    "            input =>\n",
    "                - X input data matrix (n * d dims)\n",
    "                - n: number of top documents to return\n",
    "            output: =>\n",
    "                - results: list of tuple (k, index) which means doc at index belongs to cluster k\n",
    "        '''\n",
    "        if type(X) == scipy.sparse.csr.csr_matrix:\n",
    "            X = X.toarray()\n",
    "        labels = self.transform(X)\n",
    "        results = []\n",
    "        for k in range(self.K):\n",
    "            idx = search(X, self.centroids[k], self.dist, n)\n",
    "            for i in idx:\n",
    "                results.append((k, i))\n",
    "        return results\n",
    "\n",
    "    ## all the methods below are required for the integration with scikit-learn.\n",
    "    ## DO NOT EDIT ANY METHOD BELOW HERE\n",
    "    def transform(self, X, y = None):\n",
    "        '''\n",
    "            this method returns the labels by inferencing on fitted model\n",
    "            input =>\n",
    "                - X : data matrix (n * d dims)\n",
    "            output: =>\n",
    "                - labels: inferred models\n",
    "        '''\n",
    "        if type(X) == scipy.sparse.csr.csr_matrix:\n",
    "            X = X.toarray()\n",
    "        return self.reassign(X)\n",
    "\n",
    "    def fit_transform(self, X, y = None):\n",
    "        '''\n",
    "            this method returns the labels by fitting X to the model\n",
    "            input =>\n",
    "                - X : data matrix (n * d dims)\n",
    "            output: =>\n",
    "                - labels: inferred models\n",
    "        '''\n",
    "        self.fit(X)\n",
    "        return self.labels\n"
   ]
  },
  {
   "cell_type": "markdown",
   "metadata": {},
   "source": [
    "We use the Kmeans class that you have just implemented and we create a `scikit-learn pipeline` which performs clustering with the  TF-IDF document representation and the cosine distance."
   ]
  },
  {
   "cell_type": "code",
   "execution_count": 68,
   "metadata": {
    "collapsed": true
   },
   "outputs": [],
   "source": [
    "from sklearn.pipeline import Pipeline\n",
    "from sklearn.feature_extraction.text import CountVectorizer\n",
    "from sklearn.feature_extraction.text import TfidfTransformer\n",
    "from sklearn.preprocessing import LabelEncoder\n",
    "\n",
    "## encoding dataset labels (refer classifier tutorial)\n",
    "le = LabelEncoder()\n",
    "y = le.fit_transform(dataset.category)\n",
    "\n",
    "## bag of words vectorizer (refer classifier tutorial)\n",
    "bow_vectorizer = CountVectorizer(lowercase = False, \n",
    "                                     tokenizer = lambda x: x, # because we already have tokens available\n",
    "                                     stop_words = None, ## stop words removal already done from NLTK\n",
    "                                     max_features = 5000, ## pick top 5K words by frequency\n",
    "                                     ngram_range = (1, 1), ## we want unigrams now\n",
    "                                     binary = False) ## Now it's Bag of Words\n",
    "\n",
    "## build a pipeline\n",
    "pipeline_cosine = Pipeline([\n",
    "    ('bow',  bow_vectorizer),\n",
    "    ('tfidf',  TfidfTransformer()),\n",
    "    ('k-means',  KMeans(K = len(list(le.classes_)), distance = 'cosine', tol = 1e-4) ) ])"
   ]
  },
  {
   "cell_type": "markdown",
   "metadata": {},
   "source": [
    "### 2.1 Training KMeans\n",
    "We can now perform training by calling `pipeline.fit` function and get the predictions by calling `pipeline.transform` function.  "
   ]
  },
  {
   "cell_type": "code",
   "execution_count": 69,
   "metadata": {
    "scrolled": true
   },
   "outputs": [
    {
     "name": "stdout",
     "output_type": "stream",
     "text": [
      "iter = 0, objective = 2339.5134125002232\n",
      "iter = 1, objective = 2312.5453447731747\n",
      "iter = 2, objective = 2301.6123327682067\n",
      "iter = 3, objective = 2294.6393210200013\n",
      "iter = 4, objective = 2290.5622134460255\n",
      "iter = 5, objective = 2288.7791208280896\n",
      "iter = 6, objective = 2287.8622347886094\n",
      "iter = 7, objective = 2287.734803315011\n",
      "iter = 8, objective = 2287.690632932583\n",
      "iter = 9, objective = 2287.658659252548\n",
      "iter = 10, objective = 2287.648761125131\n",
      "iter = 11, objective = 2287.6435805526316\n",
      "iter = 12, objective = 2287.6435805526316\n"
     ]
    }
   ],
   "source": [
    "pipeline_cosine.fit(dataset.tokens)\n",
    "preds_cosine = pipeline_cosine.transform(dataset.tokens)"
   ]
  },
  {
   "cell_type": "markdown",
   "metadata": {},
   "source": [
    "### 2.2 Get top 5 documents from each cluster\n",
    "\n",
    "Now using the function *get_n_documents*, find and print the top 5 documents from each cluster. We can get individual component of pipeline using function `pipeline.named_steps['k-means']`.\n",
    "\n",
    "Before using this function, we need to access the vectorial representation of the dataset. \n",
    "Since we used a pipeline to do both the document vectorization and the clustering together, we will repeat the process without the last step (i.e. the clustering)."
   ]
  },
  {
   "cell_type": "code",
   "execution_count": 70,
   "metadata": {
    "collapsed": true
   },
   "outputs": [],
   "source": [
    "vectorizer = Pipeline(pipeline_cosine.steps[:-1]) ## all components of pipeline except last component, which is kmeans\n",
    "vectors = vectorizer.transform(dataset.tokens)\n",
    "top_5_idxs = pipeline_cosine.named_steps['k-means'].get_n_documents(vectors)"
   ]
  },
  {
   "cell_type": "markdown",
   "metadata": {},
   "source": [
    "Output the top 5 documents in each cluster (the 5 documents closest to the centroid, in each cluster)."
   ]
  },
  {
   "cell_type": "code",
   "execution_count": 71,
   "metadata": {},
   "outputs": [
    {
     "name": "stdout",
     "output_type": "stream",
     "text": [
      "(rec.motorcycles, 104548) belongs to cluster 0\n",
      "(rec.motorcycles, 104701) belongs to cluster 0\n",
      "(rec.motorcycles, 102616) belongs to cluster 0\n",
      "(rec.motorcycles, 105141) belongs to cluster 0\n",
      "(rec.motorcycles, 104630) belongs to cluster 0\n",
      "(talk.politics.guns, 55067) belongs to cluster 1\n",
      "(talk.politics.guns, 54273) belongs to cluster 1\n",
      "(talk.politics.guns, 55087) belongs to cluster 1\n",
      "(talk.politics.guns, 54329) belongs to cluster 1\n",
      "(talk.politics.guns, 54665) belongs to cluster 1\n",
      "(misc.forsale, 76554) belongs to cluster 2\n",
      "(misc.forsale, 76282) belongs to cluster 2\n",
      "(misc.forsale, 76602) belongs to cluster 2\n",
      "(misc.forsale, 76014) belongs to cluster 2\n",
      "(misc.forsale, 75949) belongs to cluster 2\n"
     ]
    }
   ],
   "source": [
    "for (k, idx) in top_5_idxs:\n",
    "    print(\"({}, {}) belongs to cluster {}\".format(dataset.iloc[idx].category, dataset.iloc[idx].id, k))"
   ]
  },
  {
   "cell_type": "markdown",
   "metadata": {},
   "source": [
    "Does a cluster contains only documents from a single document category? \n",
    "Ideally, documents from the same category should belong to the same cluster."
   ]
  },
  {
   "cell_type": "markdown",
   "metadata": {},
   "source": [
    "### 2.3. Evaluating cluster performance\n",
    "There are several cluster evaluating metrics readily available in `sklearn.metrics.cluster`, including the `homogeneity_score`, which is similar to the purity measure covered in the lecture.\n",
    "A partition resulted from clustering obtains a homogeneity score of 1 if all of its clusters contain only data points which are members of a single class."
   ]
  },
  {
   "cell_type": "code",
   "execution_count": 9,
   "metadata": {},
   "outputs": [
    {
     "name": "stdout",
     "output_type": "stream",
     "text": [
      "homogenity = 0.8286466402173608\n"
     ]
    }
   ],
   "source": [
    "from sklearn.metrics.cluster import homogeneity_score\n",
    "\n",
    "print(\"homogenity = {}\".format(\n",
    "    homogeneity_score(y, preds_cosine)) \n",
    ")"
   ]
  },
  {
   "cell_type": "markdown",
   "metadata": {},
   "source": [
    "# 3. Additional assignment tasks\n",
    "\n",
    "This section contains three additional tasks. \n",
    "Note that for each of the tasks, you are required to solve each of the three steps here below, each in its own cell:\n",
    "1. construct a processing pipeline (as shown in the tutorials) which solves the task, \n",
    "2. compute and print the homogeneity score obtained using the pipeline\n",
    "3. plot the barplot of this score against the score obtained by the implementation in Section 2\n",
    "\n",
    "### 3.1 Task 2: Compare the KMeans clustering when using Unigrams vs. Bigrams as features.\n",
    "The KMeans clustering that we tested in Section 2 used Unigrams as representation features.\n",
    "Implement a processing pipeline which uses Bigrams as features and compare the performance gain (or loss) w.r.t. Unigrams."
   ]
  },
  {
   "cell_type": "code",
   "execution_count": 30,
   "metadata": {},
   "outputs": [
    {
     "name": "stdout",
     "output_type": "stream",
     "text": [
      "iter = 0, objective = 2385.6807846101174\n",
      "iter = 1, objective = 2363.533373009953\n",
      "iter = 2, objective = 2358.3553425470272\n",
      "iter = 3, objective = 2355.572897393895\n",
      "iter = 4, objective = 2353.749072538189\n",
      "iter = 5, objective = 2352.4712646568973\n",
      "iter = 6, objective = 2350.862928068388\n",
      "iter = 7, objective = 2348.346585738317\n",
      "iter = 8, objective = 2346.356561807081\n",
      "iter = 9, objective = 2345.8086546962522\n",
      "iter = 10, objective = 2345.6366048845025\n",
      "iter = 11, objective = 2345.56312296158\n",
      "iter = 12, objective = 2345.48177975093\n",
      "iter = 13, objective = 2345.371664793164\n",
      "iter = 14, objective = 2345.0461718615916\n",
      "iter = 15, objective = 2344.110527264365\n",
      "iter = 16, objective = 2344.0509905722765\n",
      "iter = 17, objective = 2344.0453405987128\n",
      "iter = 18, objective = 2344.0453405987128\n"
     ]
    }
   ],
   "source": [
    "## bag of words vectorizer (refer classifier tutorial)\n",
    "bigrams_bow_vectorizer = CountVectorizer(lowercase = False, \n",
    "                                     tokenizer = lambda x: x, # because we already have tokens available\n",
    "                                     stop_words = None, ## stop words removal already done from NLTK\n",
    "                                     max_features = 13000, ## pick top 20K tokens by frequency. We need more now.\n",
    "                                     ngram_range = (1, 2), ## we want unigrams bigrams now\n",
    "                                     binary = True) ## Now it's Bag of Words\n",
    "\n",
    "## build a pipeline\n",
    "pipeline_bigrams = Pipeline([\n",
    "    ('bigram_bow',  bigrams_bow_vectorizer),\n",
    "    ('tfidf',  TfidfTransformer()),\n",
    "    ('k-means',  KMeans(K = len(list(le.classes_)), distance = 'cosine', tol = 1e-4) ) ])\n",
    "\n",
    "pipeline_bigrams.fit(dataset.tokens)\n",
    "preds_bigrams = pipeline_bigrams.transform(dataset.tokens)"
   ]
  },
  {
   "cell_type": "code",
   "execution_count": 31,
   "metadata": {},
   "outputs": [
    {
     "name": "stdout",
     "output_type": "stream",
     "text": [
      "homogenity = 0.8408953338568459\n"
     ]
    }
   ],
   "source": [
    "## TODO: compute homogeneity\n",
    "\n",
    "print(\"homogenity = {}\".format(\n",
    "    homogeneity_score(y, preds_bigrams)) \n",
    ")"
   ]
  },
  {
   "cell_type": "code",
   "execution_count": 26,
   "metadata": {},
   "outputs": [
    {
     "data": {
      "text/plain": [
       "<matplotlib.axes._subplots.AxesSubplot at 0x11bf97e80>"
      ]
     },
     "execution_count": 26,
     "metadata": {},
     "output_type": "execute_result"
    },
    {
     "data": {
      "image/png": "[encoded data removed]",
      "text/plain": [
       "<matplotlib.figure.Figure at 0x11b802eb8>"
      ]
     },
     "metadata": {},
     "output_type": "display_data"
    }
   ],
   "source": [
    "## TODO: barplot performances of BIGRAMS (this task) vs. UNIGRAMS (computed in Section 2)\n",
    "homogeneity_unigrams = homogeneity_score(y, preds_cosine)\n",
    "homogeneity_bigrams = homogeneity_score(y, preds_bigrams)\n",
    "\n",
    "accuracies = pd.DataFrame(\n",
    "    [('unigrams', homogeneity_unigrams),  ('bigrams', homogeneity_bigrams)], \n",
    "    columns = ['n-grams', 'homogeneity']\n",
    ").set_index('n-grams')\n",
    "accuracies.plot.bar(ylim = (0.7, 0.9))"
   ]
  },
  {
   "cell_type": "markdown",
   "metadata": {
    "collapsed": true
   },
   "source": [
    "### 3.2 Task 3: Cosine vs Euclidean distance.\n",
    "The algorithm in Section 2 used the Cosine distance to measure similarity between document (and/or centroids).\n",
    "In this task, you will measure the performance gain/loss when using the Euclidean distance instead.\n",
    "\n",
    "**Hint:** use the adequate argument in K-Means constructor."
   ]
  },
  {
   "cell_type": "code",
   "execution_count": 13,
   "metadata": {},
   "outputs": [
    {
     "name": "stdout",
     "output_type": "stream",
     "text": [
      "iter = 0, objective = 2825.9149562483844\n",
      "iter = 1, objective = 2819.8447925245864\n",
      "iter = 2, objective = 2818.505085351282\n",
      "iter = 3, objective = 2818.205790732381\n",
      "iter = 4, objective = 2818.0849804319587\n",
      "iter = 5, objective = 2818.026191883132\n",
      "iter = 6, objective = 2817.9923629972595\n",
      "iter = 7, objective = 2817.9774188909796\n",
      "iter = 8, objective = 2817.9641714861646\n",
      "iter = 9, objective = 2817.956836320286\n",
      "iter = 10, objective = 2817.9513553575957\n",
      "iter = 11, objective = 2817.9513553575957\n"
     ]
    }
   ],
   "source": [
    "## TODO: implement KMEANS with Euclidean\n",
    "\n",
    "pipeline_euclid = Pipeline([\n",
    "    ('bow',  bow_vectorizer),\n",
    "    ('tfidf',  TfidfTransformer()),\n",
    "    ('k-means',  KMeans(K = len(list(le.classes_)), distance = 'euclid', tol = 1e-4) ) ])\n",
    "pipeline_euclid.fit(dataset.tokens)\n",
    "preds_euclid = pipeline_euclid.transform(dataset.tokens)"
   ]
  },
  {
   "cell_type": "code",
   "execution_count": 14,
   "metadata": {},
   "outputs": [
    {
     "name": "stdout",
     "output_type": "stream",
     "text": [
      "homogenity = 0.7826681114786379\n"
     ]
    }
   ],
   "source": [
    "## TODO: compute homogeneity\n",
    "print(\"homogenity = {}\".format(\n",
    "    homogeneity_score(y, preds_euclid)) \n",
    ")"
   ]
  },
  {
   "cell_type": "code",
   "execution_count": 27,
   "metadata": {},
   "outputs": [
    {
     "data": {
      "text/plain": [
       "<matplotlib.axes._subplots.AxesSubplot at 0x1362aecc0>"
      ]
     },
     "execution_count": 27,
     "metadata": {},
     "output_type": "execute_result"
    },
    {
     "data": {
      "image/png": "[encoded data removed]",
      "text/plain": [
       "<matplotlib.figure.Figure at 0x1369f9b38>"
      ]
     },
     "metadata": {},
     "output_type": "display_data"
    }
   ],
   "source": [
    "## TODO: barplot performances of EUCLIDEAN (this task) vs. COSINE (computed in Section 2)\n",
    "homogeneity_euclid = homogeneity_score(y, preds_euclid)\n",
    "\n",
    "accuracies = pd.DataFrame(\n",
    "    [('cosine', homogeneity_unigrams),  ('euclid', homogeneity_euclid)], \n",
    "    columns = ['distance measure', 'homogeneity']\n",
    ").set_index('distance measure')\n",
    "accuracies.plot.bar(ylim = (0.7, 0.9))"
   ]
  },
  {
   "cell_type": "markdown",
   "metadata": {},
   "source": [
    "### 3.3 Task 4: compare against the K-Means implementation in `scikit-learn`\n",
    "As you might have surely doubted, a mature library such as `scikit-learn` contains a readily implementation of KMeans.\n",
    "In this task, you will compare our homegrown KMeans implementation with the `scikit-learn`'s KMeans.\n",
    "\n",
    "**Hint** you might want to look at [this for reference](http://scikit-learn.org/stable/modules/generated/sklearn.cluster.KMeans.html)."
   ]
  },
  {
   "cell_type": "code",
   "execution_count": 16,
   "metadata": {
    "collapsed": true
   },
   "outputs": [],
   "source": [
    "## TODO: use KMeans from scikit-learn\n",
    "import sklearn.cluster\n",
    "\n",
    "pipeline_sl = Pipeline([\n",
    "    ('bow',  bow_vectorizer),\n",
    "    ('tfidf',  TfidfTransformer()),\n",
    "    ('k-means',  sklearn.cluster.KMeans(n_clusters=len(list(le.classes_)), n_init=1))])\n",
    "\n",
    "pipeline_sl.fit(dataset.tokens)\n",
    "preds_sl = pipeline_sl.fit_predict(dataset.tokens)"
   ]
  },
  {
   "cell_type": "code",
   "execution_count": 17,
   "metadata": {},
   "outputs": [
    {
     "name": "stdout",
     "output_type": "stream",
     "text": [
      "homogenity = 0.717671489404739\n"
     ]
    }
   ],
   "source": [
    "## TODO: compute homogeneity\n",
    "print(\"homogenity = {}\".format(\n",
    "    homogeneity_score(y, preds_sl)) \n",
    ")"
   ]
  },
  {
   "cell_type": "code",
   "execution_count": 28,
   "metadata": {},
   "outputs": [
    {
     "data": {
      "text/plain": [
       "<matplotlib.axes._subplots.AxesSubplot at 0x136160b00>"
      ]
     },
     "execution_count": 28,
     "metadata": {},
     "output_type": "execute_result"
    },
    {
     "data": {
      "image/png": "[encoded data removed]",
      "text/plain": [
       "<matplotlib.figure.Figure at 0x13613fba8>"
      ]
     },
     "metadata": {},
     "output_type": "display_data"
    }
   ],
   "source": [
    "## TODO: barplot performances of scikit-learn KMeans (this task) vs. our own (computed in Section 2)\n",
    "homogeneity_sl = homogeneity_score(y, preds_sl)\n",
    "\n",
    "accuracies = pd.DataFrame(\n",
    "    [('our homegrown', homogeneity_unigrams),  ('scikit-learn', homogeneity_sl)], \n",
    "    columns = ['Kmeans', 'homogeneity']\n",
    ").set_index('Kmeans')\n",
    "accuracies.plot.bar(ylim = (0.7, 0.9))"
   ]
  },
  {
   "cell_type": "markdown",
   "metadata": {
    "collapsed": true
   },
   "source": [
    "Play with the parameters of the `scikit-learn` KMeans function and improve its performances. What do you need to do?"
   ]
  },
  {
   "cell_type": "code",
   "execution_count": 19,
   "metadata": {},
   "outputs": [
    {
     "name": "stdout",
     "output_type": "stream",
     "text": [
      "homogenity = 0.7534181791022208\n"
     ]
    }
   ],
   "source": [
    "pipeline_sl_advanced = Pipeline([\n",
    "    ('bow',  bow_vectorizer),\n",
    "    ('tfidf',  TfidfTransformer()),\n",
    "    ('k-means',  sklearn.cluster.KMeans(n_clusters=len(list(le.classes_)), n_init=20, tol=0))])\n",
    "\n",
    "pipeline_sl_advanced.fit(dataset.tokens)\n",
    "preds_sl_advanced = pipeline_sl_advanced.fit_predict(dataset.tokens)\n",
    "print(\"homogenity = {}\".format(\n",
    "    homogeneity_score(y, preds_sl_advanced)) \n",
    ")"
   ]
  },
  {
   "cell_type": "code",
   "execution_count": null,
   "metadata": {
    "collapsed": true
   },
   "outputs": [],
   "source": []
  }
 ],
 "metadata": {
  "kernelspec": {
   "display_name": "Python 3",
   "language": "python",
   "name": "python3"
  },
  "language_info": {
   "codemirror_mode": {
    "name": "ipython",
    "version": 3
   },
   "file_extension": ".py",
   "mimetype": "text/x-python",
   "name": "python",
   "nbconvert_exporter": "python",
   "pygments_lexer": "ipython3",
   "version": "3.6.2"
  }
 },
 "nbformat": 4,
 "nbformat_minor": 2
}
