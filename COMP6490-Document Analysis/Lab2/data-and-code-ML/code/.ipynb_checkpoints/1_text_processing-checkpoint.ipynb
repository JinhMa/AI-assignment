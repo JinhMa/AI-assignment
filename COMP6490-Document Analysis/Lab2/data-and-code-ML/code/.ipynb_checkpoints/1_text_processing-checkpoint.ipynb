{
 "cells": [
  {
   "cell_type": "markdown",
   "metadata": {},
   "source": [
    "# Introduction to Text Preprocessing for Machine Learning\n",
    "\n",
    "This tutorial will guide you through text preprocessing using NLTK, constructing a boolean representation for text and performing a boolean search as shown in the IR part of this course.\n",
    "These instructions assume that you have Python and the corresponding necessary package installed.\n",
    "If this is not the case, go back to the [installation instructions](https://wattlecourses.anu.edu.au/pluginfile.php/1412128/mod_resource/content/8/installation-and-usage-instructions.html)."
   ]
  },
  {
   "cell_type": "markdown",
   "metadata": {},
   "source": [
    "## Setup and Compilation\n",
    "\n",
    "Download the [tutorial starting code from Wattle](https://wattlecourses.anu.edu.au/mod/resource/view.php?id=1198771) (~12MB), save it in a local folder and unzip it. \n",
    "**Warning:** This operation might take a couple of minutes, considering the number of files in the archive.\n",
    "The `source` folder contains Python code file and the tutorial notebooks.\n",
    "Navigate to this folder and start the jupyter notebook.\n",
    "\n",
    "If you have problems: use Google, ask a classmate who attended the lab for help or ask the tutor (in this order)."
   ]
  },
  {
   "cell_type": "markdown",
   "metadata": {},
   "source": [
    "## 1. Dataset loading"
   ]
  },
  {
   "cell_type": "markdown",
   "metadata": {},
   "source": [
    "Start by loading the required libraries and making `jupyter notebook` configurations."
   ]
  },
  {
   "cell_type": "code",
   "execution_count": 1,
   "metadata": {
    "collapsed": true
   },
   "outputs": [],
   "source": [
    "## some configurations for notebook and importing modules\n",
    "%matplotlib inline\n",
    "%load_ext autoreload\n",
    "%autoreload 2\n",
    "import pandas as pd\n",
    "import numpy as np\n",
    "import matplotlib.pyplot as plt"
   ]
  },
  {
   "cell_type": "markdown",
   "metadata": {},
   "source": [
    "In this tutorial we use a subset of the [newsgroup dataset](https://kdd.ics.uci.edu/databases/20newsgroups/20newsgroups.data.html), entitled `two_newsgroup`, which has two  categories: `comp.graphics` and `sci.med`.\n",
    "\n",
    "We load the dataset into a [pandas Dataframe](https://pandas.pydata.org), which is a two-dimensional labeled data-structure (like a table).\n",
    "Columns represent attributes and rows represent data instances. \n",
    "In the `two_newsgroup` dataset, columns represent document id, category and text for each document (*i.e.* each row).\n",
    "\n",
    "The code for reading the dataset is provided in the python source file `data.py` (which the next block loads)."
   ]
  },
  {
   "cell_type": "code",
   "execution_count": 2,
   "metadata": {},
   "outputs": [
    {
     "name": "stdout",
     "output_type": "stream",
     "text": [
      "Number of rows and columns of the dataset: (1963, 3)\n",
      "The first five documents:\n"
     ]
    },
    {
     "data": {
      "text/html": [
       "<div>\n",
       "<style>\n",
       "    .dataframe thead tr:only-child th {\n",
       "        text-align: right;\n",
       "    }\n",
       "\n",
       "    .dataframe thead th {\n",
       "        text-align: left;\n",
       "    }\n",
       "\n",
       "    .dataframe tbody tr th {\n",
       "        vertical-align: top;\n",
       "    }\n",
       "</style>\n",
       "<table border=\"1\" class=\"dataframe\">\n",
       "  <thead>\n",
       "    <tr style=\"text-align: right;\">\n",
       "      <th></th>\n",
       "      <th>id</th>\n",
       "      <th>category</th>\n",
       "      <th>text</th>\n",
       "    </tr>\n",
       "  </thead>\n",
       "  <tbody>\n",
       "    <tr>\n",
       "      <th>0</th>\n",
       "      <td>39496</td>\n",
       "      <td>comp.graphics</td>\n",
       "      <td>From: wnkretz@ikesg1.energietechnik.uni-stuttg...</td>\n",
       "    </tr>\n",
       "    <tr>\n",
       "      <th>1</th>\n",
       "      <td>38358</td>\n",
       "      <td>comp.graphics</td>\n",
       "      <td>From: tsa@cellar.org (The Silent Assassin)\\nSu...</td>\n",
       "    </tr>\n",
       "    <tr>\n",
       "      <th>2</th>\n",
       "      <td>38765</td>\n",
       "      <td>comp.graphics</td>\n",
       "      <td>From: n8844264@henson.cc.wwu.edu (Cummins Char...</td>\n",
       "    </tr>\n",
       "    <tr>\n",
       "      <th>3</th>\n",
       "      <td>38637</td>\n",
       "      <td>comp.graphics</td>\n",
       "      <td>From: rytg7@fel.tno.nl (Q. van Rijt)\\nSubject:...</td>\n",
       "    </tr>\n",
       "    <tr>\n",
       "      <th>4</th>\n",
       "      <td>38422</td>\n",
       "      <td>comp.graphics</td>\n",
       "      <td>From: watson@madvax.uwa.oz.au (David Watson)\\n...</td>\n",
       "    </tr>\n",
       "  </tbody>\n",
       "</table>\n",
       "</div>"
      ],
      "text/plain": [
       "      id       category                                               text\n",
       "0  39496  comp.graphics  From: wnkretz@ikesg1.energietechnik.uni-stuttg...\n",
       "1  38358  comp.graphics  From: tsa@cellar.org (The Silent Assassin)\\nSu...\n",
       "2  38765  comp.graphics  From: n8844264@henson.cc.wwu.edu (Cummins Char...\n",
       "3  38637  comp.graphics  From: rytg7@fel.tno.nl (Q. van Rijt)\\nSubject:...\n",
       "4  38422  comp.graphics  From: watson@madvax.uwa.oz.au (David Watson)\\n..."
      ]
     },
     "execution_count": 2,
     "metadata": {},
     "output_type": "execute_result"
    }
   ],
   "source": [
    "from data import read_as_df\n",
    "## TODO start\n",
    "## specify the path to the dataset two_newsgroup\n",
    "path_to_dataset = '../data/two_newsgroups/'\n",
    "## TODO stop\n",
    "dataset = read_as_df(path_to_dataset)\n",
    "print(\"Number of rows and columns of the dataset: {}\".format(dataset.shape))\n",
    "print(\"The first five documents:\")\n",
    "dataset.head()"
   ]
  },
  {
   "cell_type": "markdown",
   "metadata": {},
   "source": [
    "## 2. Textual preprocessing\n",
    "\n",
    "As shown above, we have 1963 documents in our dataset. \n",
    "We extract and print the first document, which will be used throughout this section for introducing different text preprocessing techniques."
   ]
  },
  {
   "cell_type": "code",
   "execution_count": 3,
   "metadata": {},
   "outputs": [
    {
     "name": "stdout",
     "output_type": "stream",
     "text": [
      "From: wnkretz@ikesg1.energietechnik.uni-stuttgart.de (Oliver Kretzschmar)\n",
      "Subject: Need C-algorithm, which decide whether a 3D-point is inside a space, defined by 6 planes\n",
      "Organization: IKE\n",
      "Lines: 31\n",
      "Distribution: world\n",
      "NNTP-Posting-Host: ikesg1.energietechnik.uni-stuttgart.de\n",
      "\n",
      "\n",
      "\n",
      "\n",
      "   Hey,\n",
      "\n",
      "   I am looking for C-algorithm, which decide,whether a 3D-Point is\n",
      "   inside a space which was defined by 8 x 3D-points.\n",
      "   With a space defined by 8 x 3D-points, I mean a space defined by\n",
      "   6 closed 3D meshes defined by 8 points. Like this :\n",
      "\n",
      "              _____\n",
      "             /    /|\n",
      "            /____/ |\n",
      "            |    | |\n",
      "            |    | /\n",
      "            |____|/\n",
      "\n",
      "\n",
      "   But in this simple example, the sides are parallel, but my problem,\n",
      "   the sides can be non parallel and the opposite sides must not have\n",
      "   the same size etc. Please mail me your informations !\n",
      "\n",
      "   Thanks for your great efforts\n",
      "\n",
      "      Oliver\n",
      "\n",
      "-- \n",
      " NAME : O.Kretzschmar                      Inst.IKE / University Stuttgart\n",
      " PHONE: +49 711 685 2130                           Pfaffenwaldring 31\n",
      " FAX  : +49 711 685 2010                            7000 Stuttgart 80\n",
      " EMAIL: wnkretz@ikesg1.energietechnik.uni-stuttgart.de\n",
      "\n"
     ]
    }
   ],
   "source": [
    "document = dataset['text'][0]\n",
    "print(document)"
   ]
  },
  {
   "cell_type": "markdown",
   "metadata": {},
   "source": [
    "Most Machine Learning algorithms require the data to be represented as vectors, *i.e.* as array of numbers.\n",
    "We need to convert our document into a numeric vector. \n",
    "Before proceeding, we perform textual preprocessing and we convert the docuemnt to list of tokens. \n",
    "Some of the common preprocessing steps are:\n",
    "1. Tokenization \n",
    "2. Stop words removal\n",
    "3. Stemming\n",
    "\n",
    "We will cover these concepts one by one.\n",
    "\n",
    "### 2.1 Tokenization\n",
    "\n",
    "Tokenization divides a document into a sequence of tokens. Tokens are the basic unit of a document, *e.g.* words. \n",
    "The [NLTK](http://www.nltk.org) library provides different functionalities for text processing and natural language processing including tokenization, stemming and stop word removal. \n",
    "\n",
    "The following block defines a NLTK tokenizer based on a regex pattern which preserves abbreviations, words with hyphens, currencies and percentages, ellipsis (such as ...), *etc* when breaking a documents into a list of tokens."
   ]
  },
  {
   "cell_type": "code",
   "execution_count": 4,
   "metadata": {
    "collapsed": true
   },
   "outputs": [],
   "source": [
    "import nltk \n",
    "__tokenization_pattern = r'''(?x)          # set flag to allow verbose regexps\n",
    "        \\$?\\d+(?:\\.\\d+)?%?  # currency and percentages, e.g. $12.40, 82%\n",
    "      | (?:[A-Z]\\.)+        # abbreviations, e.g. U.S.A.\n",
    "      | \\w+(?:-\\w+)*        # words with optional internal hyphens\n",
    "      | \\.\\.\\.              # ellipsis\n",
    "      | [][.,;\"'?():_`-]    # these are separate tokens; includes ], [\n",
    "    '''\n",
    "\n",
    "## call it using tokenizer.tokenize\n",
    "tokenizer = nltk.tokenize.regexp.RegexpTokenizer(__tokenization_pattern)"
   ]
  },
  {
   "cell_type": "markdown",
   "metadata": {},
   "source": [
    "Let us construct the corresponding list of tokens for an example phrase:"
   ]
  },
  {
   "cell_type": "code",
   "execution_count": 5,
   "metadata": {},
   "outputs": [
    {
     "name": "stdout",
     "output_type": "stream",
     "text": [
      "['The', 'economy', 'of', 'Australia', 'is', 'a', 'developed', ',', 'with', 'a', 'G.D.P.', 'of', 'AUD', '$1.67', 'trillion', 'as', 'of', '2016', 'and', 'a', 'growth', 'rate', 'of', '2.80%', '.']\n"
     ]
    }
   ],
   "source": [
    "tokens = tokenizer.tokenize(\"\"\"\n",
    "The economy of Australia is a developed, with a G.D.P. of AUD$1.67 trillion as of 2016 and a growth rate of 2.80%.\n",
    "\n",
    "\"\"\")\n",
    "print(tokens)"
   ]
  },
  {
   "cell_type": "markdown",
   "metadata": {},
   "source": [
    "Now, let's use the tokenizer we just defined to tokenize our target document and obtain the corresponding list of tokens.\n",
    "Note that we are also converting the document to lowercase."
   ]
  },
  {
   "cell_type": "code",
   "execution_count": 6,
   "metadata": {
    "scrolled": false
   },
   "outputs": [
    {
     "name": "stdout",
     "output_type": "stream",
     "text": [
      "number of tokens : 101\n",
      "tokens: ['from', ':', 'wnkretz', 'ikesg1', '.', 'energietechnik', '.', 'uni-stuttgart', '.', 'de', '(', 'oliver', 'kretzschmar', ')', 'subject', ':', 'need', 'c-algorithm', ',', 'which', 'decide', 'whether', 'a', '3', 'd-point', 'is', 'inside', 'a', 'space', ',', 'defined', 'by', '6', 'planes', 'organization', ':', 'ike', 'lines', ':', '31', 'distribution', ':', 'world', 'nntp-posting-host', ':', 'ikesg1', '.', 'energietechnik', '.', 'uni-stuttgart', '.', 'de', 'hey', ',', 'i', 'am', 'looking', 'for', 'c-algorithm', ',', 'which', 'decide', ',', 'whether', 'a', '3', 'd-point', 'is', 'inside', 'a', 'space', 'which', 'was', 'defined', 'by', '8', 'x', '3', 'd-points', '.', 'with', 'a', 'space', 'defined', 'by', '8', 'x', '3', 'd-points', ',', 'i', 'mean', 'a', 'space', 'defined', 'by', '6', 'closed', '3', 'd', 'meshes', 'defined', 'by', '8', 'points', '.', 'like', 'this', ':', '_____', '____', '____', 'but', 'in', 'this', 'simple', 'example', ',', 'the', 'sides', 'are', 'parallel', ',', 'but', 'my', 'problem', ',', 'the', 'sides', 'can', 'be', 'non', 'parallel', 'and', 'the', 'opposite', 'sides', 'must', 'not', 'have', 'the', 'same', 'size', 'etc', '.', 'please', 'mail', 'me', 'your', 'informations', 'thanks', 'for', 'your', 'great', 'efforts', 'oliver', '-', '-', 'name', ':', 'o', '.', 'kretzschmar', 'inst', '.', 'ike', 'university', 'stuttgart', 'phone', ':', '49', '711', '685', '2130', 'pfaffenwaldring', '31', 'fax', ':', '49', '711', '685', '2010', '7000', 'stuttgart', '80', 'email', ':', 'wnkretz', 'ikesg1', '.', 'energietechnik', '.', 'uni-stuttgart', '.', 'de']\n"
     ]
    }
   ],
   "source": [
    "tokens = tokenizer.tokenize(document.encode('utf-8').lower())\n",
    "print(\"number of tokens : {}\".format(len(set(tokens))))\n",
    "print(\"tokens: {}\".format(tokens))"
   ]
  },
  {
   "cell_type": "markdown",
   "metadata": {},
   "source": [
    "Now, we will filter out the non alphabetic tokens using the standard Python function [isalpha()](https://docs.python.org/2/library/stdtypes.html)."
   ]
  },
  {
   "cell_type": "code",
   "execution_count": 7,
   "metadata": {},
   "outputs": [
    {
     "name": "stdout",
     "output_type": "stream",
     "text": [
      "number of tokens : 76\n",
      "tokens: ['from', 'wnkretz', 'energietechnik', 'de', 'oliver', 'kretzschmar', 'subject', 'need', 'which', 'decide', 'whether', 'a', 'is', 'inside', 'a', 'space', 'defined', 'by', 'planes', 'organization', 'ike', 'lines', 'distribution', 'world', 'energietechnik', 'de', 'hey', 'i', 'am', 'looking', 'for', 'which', 'decide', 'whether', 'a', 'is', 'inside', 'a', 'space', 'which', 'was', 'defined', 'by', 'x', 'with', 'a', 'space', 'defined', 'by', 'x', 'i', 'mean', 'a', 'space', 'defined', 'by', 'closed', 'd', 'meshes', 'defined', 'by', 'points', 'like', 'this', 'but', 'in', 'this', 'simple', 'example', 'the', 'sides', 'are', 'parallel', 'but', 'my', 'problem', 'the', 'sides', 'can', 'be', 'non', 'parallel', 'and', 'the', 'opposite', 'sides', 'must', 'not', 'have', 'the', 'same', 'size', 'etc', 'please', 'mail', 'me', 'your', 'informations', 'thanks', 'for', 'your', 'great', 'efforts', 'oliver', 'name', 'o', 'kretzschmar', 'inst', 'ike', 'university', 'stuttgart', 'phone', 'pfaffenwaldring', 'fax', 'stuttgart', 'email', 'wnkretz', 'energietechnik', 'de']\n"
     ]
    }
   ],
   "source": [
    "## filter out non alphabets\n",
    "alphabet_tokens = [token for token in tokens if token.isalpha()]\n",
    "print(\"number of tokens : {}\".format(len(set(alphabet_tokens))))\n",
    "print(\"tokens: {}\".format(alphabet_tokens))"
   ]
  },
  {
   "cell_type": "markdown",
   "metadata": {},
   "source": [
    "### 2.2 Stopwords removal\n",
    "Stopwords are commonly used words that do not provide any document specific information, such as **the**, **from**, **to**, **at** *etc*.\n",
    "We use the NLTK standard stopwords list to remove stopwords from our list of tokens."
   ]
  },
  {
   "cell_type": "code",
   "execution_count": 8,
   "metadata": {},
   "outputs": [
    {
     "name": "stdout",
     "output_type": "stream",
     "text": [
      "number of tokens : 50\n",
      "tokens: ['wnkretz', 'energietechnik', 'de', 'oliver', 'kretzschmar', 'subject', 'need', 'decide', 'whether', 'inside', 'space', 'defined', 'planes', 'organization', 'ike', 'lines', 'distribution', 'world', 'energietechnik', 'de', 'hey', 'looking', 'decide', 'whether', 'inside', 'space', 'defined', 'x', 'space', 'defined', 'x', 'mean', 'space', 'defined', 'closed', 'meshes', 'defined', 'points', 'like', 'simple', 'example', 'sides', 'parallel', 'problem', 'sides', 'non', 'parallel', 'opposite', 'sides', 'must', 'size', 'etc', 'please', 'mail', 'informations', 'thanks', 'great', 'efforts', 'oliver', 'name', 'kretzschmar', 'inst', 'ike', 'university', 'stuttgart', 'phone', 'pfaffenwaldring', 'fax', 'stuttgart', 'email', 'wnkretz', 'energietechnik', 'de']\n"
     ]
    }
   ],
   "source": [
    "from nltk.corpus import stopwords\n",
    "en_stopwords = set(stopwords.words('english'))\n",
    "non_stopwords = [word for word in alphabet_tokens if not word in en_stopwords]\n",
    "print(\"number of tokens : {}\".format(len(set(non_stopwords))))\n",
    "print(\"tokens: {}\".format(non_stopwords))"
   ]
  },
  {
   "cell_type": "markdown",
   "metadata": {},
   "source": [
    "### 2.3 Stemming\n",
    "[Stemming](https://en.wikipedia.org/wiki/Stemming) is the process of reducing inflected words to their word stem, base or root form. \n",
    "The NLTK python library also contains an implementation of the [Snowball stemming](http://snowballstem.org) algorithm."
   ]
  },
  {
   "cell_type": "code",
   "execution_count": 9,
   "metadata": {},
   "outputs": [
    {
     "name": "stdout",
     "output_type": "stream",
     "text": [
      "number of tokens : 50\n",
      "tokens: ['wnkretz', 'energietechnik', 'de', 'oliv', 'kretzschmar', 'subject', 'need', 'decid', 'whether', 'insid', 'space', 'defin', 'plane', 'organ', 'ike', 'line', 'distribut', 'world', 'energietechnik', 'de', 'hey', 'look', 'decid', 'whether', 'insid', 'space', 'defin', 'x', 'space', 'defin', 'x', 'mean', 'space', 'defin', 'close', 'mesh', 'defin', 'point', 'like', 'simpl', 'exampl', 'side', 'parallel', 'problem', 'side', 'non', 'parallel', 'opposit', 'side', 'must', 'size', 'etc', 'pleas', 'mail', 'inform', 'thank', 'great', 'effort', 'oliv', 'name', 'kretzschmar', 'inst', 'ike', 'univers', 'stuttgart', 'phone', 'pfaffenwaldr', 'fax', 'stuttgart', 'email', 'wnkretz', 'energietechnik', 'de']\n"
     ]
    }
   ],
   "source": [
    "from nltk.stem.snowball import SnowballStemmer\n",
    "stemmer = SnowballStemmer(\"english\")\n",
    "\n",
    "stems = [str(stemmer.stem(word)) for word in non_stopwords]\n",
    "print(\"number of tokens : {}\".format(len(set(stems))))\n",
    "print(\"tokens: {}\".format(stems))"
   ]
  },
  {
   "cell_type": "markdown",
   "metadata": {},
   "source": [
    "Notice that the number of unique tokens decreases with each of the preprocessing steps. Why did this happen?"
   ]
  },
  {
   "cell_type": "markdown",
   "metadata": {},
   "source": [
    "## Implementation task\n",
    "Your current task is to **build the a preprocessing function** which takes an entire document and performs all of the above preprocessing steps (*i.e.* converting to lowercase, tokenization, removing stopwords and stemming) in a single function. "
   ]
  },
  {
   "cell_type": "code",
   "execution_count": 10,
   "metadata": {
    "collapsed": true
   },
   "outputs": [],
   "source": [
    "def preprocessor(text):\n",
    "    '''\n",
    "        turns text into tokens after tokenization, stemming, stop words removal\n",
    "        imput:\n",
    "            - text: document to process\n",
    "        output: =>\n",
    "            - tokens: list of tokens after tokenization, stemming, stop words removal\n",
    "    '''\n",
    "    stems = []\n",
    "    \n",
    "    ## TODO: fill each of the steps below\n",
    "    ## Step 1: tokenization\n",
    "    ## Step 2: remove non-alphabetic characters\n",
    "    ## Step 3: remove stopwords\n",
    "    ## Step 4: stemm tokens\n",
    "\n",
    "    ## TODO end\n",
    "    \n",
    "    return stems"
   ]
  },
  {
   "cell_type": "markdown",
   "metadata": {},
   "source": [
    "We will use your newly implmented function to create a column of `tokens` in our dataframe. \n",
    "The method [`DataFrame.apply`](https://pandas.pydata.org/pandas-docs/stable/generated/pandas.DataFrame.apply.html) takes a function and applies it to each row of the dataframe. \n",
    "\n",
    "**note**: the next block might a bit to execute depending on the efficiency of your implementation and on the performances of your system."
   ]
  },
  {
   "cell_type": "code",
   "execution_count": 11,
   "metadata": {},
   "outputs": [
    {
     "data": {
      "text/html": [
       "<div>\n",
       "<style>\n",
       "    .dataframe thead tr:only-child th {\n",
       "        text-align: right;\n",
       "    }\n",
       "\n",
       "    .dataframe thead th {\n",
       "        text-align: left;\n",
       "    }\n",
       "\n",
       "    .dataframe tbody tr th {\n",
       "        vertical-align: top;\n",
       "    }\n",
       "</style>\n",
       "<table border=\"1\" class=\"dataframe\">\n",
       "  <thead>\n",
       "    <tr style=\"text-align: right;\">\n",
       "      <th></th>\n",
       "      <th>id</th>\n",
       "      <th>category</th>\n",
       "      <th>text</th>\n",
       "      <th>tokens</th>\n",
       "    </tr>\n",
       "  </thead>\n",
       "  <tbody>\n",
       "    <tr>\n",
       "      <th>0</th>\n",
       "      <td>39496</td>\n",
       "      <td>comp.graphics</td>\n",
       "      <td>From: wnkretz@ikesg1.energietechnik.uni-stuttg...</td>\n",
       "      <td>[wnkretz, energietechnik, de, oliv, kretzschma...</td>\n",
       "    </tr>\n",
       "    <tr>\n",
       "      <th>1</th>\n",
       "      <td>38358</td>\n",
       "      <td>comp.graphics</td>\n",
       "      <td>From: tsa@cellar.org (The Silent Assassin)\\nSu...</td>\n",
       "      <td>[tsa, cellar, org, silent, assassin, subject, ...</td>\n",
       "    </tr>\n",
       "    <tr>\n",
       "      <th>2</th>\n",
       "      <td>38765</td>\n",
       "      <td>comp.graphics</td>\n",
       "      <td>From: n8844264@henson.cc.wwu.edu (Cummins Char...</td>\n",
       "      <td>[henson, cc, wwu, edu, cummin, charl, subject,...</td>\n",
       "    </tr>\n",
       "    <tr>\n",
       "      <th>3</th>\n",
       "      <td>38637</td>\n",
       "      <td>comp.graphics</td>\n",
       "      <td>From: rytg7@fel.tno.nl (Q. van Rijt)\\nSubject:...</td>\n",
       "      <td>[fel, tno, nl, q, van, rijt, subject, sphere, ...</td>\n",
       "    </tr>\n",
       "    <tr>\n",
       "      <th>4</th>\n",
       "      <td>38422</td>\n",
       "      <td>comp.graphics</td>\n",
       "      <td>From: watson@madvax.uwa.oz.au (David Watson)\\n...</td>\n",
       "      <td>[watson, madvax, uwa, oz, au, david, watson, s...</td>\n",
       "    </tr>\n",
       "  </tbody>\n",
       "</table>\n",
       "</div>"
      ],
      "text/plain": [
       "      id       category                                               text  \\\n",
       "0  39496  comp.graphics  From: wnkretz@ikesg1.energietechnik.uni-stuttg...   \n",
       "1  38358  comp.graphics  From: tsa@cellar.org (The Silent Assassin)\\nSu...   \n",
       "2  38765  comp.graphics  From: n8844264@henson.cc.wwu.edu (Cummins Char...   \n",
       "3  38637  comp.graphics  From: rytg7@fel.tno.nl (Q. van Rijt)\\nSubject:...   \n",
       "4  38422  comp.graphics  From: watson@madvax.uwa.oz.au (David Watson)\\n...   \n",
       "\n",
       "                                              tokens  \n",
       "0  [wnkretz, energietechnik, de, oliv, kretzschma...  \n",
       "1  [tsa, cellar, org, silent, assassin, subject, ...  \n",
       "2  [henson, cc, wwu, edu, cummin, charl, subject,...  \n",
       "3  [fel, tno, nl, q, van, rijt, subject, sphere, ...  \n",
       "4  [watson, madvax, uwa, oz, au, david, watson, s...  "
      ]
     },
     "execution_count": 11,
     "metadata": {},
     "output_type": "execute_result"
    }
   ],
   "source": [
    "dataset['tokens'] = dataset['text'].apply(preprocessor)\n",
    "dataset.head()"
   ]
  },
  {
   "cell_type": "markdown",
   "metadata": {},
   "source": [
    "## 3. Statistics over textual tokens\n",
    "We compute the histogram of tokens across the entire dataset and we search for the 10 most frequent tokens with their counts.\n",
    "We also produce the plot of the frequency of the most common 50 tokens (the X axis presents tokens, ordered by their frequency).\n",
    "\n",
    "You can change 50 to a higher value to have even more tokens plotted.\n",
    "What do you observe about the obtained distribution of token frequency? Does it look like a **rich-get-richer** effect?\n",
    "What does this mean in the context of textual processing?\n",
    "What other quantities present such a distribution (think about the distribution of heights vs. the distribution of income in a population of humans)?\n",
    "\n",
    "Notice the python function [itertools.chain](https://docs.python.org/2/library/itertools.html#itertools.chain), of which you can think as a function that concatenates a list of lists into a single list."
   ]
  },
  {
   "cell_type": "code",
   "execution_count": 12,
   "metadata": {
    "scrolled": false
   },
   "outputs": [
    {
     "name": "stdout",
     "output_type": "stream",
     "text": [
      "[(u'edu', 4111), (u'line', 2361), (u'subject', 2164), (u'organ', 2094), (u'use', 2070), (u'imag', 1988), (u'com', 1961), (u'one', 1422), (u'write', 1343), (u'file', 1252)]\n"
     ]
    },
    {
     "data": {
      "image/png": "[encoded data removed]",
      "text/plain": [
       "<matplotlib.figure.Figure at 0x7fe2405dbe10>"
      ]
     },
     "metadata": {},
     "output_type": "display_data"
    }
   ],
   "source": [
    "from itertools import chain\n",
    "fdist = nltk.FreqDist(chain(*dataset['tokens']))\n",
    "print(fdist.most_common(10))\n",
    "\n",
    "plt.figure(figsize=(15, 6))  # the size you want\n",
    "fdist.plot(50,cumulative=False)"
   ]
  },
  {
   "cell_type": "markdown",
   "metadata": {},
   "source": [
    "How many unique tokens do we have in the dataset?"
   ]
  },
  {
   "cell_type": "code",
   "execution_count": 13,
   "metadata": {},
   "outputs": [
    {
     "name": "stdout",
     "output_type": "stream",
     "text": [
      "number of tokens in the dataset: 20077\n"
     ]
    }
   ],
   "source": [
    "## total number of unique tokens in the collection\n",
    "all_tokens = set(chain(*dataset['tokens']))\n",
    "print(\"number of tokens in the dataset: {}\".format(len(all_tokens)))"
   ]
  },
  {
   "cell_type": "markdown",
   "metadata": {},
   "source": [
    "## 4. Boolean representation and search\n",
    "### 4.1 Boolean representation\n",
    "The sparse boolean representation represents a document as a set of words. \n",
    "Therefore, we create a new column in our dataset to represent each document as **a set** of tokens (as opposed to **a vector** of tokens in the previous column).\n",
    "One of the advantages of the set representation is that it allows accesing efficient python methods for searching is a token exists in a set."
   ]
  },
  {
   "cell_type": "code",
   "execution_count": 14,
   "metadata": {},
   "outputs": [
    {
     "data": {
      "text/html": [
       "<div>\n",
       "<style>\n",
       "    .dataframe thead tr:only-child th {\n",
       "        text-align: right;\n",
       "    }\n",
       "\n",
       "    .dataframe thead th {\n",
       "        text-align: left;\n",
       "    }\n",
       "\n",
       "    .dataframe tbody tr th {\n",
       "        vertical-align: top;\n",
       "    }\n",
       "</style>\n",
       "<table border=\"1\" class=\"dataframe\">\n",
       "  <thead>\n",
       "    <tr style=\"text-align: right;\">\n",
       "      <th></th>\n",
       "      <th>id</th>\n",
       "      <th>category</th>\n",
       "      <th>text</th>\n",
       "      <th>tokens</th>\n",
       "      <th>features</th>\n",
       "    </tr>\n",
       "  </thead>\n",
       "  <tbody>\n",
       "    <tr>\n",
       "      <th>0</th>\n",
       "      <td>39496</td>\n",
       "      <td>comp.graphics</td>\n",
       "      <td>From: wnkretz@ikesg1.energietechnik.uni-stuttg...</td>\n",
       "      <td>[wnkretz, energietechnik, de, oliv, kretzschma...</td>\n",
       "      <td>{size, pleas, univers, point, opposit, fax, in...</td>\n",
       "    </tr>\n",
       "    <tr>\n",
       "      <th>1</th>\n",
       "      <td>38358</td>\n",
       "      <td>comp.graphics</td>\n",
       "      <td>From: tsa@cellar.org (The Silent Assassin)\\nSu...</td>\n",
       "      <td>[tsa, cellar, org, silent, assassin, subject, ...</td>\n",
       "      <td>{pleas, program, would, rotat, give, excel, bc...</td>\n",
       "    </tr>\n",
       "    <tr>\n",
       "      <th>2</th>\n",
       "      <td>38765</td>\n",
       "      <td>comp.graphics</td>\n",
       "      <td>From: n8844264@henson.cc.wwu.edu (Cummins Char...</td>\n",
       "      <td>[henson, cc, wwu, edu, cummin, charl, subject,...</td>\n",
       "      <td>{wwu, softwar, autotrac, creat, point, cc, kno...</td>\n",
       "    </tr>\n",
       "    <tr>\n",
       "      <th>3</th>\n",
       "      <td>38637</td>\n",
       "      <td>comp.graphics</td>\n",
       "      <td>From: rytg7@fel.tno.nl (Q. van Rijt)\\nSubject:...</td>\n",
       "      <td>[fel, tno, nl, q, van, rijt, subject, sphere, ...</td>\n",
       "      <td>{point, laboratori, approxim, fit, sphere, rad...</td>\n",
       "    </tr>\n",
       "    <tr>\n",
       "      <th>4</th>\n",
       "      <td>38422</td>\n",
       "      <td>comp.graphics</td>\n",
       "      <td>From: watson@madvax.uwa.oz.au (David Watson)\\n...</td>\n",
       "      <td>[watson, madvax, uwa, oz, au, david, watson, s...</td>\n",
       "      <td>{tel, set, isbn, find, point, madvax, washingt...</td>\n",
       "    </tr>\n",
       "  </tbody>\n",
       "</table>\n",
       "</div>"
      ],
      "text/plain": [
       "      id       category                                               text  \\\n",
       "0  39496  comp.graphics  From: wnkretz@ikesg1.energietechnik.uni-stuttg...   \n",
       "1  38358  comp.graphics  From: tsa@cellar.org (The Silent Assassin)\\nSu...   \n",
       "2  38765  comp.graphics  From: n8844264@henson.cc.wwu.edu (Cummins Char...   \n",
       "3  38637  comp.graphics  From: rytg7@fel.tno.nl (Q. van Rijt)\\nSubject:...   \n",
       "4  38422  comp.graphics  From: watson@madvax.uwa.oz.au (David Watson)\\n...   \n",
       "\n",
       "                                              tokens  \\\n",
       "0  [wnkretz, energietechnik, de, oliv, kretzschma...   \n",
       "1  [tsa, cellar, org, silent, assassin, subject, ...   \n",
       "2  [henson, cc, wwu, edu, cummin, charl, subject,...   \n",
       "3  [fel, tno, nl, q, van, rijt, subject, sphere, ...   \n",
       "4  [watson, madvax, uwa, oz, au, david, watson, s...   \n",
       "\n",
       "                                            features  \n",
       "0  {size, pleas, univers, point, opposit, fax, in...  \n",
       "1  {pleas, program, would, rotat, give, excel, bc...  \n",
       "2  {wwu, softwar, autotrac, creat, point, cc, kno...  \n",
       "3  {point, laboratori, approxim, fit, sphere, rad...  \n",
       "4  {tel, set, isbn, find, point, madvax, washingt...  "
      ]
     },
     "execution_count": 14,
     "metadata": {},
     "output_type": "execute_result"
    }
   ],
   "source": [
    "dataset['features'] = dataset['tokens'].apply(set)\n",
    "dataset.head()"
   ]
  },
  {
   "cell_type": "markdown",
   "metadata": {},
   "source": [
    "### 4.2 Boolean Search\n",
    "\n",
    "We implement a simple boolean search through the document collection. \n",
    "The boolean search was presented in the IR lectures (refresh your memory using the [link to the corresponding IR lecture slides](https://wattlecourses.anu.edu.au/pluginfile.php/1481743/mod_resource/content/0/lecture1_intro_to_br.pdf#page=13) )."
   ]
  },
  {
   "cell_type": "markdown",
   "metadata": {},
   "source": [
    "Let's start with searching for documents which contain the words `research` or `seminar`.\n",
    "\n",
    "To do this, we create in the following block a predicate function that returns true if the document `doc` contains `research` or `seminar` in it."
   ]
  },
  {
   "cell_type": "code",
   "execution_count": 15,
   "metadata": {},
   "outputs": [
    {
     "name": "stdout",
     "output_type": "stream",
     "text": [
      "num_matches = 1275\n"
     ]
    },
    {
     "data": {
      "text/html": [
       "<div>\n",
       "<style>\n",
       "    .dataframe thead tr:only-child th {\n",
       "        text-align: right;\n",
       "    }\n",
       "\n",
       "    .dataframe thead th {\n",
       "        text-align: left;\n",
       "    }\n",
       "\n",
       "    .dataframe tbody tr th {\n",
       "        vertical-align: top;\n",
       "    }\n",
       "</style>\n",
       "<table border=\"1\" class=\"dataframe\">\n",
       "  <thead>\n",
       "    <tr style=\"text-align: right;\">\n",
       "      <th></th>\n",
       "      <th>id</th>\n",
       "      <th>category</th>\n",
       "      <th>text</th>\n",
       "      <th>tokens</th>\n",
       "      <th>features</th>\n",
       "    </tr>\n",
       "  </thead>\n",
       "  <tbody>\n",
       "    <tr>\n",
       "      <th>12</th>\n",
       "      <td>38533</td>\n",
       "      <td>comp.graphics</td>\n",
       "      <td>From: ab@nova.cc.purdue.edu (Allen B)\\nSubject...</td>\n",
       "      <td>[ab, nova, cc, purdu, edu, allen, b, subject, ...</td>\n",
       "      <td>{softwar, ab, help, busi, cc, app, misc, reall...</td>\n",
       "    </tr>\n",
       "    <tr>\n",
       "      <th>21</th>\n",
       "      <td>38944</td>\n",
       "      <td>comp.graphics</td>\n",
       "      <td>From: lioness@maple.circa.ufl.edu\\nSubject: Ku...</td>\n",
       "      <td>[lioness, mapl, circa, ufl, edu, subject, kubo...</td>\n",
       "      <td>{asid, realityengin, text, move, obtain, signi...</td>\n",
       "    </tr>\n",
       "    <tr>\n",
       "      <th>68</th>\n",
       "      <td>38622</td>\n",
       "      <td>comp.graphics</td>\n",
       "      <td>From: scott@fcs280s.ncifcrf.gov (Michael Scott...</td>\n",
       "      <td>[scott, ncifcrf, gov, michael, scott, subject,...</td>\n",
       "      <td>{less, money, scott, still, languag, thank, co...</td>\n",
       "    </tr>\n",
       "    <tr>\n",
       "      <th>69</th>\n",
       "      <td>38540</td>\n",
       "      <td>comp.graphics</td>\n",
       "      <td>From: srlnjal@grace.cri.nz\\nSubject: CorelDraw...</td>\n",
       "      <td>[srlnjal, grace, cri, nz, subject, coreldraw, ...</td>\n",
       "      <td>{softwar, bureau, sci, scodal, jeff, bitmap, c...</td>\n",
       "    </tr>\n",
       "    <tr>\n",
       "      <th>95</th>\n",
       "      <td>38907</td>\n",
       "      <td>comp.graphics</td>\n",
       "      <td>From: ttrusk@its.mcw.edu (Thomas Trusk)\\nSubje...</td>\n",
       "      <td>[ttrusk, mcw, edu, thoma, trusk, subject, geos...</td>\n",
       "      <td>{composit, noaa, collabor, edu, go, earth, fin...</td>\n",
       "    </tr>\n",
       "  </tbody>\n",
       "</table>\n",
       "</div>"
      ],
      "text/plain": [
       "       id       category                                               text  \\\n",
       "12  38533  comp.graphics  From: ab@nova.cc.purdue.edu (Allen B)\\nSubject...   \n",
       "21  38944  comp.graphics  From: lioness@maple.circa.ufl.edu\\nSubject: Ku...   \n",
       "68  38622  comp.graphics  From: scott@fcs280s.ncifcrf.gov (Michael Scott...   \n",
       "69  38540  comp.graphics  From: srlnjal@grace.cri.nz\\nSubject: CorelDraw...   \n",
       "95  38907  comp.graphics  From: ttrusk@its.mcw.edu (Thomas Trusk)\\nSubje...   \n",
       "\n",
       "                                               tokens  \\\n",
       "12  [ab, nova, cc, purdu, edu, allen, b, subject, ...   \n",
       "21  [lioness, mapl, circa, ufl, edu, subject, kubo...   \n",
       "68  [scott, ncifcrf, gov, michael, scott, subject,...   \n",
       "69  [srlnjal, grace, cri, nz, subject, coreldraw, ...   \n",
       "95  [ttrusk, mcw, edu, thoma, trusk, subject, geos...   \n",
       "\n",
       "                                             features  \n",
       "12  {softwar, ab, help, busi, cc, app, misc, reall...  \n",
       "21  {asid, realityengin, text, move, obtain, signi...  \n",
       "68  {less, money, scott, still, languag, thank, co...  \n",
       "69  {softwar, bureau, sci, scodal, jeff, bitmap, c...  \n",
       "95  {composit, noaa, collabor, edu, go, earth, fin...  "
      ]
     },
     "execution_count": 15,
     "metadata": {},
     "output_type": "execute_result"
    }
   ],
   "source": [
    "def predicate(doc): \n",
    "    return stemmer.stem('research') in doc or stemmer.stem('seminar') in doc\n",
    "\n",
    "## an array of true or false indicating match or ot match at corresponnding index\n",
    "matches = dataset['features'].apply(predicate)\n",
    "print('num_matches = {}'.format(dataset[matches].size))\n",
    "dataset[matches].head()"
   ]
  },
  {
   "cell_type": "markdown",
   "metadata": {},
   "source": [
    "**Note** that we stem each term in the query in the predicate. Why did we do this?\n",
    "\n",
    "## Implementation task\n",
    "Now search for documents containing `silicon` and `valley`. What should the predicate function be? "
   ]
  },
  {
   "cell_type": "code",
   "execution_count": 16,
   "metadata": {},
   "outputs": [
    {
     "name": "stdout",
     "output_type": "stream",
     "text": [
      "num_matches = 25\n"
     ]
    },
    {
     "data": {
      "text/html": [
       "<div>\n",
       "<style>\n",
       "    .dataframe thead tr:only-child th {\n",
       "        text-align: right;\n",
       "    }\n",
       "\n",
       "    .dataframe thead th {\n",
       "        text-align: left;\n",
       "    }\n",
       "\n",
       "    .dataframe tbody tr th {\n",
       "        vertical-align: top;\n",
       "    }\n",
       "</style>\n",
       "<table border=\"1\" class=\"dataframe\">\n",
       "  <thead>\n",
       "    <tr style=\"text-align: right;\">\n",
       "      <th></th>\n",
       "      <th>id</th>\n",
       "      <th>category</th>\n",
       "      <th>text</th>\n",
       "      <th>tokens</th>\n",
       "      <th>features</th>\n",
       "    </tr>\n",
       "  </thead>\n",
       "  <tbody>\n",
       "    <tr>\n",
       "      <th>141</th>\n",
       "      <td>38375</td>\n",
       "      <td>comp.graphics</td>\n",
       "      <td>From: nfotis@ntua.gr (Nick C. Fotis)\\nSubject:...</td>\n",
       "      <td>[nfoti, ntua, gr, nick, c, foti, subject, apr,...</td>\n",
       "      <td>{entropi, unico, four, whose, macpaint, madera...</td>\n",
       "    </tr>\n",
       "    <tr>\n",
       "      <th>210</th>\n",
       "      <td>38852</td>\n",
       "      <td>comp.graphics</td>\n",
       "      <td>From: nfotis@ntua.gr (Nick C. Fotis)\\nSubject:...</td>\n",
       "      <td>[nfoti, ntua, gr, nick, c, foti, subject, apr,...</td>\n",
       "      <td>{entropi, unico, four, whose, macpaint, madera...</td>\n",
       "    </tr>\n",
       "    <tr>\n",
       "      <th>788</th>\n",
       "      <td>38753</td>\n",
       "      <td>comp.graphics</td>\n",
       "      <td>From: ianf@random.se (Ian Feldman, The Other I...</td>\n",
       "      <td>[ianf, random, se, ian, feldman, internet, wor...</td>\n",
       "      <td>{mcintyr, invent, steve, edp, edu, mucho, varl...</td>\n",
       "    </tr>\n",
       "    <tr>\n",
       "      <th>1563</th>\n",
       "      <td>59470</td>\n",
       "      <td>sci.med</td>\n",
       "      <td>From: banschbach@vms.ocom.okstate.edu\\nSubject...</td>\n",
       "      <td>[banschbach, vms, ocom, okstat, edu, subject, ...</td>\n",
       "      <td>{gown, nutrit, osu, alway, informix, steril, u...</td>\n",
       "    </tr>\n",
       "    <tr>\n",
       "      <th>1920</th>\n",
       "      <td>59458</td>\n",
       "      <td>sci.med</td>\n",
       "      <td>From: hartman@informix.com (Robert Hartman)\\nS...</td>\n",
       "      <td>[hartman, informix, com, robert, hartman, subj...</td>\n",
       "      <td>{nutrit, among, approv, informix, ulcer, edu, ...</td>\n",
       "    </tr>\n",
       "  </tbody>\n",
       "</table>\n",
       "</div>"
      ],
      "text/plain": [
       "         id       category                                               text  \\\n",
       "141   38375  comp.graphics  From: nfotis@ntua.gr (Nick C. Fotis)\\nSubject:...   \n",
       "210   38852  comp.graphics  From: nfotis@ntua.gr (Nick C. Fotis)\\nSubject:...   \n",
       "788   38753  comp.graphics  From: ianf@random.se (Ian Feldman, The Other I...   \n",
       "1563  59470        sci.med  From: banschbach@vms.ocom.okstate.edu\\nSubject...   \n",
       "1920  59458        sci.med  From: hartman@informix.com (Robert Hartman)\\nS...   \n",
       "\n",
       "                                                 tokens  \\\n",
       "141   [nfoti, ntua, gr, nick, c, foti, subject, apr,...   \n",
       "210   [nfoti, ntua, gr, nick, c, foti, subject, apr,...   \n",
       "788   [ianf, random, se, ian, feldman, internet, wor...   \n",
       "1563  [banschbach, vms, ocom, okstat, edu, subject, ...   \n",
       "1920  [hartman, informix, com, robert, hartman, subj...   \n",
       "\n",
       "                                               features  \n",
       "141   {entropi, unico, four, whose, macpaint, madera...  \n",
       "210   {entropi, unico, four, whose, macpaint, madera...  \n",
       "788   {mcintyr, invent, steve, edp, edu, mucho, varl...  \n",
       "1563  {gown, nutrit, osu, alway, informix, steril, u...  \n",
       "1920  {nutrit, among, approv, informix, ulcer, edu, ...  "
      ]
     },
     "execution_count": 16,
     "metadata": {},
     "output_type": "execute_result"
    }
   ],
   "source": [
    "def predicate(doc): \n",
    "    ## TODO: implement the predicate function\n",
    "    \n",
    "    ## TODO stop\n",
    "\n",
    "matches = dataset['features'].apply(predicate)\n",
    "print('num_matches = {}'.format(dataset[matches].size))\n",
    "dataset[matches].head()"
   ]
  },
  {
   "cell_type": "markdown",
   "metadata": {},
   "source": [
    "\n"
   ]
  }
 ],
 "metadata": {
  "kernelspec": {
   "display_name": "Python 3",
   "language": "python",
   "name": "python3"
  },
  "language_info": {
   "codemirror_mode": {
    "name": "ipython",
    "version": 3
   },
   "file_extension": ".py",
   "mimetype": "text/x-python",
   "name": "python",
   "nbconvert_exporter": "python",
   "pygments_lexer": "ipython3",
   "version": "3.6.1"
  }
 },
 "nbformat": 4,
 "nbformat_minor": 2
}
