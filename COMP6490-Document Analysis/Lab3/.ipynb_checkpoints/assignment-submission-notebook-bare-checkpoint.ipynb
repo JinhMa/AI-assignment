{
 "cells": [
  {
   "cell_type": "markdown",
   "metadata": {},
   "source": [
    "**Student first name:** *Longfei* `(put two spaces here to pass to new line)`  \n",
    "**Student last name:** *Zhao*  \n",
    "**Student ANU UNI ID:** *u5976992*"
   ]
  },
  {
   "cell_type": "markdown",
   "metadata": {},
   "source": [
    "COMP4650 Social Media Assignment Submission (10 points)\n",
    "==="
   ]
  },
  {
   "cell_type": "markdown",
   "metadata": {},
   "source": [
    "1. Assignment questions related to tutorial 1: Constructing and analyzing a social network\n",
    "---"
   ]
  },
  {
   "cell_type": "markdown",
   "metadata": {},
   "source": [
    "This initial code is necessary for loading into this notebook's Python kernel the object necessary for this part of the assignment. Run the next cell before starting to work on the assignment questions below."
   ]
  },
  {
   "cell_type": "code",
   "execution_count": 2,
   "metadata": {
    "collapsed": true
   },
   "outputs": [],
   "source": [
    "# necessary imports\n",
    "%matplotlib inline\n",
    "\n",
    "import csv\n",
    "import networkx as nx\n",
    "import matplotlib.pyplot as plt\n",
    "\n",
    "# opening a local CSV file\n",
    "to_read = open(\"./dataset.csv\")  #use this line for a locally downloaded file\n",
    "# or reading it directly from the specified URL\n",
    "# url = 'http://rizoiu.eu/sna-lab-ipython/dataset.csv'\n",
    "# to_read = urllib2.urlopen(url)\n",
    "reader = csv.reader(to_read)\n",
    "\n",
    "#  construct the networkx graph\n",
    "G = nx.Graph()\n",
    "for line in reader:\n",
    "    if line[0] not in G:  G.add_node(line[0])\n",
    "    if line[1] not in G:  G.add_node(line[1])\n",
    "    G.add_edge(line[0], line[1])"
   ]
  },
  {
   "cell_type": "markdown",
   "metadata": {},
   "source": [
    "**(1 point) Assignment question #1.1:** Find another way of determining the number of users, by applying a (networkx) graph method."
   ]
  },
  {
   "cell_type": "code",
   "execution_count": 3,
   "metadata": {},
   "outputs": [
    {
     "name": "stdout",
     "output_type": "stream",
     "text": [
      "The social graph contains 217 users.\n"
     ]
    }
   ],
   "source": [
    "# code or answer for question. In case of plain text answer, change the type of cell to \"Raw Text\" using the toolbar.\n",
    "print(\"The social graph contains %s users.\" % G.number_of_nodes())"
   ]
  },
  {
   "cell_type": "markdown",
   "metadata": {},
   "source": [
    "**(0.5 points) Assignment question #1.2:** What is the minimum number of introductions required for the user `'137056623'` to reach any other user? "
   ]
  },
  {
   "cell_type": "code",
   "execution_count": 4,
   "metadata": {},
   "outputs": [
    {
     "name": "stdout",
     "output_type": "stream",
     "text": [
      "Using 10 introductions, '137056623' can reach anyone in the network\n"
     ]
    }
   ],
   "source": [
    "# code or answer for question. In case of plain text answer, change the type of cell to \"Raw Text\" using the toolbar.\n",
    "no_hops = max([len(nx.shortest_path(G, source = '137056623', target = x)) - 1 for x in G.nodes() if x not in ['137056623']])\n",
    "print(\"Using %d introductions, '137056623' can reach anyone in the network\" % no_hops)"
   ]
  },
  {
   "cell_type": "markdown",
   "metadata": {},
   "source": [
    "**(0.5 points) Assignment question #1.3:** What is the minimum number of introductions required for the any user to reach any other user in the  network?  \n",
    "\n",
    "**HINT:** study the `shortest_path_length` method description."
   ]
  },
  {
   "cell_type": "code",
   "execution_count": 5,
   "metadata": {},
   "outputs": [
    {
     "name": "stdout",
     "output_type": "stream",
     "text": [
      "Minimum number of introductions is 18 in the network\n"
     ]
    }
   ],
   "source": [
    "# code or answer for question. In case of plain text answer, change the type of cell to \"Raw Text\" using the toolbar.\n",
    "no_hops = list()\n",
    "for x in G.nodes():\n",
    "    no_hops.append(max([len(nx.shortest_path(G, source = x, target = y)) - 1 for y in G.nodes()]))\n",
    "print(\"Minimum number of introductions is %d in the network\" % min(no_hops))"
   ]
  },
  {
   "cell_type": "markdown",
   "metadata": {},
   "source": [
    "**(0.5 points) Assignment question #1.4:** The _diameter_ $d$ of a graph is the maximum eccentricity of any node, $d = \\max_{v} \\epsilon(v)$. Give two ways to compute the diameter of the social network G (one using the calculated eccentricity values calculated earlier and another one using the dedicated `networkx` function)."
   ]
  },
  {
   "cell_type": "code",
   "execution_count": 13,
   "metadata": {},
   "outputs": [
    {
     "name": "stdout",
     "output_type": "stream",
     "text": [
      "18\n",
      "18\n"
     ]
    }
   ],
   "source": [
    "# code or answer for question. In case of plain text answer, change the type of cell to \"Raw Text\" using the toolbar.\n",
    "ec = nx.eccentricity(G)\n",
    "print(max(ec.values()))\n",
    "print(nx.diameter(G))"
   ]
  },
  {
   "cell_type": "markdown",
   "metadata": {},
   "source": [
    "**(0.5 points) Assignment question #1.5:** Determine ALL most central node(s) and ALL most central edge(s), with respect to the node and edge betweenes centrality. Remember that two or more nodes/edges may have the same centrality score and they ALL need to be determined for this assignment.  \n",
    "**Hint:** `networkx` already contains dedicated function to compute node and edge betweenness centrality scores."
   ]
  },
  {
   "cell_type": "code",
   "execution_count": 32,
   "metadata": {},
   "outputs": [
    {
     "name": "stdout",
     "output_type": "stream",
     "text": [
      "{'2568857825': 0.0378840080390468, '1584106808': 0.02764857881136951, '457728637': 0.0693726672408843, '2168415412': 0.014276485788113694, '218342185': 0.11544645420614413, '78598378': 0.5127290718182191, '221379912': 0.11488659201837498, '984586015': 0.0015397235552274307, '291972556': 0.5144571592633604, '297124905': 0.07245744637217505, '2532489048': 0.0, '54837666': 0.6480378220688299, '634964760': 0.00030421316913152455, '1895195947': 0.0345176571920758, '2570186883': 0.057270754654475536, '925042686': 0.11288611618068979, '57384804': 0.00030421316913152455, '2531194285': 0.00030421316913152455, '2488974288': 0.00030421316913152455, '192629085': 0.00030421316913152455, '273216391': 0.00030421316913152455, '2513030970': 0.00030421316913152455, '2558451016': 0.00030421316913152455, '2570031521': 0.00030421316913152455, '547897508': 0.00030421316913152455, '265545240': 0.00030421316913152455, '1199191586': 0.00030421316913152455, '1415776814': 0.00030421316913152455, '2392021854': 0.00030421316913152455, '2264549296': 0.00030421316913152455, '477534590': 0.00030421316913152455, '2531372664': 0.00030421316913152455, '1068847219': 0.00030421316913152455, '914854934': 0.0, '1411424238': 0.00030421316913152455, '2531272770': 0.00030421316913152455, '157883615': 0.00030421316913152455, '2301616502': 0.00030421316913152455, '2231749961': 0.00030421316913152455, '945116653': 0.00030421316913152455, '534122115': 0.00030421316913152455, '345159720': 0.00030421316913152455, '453723348': 0.00030421316913152455, '311623106': 0.00030421316913152455, '2167336861': 0.00030421316913152455, '1135161234': 0.00030421316913152455, '265547360': 0.00030421316913152455, '748288704': 0.00030421316913152455, '2455207552': 0.00030421316913152455, '426088047': 0.00030421316913152455, '908956538': 0.00030421316913152455, '862277491': 0.00030421316913152455, '52096506': 0.00030421316913152455, '458710122': 0.00030421316913152455, '212084981': 0.00030421316913152455, '2299265379': 0.00030421316913152455, '2506305612': 0.00030421316913152455, '2531817618': 0.00030421316913152455, '1172235157': 0.00030421316913152455, '407444317': 0.00030421316913152455, '710108896': 0.00030421316913152455, '2296223107': 0.01877966536551394, '41397576': 0.00030421316913152455, '131822922': 0.015634510479471717, '230421055': 0.05503383782453539, '86827273': 0.03652024117140396, '849520898': 0.02760551248923342, '109670729': 0.23596560846560888, '137056623': 0.08231409704277934, '2567515295': 0.009259259259259257, '2449922472': 0.0, '1715125316': 0.05486649440137812, '18979962': 0.0454349698535745, '2367911': 0.0, '81191380': 0.0, '108280622': 0.009259259259259259, '154519365': 0.13781223083548663, '85452649': 0.15285673270169392, '145429546': 0.009259259259259259, '61375153': 0.008035457938558702, '142696793': 0.02289487715844305, '75870003': 0.1766982486362335, '115833820': 0.0, '180502452': 0.02760551248923342, '46896918': 0.008423054837783508, '2438593561': 0.018475452196382428, '24416316': 0.0, '1181059135': 0.02751937984496124, '2324917405': 0.0, '138886151': 0.0, '226515407': 0.009259259259259259, '2304891050': 0.0029964221824686924, '2532409500': 0.0008476737158907702, '2532430730': 0.011321875081564974, '121811715': 0.07196382428940568, '383272345': 0.0, '2518865954': 0.09788975021533161, '271475828': 0.0458656330749354, '964880227': 0.0, '398714008': 0.0, '70021987': 0.0018332923177884423, '245816235': 0.018432385874246338, '2312215918': 0.0032658627619867927, '436229017': 0.0, '2235207248': 0.02764857881136951, '2443017820': 0.1298449612403101, '39340804': 0.1235142118863049, '2381587875': 0.057270754654475536, '1676800584': 0.0038178947093675778, '591732724': 0.02852150003312795, '2260701138': 0.5136413600754688, '163075938': 0.018432385874246338, '277180205': 0.0, '292837433': 0.009259259259259259, '303291881': 0.0, '562912303': 0.003105588783883366, '1331009185': 0.003105588783883366, '2532392647': 0.003105588783883366, '2528800812': 0.003105588783883366, '2570263948': 0.003105588783883366, '2570247160': 0.003105588783883366, '2570354553': 0.06300602928509905, '768227683': 0.003105588783883366, '30869959': 0.003105588783883366, '2532354840': 0.009259259259259259, '549417679': 0.003105588783883366, '2569426702': 0.0, '464141254': 0.0, '2569636498': 0.003105588783883366, '270957052': 0.0, '2231764297': 0.0015397235552274307, '252104868': 0.0015397235552274307, '2570262069': 0.0, '1262622745': 0.0, '82243231': 0.009259259259259259, '19405774': 0.0, '21758143': 0.03673557278208441, '91274231': 0.0454349698535745, '1537445646': 0.036778639104220495, '2269421607': 0.0, '78461093': 0.009259259259259259, '112878476': 0.0420248349124318, '19559692': 0.009259259259259259, '2532487142': 0.0, '344998189': 0.0, '2570337129': 0.0, '2532533341': 0.0, '79963913': 0.0, '479245046': 0.009259259259259259, '1176702475': 0.0, '553613442': 0.0, '785539429': 0.018432385874246338, '320742970': 0.0, '155999283': 0.0, '414667836': 0.009259259259259259, '14423603': 0.0, '1337915606': 0.009259259259259259, '269681736': 0.0, '100220864': 0.0, '560305806': 0.0013637668676428365, '629085938': 0.0, '24681779': 0.0, '162750476': 0.009259259259259259, '193234037': 0.0, '2356886552': 0.0, '234590305': 0.0, '122764720': 0.0181739879414298, '86584390': 0.0, '2163620169': 0.0, '53207221': 0.0181739879414298, '1247000905': 0.0, '1493478936': 0.005312948607522251, '51589111': 0.0015397235552274307, '430885477': 0.0, '2350341051': 0.027540913006029285, '98977944': 0.0, '17941804': 0.0, '134552406': 0.0, '718022762': 0.06352282515073213, '634847847': 0.0, '1205773280': 0.009259259259259259, '1079404754': 0.07166236003445306, '2570401007': 0.0, '36483808': 0.0, '1275810296': 0.0, '812727967': 0.0, '2506839308': 0.009259259259259259, '147562565': 0.0, '600126522': 0.0, '524667128': 0.0, '2367637476': 0.0, '1546777802': 0.0, '353514773': 0.0, '424787224': 0.0, '1949817667': 0.0, '2461880769': 0.08023255813953488, '350884062': 0.0, '229319409': 0.0, '510241616': 0.0, '194333435': 0.0, '18222378': 0.009259259259259259, '409300519': 0.0, '1387419408': 0.0, '930456511': 0.0, '187429274': 0.0, '2532406316': 0.0, '79293791': 0.0, '1230063518': 0.0, '2529758732': 0.0, '268408823': 0.0, '135628775': 0.0, '1266468632': 0.0, '35518242': 0.0, '242946772': 0.0, '96687193': 0.0, '395939764': 0.0, '460910822': 0.0}\n",
      "54837666\n",
      "{('2568857825', '1584106808'): 0.03635432667690732, ('2568857825', '457728637'): 0.04327388063947204, ('2568857825', '2168415412'): 0.004658075894635034, ('1584106808', '270957052'): 0.009216589861751152, ('1584106808', '1949817667'): 0.009216589861751152, ('1584106808', '268408823'): 0.009216589861751152, ('457728637', '812727967'): 0.009216589861751152, ('457728637', '85452649'): 0.07515503214427946, ('457728637', '560305806'): 0.009821072993116004, ('457728637', '135628775'): 0.009216589861751152, ('2168415412', '560305806'): 0.0020979120441486036, ('2168415412', '221379912'): 0.021533822609091428, ('2168415412', '629085938'): 0.009216589861751152, ('218342185', '78598378'): 0.1227456334983217, ('218342185', '221379912'): 0.11523581953689482, ('78598378', '109670729'): 0.21763394127065444, ('78598378', '18979962'): 0.0540194572452637, ('78598378', '2367911'): 0.008348978779086306, ('78598378', '81191380'): 0.009216589861751152, ('78598378', '108280622'): 0.01834784092848609, ('78598378', '154519365'): 0.14507595152756445, ('78598378', '85452649'): 0.1532258064516129, ('78598378', '145429546'): 0.01834784092848609, ('78598378', '61375153'): 0.013863998407009179, ('78598378', '142696793'): 0.026958626939425714, ('78598378', '75870003'): 0.17847328895716028, ('78598378', '115833820'): 0.00878989588667008, ('78598378', '180502452'): 0.03635432667690732, ('78598378', '46896918'): 0.013821329009501069, ('221379912', '91274231'): 0.0540194572452637, ('221379912', '134552406'): 0.009216589861751152, ('221379912', '2570401007'): 0.009216589861751152, ('221379912', '350884062'): 0.009216589861751152, ('221379912', '1266468632'): 0.009216589861751152, ('221379912', '35518242'): 0.009216589861751152, ('984586015', '291972556'): 0.008053950373458822, ('984586015', '297124905'): 0.004213704597729172, ('291972556', '131822922'): 0.022318939523240586, ('291972556', '86827273'): 0.04522956135859362, ('291972556', '109670729'): 0.19574443875519168, ('291972556', '2260701138'): 0.4454152748315575, ('291972556', '2231764297'): 0.00803261567470477, ('291972556', '252104868'): 0.00803261567470477, ('291972556', '137056623'): 0.0533265875047749, ('291972556', '51589111'): 0.00805395037345882, ('291972556', '78461093'): 0.01834784092848609, ('291972556', '2506839308'): 0.01834784092848609, ('291972556', '75870003'): 0.18088268760311804, ('291972556', '234590305'): 0.007644933720202552, ('291972556', '510241616'): 0.009216589861751152, ('297124905', '2260701138'): 0.057550451482863176, ('297124905', '2231764297'): 0.004192369898975119, ('297124905', '112878476'): 0.03912621201407683, ('297124905', '479245046'): 0.01834784092848609, ('297124905', '252104868'): 0.004192369898975119, ('297124905', '1493478936'): 0.011742618194231095, ('297124905', '51589111'): 0.004213704597729175, ('297124905', '194333435'): 0.009216589861751152, ('2532489048', '54837666'): 0.009216589861751152, ('54837666', '634964760'): 0.00840859488766154, ('54837666', '2570186883'): 0.06526515599096222, ('54837666', '273216391'): 0.00840859488766154, ('54837666', '2513030970'): 0.00840859488766154, ('54837666', '477534590'): 0.00840859488766154, ('54837666', '2381587875'): 0.06526515599096225, ('54837666', '2260701138'): 0.49667178699436765, ('54837666', '57384804'): 0.00840859488766154, ('54837666', '52096506'): 0.00840859488766154, ('54837666', '2531194285'): 0.00840859488766154, ('54837666', '2488974288'): 0.00840859488766154, ('54837666', '562912303'): 0.011735297756803124, ('54837666', '2558451016'): 0.00840859488766154, ('54837666', '2570031521'): 0.00840859488766154, ('54837666', '1331009185'): 0.011735297756803124, ('54837666', '1068847219'): 0.00840859488766154, ('54837666', '547897508'): 0.00840859488766154, ('54837666', '265545240'): 0.00840859488766154, ('54837666', '1199191586'): 0.00840859488766154, ('54837666', '1415776814'): 0.00840859488766154, ('54837666', '2532392647'): 0.011735297756803124, ('54837666', '2528800812'): 0.011735297756803124, ('54837666', '2392021854'): 0.00840859488766154, ('54837666', '945116653'): 0.00840859488766154, ('54837666', '2570263948'): 0.011735297756803124, ('54837666', '2531372664'): 0.00840859488766154, ('54837666', '2531817618'): 0.00840859488766154, ('54837666', '2570247160'): 0.011735297756803124, ('54837666', '2570354553'): 0.07134323263355521, ('54837666', '1411424238'): 0.00840859488766154, ('54837666', '2532430730'): 0.020160594085325338, ('54837666', '2531272770'): 0.00840859488766154, ('54837666', '157883615'): 0.00840859488766154, ('54837666', '2231749961'): 0.00840859488766154, ('54837666', '2264549296'): 0.00840859488766154, ('54837666', '768227683'): 0.011735297756803124, ('54837666', '534122115'): 0.00840859488766154, ('54837666', '345159720'): 0.00840859488766154, ('54837666', '453723348'): 0.00840859488766154, ('54837666', '30869959'): 0.011735297756803124, ('54837666', '2506305612'): 0.00840859488766154, ('54837666', '1135161234'): 0.00840859488766154, ('54837666', '2532354840'): 0.01834784092848609, ('54837666', '192629085'): 0.00840859488766154, ('54837666', '549417679'): 0.011735297756803124, ('54837666', '748288704'): 0.00840859488766154, ('54837666', '2455207552'): 0.00840859488766154, ('54837666', '426088047'): 0.00840859488766154, ('54837666', '2569426702'): 0.009216589861751152, ('54837666', '908956538'): 0.00840859488766154, ('54837666', '464141254'): 0.009216589861751152, ('54837666', '862277491'): 0.00840859488766154, ('54837666', '2569636498'): 0.011735297756803124, ('54837666', '458710122'): 0.00840859488766154, ('54837666', '212084981'): 0.00840859488766154, ('54837666', '2299265379'): 0.00840859488766154, ('54837666', '311623106'): 0.00840859488766154, ('54837666', '265547360'): 0.00840859488766154, ('54837666', '2301616502'): 0.00840859488766154, ('54837666', '1172235157'): 0.00840859488766154, ('54837666', '407444317'): 0.00840859488766154, ('54837666', '2167336861'): 0.00840859488766154, ('54837666', '2296223107'): 0.02449495774821786, ('54837666', '41397576'): 0.00840859488766154, ('54837666', '710108896'): 0.00840859488766154, ('634964760', '1895195947'): 0.0014108136963318827, ('1895195947', '57384804'): 0.0014108136963318827, ('1895195947', '2531194285'): 0.0014108136963318827, ('1895195947', '2488974288'): 0.0014108136963318827, ('1895195947', '192629085'): 0.0014108136963318827, ('1895195947', '273216391'): 0.0014108136963318827, ('1895195947', '2513030970'): 0.0014108136963318827, ('1895195947', '2558451016'): 0.0014108136963318827, ('1895195947', '2570031521'): 0.0014108136963318827, ('1895195947', '547897508'): 0.0014108136963318827, ('1895195947', '265545240'): 0.0014108136963318827, ('1895195947', '1199191586'): 0.0014108136963318827, ('1895195947', '1415776814'): 0.0014108136963318827, ('1895195947', '2392021854'): 0.0014108136963318827, ('1895195947', '2264549296'): 0.0014108136963318827, ('1895195947', '477534590'): 0.0014108136963318827, ('1895195947', '2531372664'): 0.0014108136963318827, ('1895195947', '1068847219'): 0.0014108136963318827, ('1895195947', '914854934'): 0.009216589861751157, ('1895195947', '1411424238'): 0.0014108136963318827, ('1895195947', '2531272770'): 0.0014108136963318827, ('1895195947', '157883615'): 0.0014108136963318827, ('1895195947', '2301616502'): 0.0014108136963318827, ('1895195947', '2231749961'): 0.0014108136963318827, ('1895195947', '945116653'): 0.0014108136963318827, ('1895195947', '534122115'): 0.0014108136963318827, ('1895195947', '345159720'): 0.0014108136963318827, ('1895195947', '453723348'): 0.0014108136963318827, ('1895195947', '311623106'): 0.0014108136963318827, ('1895195947', '2167336861'): 0.0014108136963318827, ('1895195947', '1135161234'): 0.0014108136963318827, ('1895195947', '265547360'): 0.0014108136963318827, ('1895195947', '748288704'): 0.0014108136963318827, ('1895195947', '2455207552'): 0.0014108136963318827, ('1895195947', '426088047'): 0.0014108136963318827, ('1895195947', '908956538'): 0.0014108136963318827, ('1895195947', '862277491'): 0.0014108136963318827, ('1895195947', '52096506'): 0.0014108136963318827, ('1895195947', '458710122'): 0.0014108136963318827, ('1895195947', '212084981'): 0.0014108136963318827, ('1895195947', '2299265379'): 0.0014108136963318827, ('1895195947', '2506305612'): 0.0014108136963318827, ('1895195947', '2531817618'): 0.0014108136963318827, ('1895195947', '1172235157'): 0.0014108136963318827, ('1895195947', '407444317'): 0.0014108136963318827, ('1895195947', '710108896'): 0.0014108136963318827, ('1895195947', '2296223107'): 0.0035016141742291347, ('1895195947', '41397576'): 0.0014108136963318827, ('2570186883', '925042686'): 0.057437261066293266, ('925042686', '2381587875'): 0.057437261066293266, ('925042686', '1676800584'): 0.005833573037874106, ('925042686', '2518865954'): 0.10496671786994369, ('925042686', '2532409500'): 0.007233159114879574, ('2296223107', '100220864'): 0.009216589861751152, ('2296223107', '79293791'): 0.009216589861751152, ('131822922', '230421055'): 0.01787847755589694, ('230421055', '109670729'): 0.027702496769317086, ('230421055', '398714008'): 0.009216589861751152, ('230421055', '70021987'): 0.0054575175350904965, ('230421055', '245816235'): 0.027393753200204814, ('230421055', '61375153'): 0.01127538829151732, ('230421055', '2312215918'): 0.007686180804460373, ('230421055', '46896918'): 0.011659412869090289, ('86827273', '849520898'): 0.03635432667690732, ('849520898', '1262622745'): 0.009216589861751152, ('849520898', '82243231'): 0.01834784092848609, ('109670729', '137056623'): 0.03571733352839339, ('137056623', '2356886552'): 0.009216589861751152, ('137056623', '234590305'): 0.0015716561415486119, ('137056623', '122764720'): 0.027031063321385905, ('137056623', '86584390'): 0.009216589861751152, ('137056623', '2163620169'): 0.009216589861751152, ('137056623', '53207221'): 0.027031063321385905, ('2567515295', '2449922472'): 0.009216589861751152, ('2567515295', '1715125316'): 0.018347840928486087, ('1715125316', '2532487142'): 0.009216589861751152, ('1715125316', '344998189'): 0.009216589861751152, ('1715125316', '2570337129'): 0.009216589861751152, ('1715125316', '2570354553'): 0.06272401433691757, ('1715125316', '2532533341'): 0.009216589861751152, ('18979962', '21758143'): 0.04522956135859362, ('2367911', '85452649'): 0.0008676110826648462, ('108280622', '1275810296'): 0.009216589861751152, ('154519365', '2443017820'): 0.13722478238607272, ('85452649', '1247000905'): 0.009216589861751152, ('85452649', '600126522'): 0.009216589861751152, ('85452649', '1337915606'): 0.01834784092848609, ('85452649', '524667128'): 0.009216589861751152, ('85452649', '2367637476'): 0.009216589861751152, ('85452649', '1546777802'): 0.009216589861751152, ('85452649', '353514773'): 0.009216589861751152, ('85452649', '424787224'): 0.009216589861751152, ('145429546', '96687193'): 0.009216589861751152, ('142696793', '112878476'): 0.02762569185380246, ('115833820', '46896918'): 0.0004266939750810719, ('180502452', '138886151'): 0.009216589861751152, ('180502452', '226515407'): 0.01834784092848609, ('2438593561', '24416316'): 0.009216589861751152, ('2438593561', '1181059135'): 0.027393753200204814, ('2438593561', '2324917405'): 0.009216589861751152, ('1181059135', '39340804'): 0.03635432667690732, ('226515407', '229319409'): 0.009216589861751152, ('2304891050', '2532409500'): 0.003663152856701262, ('2304891050', '2532430730'): 0.01149104778137034, ('121811715', '383272345'): 0.009216589861751152, ('121811715', '2518865954'): 0.07987711213517666, ('121811715', '271475828'): 0.053763440860215055, ('121811715', '964880227'): 0.00896057347670251, ('2518865954', '292837433'): 0.01834784092848609, ('271475828', '277180205'): 0.009216589861751152, ('271475828', '79963913'): 0.009216589861751152, ('271475828', '964880227'): 0.0002560163850486431, ('271475828', '98977944'): 0.009216589861751152, ('271475828', '36483808'): 0.009216589861751152, ('271475828', '395939764'): 0.009216589861751152, ('70021987', '112878476'): 0.007391863555458031, ('245816235', '18222378'): 0.01834784092848609, ('2312215918', '1493478936'): 0.008001934346020373, ('436229017', '2235207248'): 0.009216589861751152, ('2235207248', '303291881'): 0.009216589861751152, ('2235207248', '718022762'): 0.03635432667690732, ('2235207248', '1230063518'): 0.009216589861751152, ('2443017820', '39340804'): 0.12928827444956478, ('39340804', '2461880769'): 0.08832565284178188, ('1676800584', '591732724'): 0.01094843030326897, ('591732724', '2570262069'): 0.009216589861751152, ('591732724', '2570247160'): 0.003635223796514115, ('591732724', '1331009185'): 0.003635223796514115, ('591732724', '2570263948'): 0.003635223796514115, ('591732724', '30869959'): 0.003635223796514115, ('591732724', '549417679'): 0.003635223796514115, ('591732724', '2569636498'): 0.003635223796514115, ('591732724', '768227683'): 0.003635223796514115, ('591732724', '2532406316'): 0.009216589861751152, ('591732724', '562912303'): 0.003635223796514115, ('591732724', '2532392647'): 0.003635223796514115, ('591732724', '2528800812'): 0.003635223796514115, ('2260701138', '163075938'): 0.027393753200204814, ('163075938', '414667836'): 0.01834784092848609, ('292837433', '2529758732'): 0.009216589861751152, ('2532354840', '930456511'): 0.009216589861751152, ('2231764297', '252104868'): 4.266939750810719e-05, ('82243231', '269681736'): 0.009216589861751152, ('19405774', '21758143'): 0.009216589861751152, ('21758143', '24681779'): 0.009216589861751152, ('21758143', '162750476'): 0.01834784092848609, ('91274231', '1537445646'): 0.04522956135859362, ('1537445646', '17941804'): 0.009216589861751152, ('1537445646', '187429274'): 0.009216589861751152, ('1537445646', '242946772'): 0.009216589861751152, ('1537445646', '460910822'): 0.009216589861751152, ('2269421607', '78461093'): 0.009216589861751152, ('112878476', '19559692'): 0.01834784092848609, ('19559692', '430885477'): 0.009216589861751152, ('479245046', '1176702475'): 0.009216589861751152, ('553613442', '785539429'): 0.009173920464243045, ('553613442', '320742970'): 4.266939750810719e-05, ('785539429', '2350341051'): 0.027393753200204814, ('785539429', '320742970'): 0.009173920464243045, ('155999283', '414667836'): 0.009216589861751152, ('14423603', '1337915606'): 0.009216589861751152, ('162750476', '193234037'): 0.009216589861751152, ('122764720', '2350341051'): 0.018198498037207717, ('53207221', '2350341051'): 0.018198498037207717, ('718022762', '634847847'): 0.009131251066734939, ('718022762', '1205773280'): 0.018262502133469877, ('718022762', '1079404754'): 0.07134323263355521, ('634847847', '1205773280'): 8.533879501621438e-05, ('1205773280', '1387419408'): 0.009216589861751152, ('1079404754', '2461880769'): 0.07987711213517666, ('2506839308', '147562565'): 0.009216589861751152, ('18222378', '409300519'): 0.009216589861751152}\n",
      "('54837666', '2260701138')\n"
     ]
    }
   ],
   "source": [
    "# code or answer for question. In case of plain text answer, change the type of cell to \"Raw Text\" using the toolbar.\n",
    "bc = nx.algorithms.centrality.betweenness_centrality(G)\n",
    "ebc = nx.algorithms.centrality.edge_betweenness_centrality(G)\n",
    "print(bc)\n",
    "print(max(bc, key = bc.get))\n",
    "print(ebc)\n",
    "print(max(ebc, key = ebc.get))"
   ]
  },
  {
   "cell_type": "markdown",
   "metadata": {},
   "source": [
    "2. Assignment questions related to the tutorial 2: constructing a network from real data\n",
    "---"
   ]
  },
  {
   "cell_type": "markdown",
   "metadata": {},
   "source": [
    "**(1 point) Assignment question #2.1:** Starting from [the same bzipped JSON twitter dataset](https://wattlecourses.anu.edu.au/mod/resource/view.php?id=1215757), construct the social graph based on the reply relation. Analyse (as shown in *Step 3*) which fields you require and give the Python code necessary for constructing the network.  \n",
    "**NOTE:** all the subsequent questions of this subsection are to be solved on the graph constructed at this question."
   ]
  },
  {
   "cell_type": "markdown",
   "metadata": {},
   "source": [
    "\"# cell for analysis of required fields\""
   ]
  },
  {
   "cell_type": "code",
   "execution_count": 60,
   "metadata": {
    "collapsed": true
   },
   "outputs": [],
   "source": [
    "# code for question.\n",
    "# code for constructing the Directed Graph `DG`\n",
    "import bz2, json\n",
    "reader = bz2.BZ2File(\"./twitter-dump.json.bz2\", mode=\"r\")\n",
    "DG = nx.DiGraph()\n",
    "# go line by line (ergo, tweet by tweet)\n",
    "for line in reader:\n",
    "    # load the JSON object from the read line\n",
    "    jobj = json.loads(line)\n",
    "    # if the current tweet is a retweet\n",
    "    if jobj['in_reply_to_user_id']:\n",
    "        # determine user id\n",
    "        user_id = jobj['user']['id']\n",
    "        if isinstance(user_id, dict):\n",
    "            user_id = list(user_id.values())[0]\n",
    "        user_id = int(user_id)\n",
    "        \n",
    "        # determine the  reply user id\n",
    "        reply_id = jobj['in_reply_to_user_id']\n",
    "        if isinstance(reply_id, dict):\n",
    "            reply_id = list(reply_id.values())[0]\n",
    "        reply_id = int(reply_id)\n",
    "        \n",
    "        \n",
    "        DG.add_node(user_id)\n",
    "        DG.add_node(retweet_user_id)\n",
    "        DG.add_edge(user_id, reply_id)"
   ]
  },
  {
   "cell_type": "markdown",
   "metadata": {},
   "source": [
    "**(1 point) Assignment question #2.2:** How many nodes and edges do you have in the resulted reply graph?"
   ]
  },
  {
   "cell_type": "code",
   "execution_count": 61,
   "metadata": {},
   "outputs": [
    {
     "name": "stdout",
     "output_type": "stream",
     "text": [
      "Number of nodes: 736\n",
      "Number of edges: 622\n"
     ]
    }
   ],
   "source": [
    "# code or answer for question. In case of plain text answer, change the type of cell to \"Raw Text\" using the toolbar.\n",
    "print(\"Number of nodes: %d\" % DG.number_of_nodes())\n",
    "print(\"Number of edges: %d\" % DG.number_of_edges())"
   ]
  },
  {
   "cell_type": "markdown",
   "metadata": {},
   "source": [
    "**(1 point) Assignment question #2.3:** Using the `networkx` functions, filter the reply graph constructed at question #2.1 to its *giant connected component*. \n",
    "Calculate for this new graph: i) the number of nodes, ii) the number of edges, iii) the radius and iv) the diameter.  \n",
    "**HINT:** You can either construct a new graph which contains only the nodes and edges in the *giant connected component* or you can remove from your initial graph all the nodes and edges belonging to the other connected components.  \n",
    "**NOTE:** This question should be solved on the UNDIRECTED version of the social graph. Considering that *DG* is the constructed directed networkx graph, do:"
   ]
  },
  {
   "cell_type": "code",
   "execution_count": 82,
   "metadata": {},
   "outputs": [
    {
     "name": "stdout",
     "output_type": "stream",
     "text": [
      "The number of nodes: 465\n",
      "The number of edges: 467\n",
      "The radius: 3\n",
      "The diameter: 6\n"
     ]
    }
   ],
   "source": [
    "# create an undirected copy of our graph\n",
    "G = DG.to_undirected()\n",
    "\n",
    "# code or answer for question. In case of plain text answer, change the type of cell to \"Raw Text\" using the toolbar.\n",
    "GCCs=sorted(nx.connected_component_subgraphs(G), key = len, reverse=True)\n",
    "GCC = nx.Graph(GCCs[0])\n",
    "print(\"The number of nodes:\", GCC.number_of_nodes())\n",
    "print(\"The number of edges:\", GCC.number_of_edges())\n",
    "print(\"The radius:\", nx.radius(GCC))\n",
    "print(\"The diameter:\", nx.diameter(GCC))"
   ]
  },
  {
   "cell_type": "markdown",
   "metadata": {},
   "source": [
    "**(1 point) Assignment question #2.4:** This assignment question is to calculate iterativelly the basic form of the PageRank on the reply social graph constructed previously. Considering that *DG* is the constructed directed networkx graph constructed at the **Assignment questions #2.1**. We will construct the *PageRank* on the largest [*weakly connected component*](http://en.wikipedia.org/wiki/Connectivity_%28graph_theory%29). This is constructed as shown hereafter.\n",
    "Your job is to compute the PageRank, using the algorithm provided in the tutorial and exemplified in the lecture notes.\n",
    "Use a maximum of $maxiter = 20$ iterations."
   ]
  },
  {
   "cell_type": "code",
   "execution_count": 118,
   "metadata": {},
   "outputs": [
    {
     "data": {
      "text/plain": [
       "[(34507480, 0.2022937965286995),\n",
       " (34359954, 0.004483870967741935),\n",
       " (153694176, 0.00267741935483871),\n",
       " (336555582, 0.0010967741935483872),\n",
       " (271239188, 0.0009925558321466847),\n",
       " (1188471348, 0.0009925558321466847),\n",
       " (2502937470, 0.0009925558321466847),\n",
       " (261289587, 0.000870967741935484),\n",
       " (1456140289, 0.0006451612903225808),\n",
       " (217733121, 0.0006451612903225808)]"
      ]
     },
     "execution_count": 118,
     "metadata": {},
     "output_type": "execute_result"
    }
   ],
   "source": [
    "import operator\n",
    "from itertools import islice\n",
    "\n",
    "# get the list of weakly connected components, sorted by size\n",
    "omp_List = sorted(nx.weakly_connected_component_subgraphs(DG), key = len, reverse=True)\n",
    "\n",
    "# we want the first component, the biggest\n",
    "WCDG = omp_List[0]\n",
    "\n",
    "# get the number of nodes of the graph\n",
    "n = len(WCDG.nodes())\n",
    "\n",
    "# initialize the PR at moment 0 using a dictionary of pairs {node : score}\n",
    "PR = {}\n",
    "for node in WCDG.nodes():\n",
    "    PR[node] = 1.0/n\n",
    "\n",
    "# initialize variables\n",
    "no_iter=0     # current iteration\n",
    "iter_max=20   # maximum number of iterations\n",
    "d = 0.7       # decay factor\n",
    "\n",
    "while no_iter < iter_max: # iterate until maximum iterations\n",
    "    # at each iteration, we compute a new version of the PageRank for each node\n",
    "    new_PR = {}\n",
    "    no_iter = no_iter + 1\n",
    "\n",
    "    # calculate the PageRank of each node (`new_PR[node]`), based on the previous values (`PR[other_nodes]`)\n",
    "    for node in WCDG.nodes():\n",
    "        ## code for calculating new_PR[node].\n",
    "        new_PR[node] = (1 - d) / n\n",
    "        predecessors = WCDG.predecessors(node)\n",
    "        for predecessor in predecessors:\n",
    "            new_PR[node] += d * PR[predecessor] / len(WCDG.successors(predecessor))\n",
    "\n",
    "    # at the end of iteration, replace old values of PR with the new ones\n",
    "    PR = new_PR\n",
    "\n",
    "# even if a dictionary is not sorted (it is just a collection) we sort it so that the next\n",
    "# printing at the screen shows some interesting values\n",
    "sorted_PR = sorted(PR.items(), key=operator.itemgetter(1), reverse=True)\n",
    "\n",
    "# and print it out the first 10 elements\n",
    "list(islice(sorted_PR, 10))\n",
    "#print(sum(PR.values()))"
   ]
  },
  {
   "cell_type": "markdown",
   "metadata": {},
   "source": [
    "3. Assignment questions related to the tutorial 3: sentiment analysis\n",
    "---"
   ]
  },
  {
   "cell_type": "markdown",
   "metadata": {},
   "source": [
    "The following code is necessary to define the sentiment scoring function that was constructed in the tutorial. Run this before continuing with the assignments:"
   ]
  },
  {
   "cell_type": "code",
   "execution_count": 128,
   "metadata": {
    "collapsed": true
   },
   "outputs": [],
   "source": [
    "from nltk.stem.wordnet import WordNetLemmatizer\n",
    "import nltk\n",
    "\n",
    "# define the lemmatizer\n",
    "lmtzr = WordNetLemmatizer()\n",
    "\n",
    "# read the positive and negative lexicon in lists of words\n",
    "positive_words = [lmtzr.lemmatize(line.strip()) for line in open('sentiment-lexicon-positive-words.txt')]\n",
    "negative_words = [lmtzr.lemmatize(line.strip()) for line in open('sentiment-lexicon-negative-words.txt')]\n",
    "\n",
    "# define the function that computes the sentiment score\n",
    "def get_sentiment_score(text):\n",
    "    # tokenize and lemmatize the current tweet\n",
    "    tokens = nltk.word_tokenize(text)\n",
    "    tweet = [lmtzr.lemmatize(x.lower()) for x in tokens if len(x) >= 3]\n",
    "\n",
    "    # calculate the sentiment score\n",
    "    score = 0\n",
    "    for word in tweet:\n",
    "        if word in positive_words:\n",
    "            score = score + 1\n",
    "        if word in negative_words:\n",
    "            score = score - 1\n",
    "    return score"
   ]
  },
  {
   "cell_type": "markdown",
   "metadata": {},
   "source": [
    "**(1 point) Assignment question #3.1:** Use the `get_sentiment_score(text)`, the sentiment scoring function defined before, and calculate the sentiment polarity of the tweets in the Twitter JSON dataset used in [tutorial 2](https://wattlecourses.anu.edu.au/pluginfile.php/1510225/mod_resource/content/14/tutorial-2-construct-network-real-twitter-dump.html). \n",
    "The dataset is [available to download here](https://wattlecourses.anu.edu.au/mod/resource/view.php?id=1215757). \n",
    "Print the text of the 10 most positive and the 10 most negative tweets. \n",
    "We consider that a tweet $t_1$ is more positive than another tweet $t_2$ when score of the former is higher than the score of the latter ($score(t_1) > score(t_2)$). \n",
    "Similarly, a tweet $t_1$ is more negative than $t_2$ when $score(t_1) < score(t_2)$.  \n",
    "**HINT:** Load the tweets one by one as seen in tutorial 2 and extract the text, which is found in the field *text* of each tweet."
   ]
  },
  {
   "cell_type": "code",
   "execution_count": 140,
   "metadata": {},
   "outputs": [
    {
     "name": "stdout",
     "output_type": "stream",
     "text": [
      "10 most positive tweets\n",
      "----------\n",
      "Score: 6 \n",
      "Text: Watch @ArianaGrande and @iggyazalea Problem Official music video here 👩💭🎬 http://t.co/hSpUIH9eK6 love love love love love love love 💖💖💖💖😂\n",
      "Score: 6 \n",
      "Text: RT @PerrieAndSmile: It's perfect, Amazing, fantastic, WOW!💜I love u💕 http://t.co/dKDHDhdOgF\n",
      "Please follow me gorgeous!👑@ArianaGrande \n",
      "#Watc…\n",
      "Score: 6 \n",
      "Text: It's perfect, Amazing, fantastic, WOW!💜I love u💕 http://t.co/dKDHDhdOgF\n",
      "Please follow me gorgeous!👑@ArianaGrande \n",
      "#WatchProblemOnVEVO x56\n",
      "Score: 6 \n",
      "Text: It's perfect, Amazing, fantastic, WOW!💜I love u💕 http://t.co/dKDHDhdOgF\n",
      "Please follow me gorgeous!👑@ArianaGrande \n",
      "#WatchProblemOnVEVO x87\n",
      "Score: 6 \n",
      "Text: It's perfect, Amazing, fantastic, WOW!💜I love u💕 http://t.co/dKDHDhdOgF\n",
      "Please follow me gorgeous!👑@ArianaGrande \n",
      "#WatchProblemOnVEVO x88\n",
      "Score: 5 \n",
      "Text: RT @ArianaGrande: glad u love it.....👩 love u more “@indiggynado: @ArianaGrande it is PERFECT , i love you 💕\n",
      "http://t.co/ji6ETHIFuf #WatchP…\n",
      "Score: 4 \n",
      "Text: @ArianaGrande i loved #problemvideo follow me i love you , makes me smile http://t.co/aXCrDVD51q   is the best   #WatchProblemOnVEVO x556\n",
      "Score: 4 \n",
      "Text: @ArianaGrande i loved #problemvideo follow me i love you , makes me smile http://t.co/aXCrDVD51q   is the best   #WatchProblemOnVEVO x667\n",
      "Score: 4 \n",
      "Text: @ArianaGrande It was Perfect! You and Iggy were amazing! ily I'm soo proud pls follow me love http://t.co/AbjO3CBuqe #WatchProblemOnVEVO 15\n",
      "Score: 4 \n",
      "Text: RT @WeirdLikeSwift: Wow! @ArianaGrande You did a great job! Im so proud of you loves!  http://t.co/dSkFOaAVat  #WatchProblemOnVEVO\n",
      "Guys you…\n",
      "\n",
      "\n",
      "10 most negative tweets\n",
      "----------\n",
      "Score: -4 \n",
      "Text: @ArianaGrande Problem slays my life. Problem slays your life. Problem over everything. Problem slays. https://t.co/b0jyBCGpXn\n",
      "Score: -3 \n",
      "Text: TWEET THE FUCKING LINK WITH THE HASHTAG. NO ONES GONNA FUCKING GOOGLE THAT SHIT TO FIND IT. http://t.co/Ktrjp69N7E #WatchProblemOnVEVO\n",
      "Score: -3 \n",
      "Text: RT @_ilysm_Ari: ARIANATORS RT AND SPREAD THE WORLD\n",
      "Problem broke an iTunes record time to break a vevo record. #WatchProblemOnVEVO https://…\n",
      "Score: -3 \n",
      "Text: I hate those comments that are negative in Ariana's #problemvideo FUCK OFF!! http://t.co/cl6hTuPRLr\n",
      "Score: -3 \n",
      "Text: Ariana Grande - Problem ft. Iggy Azalea: http://t.co/RJioyyg2ZK  Attention! lets try to get problem to break the record #WatchProblemOnVEVO\n",
      "Score: -3 \n",
      "Text: Ariana Grande - Problem ft. Iggy Azalea omg I died when I saw it amazingg!! #problem  http://t.co/4RXDEqqb7w\n",
      "Score: -3 \n",
      "Text: RT @zaynmgirl: one less problem without ya I got one less problem without ya I got one less problem without ya https://t.co/0tLoIbAVcc\n",
      "Score: -2 \n",
      "Text: One less problem without ya!\n",
      "Ariana Grande - Problem ft. Iggy Azalea: http://t.co/PlqTSRDm05\n",
      "Score: -2 \n",
      "Text: Ariana Grande - Problem ft. Iggy Azalea: http://t.co/op6RPXatjW via @YouTube ❤❤❤\n",
      "\n",
      "#Problem\n",
      "Score: -2 \n",
      "Text: RT @floralbocabows: there's 15.4million of us &amp; we only need 19.3million views to break the record, it's not that hard if everyone tries ht…\n"
     ]
    }
   ],
   "source": [
    "# code or answer for question. In case of plain text answer, change the type of cell to \"Raw Text\" using the toolbar.\n",
    "reader = bz2.BZ2File(\"./twitter-dump.json.bz2\", mode=\"r\")\n",
    "score = dict()\n",
    "userScore = dict()\n",
    "for line in reader:\n",
    "    jobj = json.loads(line)\n",
    "    user_id = jobj['user']['id']\n",
    "    if isinstance(user_id, dict):\n",
    "        user_id = list(user_id.values())[0]\n",
    "    user_id = int(user_id)\n",
    "    if user_id not in userScore:\n",
    "        userScore[user_id] = 0\n",
    "    text = jobj['text']\n",
    "    res = get_sentiment_score(text)\n",
    "    if res > 0:\n",
    "        userScore[user_id] += 1\n",
    "    if res < 0:\n",
    "        userScore[user_id] -= 1\n",
    "    score[text] = res\n",
    "sortedScore = sorted(score.items(), key=operator.itemgetter(1), reverse=True)\n",
    "print(\"10 most positive tweets\\n----------\")\n",
    "for i in range(10):\n",
    "    text, score = sortedScore[i]\n",
    "    print(\"Score:\", score, \"\\nText:\", text)\n",
    "print(\"\\n\\n10 most negative tweets\\n----------\")\n",
    "for i in range(10):\n",
    "    text, score = sortedScore[-i - 1]\n",
    "    print(\"Score:\", score, \"\\nText:\", text)"
   ]
  },
  {
   "cell_type": "markdown",
   "metadata": {},
   "source": [
    "**(1 point) Assignment question #3.2:** Based on the scores calculated in **Assignment #3.1**, determine the 3 most positive users. A user $u_1$ is more positive than a user $u_2$ if the dataset contains more positive tweets emitted by $u_1$ than tweets emitted by $u_2$. Formally:\n",
    "$$ positivity(u_1) > positivity(u_2) \\iff \\left| \\left\\{ t \\, \\middle| \\, author(t) = u_1 \\wedge score(t) > 0 \\right\\} \\right| > \\left| \\left\\{ t \\, \\middle| \\, author(t) = u_2 \\wedge score(t) > 0 \\right\\} \\right|$$"
   ]
  },
  {
   "cell_type": "code",
   "execution_count": 142,
   "metadata": {},
   "outputs": [
    {
     "name": "stdout",
     "output_type": "stream",
     "text": [
      "3 most positive users\n",
      "----------\n",
      "\n",
      "Score: 28 \n",
      "User: 1243188937\n",
      "\n",
      "Score: 25 \n",
      "User: 1601537689\n",
      "\n",
      "Score: 22 \n",
      "User: 2229663685\n"
     ]
    }
   ],
   "source": [
    "# code or answer for question. In case of plain text answer, change the type of cell to \"Raw Text\" using the toolbar.\n",
    "sortedUserScore = sorted(userScore.items(), key=operator.itemgetter(1), reverse=True)\n",
    "print(\"3 most positive users\\n----------\")\n",
    "for i in range(3):\n",
    "    user, score = sortedUserScore[i]\n",
    "    print(\"\\nScore:\", score, \"\\nUser:\", user)"
   ]
  },
  {
   "cell_type": "markdown",
   "metadata": {},
   "source": [
    "**(1 point) Assignment question #3.3:** \n",
    "We have discussed earlier that our system is fragile to negations: it will score the expression *not beautiful* as positive because it only detects the word beautiful as positive. \n",
    "More generally, we consider that the token **not** changes the polarity of a given token: **not beautiful** becomes negative, while **not bad** becomes positive.  \n",
    "Modify the function `get_sentiment_score(text)` to detect the changes of polarity due to the token **not**."
   ]
  },
  {
   "cell_type": "code",
   "execution_count": null,
   "metadata": {
    "collapsed": true
   },
   "outputs": [],
   "source": [
    "# code or answer for question. In case of plain text answer, change the type of cell to \"Raw Text\" using the toolbar.\n",
    "def get_sentiment_score_negation(text):\n",
    "    # tokenize and lemmatize the current tweet\n",
    "    tokens = nltk.word_tokenize(text)\n",
    "    tweet = [lmtzr.lemmatize(x.lower()) for x in tokens if len(x) >= 3]\n",
    "\n",
    "    # calculate the sentiment score\n",
    "    score = 0\n",
    "    negation = False\n",
    "    for word in tweet:\n",
    "        if word == 'not':\n",
    "            negation = 1 - negation\n",
    "            continue\n",
    "        if negation:\n",
    "            if word in positive_words:\n",
    "                score = score - 1\n",
    "            if word in negative_words:\n",
    "                score = score + 1\n",
    "        else:\n",
    "            if word in positive_words:\n",
    "                score = score + 1\n",
    "            if word in negative_words:\n",
    "                score = score - 1\n",
    "    return score"
   ]
  },
  {
   "cell_type": "markdown",
   "metadata": {},
   "source": [
    "Bonus assignments questions\n",
    "---\n",
    "Bonus assignment questions earn you extra marks if you solve this assignment correctly, no penalty is inflicted if you do not solve it. \n",
    "Note that the total grade of SMA assignments cannot exceed 10 points, therefore the bonus point can only be used to compensate for another question which you did not solve correctly."
   ]
  },
  {
   "cell_type": "markdown",
   "metadata": {},
   "source": [
    "**(0.25 additional points) Bonus question #1.** \n",
    "Based on the scores calculated in **Assignment #3.1**, plot the temporal evolution of the counts of positive and negative tweets. The date a tweet was emitted is found in the field *created_at*. \n",
    "Divide the temporal extent of your dataset into 100 timeslices. \n",
    "The temporal extent of the dataset is from the creation date of the first tweet to the creation date of the last tweet. \n",
    "Count how many positive and how many negative tweets you have in each timeslice. \n",
    "Plot these counts on a graphic resembling this one:  \n",
    "![caption](files/desired-plot.png)  \n",
    "**HINT:** the graphic above is not based on real data. Your actual curves might **NOT** look like this one. Its purpose is just to show you the expected form of the graphic."
   ]
  },
  {
   "cell_type": "code",
   "execution_count": null,
   "metadata": {
    "collapsed": true
   },
   "outputs": [],
   "source": [
    "# code or answer for question. In case of plain text answer, change the type of cell to \"Raw Text\" using the toolbar."
   ]
  },
  {
   "cell_type": "markdown",
   "metadata": {},
   "source": [
    "**(0.25 additional points) Bonus question #2: Polarized communities** We want to know if there are polarized communities in our social graph. Are there closely linked groups of users who have similar sentiment polarities? We calculate the sentiment polarity of a user as the numbre of positive tweets emitted, from which we substract the number of negative tweets. Formally:\n",
    "$$sentiment\\_polarity(u) = \\left| \\left\\{ t \\, \\middle| \\, author(t) = u \\wedge score(t) > 0 \\right\\} \\right| - \\left| \\left\\{ t \\, \\middle| \\, author(t) = u \\wedge score(t) < 0 \\right\\} \\right| \\enspace.$$  \n",
    "To visually detect the polarized communities, we want to plot the same graph as in [tutorial 1](https://wattlecourses.anu.edu.au/pluginfile.php/1510161/mod_resource/content/13/tutorial-1-construct-social-graph.html) at *Step 3*, but with the colors of nodes representing their polarity: `blue` for a negative polarity and `red` for a positive polarity. \n",
    "Are nodes colored similarly clustered close together?"
   ]
  },
  {
   "cell_type": "code",
   "execution_count": null,
   "metadata": {
    "collapsed": true
   },
   "outputs": [],
   "source": [
    "# code or answer for question. In case of plain text answer, change the type of cell to \"Raw Text\" using the toolbar."
   ]
  },
  {
   "cell_type": "code",
   "execution_count": null,
   "metadata": {
    "collapsed": true
   },
   "outputs": [],
   "source": []
  }
 ],
 "metadata": {
  "kernelspec": {
   "display_name": "Python 3",
   "language": "python",
   "name": "python3"
  },
  "language_info": {
   "codemirror_mode": {
    "name": "ipython",
    "version": 3
   },
   "file_extension": ".py",
   "mimetype": "text/x-python",
   "name": "python",
   "nbconvert_exporter": "python",
   "pygments_lexer": "ipython3",
   "version": "3.6.2"
  }
 },
 "nbformat": 4,
 "nbformat_minor": 1
}
