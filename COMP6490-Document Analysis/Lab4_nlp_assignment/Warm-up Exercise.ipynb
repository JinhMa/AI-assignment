{
 "cells": [
  {
   "cell_type": "code",
   "execution_count": 1,
   "metadata": {},
   "outputs": [],
   "source": [
    "# Import tensorflow\n",
    "import tensorflow as tf\n",
    "# Import numpy\n",
    "import numpy as np"
   ]
  },
  {
   "cell_type": "markdown",
   "metadata": {},
   "source": [
    "## Comparison of tokenization"
   ]
  },
  {
   "cell_type": "code",
   "execution_count": 2,
   "metadata": {},
   "outputs": [
    {
     "data": {
      "text/plain": [
       "['It',\n",
       " 'is',\n",
       " 'hard',\n",
       " 'to',\n",
       " 'install',\n",
       " 'Tensorflow',\n",
       " 'on',\n",
       " \"Peter's\",\n",
       " 'machine.']"
      ]
     },
     "execution_count": 2,
     "metadata": {},
     "output_type": "execute_result"
    }
   ],
   "source": [
    "\"It is hard to install Tensorflow on Peter's machine.\".split()"
   ]
  },
  {
   "cell_type": "code",
   "execution_count": 3,
   "metadata": {},
   "outputs": [],
   "source": [
    "from nltk import word_tokenize"
   ]
  },
  {
   "cell_type": "code",
   "execution_count": 4,
   "metadata": {},
   "outputs": [
    {
     "data": {
      "text/plain": [
       "['It',\n",
       " 'is',\n",
       " 'hard',\n",
       " 'to',\n",
       " 'install',\n",
       " 'Tensorflow',\n",
       " 'on',\n",
       " 'Peter',\n",
       " \"'s\",\n",
       " 'machine',\n",
       " '.']"
      ]
     },
     "execution_count": 4,
     "metadata": {},
     "output_type": "execute_result"
    }
   ],
   "source": [
    "word_tokenize(\"It is hard to install Tensorflow on Peter's machine .\")\n",
    "\n",
    "## Why there is a difference?"
   ]
  },
  {
   "cell_type": "markdown",
   "metadata": {},
   "source": [
    "## Practice of <a href='https://www.tensorflow.org/api_docs/python/tf/constant'>constants</a>"
   ]
  },
  {
   "cell_type": "code",
   "execution_count": 14,
   "metadata": {},
   "outputs": [
    {
     "name": "stdout",
     "output_type": "stream",
     "text": [
      "Tensor(\"constants_5/multiply:0\", shape=(2, 1), dtype=int32)\n"
     ]
    }
   ],
   "source": [
    "with tf.name_scope('constants'):\n",
    "    a = tf.constant([-1,1, 1, -1], shape = [2,2], name='a')\n",
    "    b = tf.constant([0,1], shape = [2,1], name = 'b')\n",
    "    c = tf.matmul(a, b, name = 'multiply')\n",
    "print(c)"
   ]
  },
  {
   "cell_type": "code",
   "execution_count": 18,
   "metadata": {},
   "outputs": [
    {
     "name": "stdout",
     "output_type": "stream",
     "text": [
      "[[ 1]\n",
      " [-1]]\n"
     ]
    }
   ],
   "source": [
    "# Why you cannot get the expected [1, -1]?\n",
    "# What if we run the matrix multiplication with tf.Session?\n",
    "with tf.Session() as sess:\n",
    "    print(sess.run(c))"
   ]
  },
  {
   "cell_type": "code",
   "execution_count": 19,
   "metadata": {
    "collapsed": true
   },
   "outputs": [],
   "source": [
    "# Generate the computation graph\n",
    "logs_dir = './computation_graphs'\n",
    "with tf.Session() as sess:\n",
    "    log_writer = tf.summary.FileWriter(logs_dir, sess.graph)\n",
    "    sess.run(c)\n",
    "log_writer.close()\n",
    "# run tensorboard --logdir=\"./computation_graphs\" to visualize the computation graph."
   ]
  },
  {
   "cell_type": "code",
   "execution_count": null,
   "metadata": {},
   "outputs": [],
   "source": [
    "# A1: Compute np.matmul(np.array([[1,2],[3,4],[5,6]]), np.array([[1],[2]]) ) + np.array([1,0,1]) with Tensorflow."
   ]
  },
  {
   "cell_type": "markdown",
   "metadata": {},
   "source": [
    "## Practice of <a href='https://www.tensorflow.org/api_docs/python/tf/Variable'>variables</a>\n"
   ]
  },
  {
   "cell_type": "code",
   "execution_count": 20,
   "metadata": {},
   "outputs": [
    {
     "name": "stdout",
     "output_type": "stream",
     "text": [
      "M = [[-0.56148636  1.07881129]\n",
      " [-0.24982914  0.34414211]\n",
      " [ 0.35811508 -0.44792837]]\n",
      "\n",
      "M * 2 = [[-1.12297273  2.15762258]\n",
      " [-0.49965829  0.68828422]\n",
      " [ 0.71623015 -0.89585674]]\n",
      "\n",
      "M * 4 = [[-2.24594545  4.31524515]\n",
      " [-0.99931657  1.37656844]\n",
      " [ 1.43246031 -1.79171348]]\n",
      "\n"
     ]
    }
   ],
   "source": [
    "M = tf.Variable(tf.random_normal([3,2], mean=0, stddev=1), name = 'M')\n",
    "m_times_two = M.assign(M * 2)\n",
    "init_m = tf.global_variables_initializer()\n",
    "\n",
    "with tf.Session() as sess:\n",
    "    sess.run(init_m)\n",
    "    print('M = %s\\n' % M.eval())\n",
    "    sess.run(m_times_two)\n",
    "    print ('M * 2 = %s\\n' %  M.eval())\n",
    "    sess.run(m_times_two)\n",
    "    print ('M * 4 = %s\\n' % M.eval())"
   ]
  },
  {
   "cell_type": "code",
   "execution_count": 22,
   "metadata": {},
   "outputs": [
    {
     "name": "stdout",
     "output_type": "stream",
     "text": [
      "M = [[ -2.36824839e-04   1.15870059e+00]\n",
      " [  3.15839976e-01  -4.49586987e-01]\n",
      " [ -2.33650461e-01   2.36535263e+00]]\n",
      "\n",
      "M * [2,1] = [[ 1.15822697]\n",
      " [ 0.18209296]\n",
      " [ 1.89805174]] \n",
      "\n",
      "M * [1,2] = [[ 2.31716442]\n",
      " [-0.58333397]\n",
      " [ 4.49705458]] \n",
      "\n"
     ]
    }
   ],
   "source": [
    "# Create a place holder of type float 32-bit.\n",
    "v = tf.placeholder(tf.float32, shape = [2, 1], name = 'v')\n",
    "m_times_v = tf.matmul(M, v, name = 'M_v')\n",
    "with tf.Session() as sess:\n",
    "    sess.run(init_m)\n",
    "    print ('M = %s\\n' % M.eval())\n",
    "    print('M * [2,1] = %s \\n' % sess.run(m_times_v, {v: [[2],[1]]}))\n",
    "    print('M * [1,2] = %s \\n' % sess.run(m_times_v, {v: [[1],[2]]}))"
   ]
  },
  {
   "cell_type": "code",
   "execution_count": 23,
   "metadata": {
    "collapsed": true
   },
   "outputs": [],
   "source": [
    "# A2: Randomly generate a matrix W and a vector b, compute W * x + b, \n",
    "# where x are column vectors from a set of randomly generated vectors."
   ]
  },
  {
   "cell_type": "code",
   "execution_count": 24,
   "metadata": {},
   "outputs": [
    {
     "name": "stdout",
     "output_type": "stream",
     "text": [
      "embed = [[ 0.34129     0.94652629  0.29883814  0.11168504 -0.7409482 ]\n",
      " [ 0.73556018 -0.9517889  -0.29782343  0.31498504  0.5993371 ]\n",
      " [-0.09846258 -0.9983232   0.12924194  0.01870394 -0.78692603]\n",
      " [-0.0918684   0.20960116  0.62055922 -0.69075108 -0.04096484]\n",
      " [ 0.12929606 -0.81431103  0.75749922 -0.59640956 -0.4910326 ]\n",
      " [-0.56342959  0.62118363 -0.85163116 -0.81300521 -0.17812848]\n",
      " [-0.40311575  0.25638008 -0.37091923  0.48283458 -0.91451025]\n",
      " [ 0.26650858 -0.09428048 -0.36073661 -0.05477262  0.34243298]\n",
      " [ 0.42697549 -0.14192176 -0.46312308  0.44191718 -0.06053162]\n",
      " [-0.05293417 -0.09861207  0.85404921 -0.72343707 -0.00495124]]\n",
      "\n",
      "sequence 1 \n",
      "\n",
      "[[ 0.73556018 -0.9517889  -0.29782343  0.31498504  0.5993371 ]\n",
      " [-0.09846258 -0.9983232   0.12924194  0.01870394 -0.78692603]\n",
      " [-0.0918684   0.20960116  0.62055922 -0.69075108 -0.04096484]]\n",
      "sequence 2 \n",
      "\n",
      "[[ 0.73556018 -0.9517889  -0.29782343  0.31498504  0.5993371 ]\n",
      " [-0.0918684   0.20960116  0.62055922 -0.69075108 -0.04096484]]\n"
     ]
    }
   ],
   "source": [
    "# Example of word embedding look up.\n",
    "x = tf.placeholder(tf.int32, shape = [None], name = 'v')\n",
    "embeddings = tf.Variable(tf.random_uniform([10, 5], -1.0, 1.0), name = 'embed')\n",
    "embed_seq = tf.nn.embedding_lookup(embeddings, x)\n",
    "with tf.Session() as sess:\n",
    "    sess.run(tf.global_variables_initializer())\n",
    "    print('embed = %s\\n' % embeddings.eval())\n",
    "    print('sequence 1 \\n')\n",
    "    print(sess.run(embed_seq, {x: np.array([1,2,3])}))\n",
    "    print('sequence 2 \\n')\n",
    "    print(sess.run(embed_seq, {x: np.array([1,3])}))"
   ]
  },
  {
   "cell_type": "code",
   "execution_count": null,
   "metadata": {},
   "outputs": [],
   "source": [
    "## A3: Modify the above code to compute the mean of word embeddings."
   ]
  },
  {
   "cell_type": "markdown",
   "metadata": {},
   "source": [
    "## Useful resources:\n",
    "\n",
    "1. Logistic regression implementation: https://github.com/aymericdamien/TensorFlow-Examples/blob/master/notebooks/2_BasicModels/logistic_regression.ipynb. Note that it does not follow the best practice.\n",
    "\n",
    "2. Tensorflow best practices : https://github.com/aicodes/tf-bestpractice\n",
    "\n",
    "3. Tensorflow course: http://web.stanford.edu/class/cs20si/\n",
    "\n",
    "4. Best practices for files, folders and models architectures: https://blog.metaflow.fr/tensorflow-a-proposal-of-good-practices-for-files-folders-and-models-architecture-f23171501ae3\n",
    "\n",
    "5. Code that follows the best practices : https://github.com/tensorflow/models/blob/master/tutorials/image/cifar10/cifar10.py"
   ]
  },
  {
   "cell_type": "code",
   "execution_count": null,
   "metadata": {
    "collapsed": true
   },
   "outputs": [],
   "source": []
  }
 ],
 "metadata": {
  "anaconda-cloud": {},
  "kernelspec": {
   "display_name": "Python 3",
   "language": "python",
   "name": "python3"
  },
  "language_info": {
   "codemirror_mode": {
    "name": "ipython",
    "version": 3
   },
   "file_extension": ".py",
   "mimetype": "text/x-python",
   "name": "python",
   "nbconvert_exporter": "python",
   "pygments_lexer": "ipython3",
   "version": "3.6.2"
  }
 },
 "nbformat": 4,
 "nbformat_minor": 1
}
