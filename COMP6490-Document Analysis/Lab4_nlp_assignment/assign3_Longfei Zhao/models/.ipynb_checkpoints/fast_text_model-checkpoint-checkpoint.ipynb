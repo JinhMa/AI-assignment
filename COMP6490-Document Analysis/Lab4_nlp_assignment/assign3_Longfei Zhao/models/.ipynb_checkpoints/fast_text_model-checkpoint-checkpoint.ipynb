{
 "cells": [
  {
   "cell_type": "code",
   "execution_count": null,
   "metadata": {
    "collapsed": true
   },
   "outputs": [],
   "source": [
    "import tensorflow as tf\n",
    "import numpy as np\n",
    "\n",
    "class FastText(object):\n",
    "    def __init__(self, num_classes, embedding_dim, size_vocab, learning_rate):\n",
    "        \"\"\"Init the model with default parameters/hyperparameters.\"\"\"\n",
    "        self.num_classes = num_classes\n",
    "        self.embedding_dim = embedding_dim\n",
    "        self.size_vocab = size_vocab\n",
    "        self.learning_rate = learning_rate\n",
    "        #self.build_graph()\n",
    "        \n",
    "    def build_graph(self):\n",
    "        self.declare_placeholders()\n",
    "        self.declare_variables(size_vocab)\n",
    "        y = self.inference()\n",
    "        self.optimize(y)\n",
    "        self.predict(y)\n",
    "        self.compute_accuracy()\n",
    "        \n",
    "    def declare_placeholders(self):\n",
    "        with tf.name_scope('fast_text'):\n",
    "            self.input_sens = tf.placeholder(tf.int32, shape = [None], name = 'input_sens')\n",
    "            self.correct_label = tf.placeholder(tf.float32, shape=[self.num_classes], name = 'correct_label')\n",
    "        \n",
    "    def declare_variables(self):\n",
    "        with tf.name_scope('fast_text'):\n",
    "            self.W = tf.Variable(tf.zeros([self.embedding_dim, self.num_classes]), name = 'W')\n",
    "            self.b = tf.Variable(tf.zeros([self.num_classes]), name = 'b')\n",
    "            self.embeddings = tf.Variable(tf.random_uniform([self.size_vocab, self.embedding_dim], -1.0, 1.0), name = 'embed')\n",
    "    \n",
    "    def inference(self):\n",
    "        \"\"\"Predict the label of x, given a trained fast text model.\"\"\"\n",
    "        embed_seq = tf.nn.embedding_lookup(self.embeddings, self.input_sens)\n",
    "        embed_mean = tf.reduce_mean(embed_seq, 0)\n",
    "        mean_rep = tf.reshape(embed_mean, [1, self.embedding_dim])\n",
    "        y = tf.nn.softmax(tf.matmul(mean_rep, self.W) + self.b)\n",
    "        return y\n",
    "    \n",
    "    def optimize(self, cross_entropy):\n",
    "        \"\"\"Train a fast text model from scratch.\"\"\"\n",
    "        cross_entropy = self.loss(y)\n",
    "        optimizer = tf.train.GradientDescentOptimizer(self.learning_rate, name = 'SGD')\n",
    "        self.train_step = optimizer.minimize(cross_entropy, name = 'train_step')\n",
    "        \n",
    "    def compute_accuracy(self):\n",
    "        \"\"\"Evaluate the model against a test/validation set\"\"\"\n",
    "        correct_prediction = tf.equal(self.predict, tf.argmax(self.correct_label, 0))\n",
    "        self.accuracy = tf.cast(correct_prediction, tf.float32, name = 'accuracy')\n",
    "        \n",
    "    def prediction(self, y):\n",
    "        self.predict = tf.cast(tf.argmax(y, 1), tf.int32, name = 'predicted_label')\n",
    "    \n",
    "    def loss(self, y):\n",
    "        \"\"\"Compute the loss of a batch.\"\"\"\n",
    "        cross_entropy = tf.reduce_mean(-tf.reduce_sum(self.correct_label * tf.log(y), reduction_indices=[1]))\n",
    "        return cross_entropy"
   ]
  }
 ],
 "metadata": {
  "anaconda-cloud": {},
  "kernelspec": {
   "display_name": "Python 3",
   "language": "python",
   "name": "python3"
  },
  "language_info": {
   "codemirror_mode": {
    "name": "ipython",
    "version": 3
   },
   "file_extension": ".py",
   "mimetype": "text/x-python",
   "name": "python",
   "nbconvert_exporter": "python",
   "pygments_lexer": "ipython3",
   "version": "3.6.2"
  }
 },
 "nbformat": 4,
 "nbformat_minor": 1
}
